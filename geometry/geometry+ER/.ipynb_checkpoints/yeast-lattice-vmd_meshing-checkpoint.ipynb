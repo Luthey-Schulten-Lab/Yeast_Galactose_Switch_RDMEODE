{
 "cells": [
  {
   "cell_type": "markdown",
   "metadata": {
    "run_control": {
     "frozen": false,
     "read_only": false
    }
   },
   "source": [
    "| Cellular component | Volume (µm³) | Volume Percentage | Surface Area (µm²) |\n",
    "|--------------------|--------------|-------------------|--------------------|\n",
    "| Endoplasmic reticulum | 0.420643 | 2.2% | 31.403 |\n",
    "| Nuclear envelope | 0.227859 | 1.2% | 11.416 |\n",
    "| Heterochromatin | 0.577432 | 3.0% | 24.441 |\n",
    "| Euchromatin | 0.459362 | 2.4% | 20.716 |\n",
    "| Golgi | 0.022677 | 0.1% | 1.291 |\n",
    "| Mitochondria | 0.299339 | 1.6% | 6.949 |\n",
    "| Lipid droplets | 0.139214 | 0.7% | 2.692 |\n",
    "| Vesicles | 0.000256 | 0.0% | 0.025 |\n",
    "| Vacuoles | 1.480174 | 7.8% | 27.164 |\n",
    "| Cell Wall | 3.017192 | 15.9% | 67.115 |\n",
    "\n",
    "http://dx.doi.org/10.2144/000113850"
   ]
  },
  {
   "cell_type": "code",
   "execution_count": 2,
   "metadata": {
    "ExecuteTime": {
     "end_time": "2017-01-15T16:31:02.974473",
     "start_time": "2017-01-15T16:31:02.480394"
    },
    "collapsed": true,
    "run_control": {
     "frozen": false,
     "read_only": false
    }
   },
   "outputs": [],
   "source": [
    "# %load yeast-lattice.py\n",
    "import itertools\n",
    "import numpy as np\n",
    "import scipy.ndimage as ndi\n",
    "import scipy.spatial as spspat\n",
    "import scipy.special as sps\n",
    "import scipy.optimize as spopt\n",
    "import scipy.interpolate as spinterp\n",
    "import skimage.morphology as skmo\n",
    "from functools import reduce\n",
    "import pickle"
   ]
  },
  {
   "cell_type": "code",
   "execution_count": 3,
   "metadata": {
    "ExecuteTime": {
     "end_time": "2017-01-15T16:31:03.261290",
     "start_time": "2017-01-15T16:31:02.975846"
    },
    "collapsed": true,
    "run_control": {
     "frozen": false,
     "read_only": false
    }
   },
   "outputs": [],
   "source": [
    "import matplotlib.pyplot as plt\n",
    "import seaborn as sns\n",
    "%matplotlib inline"
   ]
  },
  {
   "cell_type": "code",
   "execution_count": 4,
   "metadata": {
    "ExecuteTime": {
     "end_time": "2017-01-15T16:31:04.006055",
     "start_time": "2017-01-15T16:31:03.485850"
    },
    "collapsed": true,
    "run_control": {
     "frozen": false,
     "read_only": false
    }
   },
   "outputs": [],
   "source": [
    "%load_ext Cython"
   ]
  },
  {
   "cell_type": "code",
   "execution_count": 5,
   "metadata": {
    "ExecuteTime": {
     "end_time": "2017-01-15T16:31:04.224114",
     "start_time": "2017-01-15T16:31:04.007784"
    },
    "collapsed": false,
    "run_control": {
     "frozen": false,
     "read_only": false
    }
   },
   "outputs": [
    {
     "data": {
      "text/html": [
       "<style>\n",
       "table.fullWidth {\n",
       "    width: 100%;\n",
       "}\n",
       "\n",
       "table.jLMtbl {\n",
       "    border: 1px solid #000;\n",
       "}\n",
       "\n",
       ".jLMtbl td, .jLMtbl tr, .jLMtbl th, .diffTbl table, .diffTbl td, .diffTbl tr {\n",
       "    border: none;\n",
       "}\n",
       "\n",
       ".jLMtbl caption, .diffTbl caption {\n",
       "    font-size: 1.5em;\n",
       "    font-weight: bold;\n",
       "    color: #555;\n",
       "    text-align: left;\n",
       "    padding: 15px 10px 8px 10px;\n",
       "}\n",
       "\n",
       ".jLMtbl td, .jLMtbl th {\n",
       "    padding-left: 10px;\n",
       "    padding-right: 10px;\n",
       "}\n",
       "\n",
       ".jLMtbl tr:nth-child(even) { background: #ddd;  }\n",
       ".jLMtbl tr:nth-child(odd) { background: #f8f8f8;  }\n",
       "\n",
       "table.diffTbl {\n",
       "    width: 100%;\n",
       "    border: none;\n",
       "}\n",
       "\n",
       ".diffTbl span.rot {\n",
       "    -webkit-transform: rotate(-90deg);\n",
       "    transform: rotate(-90deg);\n",
       "    display: inline-block;\n",
       "    white-space: nowrap;\n",
       "}\n",
       "\n",
       ".diffTbl td[rowspan], .diffTbl td[colspan] {\n",
       "    background: #fff;\n",
       "    font-weight: bold;\n",
       "}\n",
       "\n",
       ".diffTbl td[rowspan] {\n",
       "    width: 0.01em;\n",
       "    padding: 0;\n",
       "}\n",
       "\n",
       "\n",
       ".diffTbl td {\n",
       "    padding-left: 2px;\n",
       "    padding-right: 2px;\n",
       "    text-align: center;\n",
       "    vertical-align: middle;\n",
       "    background-color: hsla(0,0%,90%,1);\n",
       "    color: #000;\n",
       "}\n",
       "\n",
       "\n",
       ".diffTbl td.rhdr {\n",
       "    text-align: right;\n",
       "    background: #555;\n",
       "    color: #fff;\n",
       "}\n",
       "\n",
       ".diffTbl td.units {\n",
       "    background: #fff;\n",
       "    color: #000;\n",
       "}\n",
       "\n",
       ".diffTbl td.chdr {\n",
       "    padding-left: 2px;\n",
       "    padding-right: 2px;\n",
       "    text-align: center;\n",
       "    background: #555;\n",
       "    color: #fff;\n",
       "}\n",
       "\n",
       ".diffTbl td.zero {\n",
       "    background-color: hsla(180,100%,90%,1);\n",
       "}\n",
       "\n",
       ".diffTbl td.inf {\n",
       "    background-color: hsla(0,100%,90%,1);\n",
       "}\n",
       "\n",
       ".diffTbl td.undef {\n",
       "    background-color: #f00;\n",
       "    color: #fff;\n",
       "}\n",
       "\n",
       "\n",
       ".jLMtbl th {\n",
       "    border: none;\n",
       "    background: #555;\n",
       "    color: #fff;\n",
       "}\n",
       "\n",
       ".jLMtbl th[scope=col] {\n",
       "    height: 40px;\n",
       "    text-align: center;\n",
       "    vertical-align: middle;\n",
       "}\n",
       "\n",
       ".jLMtbl th[scope=row] {\n",
       "    text-align: left;\n",
       "}\n",
       "\n",
       "td.jLMparam{\n",
       "    width: 250px;\n",
       "    text-align: right;\n",
       "    padding-right: 15px;\n",
       "}\n",
       "\n",
       "\n",
       "td.objIndex {\n",
       "    width: 15px;\n",
       "    text-align:center;\n",
       "    vertical-align:middle;\n",
       "}\n",
       "\n",
       "\n",
       "div.jLMflex {\n",
       "    width: 100%;\n",
       "    display: flex;\n",
       "    margin:0;\n",
       "}\n",
       "\n",
       "div.regRight, div.trajRight {\n",
       "    flex-grow: 1;\n",
       "}\n",
       "\n",
       "div.trajRight {\n",
       "    padding-top: 20px;\n",
       "}\n",
       "\n",
       "div.regLeft {\n",
       "    width:200px;\n",
       "}\n",
       "\n",
       "div.trajLeft {\n",
       "    width:400px;\n",
       "}\n",
       "\n",
       "div.jLMx3Dkey {\n",
       "    display: block;\n",
       "    position: absolute;\n",
       "    background-color: rgba(255,255,255,0.8);\n",
       "    top: 3px;\n",
       "    right: 3px;\n",
       "    width: 225px;\n",
       "    max-height: 600px;\n",
       "    overflow-x: hidden;\n",
       "    overflow-y: auto;\n",
       "    border: 1px solid #000;\n",
       "    padding: 0px;\n",
       "} \n",
       "\n",
       "div.jLMx3Dstandalone {\n",
       "    height: 100vh;\n",
       "    width: 100vw;\n",
       "    overflow: hidden;\n",
       "}\n",
       "\n",
       "div.jLMx3Dkeymin {\n",
       "    width: auto;\n",
       "    height: auto;\n",
       "    display: none;\n",
       "    border: none;\n",
       "    overflow: hidden;\n",
       "}\n",
       "\n",
       "div.jLMx3Dkeyhelp {\n",
       "    display: none;\n",
       "    position: absolute;\n",
       "    background-color: rgba(255,255,255,0.8);\n",
       "    bottom: 2px;\n",
       "    right: 300px;\n",
       "    width: 400px;\n",
       "    max-height: 600px;\n",
       "    overflow-x: hidden;\n",
       "    overflow-y: auto;\n",
       "    border: 1px solid #000;\n",
       "    padding: 10px;\n",
       "}\n",
       "\n",
       "div.jLMx3Dkeyhelpstandalone {\n",
       "    display: none;\n",
       "    position: absolute;\n",
       "    background-color: rgba(255,255,255,0.8);\n",
       "    top: 10px;\n",
       "    left: 10px;\n",
       "    width: 400px;\n",
       "    max-height: 95%;\n",
       "    overflow-x: hidden;\n",
       "    overflow-y: auto;\n",
       "    border: 1px solid #000;\n",
       "    padding: 10px;\n",
       "}\n",
       "\n",
       "button.jLMx3Dkey {\n",
       "    float: left;\n",
       "    margin: 0px;\n",
       "    -webkit-transition-duration: 0.4s;\n",
       "    transition-duration: 0.4s;\n",
       "    background-color: #def1f0;\n",
       "    padding: 10px 5px;\n",
       "    border: 1px solid #fff;\n",
       "    width: 33%;\n",
       "}\n",
       "\n",
       "button.jLMx3Dkey:hover {\n",
       "    background-color: #108e88;\n",
       "    color: #fff;\n",
       "}\n",
       "\n",
       "button.jLMx3dbtstandalone {\n",
       "    display: table-cell;\n",
       "    width: 50%;\n",
       "}\n",
       "button.jLMx3dbt {\n",
       "    display: table-cell;\n",
       "}\n",
       "\n",
       "div.jLMx3dbt {\n",
       "    display: table;\n",
       "    width: 225px;\n",
       "}\n",
       "\n",
       "\n",
       "ul.reg {\n",
       "    list-style-type: none;\n",
       "    width: 100%;\n",
       "}\n",
       "\n",
       "img.smallreg {\n",
       "    border:1px solid #000;\n",
       "    float: left;\n",
       "    image-rendering: -moz-crisp-edges;\n",
       "    image-rendering: -o-crisp-edges;\n",
       "    image-rendering: -webkit-optimize-contrast;\n",
       "    -ms-interpolation-mode: nearest-neighbor;\n",
       "    image-rendering: pixelated;\n",
       "}\n",
       "\n",
       "X3D.jLM {\n",
       "    width: 100%;\n",
       "    height: 90%;\n",
       "    border: none;\n",
       "}\n",
       "\n",
       "span.jLMparticleKey {\n",
       "    position: relative;\n",
       "    top: 3px;\n",
       "    font-size: 1.5em;\n",
       "}\n",
       "\n",
       "div.jLMbigSps {\n",
       "    font-family: serif;\n",
       "    background: #fff;\n",
       "    color: #000;\n",
       "    display: table-cell;\n",
       "    vertical-align: middle;\n",
       "    text-align: center;\n",
       "    height: 70px;\n",
       "    font-size: 3.2em;\n",
       "    padding: 40px 10px 10px 10px;\n",
       "    border: none;\n",
       "}\n",
       "\n",
       "input[type=range][orient=vertical].stackSlider {\n",
       "    writing-mode: bt-lr; /* IE */\n",
       "    display: block;\n",
       "    margin: auto;\n",
       "    -webkit-appearance: slider-vertical; /* WebKit */\n",
       "    width: 8px;\n",
       "    height: 250px;\n",
       "    padding: 15px;\n",
       "}\n",
       "\n",
       "span.jLMregion {\n",
       "    padding: 1px 4px;\n",
       "    margin: 2px;\n",
       "    display: inline-block;\n",
       "    font-family: sans-serif;\n",
       "    border: 1px solid black;\n",
       "}\n",
       "\n",
       "span.jLMnum, td.jLMnum {\n",
       "    font-family: serif;\n",
       "    font-size: 1.2em;\n",
       "}\n",
       "\n",
       "</style><script type=\"text/javascript\">\n",
       "var fontawesome_css = document.getElementById(\"fontawesome-css\");if (fontawesome_css === null) {var l = document.createElement(\"link\");l.setAttribute(\"rel\", \"stylesheet\");l.setAttribute(\"type\", \"text/css\");l.setAttribute(\"href\", \"https://netdna.bootstrapcdn.com/font-awesome/3.2.1/css/font-awesome.css\");l.setAttribute(\"id\", \"fontawesome-css\");$(\"head\").append(l);}\n",
       "</script>\n"
      ],
      "text/plain": [
       "<IPython.core.display.HTML object>"
      ]
     },
     "metadata": {},
     "output_type": "display_data"
    }
   ],
   "source": [
    "from venv import *\n",
    "from VolData import VolData\n",
    "from jLM.RegionBuilder import RegionBuilder\n",
    "from jLM.RDME import Sim as RDMESim\n",
    "from jLM.RDME import File as RDMEFile\n",
    "from jLM.VmdUtil import tclTriangleMesh, tclTriangleMesh_scratch\n",
    "from jLM.JupyterDisplay import showBinaryLattices\n",
    "import jLM"
   ]
  },
  {
   "cell_type": "code",
   "execution_count": 6,
   "metadata": {
    "ExecuteTime": {
     "end_time": "2017-01-15T16:31:04.578790",
     "start_time": "2017-01-15T16:31:04.564747"
    },
    "collapsed": true,
    "run_control": {
     "frozen": false,
     "read_only": false
    }
   },
   "outputs": [],
   "source": [
    "### Parameters\n",
    "decimation = 18\n",
    "cetPoreCount = 12 # pores in cet\n",
    "\n",
    "cellVolume = 40 #  µm^3,  bnid:100430\n",
    "cellWallFraction = 0.159\n",
    "nucleusFraction = 0.07\n",
    "envelopeThickness = 35e-9\n",
    "nucPoreRadius = 40e-9\n",
    "\n",
    "cellAspect = 1.5\n",
    "nucleusAspect = 1.0\n",
    "\n",
    "vacuoleFraction = 0.075\n",
    "\n",
    "nMito = 3\n",
    "mitoFraction = 0.016\n",
    "\n",
    "nRibosomes = 180000\n",
    "###"
   ]
  },
  {
   "cell_type": "code",
   "execution_count": 7,
   "metadata": {
    "ExecuteTime": {
     "end_time": "2017-01-15T16:31:18.440677",
     "start_time": "2017-01-15T16:31:06.374877"
    },
    "collapsed": true,
    "run_control": {
     "frozen": false,
     "read_only": false
    }
   },
   "outputs": [],
   "source": [
    "labelData = VolData(dataFile(\"labels-2016_12_29_18_51_57\"))\n",
    "nucData = VolData(dataFile(\"yeast-nuclearDensity-2017_01_06_15_44_53\"))\n",
    "cetLabels = dict(background=0,\n",
    "                 nucEnv=1,\n",
    "                 er=4,\n",
    "                 mito=2,\n",
    "                 membrane=3)"
   ]
  },
  {
   "cell_type": "code",
   "execution_count": 8,
   "metadata": {
    "ExecuteTime": {
     "end_time": "2017-01-15T16:31:18.451803",
     "start_time": "2017-01-15T16:31:18.445198"
    },
    "collapsed": false,
    "run_control": {
     "frozen": false,
     "read_only": false
    }
   },
   "outputs": [],
   "source": [
    "labelOffset = [labelData.attr['origin_x'], labelData.attr['origin_y'], labelData.attr['origin_z']]"
   ]
  },
  {
   "cell_type": "code",
   "execution_count": 9,
   "metadata": {
    "ExecuteTime": {
     "end_time": "2017-01-15T16:31:27.203616",
     "start_time": "2017-01-15T16:31:18.454110"
    },
    "collapsed": true,
    "run_control": {
     "frozen": false,
     "read_only": false
    }
   },
   "outputs": [],
   "source": [
    "def lmProc(im,threshold=0.01):\n",
    "    th = threshold*decimation**3\n",
    "    src = im.transpose([1,2,0]).astype(np.int64)\n",
    "    newShape = tuple(int(np.ceil(x/32/decimation)*32) for x in src.shape)\n",
    "    deciShape = tuple(x//decimation for x in src.shape)\n",
    "    dest = np.zeros(newShape, dtype=np.int64)\n",
    "    for i,j,k in itertools.product(range(decimation),repeat=3):\n",
    "        v = src[i::decimation, j::decimation, k::decimation]\n",
    "        nx,ny,nz = v.shape\n",
    "        dest[:nx,:ny,:nz] += v\n",
    "    return dest>th\n",
    "\n",
    "cetNucEnvReg = lmProc(labelData.scalar==cetLabels['nucEnv'])\n",
    "cetErReg = lmProc(labelData.scalar==cetLabels['er'])\n",
    "cetMitoReg = lmProc(labelData.scalar==cetLabels['mito'])\n",
    "cetMemReg = lmProc(labelData.scalar==cetLabels['membrane'])"
   ]
  },
  {
   "cell_type": "code",
   "execution_count": 10,
   "metadata": {
    "ExecuteTime": {
     "end_time": "2017-01-15T16:31:31.773262",
     "start_time": "2017-01-15T16:31:27.205388"
    },
    "collapsed": false,
    "run_control": {
     "frozen": false,
     "read_only": false
    }
   },
   "outputs": [],
   "source": [
    "cetNucReg = lmProc(nucData.scalar>0, threshold=0.001)\n",
    "ch = RegionBuilder.opening(cetNucReg, 2)\n",
    "ch = RegionBuilder.convexHull(ch)\n",
    "\n",
    "volFracs = []\n",
    "ths = np.linspace(0, decimation**3, 25)\n",
    "src = (nucData.scalar > 0).transpose([1,2,0]).astype(np.int64)\n",
    "newShape = tuple(int(np.ceil(x/32/decimation)*32) for x in src.shape)\n",
    "deciShape = tuple(x//decimation for x in src.shape)\n",
    "dest = np.zeros(newShape, dtype=np.int64)\n",
    "for i,j,k in itertools.product(range(decimation),repeat=3):\n",
    "    v = src[i::decimation, j::decimation, k::decimation]\n",
    "    nx,ny,nz = v.shape\n",
    "    dest[:nx,:ny,:nz] += v\n",
    "\n",
    "nucProjection = np.sum(dest,axis=1)\n",
    "sz = np.sum(ch)\n",
    "volFracs = [ np.sum(ch&(dest<i))/sz for i in ths]\n",
    "nucThresholdByVolFrac = spinterp.interp1d(volFracs, ths/decimation**3)"
   ]
  },
  {
   "cell_type": "code",
   "execution_count": 11,
   "metadata": {
    "ExecuteTime": {
     "end_time": "2017-01-15T16:31:33.933674",
     "start_time": "2017-01-15T16:31:31.775562"
    },
    "collapsed": false,
    "run_control": {
     "frozen": false,
     "read_only": false
    }
   },
   "outputs": [],
   "source": [
    "th = nucThresholdByVolFrac(0.2) # smaller than bond percolation threshold for 3D simple cubic lattice\n",
    "cetNucReg = lmProc(nucData.scalar>0, threshold=th)\n",
    "cetNucReg &= RegionBuilder.convexHull(cetNucEnvReg)\n",
    "cetNucReg &= ~cetNucEnvReg"
   ]
  },
  {
   "cell_type": "code",
   "execution_count": 12,
   "metadata": {
    "ExecuteTime": {
     "end_time": "2017-01-15T16:31:33.943038",
     "start_time": "2017-01-15T16:31:33.935173"
    },
    "collapsed": true,
    "run_control": {
     "frozen": false,
     "read_only": false
    }
   },
   "outputs": [],
   "source": [
    "latticeSpacing = 1e-10*np.mean(labelData.dx)*decimation\n",
    "B = RegionBuilder(dims=cetErReg.shape)"
   ]
  },
  {
   "cell_type": "code",
   "execution_count": 13,
   "metadata": {
    "ExecuteTime": {
     "end_time": "2017-01-15T16:31:36.019248",
     "start_time": "2017-01-15T16:31:33.944487"
    },
    "collapsed": true,
    "run_control": {
     "frozen": false,
     "read_only": false
    }
   },
   "outputs": [],
   "source": [
    "nucTmp = labelData.scalar==cetLabels['nucEnv']\n",
    "\n",
    "flat = np.any(nucTmp,axis=2)\n",
    "filled = skmo.closing(flat,skmo.disk(10))\n",
    "skel = skmo.skeletonize(filled)\n",
    "\n",
    "arclen = 1e-10*np.mean(labelData.dx)*np.sum(skel)\n",
    "width = 1e-10*labelData.dx[1]*np.sum(np.any(nucTmp,axis=(0,1)))\n",
    "sa = arclen*width\n",
    "poreDensity = cetPoreCount/sa"
   ]
  },
  {
   "cell_type": "code",
   "execution_count": 14,
   "metadata": {
    "ExecuteTime": {
     "end_time": "2017-01-15T16:31:36.023891",
     "start_time": "2017-01-15T16:31:36.020776"
    },
    "collapsed": true,
    "run_control": {
     "frozen": false,
     "read_only": false
    }
   },
   "outputs": [],
   "source": [
    "membraneVol = (1-cellWallFraction)*cellVolume * (1e-6)**3 /latticeSpacing**3 # remaiing 25% is cellwall\n",
    "nucleusVol = nucleusFraction*cellVolume * (1e-6)**3 /latticeSpacing**3"
   ]
  },
  {
   "cell_type": "code",
   "execution_count": 15,
   "metadata": {
    "ExecuteTime": {
     "end_time": "2017-01-15T16:31:36.071199",
     "start_time": "2017-01-15T16:31:36.026487"
    },
    "collapsed": true,
    "run_control": {
     "frozen": false,
     "read_only": false
    }
   },
   "outputs": [],
   "source": [
    "def spheroidLoss(params, coords, membraneVol, targetAspect):\n",
    "    invRs =  np.array([1/x for x in params[:3]])\n",
    "    alpha, beta, gamma = params[3:6]\n",
    "    x0 = params[6:9]\n",
    "    \n",
    "    ca, sa = np.cos(alpha), np.sin(alpha)\n",
    "    cb, sb = np.cos(beta), np.sin(beta)\n",
    "    cg, sg = np.cos(gamma), np.sin(gamma)\n",
    "    rotZ0 = np.array([ [ca,-sa,0],[sa,ca,0], [0,0,1] ])\n",
    "    rotX= np.array([[1,0,0,], [0,cb,-sb],[0,sb,cb] ])\n",
    "    rotZ1 =np.array( [ [cg,-sg,0],[sg,cg,0], [0,0,1] ])\n",
    "    rot = rotZ1 @ rotX @ rotZ0\n",
    "    \n",
    "    x1 = np.einsum(\"i,ij,mj->mi\",  invRs, rot, coords -x0)\n",
    "    \n",
    "    vol = 4*np.pi*reduce(lambda x,y:x*y, params[:3])/3\n",
    "    aspect =  max(params[:3]) / min(params[:3])\n",
    "    \n",
    "    volP =  (vol/membraneVol-1)**2\n",
    "    aspectP =  (aspect/targetAspect - 1)**2\n",
    "    \n",
    "    return np.sum((np.sum(x1**2, axis=1)-1)**2) + volP + aspectP"
   ]
  },
  {
   "cell_type": "code",
   "execution_count": 16,
   "metadata": {
    "ExecuteTime": {
     "end_time": "2017-01-15T16:31:36.571590",
     "start_time": "2017-01-15T16:31:36.073050"
    },
    "collapsed": false,
    "run_control": {
     "frozen": false,
     "read_only": false
    }
   },
   "outputs": [
    {
     "data": {
      "text/plain": [
       "      fun: 2.445462753722508\n",
       " hess_inv: array([[  7.99765752e-01,   4.81317657e+00,   1.23869237e+01,\n",
       "          8.80747867e-01,  -8.81973136e-01,   2.17389719e-01,\n",
       "         -5.20452218e-01,   6.96586616e+00,  -1.84068584e+00],\n",
       "       [  4.81317657e+00,   3.70267745e+01,   7.45287153e+01,\n",
       "          6.33190666e+00,  -5.68621601e+00,   1.51341847e+00,\n",
       "         -4.97778927e+00,   4.49798434e+01,  -1.53796689e+01],\n",
       "       [  1.23869237e+01,   7.45287153e+01,   1.91918719e+02,\n",
       "          1.36365859e+01,  -1.36621316e+01,   3.36639386e+00,\n",
       "         -8.05913136e+00,   1.07902776e+02,  -2.84958632e+01],\n",
       "       [  8.80747867e-01,   6.33190666e+00,   1.36365859e+01,\n",
       "          1.31965913e+00,  -1.00903138e+00,   2.92526072e-01,\n",
       "         -5.43038226e-01,   8.16315736e+00,  -2.54149056e+00],\n",
       "       [ -8.81973136e-01,  -5.68621601e+00,  -1.36621316e+01,\n",
       "         -1.00903138e+00,   1.08385912e+00,  -2.53177206e-01,\n",
       "          6.61182110e-01,  -7.97755065e+00,   2.13914743e+00],\n",
       "       [  2.17389719e-01,   1.51341847e+00,   3.36639386e+00,\n",
       "          2.92526072e-01,  -2.53177206e-01,   7.20749076e-02,\n",
       "         -1.66607059e-01,   2.00360541e+00,  -6.02806192e-01],\n",
       "       [ -5.20452218e-01,  -4.97778927e+00,  -8.05913136e+00,\n",
       "         -5.43038226e-01,   6.61182110e-01,  -1.66607059e-01,\n",
       "          1.18694875e+00,  -4.94699368e+00,   2.27919131e+00],\n",
       "       [  6.96586616e+00,   4.49798434e+01,   1.07902776e+02,\n",
       "          8.16315736e+00,  -7.97755065e+00,   2.00360541e+00,\n",
       "         -4.94699368e+00,   6.57129347e+01,  -1.71458312e+01],\n",
       "       [ -1.84068584e+00,  -1.53796689e+01,  -2.84958632e+01,\n",
       "         -2.54149056e+00,   2.13914743e+00,  -6.02806192e-01,\n",
       "          2.27919131e+00,  -1.71458312e+01,   6.80093725e+00]])\n",
       "      jac: array([ 0.10252839,  0.07266992,  0.00391686, -0.09211263,  0.0542542 ,\n",
       "        0.36162642,  0.09299806, -0.02644742,  0.04792616])\n",
       "  message: 'Desired error not necessarily achieved due to precision loss.'\n",
       "     nfev: 1618\n",
       "      nit: 53\n",
       "     njev: 146\n",
       "   status: 2\n",
       "  success: False\n",
       "        x: array([ 29.67870546,  36.46256725,  29.67870546,   0.1748928 ,\n",
       "        -1.73158216,   0.56857409,  29.47142561,   8.54011664,  26.50493344])"
      ]
     },
     "execution_count": 16,
     "metadata": {},
     "output_type": "execute_result"
    }
   ],
   "source": [
    "cetNucEnvCoords = np.argwhere(cetNucEnvReg)\n",
    "chullCoords = cetNucEnvCoords[spspat.ConvexHull(cetNucEnvCoords).vertices]\n",
    "\n",
    "radius = 0.5*max( np.linalg.norm(x-y) for x,y in itertools.product(chullCoords,repeat=2))\n",
    "centroid = np.mean(chullCoords,axis=0)\n",
    "params0 = np.array([radius, radius, radius, 0, 0, 0, centroid[0],  centroid[1],  centroid[2] ])\n",
    "m = spopt.minimize(lambda x: spheroidLoss(x, cetNucEnvCoords, nucleusVol, nucleusAspect), params0,options=dict(maxiter=100000))\n",
    "nucParams = m.x\n",
    "m"
   ]
  },
  {
   "cell_type": "code",
   "execution_count": 17,
   "metadata": {
    "ExecuteTime": {
     "end_time": "2017-01-15T16:31:36.959847",
     "start_time": "2017-01-15T16:31:36.573083"
    },
    "collapsed": false,
    "run_control": {
     "frozen": false,
     "read_only": false
    }
   },
   "outputs": [
    {
     "data": {
      "text/plain": [
       "      fun: 0.010987529515882225\n",
       " hess_inv: array([[  4.06284886e+03,   7.88049743e+02,  -1.41315952e+02,\n",
       "          2.17078804e+01,   9.88533465e+00,   1.98842633e+02,\n",
       "         -7.42859562e+02,  -5.86556113e+02,  -3.00448976e+03],\n",
       "       [  7.88049743e+02,   1.52854030e+02,  -2.74305127e+01,\n",
       "          4.19251331e+00,   1.91210854e+00,   3.85757625e+01,\n",
       "         -1.43968835e+02,  -1.13806928e+02,  -5.82891026e+02],\n",
       "       [ -1.41315952e+02,  -2.74305127e+01,   4.76176386e+02,\n",
       "         -4.29233521e+01,  -7.29979725e+00,   6.41227887e+00,\n",
       "          2.07857288e+02,  -1.07214826e+02,  -3.95818925e+01],\n",
       "       [  2.17078804e+01,   4.19251331e+00,  -4.29233521e+01,\n",
       "          3.00291024e+01,   7.12251760e+00,  -1.01927729e+01,\n",
       "         -1.82629212e+02,   6.98987886e+01,   1.43797831e+02],\n",
       "       [  9.88533465e+00,   1.91210854e+00,  -7.29979725e+00,\n",
       "          7.12251760e+00,   1.90538887e+00,  -2.21353472e+00,\n",
       "         -4.53652570e+01,   1.39820567e+01,   3.61347439e+01],\n",
       "       [  1.98842633e+02,   3.85757625e+01,   6.41227887e+00,\n",
       "         -1.01927729e+01,  -2.21353472e+00,   1.42735947e+01,\n",
       "          3.33151026e+01,  -5.69585660e+01,  -2.09594709e+02],\n",
       "       [ -7.42859562e+02,  -1.43968835e+02,   2.07857288e+02,\n",
       "         -1.82629212e+02,  -4.53652570e+01,   3.33151026e+01,\n",
       "          1.23229451e+03,  -3.24823422e+02,  -4.52601662e+02],\n",
       "       [ -5.86556113e+02,  -1.13806928e+02,  -1.07214826e+02,\n",
       "          6.98987886e+01,   1.39820567e+01,  -5.69585660e+01,\n",
       "         -3.24823422e+02,   2.84871513e+02,   7.79977049e+02],\n",
       "       [ -3.00448976e+03,  -5.82891026e+02,  -3.95818925e+01,\n",
       "          1.43797831e+02,   3.61347439e+01,  -2.09594709e+02,\n",
       "         -4.52601662e+02,   7.79977049e+02,   3.24137843e+03]])\n",
       "      jac: array([ -5.72032295e-05,   3.04649584e-05,  -2.32586171e-06,\n",
       "        -4.07173298e-04,   2.58674915e-03,  -2.79396772e-09,\n",
       "        -2.26616394e-05,   4.34053363e-05,  -8.93948600e-05])\n",
       "  message: 'Desired error not necessarily achieved due to precision loss.'\n",
       "     nfev: 3716\n",
       "      nit: 153\n",
       "     njev: 336\n",
       "   status: 2\n",
       "  success: False\n",
       "        x: array([ 80.10229416,  80.10229416,  53.31353564,   5.57807414,\n",
       "        -2.09221789,   1.19393237,   9.02675517,  16.31745801,   9.91473379])"
      ]
     },
     "execution_count": 17,
     "metadata": {},
     "output_type": "execute_result"
    }
   ],
   "source": [
    "cetMemCoords = np.argwhere(cetMemReg)\n",
    "radius = (3*membraneVol/np.pi/4)**0.3333\n",
    "params0 = np.array([radius, radius, radius, 0, 0, 0, nucParams[6],  nucParams[7],  nucParams[8]  ])\n",
    "m = spopt.minimize(lambda x: spheroidLoss(x, cetMemCoords, membraneVol, cellAspect), params0,options=dict(maxiter=100000))\n",
    "memParams = m.x\n",
    "m"
   ]
  },
  {
   "cell_type": "code",
   "execution_count": 18,
   "metadata": {
    "ExecuteTime": {
     "end_time": "2017-01-15T16:31:36.965893",
     "start_time": "2017-01-15T16:31:36.961323"
    },
    "collapsed": true,
    "run_control": {
     "frozen": false,
     "read_only": false
    }
   },
   "outputs": [],
   "source": [
    "def volDiff(delta, wallCellRatio):\n",
    "    return 1 - reduce(lambda x,y: x*y, (r/(r+delta) for r in memParams[:3])) - wallCellRatio \n",
    "d = spopt.brentq(lambda x: volDiff(x, cellWallFraction), 0, max(memParams[:3]))\n",
    "cellWallParams = memParams.copy()\n",
    "cellWallParams[:3] += d"
   ]
  },
  {
   "cell_type": "code",
   "execution_count": 19,
   "metadata": {
    "ExecuteTime": {
     "end_time": "2017-01-15T16:31:37.002611",
     "start_time": "2017-01-15T16:31:36.967138"
    },
    "collapsed": true,
    "run_control": {
     "frozen": false,
     "read_only": false
    }
   },
   "outputs": [],
   "source": [
    "def ellipseFn(builder, params, thickness=3):\n",
    "    radius = params[:3]\n",
    "    angles = params[3:6]\n",
    "    center = params[6:9]\n",
    "    dr = thickness/2\n",
    "    radius = np.maximum(np.zeros(3), radius - dr)\n",
    "    if thickness == 0:\n",
    "        e = builder.ellipsoid(radius=params[:3], angles=angles, center=center)\n",
    "        return e & ~builder.erode(e,1)\n",
    "    else:\n",
    "        return ( builder.ellipsoid(radius=radius+dr, angles=angles, center=center)\n",
    "                  & ~builder.ellipsoid(radius=radius-dr, angles=angles, center=center))"
   ]
  },
  {
   "cell_type": "code",
   "execution_count": 19,
   "metadata": {
    "ExecuteTime": {
     "end_time": "2017-01-14T21:13:29.794821",
     "start_time": "2017-01-14T21:13:18.001622"
    },
    "collapsed": true,
    "run_control": {
     "frozen": false,
     "read_only": false
    }
   },
   "outputs": [],
   "source": [
    "def lmDim(x):\n",
    "    return 2*int(32*np.ceil(x/32))\n",
    "\n",
    "n = max(map(lmDim, memParams[:3]))\n",
    "\n",
    "Bfull = RegionBuilder(dims=(n,n,n))\n",
    "\n",
    "tx = Bfull.center - memParams[6:9]\n",
    "memParamsTx = memParams.copy()\n",
    "memParamsTx[6:9] += tx\n",
    "nucParamsTx = nucParams.copy()\n",
    "nucParamsTx[6:9] += tx\n",
    "cellWallParamsTx = cellWallParams.copy()\n",
    "cellWallParamsTx[6:9] += tx\n",
    "\n",
    "x0,y0,z0 = int(tx[0]), int(tx[1]), int(tx[2])\n",
    "x1 = x0+cetErReg.shape[0]\n",
    "y1 = y0+cetErReg.shape[1]\n",
    "z1 = z0+cetErReg.shape[2]\n",
    "tx1 = [x0,y0,z0]\n",
    "cetErFullReg = Bfull.emptyLatticeMask()\n",
    "cetErFullReg[x0:x1, y0:y1, z0:z1] = cetErReg\n",
    "cetMitoFullReg = Bfull.emptyLatticeMask()\n",
    "cetMitoFullReg[x0:x1, y0:y1, z0:z1] =  cetMitoReg\n",
    "cetMemFullReg = Bfull.emptyLatticeMask()\n",
    "cetMemFullReg[x0:x1, y0:y1, z0:z1] =  cetMemReg\n",
    "cetNucEnvFullReg = Bfull.emptyLatticeMask()\n",
    "cetNucEnvFullReg[x0:x1, y0:y1, z0:z1] =  cetNucEnvReg\n",
    "cetNucFullReg = Bfull.emptyLatticeMask()\n",
    "cetNucFullReg[x0:x1, y0:y1, z0:z1] =  cetNucReg\n",
    "fitMemFullReg=ellipseFn(Bfull, memParamsTx, thickness=0)\n",
    "fitNucEnvFullReg=ellipseFn(Bfull, nucParamsTx, thickness=envelopeThickness/latticeSpacing)\n",
    "\n",
    "entireCell = Bfull.convexHull(ellipseFn(Bfull, cellWallParamsTx, thickness=0))\n",
    "fitCellWallFullReg = entireCell & ~ Bfull.convexHull(fitMemFullReg)"
   ]
  },
  {
   "cell_type": "code",
   "execution_count": 20,
   "metadata": {
    "ExecuteTime": {
     "end_time": "2017-01-14T21:13:29.816991",
     "start_time": "2017-01-14T21:13:29.798031"
    },
    "collapsed": false,
    "run_control": {
     "frozen": false,
     "read_only": false
    }
   },
   "outputs": [
    {
     "data": {
      "text/plain": [
       "(138.95215214624986, 10.515588992700247)"
      ]
     },
     "execution_count": 20,
     "metadata": {},
     "output_type": "execute_result"
    }
   ],
   "source": [
    "def ellipsoidSA(a,b,c):\n",
    "    a,b,c = reversed(sorted([a,b,c]))\n",
    "    phi = np.arccos(c/a)\n",
    "    k = np.sqrt(a**2*(b**2-c**2)/b**2/(a**2-c**2))\n",
    "    return 2*np.pi*c**2 + 2*np.pi*a*b/np.sin(phi)*(sps.ellipeinc(phi,k)*np.sin(phi)**2 + sps.ellipkinc(phi, k)*np.cos(phi)**2)\n",
    "\n",
    "nPores = poreDensity*ellipsoidSA( *(latticeSpacing*nucParams[:3]) )\n",
    "                                \n",
    "nPores, ellipsoidSA( *(latticeSpacing*nucParams[:3]) )*1e12"
   ]
  },
  {
   "cell_type": "code",
   "execution_count": 21,
   "metadata": {
    "ExecuteTime": {
     "end_time": "2017-01-14T21:14:16.682623",
     "start_time": "2017-01-14T21:13:29.819457"
    },
    "collapsed": true,
    "run_control": {
     "frozen": false,
     "read_only": false
    }
   },
   "outputs": [],
   "source": [
    "nucFilled = B.convexHull(fitNucEnvFullReg)\n",
    "poreRadius = int(nucPoreRadius/latticeSpacing)\n",
    "exclusionRadius = 2*poreRadius\n",
    "poreSurface = B.dilate(~nucFilled, 1) & nucFilled\n",
    "\n",
    "exclusion = np.zeros_like(poreSurface)\n",
    "poresMask = np.zeros_like(poreSurface)\n",
    "exclusionBall = B.sphereStructElem(poreRadius+exclusionRadius)\n",
    "r = exclusionBall.shape[0]//2\n",
    "\n",
    "poreLoc = []\n",
    "for _ in range(int(nPores)):\n",
    "    pos = np.argwhere(poreSurface & ~exclusion)\n",
    "    loc = pos[np.random.choice(np.arange(pos.shape[0]))]\n",
    "    x,y,z = loc\n",
    "    poreLoc.append(loc)\n",
    "    exclusion[x-r:x+r+1, y-r:y+r+1, z-r:z+r+1] |= exclusionBall\n",
    "    \n",
    "cylLen = max(nucParamsTx[:3])\n",
    "\n",
    "for loc in poreLoc:\n",
    "    dv = loc - nucParamsTx[6:]\n",
    "    normal = dv/np.sqrt(dv@dv)\n",
    "    alpha = np.arctan2(normal[0], normal[1])\n",
    "    beta = np.arccos(normal[2])\n",
    "    gamma = 0\n",
    "    poresMask |= Bfull.cylinder(poreRadius, cylLen, angles=[alpha,beta,gamma], center=cylLen*normal + nucParamsTx[6:])\n",
    "    \n",
    "\n",
    "nucenvFit = fitNucEnvFullReg & ~poresMask\n",
    "fitNucPoresFullReg = fitNucEnvFullReg & ~nucenvFit\n",
    "fitNucEnvFullReg = nucenvFit"
   ]
  },
  {
   "cell_type": "code",
   "execution_count": 22,
   "metadata": {
    "ExecuteTime": {
     "end_time": "2017-01-14T21:14:23.941239",
     "start_time": "2017-01-14T21:14:16.685921"
    },
    "collapsed": true,
    "run_control": {
     "frozen": false,
     "read_only": false
    }
   },
   "outputs": [],
   "source": [
    "def dimfn(u):\n",
    "    v = (u+1)%3\n",
    "    w = (u+2)%3\n",
    "    ct = np.sum(entireCell, axis=(v,w))\n",
    "    u0 = np.where(ct>0)[0][0] \n",
    "    uw = np.sum(ct>0)\n",
    "    uw32 = int(32*np.ceil(uw/32))\n",
    "    spc = uw32-uw\n",
    "    pad0 = spc//2\n",
    "    return u0, uw, pad0, uw32\n",
    "\n",
    "x0, xw, px0, nx = dimfn(0)\n",
    "y0, yw, py0, ny = dimfn(1)\n",
    "z0, zw, pz0, nz = dimfn(2)\n",
    "\n",
    "def resize(l0):\n",
    "    l1 = np.zeros((nx,ny,nz), dtype=np.bool)\n",
    "    l1[px0:px0+xw,py0:py0+yw,pz0:pz0+zw] = l0[x0:x0+xw, y0:y0+yw, z0:z0+zw]\n",
    "    return l0\n",
    "\n",
    "cetErCropReg = resize(cetErFullReg)\n",
    "cetMemCropReg = resize(cetMemFullReg)\n",
    "cetMitoCropReg = resize(cetMitoFullReg)\n",
    "cetNucEnvCropReg = resize(cetNucEnvFullReg)\n",
    "cetNucCropReg = resize(cetNucFullReg)\n",
    "fitCellWallCropReg = resize(fitCellWallFullReg)\n",
    "fitMemCropReg = resize(fitMemFullReg)\n",
    "fitNucEnvCropReg = resize(fitNucEnvFullReg)\n",
    "fitMemCropReg = resize(fitMemFullReg)\n",
    "fitNucPoresCropReg = resize(fitNucPoresFullReg)\n",
    "\n",
    "entireCell = B.convexHull(fitCellWallCropReg)\n",
    "\n",
    "fitNucleoplasmCropReg = B.convexHull(fitNucEnvCropReg|fitNucPoresCropReg) & ~(fitNucEnvCropReg|fitNucPoresCropReg)\n",
    "fitCytoplasmCropReg = entireCell & ~( fitCellWallCropReg | fitMemCropReg | fitNucEnvCropReg | fitMemCropReg | fitNucPoresCropReg | fitNucleoplasmCropReg)"
   ]
  },
  {
   "cell_type": "code",
   "execution_count": 23,
   "metadata": {
    "ExecuteTime": {
     "end_time": "2017-01-14T21:14:23.949542",
     "start_time": "2017-01-14T21:14:23.942996"
    },
    "collapsed": false,
    "run_control": {
     "frozen": false,
     "read_only": false
    },
    "scrolled": true
   },
   "outputs": [
    {
     "name": "stdout",
     "output_type": "stream",
     "text": [
      "set txMatrix {{1.0 0.0 0.0 19774} {0.0 0.0 1.0 15563} {0.0 1.0 0.0 19779} {0.0 0.0 0.0 1.0}}\n"
     ]
    }
   ],
   "source": [
    "vmdUnits = latticeSpacing*1e10\n",
    "resizeDx = vmdUnits*(px0-x0+tx1[0])-labelOffset[0]\n",
    "resizeDy = vmdUnits*(py0-y0+tx1[1])-labelOffset[1]\n",
    "resizeDz = vmdUnits*(pz0-z0+tx1[2])-labelOffset[2]\n",
    "tclMatrix = (\"set txMatrix {{1.0 0.0 0.0 dx} {0.0 0.0 1.0 dy} {0.0 1.0 0.0 dz} {0.0 0.0 0.0 1.0}}\"\n",
    "                    .replace(\"dx\", str(int(resizeDz)))\n",
    "                    .replace(\"dy\", str(int(resizeDy)))\n",
    "                    .replace(\"dz\", str(int(resizeDx))))\n",
    "print(tclMatrix)"
   ]
  },
  {
   "cell_type": "code",
   "execution_count": 24,
   "metadata": {
    "ExecuteTime": {
     "end_time": "2017-01-14T21:15:27.807415",
     "start_time": "2017-01-14T21:14:23.950757"
    },
    "collapsed": false,
    "run_control": {
     "frozen": false,
     "read_only": false
    },
    "scrolled": false
   },
   "outputs": [
    {
     "name": "stdout",
     "output_type": "stream",
     "text": [
      "9786\n",
      "54030\n",
      "27034\n",
      "42336\n",
      "37716\n",
      "45229\n",
      "38816\n",
      "2337\n",
      "2050\n",
      "32045\n",
      "66694\n",
      "52385\n",
      "26091\n",
      "29161\n",
      "54917\n",
      "45677\n",
      "62390\n",
      "57227\n",
      "55673\n",
      "49418\n",
      "46829\n",
      "7791\n",
      "73882\n",
      "5808\n",
      "35298\n",
      "43452\n",
      "53706\n",
      "30354\n",
      "42811\n",
      "26379\n",
      "25427\n",
      "30303\n",
      "16254\n",
      "14673\n",
      "3462\n",
      "65138\n",
      "57557\n",
      "31890\n",
      "11282\n",
      "75092\n",
      "24266\n",
      "20209\n",
      "13113\n",
      "68355\n",
      "39982\n",
      "34833\n",
      "34847\n",
      "53905\n",
      "27025\n",
      "4644\n",
      "11881\n",
      "52017\n",
      "50438\n",
      "77872\n",
      "53122\n",
      "62593\n",
      "36984\n",
      "31145\n",
      "54353\n",
      "69352\n",
      "36170\n",
      "36744\n",
      "55011\n",
      "42427\n",
      "12349\n",
      "649\n",
      "37655\n",
      "65060\n",
      "73071\n",
      "8628\n",
      "37164\n",
      "16400\n",
      "62077\n",
      "18506\n",
      "59561\n",
      "70967\n",
      "18549\n",
      "79975\n",
      "53219\n",
      "62978\n",
      "47116\n",
      "38969\n",
      "58090\n",
      "55202\n",
      "27090\n",
      "73990\n",
      "16260\n",
      "49122\n",
      "70024\n",
      "32428\n",
      "71896\n",
      "8972\n",
      "54363\n",
      "51938\n",
      "5484\n",
      "53227\n",
      "55013\n",
      "40298\n",
      "59022\n",
      "54918\n",
      "17521\n",
      "72767\n",
      "19148\n",
      "45911\n",
      "51528\n",
      "11769\n",
      "64958\n",
      "40386\n",
      "57791\n",
      "69023\n",
      "18371\n",
      "55815\n",
      "22329\n",
      "44613\n",
      "46074\n",
      "48591\n",
      "48587\n",
      "72608\n",
      "8494\n",
      "12361\n",
      "48511\n",
      "28428\n",
      "69368\n",
      "41165\n",
      "58760\n",
      "4810\n",
      "50555\n",
      "74958\n",
      "66507\n",
      "64386\n",
      "14310\n",
      "34237\n",
      "51663\n",
      "36163\n",
      "23110\n",
      "23990\n",
      "35525\n",
      "25730\n",
      "11849\n",
      "64746\n",
      "26053\n",
      "17010\n",
      "49793\n",
      "73543\n",
      "62195\n",
      "68263\n",
      "69526\n",
      "60096\n"
     ]
    }
   ],
   "source": [
    "B = RegionBuilder(dims=fitCytoplasmCropReg.shape)\n",
    "vacRadius = (3*vacuoleFraction*cellVolume/4/np.pi)**0.333*1e-6/latticeSpacing\n",
    "poss = np.argwhere(fitCytoplasmCropReg)\n",
    "while True:\n",
    "    sa = 0.1*np.random.random() + 0.9\n",
    "    sb = 0.1*np.random.random() + 0.9\n",
    "    sc = 1/sa/sb\n",
    "    radius = [sa*vacRadius, sb*vacRadius, sc*vacRadius]\n",
    "    angle = np.random.random(3)*2*np.pi\n",
    "    loc = poss[np.random.randint(poss.shape[0]),:]\n",
    "    obj = B.ellipsoid(radius=radius, angles=angle, center=loc)\n",
    "    s = np.sum(obj&~fitCytoplasmCropReg)\n",
    "    if s == 0:\n",
    "        break\n",
    "    print(s)\n",
    "\n",
    "fitVacuoleCropReg = obj\n",
    "fitCytoplasmCropReg &= ~obj"
   ]
  },
  {
   "cell_type": "code",
   "execution_count": 25,
   "metadata": {
    "ExecuteTime": {
     "end_time": "2017-01-14T21:15:35.924545",
     "start_time": "2017-01-14T21:15:27.809818"
    },
    "collapsed": false,
    "run_control": {
     "frozen": false,
     "read_only": false
    }
   },
   "outputs": [
    {
     "name": "stdout",
     "output_type": "stream",
     "text": [
      "[27.473948624522077, 8.8732897236359154, 8.8732897236359154]\n",
      "2504\n",
      "3603\n",
      "3015\n",
      "34\n",
      "2144\n",
      "468\n",
      "1361\n",
      "376\n",
      "2078\n",
      "3941\n",
      "469\n",
      "4387\n",
      "224\n",
      "[30.763145638344398, 8.0542108429644781, 8.0542108429644781]\n",
      "3555\n",
      "876\n",
      "[32.228604664796428, 8.5232915423401554, 8.5232915423401554]\n",
      "2906\n"
     ]
    }
   ],
   "source": [
    "mitoVols = 0.2*np.random.random(nMito)+0.8\n",
    "mitoVols /= np.sum(mitoVols)\n",
    "mitoAspectL = 0.5*np.random.random(nMito) + 2\n",
    "mitoAspectS = np.sqrt(1/mitoAspectL)\n",
    "mitoRadius = [(3*f*mitoFraction*cellVolume/4/np.pi)**0.333*1e-6/latticeSpacing for f in mitoVols]\n",
    "mitoRadii = [ [l*r, s*r, s*r] for l,s,r in zip(mitoAspectL, mitoAspectS, mitoRadius) ]\n",
    "fitMitoCropReg = None\n",
    "\n",
    "for radius in mitoRadii:\n",
    "    print(radius)\n",
    "    poss = np.argwhere(fitCytoplasmCropReg)\n",
    "    while True:\n",
    "        angle = np.random.random(3)*2*np.pi\n",
    "        loc = poss[np.random.randint(poss.shape[0]),:]\n",
    "        obj = B.ellipsoid(radius=radius, angles=angle, center=loc)\n",
    "        s = np.sum(obj&~fitCytoplasmCropReg)\n",
    "        if s == 0:\n",
    "            break\n",
    "        print(s)\n",
    "    if fitMitoCropReg is None:\n",
    "        fitMitoCropReg = obj\n",
    "    else:\n",
    "        fitMitoCropReg |= obj\n",
    "        \n",
    "    fitCytoplasmCropReg &= ~obj"
   ]
  },
  {
   "cell_type": "code",
   "execution_count": 26,
   "metadata": {
    "ExecuteTime": {
     "end_time": "2017-01-14T21:15:35.932406",
     "start_time": "2017-01-14T21:15:35.926243"
    },
    "collapsed": true,
    "run_control": {
     "frozen": false,
     "read_only": false
    }
   },
   "outputs": [],
   "source": [
    "%%cython\n",
    "# cython: boundscheck=False\n",
    "# cython: cdivision=True\n",
    "# cython: wraparound=False\n",
    "\n",
    "from libc.stdlib cimport *\n",
    "from posix.stdlib cimport *\n",
    "from libc.stdint cimport *\n",
    "\n",
    "cdef int64_t randIntLessThan(int64_t n):\n",
    "    cdef int64_t x = random()\n",
    "    while x >= RAND_MAX - (RAND_MAX % n):\n",
    "          x = random()\n",
    "    return x % n\n",
    "\n",
    "def placeRibosomes(int n, int64_t[:,:,:] avail, int64_t[:,:,:] rib):\n",
    "    cdef int64_t nx, ny, nz, i, j, k, ii,jj,kk\n",
    "    nx,ny,nz = avail.shape[:3]\n",
    "    \n",
    "    while n > 0:\n",
    "        i = randIntLessThan(nx)\n",
    "        j = randIntLessThan(ny)\n",
    "        k = randIntLessThan(nz)\n",
    "        if avail[i,j,k]:\n",
    "            ii = 2*randIntLessThan(2)-1 + i\n",
    "            jj = 2*randIntLessThan(2)-1 + j\n",
    "            kk = 2*randIntLessThan(2)-1 + k\n",
    "            if avail[ii, jj, kk]:\n",
    "                avail[i,j,k] = 0\n",
    "                avail[ii,jj,kk] = 0\n",
    "                rib[i,j,k] = 1\n",
    "                n -= 1\n",
    "        "
   ]
  },
  {
   "cell_type": "code",
   "execution_count": 27,
   "metadata": {
    "ExecuteTime": {
     "end_time": "2017-01-14T21:15:36.512003",
     "start_time": "2017-01-14T21:15:35.933708"
    },
    "collapsed": true,
    "run_control": {
     "frozen": false,
     "read_only": false
    }
   },
   "outputs": [],
   "source": [
    "avail = B.erode(fitCytoplasmCropReg,2).astype(np.int64)\n",
    "ssuTmp = np.zeros(avail.shape, dtype=np.int64)\n",
    "lsuTmp = np.zeros(avail.shape, dtype=np.int64)\n",
    "placeRibosomes(nRibosomes, avail, ssuTmp, lsuTmp)\n",
    "\n",
    "fitSsuCropReg = np.array(ssuTmp, dtype=bool)\n",
    "fitLsuCropReg = np.array(lsuTmp, dtype=bool)"
   ]
  },
  {
   "cell_type": "code",
   "execution_count": 28,
   "metadata": {
    "ExecuteTime": {
     "end_time": "2017-01-14T21:15:36.518958",
     "start_time": "2017-01-14T21:15:36.513429"
    },
    "collapsed": true,
    "run_control": {
     "frozen": false,
     "read_only": false
    }
   },
   "outputs": [],
   "source": [
    "fitCytoplasmCropReg &= ~(fitSsuCropReg|fitLsuCropReg)"
   ]
  },
  {
   "cell_type": "code",
   "execution_count": 29,
   "metadata": {
    "ExecuteTime": {
     "end_time": "2017-01-14T21:17:43.450208",
     "start_time": "2017-01-14T21:15:36.520222"
    },
    "collapsed": true,
    "run_control": {
     "frozen": false,
     "read_only": false
    }
   },
   "outputs": [],
   "source": [
    "with open(simFile(\"yeast_nuc_{}.tcl\".format(decimation)), \"w\") as tcl:\n",
    "    tclTriangleMesh_scratch(\n",
    "           dict(cetEr=cetErCropReg,\n",
    "                cetMem=cetMemCropReg,\n",
    "                cetMito=cetMitoCropReg,\n",
    "                cetNucEnv=cetNucEnvCropReg,\n",
    "                cetChromatin=fitNucleoplasmCropReg,\n",
    "                fitCellWall=fitCellWallCropReg,\n",
    "                fitVacuole=fitVacuoleCropReg,\n",
    "                fitMito=fitMitoCropReg,\n",
    "                fitNucEnv=fitNucEnvCropReg,\n",
    "                fitMem=fitMemCropReg,\n",
    "                fitLsu=fitLsuCropReg,\n",
    "                fitSsu=fitSsuCropReg,\n",
    "                fitNucPores=fitNucPoresCropReg,\n",
    "                fitNucleoplasm=fitNucleoplasmCropReg,\n",
    "                box=fitNucleoplasmCropReg | ~fitNucleoplasmCropReg,\n",
    "                fitCytoplasm=fitCytoplasmCropReg),\n",
    "           latticeSpacing, file=tcl)\n",
    "    print(tclMatrix, file=tcl) "
   ]
  },
  {
   "cell_type": "code",
   "execution_count": 37,
   "metadata": {
    "ExecuteTime": {
     "end_time": "2017-01-14T21:27:03.737313",
     "start_time": "2017-01-14T21:27:03.618148"
    },
    "collapsed": true,
    "run_control": {
     "frozen": false,
     "read_only": false
    }
   },
   "outputs": [],
   "source": [
    "ids = dict()\n",
    "lattice = np.zeros(cetErCropReg.shape, dtype=np.uint8)\n",
    "ids['cetErCropReg']=1\n",
    "ids['cetMemCropReg']=2\n",
    "ids['cetMitoCropReg']=3\n",
    "ids['cetNucEnvCropReg']=4\n",
    "ids['fitCellWallCropReg']=5\n",
    "ids['fitVacuoleCropReg']=6\n",
    "ids['fitMitoCropReg']=7\n",
    "ids['fitNucEnvCropReg']=8\n",
    "ids['fitMemCropReg']=9\n",
    "ids['fitLsuCropReg']=10\n",
    "ids['fitSsuCropReg']=11\n",
    "ids['fitNucPoresCropReg']=12\n",
    "ids['fitNucleoplasmCropReg']=13\n",
    "ids['fitCytoplasmCropReg']=14\n",
    "\n",
    "lattice[cetErCropReg]=ids['cetErCropReg']\n",
    "lattice[cetMemCropReg]=ids['cetMemCropReg']\n",
    "lattice[cetMitoCropReg]=ids['cetMitoCropReg']\n",
    "lattice[cetNucEnvCropReg]=ids['cetNucEnvCropReg']\n",
    "lattice[fitCellWallCropReg]=ids['fitCellWallCropReg']\n",
    "lattice[fitVacuoleCropReg]=ids['fitVacuoleCropReg']\n",
    "lattice[fitMitoCropReg]=ids['fitMitoCropReg']\n",
    "lattice[fitNucEnvCropReg]=ids['fitNucEnvCropReg']\n",
    "lattice[fitMemCropReg]=ids['fitMemCropReg']\n",
    "lattice[fitLsuCropReg]=ids['fitLsuCropReg']\n",
    "lattice[fitSsuCropReg]=ids['fitSsuCropReg']\n",
    "lattice[fitNucPoresCropReg]=ids['fitNucPoresCropReg']\n",
    "lattice[fitNucleoplasmCropReg]=ids['fitNucleoplasmCropReg']\n",
    "lattice[fitCytoplasmCropReg]=ids['fitCytoplasmCropReg']\n",
    "\n",
    "pickle.dump(dict(lattice=lattice, \n",
    "                 ids=ids, \n",
    "                 latticeSpacing=latticeSpacing, \n",
    "                 decimation=decimation), \n",
    "            open(simFile(\"yeastLattice.{}.p\".format(decimation)), \"wb\"))"
   ]
  },
  {
   "cell_type": "code",
   "execution_count": 20,
   "metadata": {
    "ExecuteTime": {
     "end_time": "2017-01-15T17:20:26.082912",
     "start_time": "2017-01-15T17:20:26.075670"
    },
    "collapsed": false,
    "run_control": {
     "frozen": false,
     "read_only": false
    }
   },
   "outputs": [
    {
     "data": {
      "text/plain": [
       "2.8673999977111816e-08"
      ]
     },
     "execution_count": 20,
     "metadata": {},
     "output_type": "execute_result"
    }
   ],
   "source": [
    "latticeSpacing"
   ]
  },
  {
   "cell_type": "code",
   "execution_count": 21,
   "metadata": {
    "ExecuteTime": {
     "end_time": "2017-01-15T17:57:05.346291",
     "start_time": "2017-01-15T17:57:05.342172"
    },
    "collapsed": true,
    "run_control": {
     "frozen": false,
     "read_only": false
    }
   },
   "outputs": [],
   "source": [
    "None"
   ]
  },
  {
   "cell_type": "code",
   "execution_count": 22,
   "metadata": {
    "ExecuteTime": {
     "end_time": "2017-01-15T17:57:11.572127",
     "start_time": "2017-01-15T17:57:11.519841"
    },
    "collapsed": false
   },
   "outputs": [
    {
     "ename": "NameError",
     "evalue": "name 'lattice' is not defined",
     "output_type": "error",
     "traceback": [
      "\u001b[0;31m---------------------------------------------------------------------------\u001b[0m",
      "\u001b[0;31mNameError\u001b[0m                                 Traceback (most recent call last)",
      "\u001b[0;32m<ipython-input-22-26c346620463>\u001b[0m in \u001b[0;36m<module>\u001b[0;34m()\u001b[0m\n\u001b[0;32m----> 1\u001b[0;31m \u001b[0mlattice\u001b[0m\u001b[0;34m.\u001b[0m\u001b[0mshape\u001b[0m\u001b[0;34m\u001b[0m\u001b[0m\n\u001b[0m",
      "\u001b[0;31mNameError\u001b[0m: name 'lattice' is not defined"
     ]
    }
   ],
   "source": [
    "lattice.shape"
   ]
  },
  {
   "cell_type": "code",
   "execution_count": null,
   "metadata": {
    "collapsed": true
   },
   "outputs": [],
   "source": []
  }
 ],
 "metadata": {
  "kernelspec": {
   "display_name": "Python 3",
   "language": "python",
   "name": "python3"
  },
  "language_info": {
   "codemirror_mode": {
    "name": "ipython",
    "version": 3
   },
   "file_extension": ".py",
   "mimetype": "text/x-python",
   "name": "python",
   "nbconvert_exporter": "python",
   "pygments_lexer": "ipython3",
   "version": "3.5.2"
  }
 },
 "nbformat": 4,
 "nbformat_minor": 2
}
