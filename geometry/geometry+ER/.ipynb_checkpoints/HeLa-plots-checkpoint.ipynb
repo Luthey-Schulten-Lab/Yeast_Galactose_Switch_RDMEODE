{
 "cells": [
  {
   "cell_type": "code",
   "execution_count": 1,
   "metadata": {
    "ExecuteTime": {
     "end_time": "2017-01-21T21:13:27.988424",
     "start_time": "2017-01-21T21:13:25.295418"
    },
    "collapsed": true,
    "run_control": {
     "frozen": false,
     "read_only": false
    }
   },
   "outputs": [],
   "source": [
    "import ipywidgets as ipw\n",
    "import IPython.display as ipd\n",
    "import matplotlib.pyplot as plt\n",
    "import seaborn as sns\n",
    "from matplotlib.font_manager import FontProperties\n",
    "from matplotlib.ticker import MaxNLocator\n",
    "sns.set_style(\"white\")\n",
    "sns.set_context(\"paper\")\n",
    "%matplotlib inline"
   ]
  },
  {
   "cell_type": "code",
   "execution_count": 2,
   "metadata": {
    "ExecuteTime": {
     "end_time": "2017-01-21T21:13:27.995972",
     "start_time": "2017-01-21T21:13:27.991093"
    },
    "collapsed": true,
    "run_control": {
     "frozen": false,
     "read_only": false
    }
   },
   "outputs": [],
   "source": [
    "from venv import *"
   ]
  },
  {
   "cell_type": "code",
   "execution_count": 4,
   "metadata": {
    "ExecuteTime": {
     "end_time": "2017-01-21T21:15:38.704639",
     "start_time": "2017-01-21T21:15:38.198246"
    },
    "collapsed": false,
    "run_control": {
     "frozen": false,
     "read_only": false
    }
   },
   "outputs": [],
   "source": [
    "import jLM\n",
    "from jLM.RDME import File as RDMEFile"
   ]
  },
  {
   "cell_type": "code",
   "execution_count": 5,
   "metadata": {
    "ExecuteTime": {
     "end_time": "2017-01-21T21:15:51.623742",
     "start_time": "2017-01-21T21:15:51.618611"
    },
    "collapsed": true,
    "run_control": {
     "frozen": false,
     "read_only": false
    }
   },
   "outputs": [],
   "source": [
    "import numpy as np\n",
    "import re\n",
    "import itertools"
   ]
  },
  {
   "cell_type": "code",
   "execution_count": 6,
   "metadata": {
    "ExecuteTime": {
     "end_time": "2017-01-21T21:15:52.051856",
     "start_time": "2017-01-21T21:15:52.021705"
    },
    "collapsed": true,
    "run_control": {
     "frozen": false,
     "read_only": false
    }
   },
   "outputs": [],
   "source": [
    "def getPcounts(*files):\n",
    "    sims =  [ RDMEFile(simFile(f)) for f in files ]\n",
    "    N = 0\n",
    "    pcounts = None\n",
    "    pcounts2 = None\n",
    "    \n",
    "    for sim in sims:\n",
    "        for rep in sim.replicates:\n",
    "            basename = \".\".join(sim.filename.split('.')[:-1])\n",
    "            tmp = np.load(\"{}-particleCountPerSite{:07d}.npy\".format(basename, rep))\n",
    "            if pcounts is None:\n",
    "                pcounts = np.zeros_like(1.0*tmp)\n",
    "                pcounts2 = np.zeros_like(1.0*tmp)\n",
    "            pcounts += 1.0*tmp\n",
    "            pcounts2 += (1.0*tmp)**2\n",
    "            N += 1\n",
    "            \n",
    "    N *= sum(1 for sp in sims[0].speciesList if re.match(r\"repressor\\d\\d\", sp.name))\n",
    "    \n",
    "    return sims[0], pcounts, pcounts2, N\n",
    "    \n",
    "  "
   ]
  },
  {
   "cell_type": "code",
   "execution_count": 7,
   "metadata": {
    "ExecuteTime": {
     "end_time": "2017-01-21T21:15:52.617921",
     "start_time": "2017-01-21T21:15:52.554416"
    },
    "collapsed": true,
    "run_control": {
     "frozen": false,
     "read_only": false
    }
   },
   "outputs": [],
   "source": [
    "def getSwitchTime(spRegex, regRegex, sim, rep):\n",
    "    basename = \".\".join(sim.filename.split('.')[:-1])\n",
    "    pcounts = np.load(\"{}-particleCountPerSite{:07d}.npy\".format(basename, rep))\n",
    "    \n",
    "    spIdxs = [sp.idx for sp in sim.speciesList if re.match(spRegex, sp.name)]\n",
    "    regIdxs =[reg.idx for reg in sim.regionList if re.match(regRegex, reg.name)]\n",
    "    \n",
    "    ts = sim.latticeTimes\n",
    "    y1 = np.zeros_like(ts)\n",
    "    for sp,rg in itertools.product(spIdxs, regIdxs):\n",
    "        y1 += pcounts[:,rg,sp]\n",
    "        \n",
    "    try:\n",
    "        i = np.where(y1>0)[0][0]\n",
    "        return ts[i]\n",
    "    except IndexError:\n",
    "        return None\n",
    "    \n",
    "def binCounts(simdata):\n",
    "    sim = simdata[0]\n",
    "    \n",
    "    spSfxs = sorted( sp.name.replace(\"mRNA\",\"\") for sp in sim.speciesList.matchRegex(r\"mRNA\\d\\d\")  )\n",
    "    exitTimes, rbTimes, enterTimes, bindTimes = [], [], [], []\n",
    "    for sfx in spSfxs:\n",
    "        for replicate in sim.replicates:\n",
    "            exitTime = getSwitchTime(\"mRNA\"+sfx, \"cytoplasm\", sim, replicate)\n",
    "            rbTime = getSwitchTime(\"repressor\"+sfx, \"cytoplasm\", sim, replicate)\n",
    "            enterTime = getSwitchTime(\"repressor\"+sfx, \"nucleoplasm\", sim, replicate)\n",
    "            bindTime = getSwitchTime(\"geneOff\"+sfx, \"nucleoplasm\", sim, replicate)\n",
    "            if exitTime is not None:\n",
    "                exitTimes.append(exitTime)\n",
    "                if rbTime is not None:\n",
    "                    rbTimes.append(rbTime-exitTime)\n",
    "                    if enterTime is not None:\n",
    "                        enterTimes.append(enterTime-rbTime)\n",
    "                        if bindTime is not None:\n",
    "                            bindTimes.append(bindTime-enterTime)\n",
    "    return exitTimes, rbTimes, enterTimes, bindTimes "
   ]
  },
  {
   "cell_type": "code",
   "execution_count": 8,
   "metadata": {
    "ExecuteTime": {
     "end_time": "2017-01-21T21:16:34.113525",
     "start_time": "2017-01-21T21:15:53.035554"
    },
    "collapsed": false,
    "run_control": {
     "frozen": false,
     "marked": false,
     "read_only": false
    }
   },
   "outputs": [],
   "source": [
    "obsData = getPcounts(\"hela-instant.lm\")\n",
    "exitTimesObs, rbTimesObs, enterTimesObs, bindTimesObs = binCounts(obsData)\n",
    "\n",
    "noobsData = getPcounts(\"hela-instant-noObs.lm\")\n",
    "exitTimesNoObs, rbTimesNoObs, enterTimesNoObs, bindTimesNoObs = binCounts(noobsData)\n",
    "\n",
    "fullData = getPcounts(\"hela-final.lm\")"
   ]
  },
  {
   "cell_type": "code",
   "execution_count": 10,
   "metadata": {
    "ExecuteTime": {
     "end_time": "2017-01-21T21:17:04.598122",
     "start_time": "2017-01-21T21:17:04.458272"
    },
    "collapsed": false
   },
   "outputs": [
    {
     "name": "stdout",
     "output_type": "stream",
     "text": [
      "translation: 0.853 (37)\n",
      "switch: 75.606 (37)\n"
     ]
    }
   ],
   "source": [
    "def reCount(spRegex, regRegex, simdata):\n",
    "    sim, pcounts, pcounts2, N = simdata\n",
    "    spIdxs = [sp.idx for sp in sim.speciesList if re.match(spRegex, sp.name)]\n",
    "    regIdxs =[reg.idx for reg in sim.regionList if re.match(regRegex, reg.name)]\n",
    "    \n",
    "    ts = sim.latticeTimes\n",
    "    y1 = np.zeros_like(ts)\n",
    "    for sp,rg in itertools.product(spIdxs, regIdxs):\n",
    "        y1 += pcounts[:,rg,sp]\n",
    "    return ts, y1\n",
    "\n",
    "def reOnTime(spRegex, regRegex, simdata):\n",
    "    try:\n",
    "        t, y = reCount(spRegex, regRegex, simdata)\n",
    "        i = np.where(y>0)[0][0]\n",
    "        return t[i]\n",
    "    except IndexError:\n",
    "        return None\n",
    "    \n",
    "def pt(simdata, n, sp, rg):\n",
    "    sim = simdata[0]\n",
    "    spSfxs = sorted( sp.name.replace(\"mRNA\",\"\") for sp in sim.speciesList.matchRegex(r\"mRNA\\d\\d\")  )\n",
    "    ts = list(filter(lambda x: x is not None, (reOnTime(sp+sfx, rg, simdata) for sfx in spSfxs)))\n",
    "    print(\"{}: {:.3f} ({})\".format(n,np.median(ts), len(ts)))\n",
    "    \n",
    "pt(fullData, \"translation\", \"mRNAtx\", \"ssu\")\n",
    "pt(fullData, \"switch\", \"geneOff\", \"nucleoplasm\")"
   ]
  },
  {
   "cell_type": "code",
   "execution_count": 11,
   "metadata": {
    "ExecuteTime": {
     "end_time": "2017-01-21T21:17:07.293975",
     "start_time": "2017-01-21T21:17:07.278362"
    },
    "collapsed": false,
    "run_control": {
     "frozen": false,
     "read_only": false
    },
    "scrolled": false
   },
   "outputs": [
    {
     "name": "stdout",
     "output_type": "stream",
     "text": [
      "exit: obs 0.581 (218) noobs 0.043 (193) obs/noobs: 13.625\n",
      "ribosome: obs 0.096 (218) noobs 0.112 (192) obs/noobs: 0.857\n",
      "return: obs 0.875 (218) noobs 0.096 (192) obs/noobs: 9.111\n",
      "bind: obs 9.472 (215) noobs 9.835 (188) obs/noobs: 0.963\n"
     ]
    }
   ],
   "source": [
    "def pt(x,y,z):\n",
    "    print(\"{}: obs {:.3f} ({}) noobs {:.3f} ({}) obs/noobs: {:.3f}\".format(\n",
    "        x, np.median(y), len(y), np.median(z), len(z), np.median(y)/np.median(z)))\n",
    "\n",
    "pt(\"exit\", exitTimesObs, exitTimesNoObs)\n",
    "pt(\"ribosome\", rbTimesObs, rbTimesNoObs)\n",
    "pt(\"return\", enterTimesObs, enterTimesNoObs)\n",
    "pt(\"bind\", bindTimesObs, bindTimesNoObs)"
   ]
  },
  {
   "cell_type": "code",
   "execution_count": 12,
   "metadata": {
    "ExecuteTime": {
     "end_time": "2017-01-21T21:17:07.949721",
     "start_time": "2017-01-21T21:17:07.904521"
    },
    "collapsed": true,
    "run_control": {
     "frozen": false,
     "read_only": false
    }
   },
   "outputs": [],
   "source": [
    "nbins = 14\n",
    "\n",
    "colors = sns.color_palette(n_colors=5)\n",
    "\n",
    "def dp(ax, i, ts, bins):\n",
    "    _, _, ps = ax.hist(ts, bins=bins, facecolor=colors[i], edgecolor='k', alpha=0.5, normed=True)\n",
    "    return ps[0]\n",
    "\n",
    "def pl(ax, l, title, var, t1, t2, lx=0, ly=0, tmax=None):\n",
    "    if tmax is None:\n",
    "        tmax = max(max(t1), max(t2))*1.05\n",
    "    bins = np.linspace(0, tmax, nbins)\n",
    "    \n",
    "    pobs = dp(ax, 0, t1, bins)\n",
    "    pclear = dp(ax, 1, t2, bins)\n",
    "    texvar = r't_{\\mathrm{' + var + r'}}/\\mathrm{s}'\n",
    "    ax.set(xlabel=r\"${}$\".format(texvar), ylabel=r\"$P({})/\\mathrm{{s}}^{{-1}}$\".format(texvar))\n",
    "    ax.legend()\n",
    "    ax.xaxis.set_major_locator(MaxNLocator(6))\n",
    "    font = FontProperties()\n",
    "    font.set_weight(\"bold\")\n",
    "    ax.text(-0.25+lx,1.02+ly, l, transform=ax.transAxes, fontproperties=font)\n",
    "    ax.text(0.5,0.95, title, transform=ax.transAxes, verticalalignment='top', horizontalalignment='center')\n",
    "    return [pobs,pclear], ['Obs. FPT density', 'Clear FPT density']\n",
    " "
   ]
  },
  {
   "cell_type": "code",
   "execution_count": 13,
   "metadata": {
    "ExecuteTime": {
     "end_time": "2017-01-21T21:17:08.697508",
     "start_time": "2017-01-21T21:17:08.630120"
    },
    "collapsed": true,
    "run_control": {
     "frozen": false,
     "read_only": false
    }
   },
   "outputs": [],
   "source": [
    "class TracePlot:\n",
    "    def __init__(self, ax, simdata):\n",
    "        self.sim, self.pcounts, self.pcounts2, self.N = simdata\n",
    "        self.ax = ax\n",
    "        self.pltidx = 0\n",
    "        self.ymax = 0\n",
    "        self.patches = []\n",
    "        self.labels = []\n",
    "        \n",
    "    def plt(self, spRegex, regRegex, label):\n",
    "        spIdxs = [sp.idx for sp in self.sim.speciesList if re.match(spRegex, sp.name)]\n",
    "        regIdxs =[reg.idx for reg in self.sim.regionList if re.match(regRegex, reg.name)]\n",
    "\n",
    "        ts = self.sim.latticeTimes\n",
    "        y1 = np.zeros_like(ts)\n",
    "        y2 = np.zeros_like(ts)\n",
    "        for sp,rg in itertools.product(spIdxs, regIdxs):\n",
    "            y1 += self.pcounts[:,rg,sp]\n",
    "            y2 += self.pcounts2[:,rg,sp]\n",
    "        mean = y1/self.N\n",
    "        sd = np.sqrt(y2/self.N-mean**2)\n",
    "        self.ymax = max(self.ymax, np.max(mean+sd))\n",
    "        self.ax.fill_between(ts, mean-sd, mean+sd, \n",
    "                        facecolor=colors[self.pltidx], \n",
    "                        alpha=0.2,linewidth=0.0, \n",
    "                        edgecolor=colors[self.pltidx])\n",
    "        self.patches.append(self.ax.plot(ts, mean, color=colors[self.pltidx], label=label)[0])\n",
    "        self.labels.append(label)\n",
    "        self.pltidx += 1\n",
    "        \n",
    "    def finalize(self, l, lx=0, ly=0):\n",
    "        t0 = 10**np.floor(np.log10(self.sim.timestep))\n",
    "        self.ax.set(xlim=(1e-3, self.sim.latticeTimes[-1]), xscale=\"log\", xlabel=r'$t/\\mathrm{s}$',\n",
    "                ylim=(0.1,self.ymax*1.1), yscale=\"log\", ylabel=r'Abundance')\n",
    "        font = FontProperties()\n",
    "        font.set_weight(\"bold\")\n",
    "        self.ax.text(-0.25+lx,1.02+ly, l, transform=self.ax.transAxes, fontproperties=font)\n",
    "        \n"
   ]
  },
  {
   "cell_type": "code",
   "execution_count": 14,
   "metadata": {
    "ExecuteTime": {
     "end_time": "2017-01-21T21:17:13.770941",
     "start_time": "2017-01-21T21:17:09.600747"
    },
    "collapsed": false,
    "run_control": {
     "frozen": false,
     "read_only": false
    }
   },
   "outputs": [
    {
     "name": "stderr",
     "output_type": "stream",
     "text": [
      "/data/earnest3/research/festschwifty/lib/python3.5/site-packages/matplotlib/axes/_axes.py:531: UserWarning: No labelled objects found. Use label='...' kwarg on individual plots.\n",
      "  warnings.warn(\"No labelled objects found. \"\n"
     ]
    },
    {
     "data": {
      "image/png": "[encoded data removed]",
      "text/plain": [
       "<matplotlib.figure.Figure at 0x7ff79dcd6208>"
      ]
     },
     "metadata": {},
     "output_type": "display_data"
    }
   ],
   "source": [
    "fig, ((axTrace, axEx,axTl),(axLeg, axNuc, axBind)) = plt.subplots(nrows=2,ncols=3,figsize=(6,3.8))\n",
    "tp = TracePlot(axTrace, fullData)\n",
    "tp.plt(r\"mRNA\\d\\d\", \"nucleoplasm\", \"mRNA in nucleus\")\n",
    "tp.plt(r\"mRNA.*\", \"cytoplasm|ssu\", \"mRNA in cytoplasm\")\n",
    "tp.plt(r\"repressor\\d\\d\", \"nucleoplasm\", \"protein in nucleus\")\n",
    "tp.plt(r\"repressor\\d\\d\", \"cytoplasm\", \"protein in cytoplasm\")\n",
    "tp.plt(r\"geneOff\\d\\d\", \"nucleoplasm\", \"repressed gene\")\n",
    "tp.finalize(\"a\", lx=-0.1)\n",
    "patches, labels = pl(axEx, \"b\", r\"gene$\\to$cyt\", \"exit\", exitTimesObs, exitTimesNoObs, lx=-0.1)\n",
    "pl(axTl, \"c\", r\"cyt$\\to$rib\", \"rib\", rbTimesObs, rbTimesNoObs, lx=-0.1)\n",
    "pl(axNuc, \"d\", r\"rib$\\to$nuc\", \"ret\", enterTimesObs, enterTimesNoObs, lx=-0.1)\n",
    "pl(axBind, \"e\", r\"nuc$\\to$gene\", \"bind\", bindTimesObs, bindTimesNoObs, lx=-0.1)\n",
    "fig.delaxes(axLeg)\n",
    "fig.legend(tp.patches + patches, tp.labels + labels,\n",
    "           bbox_to_anchor = (0.04,0.05,0.3,0.4),\n",
    "           loc=\"upper center\",\n",
    "           bbox_transform=fig.transFigure)\n",
    "\n",
    "fig.tight_layout()\n",
    "fig.savefig(\"../../manuscript/fig-src/escape.pdf\")"
   ]
  }
 ],
 "metadata": {
  "kernelspec": {
   "display_name": "Python 3",
   "language": "python",
   "name": "python3"
  },
  "language_info": {
   "codemirror_mode": {
    "name": "ipython",
    "version": 3
   },
   "file_extension": ".py",
   "mimetype": "text/x-python",
   "name": "python",
   "nbconvert_exporter": "python",
   "pygments_lexer": "ipython3",
   "version": "3.5.2"
  }
 },
 "nbformat": 4,
 "nbformat_minor": 1
}
