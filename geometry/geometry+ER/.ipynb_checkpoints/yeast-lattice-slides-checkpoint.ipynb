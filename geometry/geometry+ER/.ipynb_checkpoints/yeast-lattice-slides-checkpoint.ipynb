{
 "cells": [
  {
   "cell_type": "markdown",
   "metadata": {
    "run_control": {
     "frozen": false,
     "read_only": false
    },
    "slideshow": {
     "slide_type": "slide"
    }
   },
   "source": [
    "# Constucting a yeast cell from limited CryoET data\n",
    "Tyler Earnest\n",
    "\n",
    "2016/02/22"
   ]
  },
  {
   "cell_type": "markdown",
   "metadata": {
    "run_control": {
     "frozen": false,
     "read_only": false
    },
    "slideshow": {
     "slide_type": "slide"
    }
   },
   "source": [
    "## Imports"
   ]
  },
  {
   "cell_type": "code",
   "execution_count": null,
   "metadata": {
    "collapsed": true,
    "slideshow": {
     "slide_type": "-"
    }
   },
   "outputs": [],
   "source": [
    "import itertools\n",
    "import numpy as np\n",
    "import scipy.spatial as spspat\n",
    "import scipy.special as sps\n",
    "import scipy.optimize as spopt\n",
    "import scipy.interpolate as spinterp\n",
    "import skimage.morphology as skmo\n",
    "from functools import reduce\n",
    "import pickle\n",
    "%load_ext Cython"
   ]
  },
  {
   "cell_type": "code",
   "execution_count": null,
   "metadata": {
    "ExecuteTime": {
     "end_time": "2017-02-22T11:46:36.665266",
     "start_time": "2017-02-22T11:46:35.553696"
    },
    "collapsed": false,
    "run_control": {
     "frozen": false,
     "marked": false,
     "read_only": false
    },
    "slideshow": {
     "slide_type": "fragment"
    }
   },
   "outputs": [],
   "source": [
    "import matplotlib as mpl\n",
    "import seaborn as sns\n",
    "\n",
    "mplRc = {\"axes.grid\": False,\n",
    "         \"image.cmap\":\"inferno\",\n",
    "         \"image.interpolation\":\"nearest\",\n",
    "         \"image.origin\":\"lower\"}\n",
    "\n",
    "sns.set_context(\"talk\", rc=mplRc)\n",
    "\n",
    "for k,v in mplRc.items():\n",
    "    mpl.rcParams[k] = v\n",
    "\n",
    "import matplotlib.pyplot as plt\n",
    "%matplotlib inline"
   ]
  },
  {
   "cell_type": "markdown",
   "metadata": {
    "collapsed": true,
    "run_control": {
     "frozen": false,
     "read_only": false
    },
    "slideshow": {
     "slide_type": "slide"
    }
   },
   "source": [
    "## jLM imports"
   ]
  },
  {
   "cell_type": "code",
   "execution_count": null,
   "metadata": {
    "ExecuteTime": {
     "end_time": "2017-02-22T11:44:56.628148",
     "start_time": "2017-02-22T11:44:56.052360"
    },
    "collapsed": false,
    "run_control": {
     "frozen": false,
     "read_only": false
    },
    "slideshow": {
     "slide_type": "-"
    }
   },
   "outputs": [],
   "source": [
    "from venv import *\n",
    "from VolData import VolData\n",
    "from jLM.RegionBuilder import RegionBuilder\n",
    "from jLM.RDME import Sim as RDMESim\n",
    "from jLM.RDME import File as RDMEFile\n",
    "from jLM.VmdUtil import tclTriangleMesh, tclTriangleMesh_scratch\n",
    "from jLM.JupyterDisplay import showBinaryLattices\n",
    "import jLM"
   ]
  },
  {
   "cell_type": "code",
   "execution_count": null,
   "metadata": {
    "collapsed": true,
    "slideshow": {
     "slide_type": "-"
    }
   },
   "outputs": [],
   "source": [
    "def report(name, value, fmt=\"{}\"):\n",
    "    label = \"{:<25s}\".format(name)\n",
    "    value = \"{:>25s}\".format(fmt.format(value))\n",
    "    print(label+value)"
   ]
  },
  {
   "cell_type": "markdown",
   "metadata": {
    "slideshow": {
     "slide_type": "slide"
    }
   },
   "source": [
    "## Parameters"
   ]
  },
  {
   "cell_type": "code",
   "execution_count": null,
   "metadata": {
    "ExecuteTime": {
     "end_time": "2017-02-22T11:44:56.628774",
     "start_time": "2017-02-22T17:44:43.210Z"
    },
    "collapsed": true,
    "run_control": {
     "frozen": false,
     "read_only": false
    },
    "slideshow": {
     "slide_type": "-"
    }
   },
   "outputs": [],
   "source": [
    "decimation = 18\n",
    "cetPoreCount = 12 # pores in cet\n",
    "cellVolume = 40 #  µm^3,  bnid:100430\n",
    "cellWallFraction = 0.159\n",
    "nucleusFraction = 0.07\n",
    "envelopeThickness = 35e-9\n",
    "nucPoreRadius = 40e-9\n",
    "cellAspect = 1.5\n",
    "nucleusAspect = 1.0\n",
    "vacuoleFraction = 0.075\n",
    "nMito = 3\n",
    "mitoFraction = 0.016\n",
    "nRibosomes = 180000"
   ]
  },
  {
   "cell_type": "markdown",
   "metadata": {
    "slideshow": {
     "slide_type": "slide"
    }
   },
   "source": [
    "## Load Cryo-ET data"
   ]
  },
  {
   "cell_type": "code",
   "execution_count": null,
   "metadata": {
    "ExecuteTime": {
     "end_time": "2017-02-22T11:44:56.629198",
     "start_time": "2017-02-22T17:44:44.268Z"
    },
    "collapsed": false,
    "run_control": {
     "frozen": false,
     "read_only": false
    },
    "slideshow": {
     "slide_type": "-"
    }
   },
   "outputs": [],
   "source": [
    "# voxels labeled with integers denoting type\n",
    "labelData = VolData(dataFile(\"labels-2016_12_29_18_51_57\")) \n",
    "cetLabels = dict(background=0,\n",
    "                 nucEnv=1,\n",
    "                 er=4,\n",
    "                 mito=2,\n",
    "                 membrane=3)\n",
    "\n",
    "# LM lattice spacing defined by CET resolution\n",
    "latticeSpacing = 1e-10*np.mean(labelData.dx)*decimation\n",
    "labelOffset = [labelData.attr['origin_x'], \n",
    "               labelData.attr['origin_y'], \n",
    "               labelData.attr['origin_z']]\n",
    "\n",
    "report(\"CET dimensions:\",  labelData.scalar.shape)\n",
    "report(\"CET spacing:\",  1e-1*np.mean(labelData.dx), \"{:.2f} nm\")\n",
    "report(\"LM spacing:\",  latticeSpacing*1e9, \"{:.2f} nm\")"
   ]
  },
  {
   "cell_type": "markdown",
   "metadata": {
    "slideshow": {
     "slide_type": "slide"
    }
   },
   "source": [
    "## Resample experimental data to LM lattice"
   ]
  },
  {
   "cell_type": "code",
   "execution_count": null,
   "metadata": {
    "ExecuteTime": {
     "end_time": "2017-02-22T11:44:56.629597",
     "start_time": "2017-02-22T17:44:45.393Z"
    },
    "collapsed": true,
    "slideshow": {
     "slide_type": "-"
    }
   },
   "outputs": [],
   "source": [
    "def lmProc(im,threshold=0.01):\n",
    "    th = threshold*decimation**3\n",
    "    src = im.transpose([1,2,0]).astype(np.int64)\n",
    "    newShape = tuple(int(np.ceil(x/32/decimation)*32) \n",
    "                         for x in src.shape)\n",
    "    deciShape = tuple(x//decimation for x in src.shape)\n",
    "    dest = np.zeros(newShape, dtype=np.int64)\n",
    "    for i,j,k in itertools.product(range(decimation),repeat=3):\n",
    "        v = src[i::decimation, j::decimation, k::decimation]\n",
    "        nx,ny,nz = v.shape\n",
    "        dest[:nx,:ny,:nz] += v\n",
    "    return dest>th"
   ]
  },
  {
   "cell_type": "code",
   "execution_count": null,
   "metadata": {
    "ExecuteTime": {
     "end_time": "2017-02-22T11:44:56.629974",
     "start_time": "2017-02-22T17:44:46.594Z"
    },
    "collapsed": true,
    "run_control": {
     "frozen": false,
     "read_only": false
    },
    "slideshow": {
     "slide_type": "fragment"
    }
   },
   "outputs": [],
   "source": [
    "cetNucEnvReg = lmProc(labelData.scalar==cetLabels['nucEnv'])\n",
    "cetErReg = lmProc(labelData.scalar==cetLabels['er'])\n",
    "cetMitoReg = lmProc(labelData.scalar==cetLabels['mito'])\n",
    "cetMemReg = lmProc(labelData.scalar==cetLabels['membrane'])"
   ]
  },
  {
   "cell_type": "markdown",
   "metadata": {
    "slideshow": {
     "slide_type": "slide"
    }
   },
   "source": [
    "## LM lattice builder\n",
    "Helper object to construct lattice\n",
    "* Discrete geometric representation\n",
    "* Constructive solid geometry on a lattice\n",
    "* 3D binary morphology"
   ]
  },
  {
   "cell_type": "code",
   "execution_count": null,
   "metadata": {
    "ExecuteTime": {
     "end_time": "2017-02-22T11:44:56.630368",
     "start_time": "2017-02-22T17:44:47.705Z"
    },
    "collapsed": true,
    "run_control": {
     "frozen": false,
     "read_only": false
    },
    "slideshow": {
     "slide_type": "-"
    }
   },
   "outputs": [],
   "source": [
    "B = RegionBuilder(dims=cetErReg.shape)"
   ]
  },
  {
   "cell_type": "markdown",
   "metadata": {
    "slideshow": {
     "slide_type": "slide"
    }
   },
   "source": [
    "## Estimate the density of nuclear pores"
   ]
  },
  {
   "cell_type": "code",
   "execution_count": null,
   "metadata": {
    "collapsed": false,
    "run_control": {
     "frozen": false,
     "read_only": false
    },
    "slideshow": {
     "slide_type": "-"
    }
   },
   "outputs": [],
   "source": [
    "nucTmp = labelData.scalar==cetLabels['nucEnv']\n",
    "\n",
    "flat = np.any(nucTmp,axis=2)\n",
    "filled = skmo.closing(flat,skmo.disk(10))\n",
    "skel = skmo.skeletonize(filled)\n",
    "\n",
    "arclen = 1e-10*np.mean(labelData.dx)*np.sum(skel)\n",
    "width = 1e-10*labelData.dx[1]*np.sum(np.any(nucTmp,axis=(0,1)))\n",
    "sa = arclen*width\n",
    "poreDensity = cetPoreCount/sa\n",
    "report(\"Pore density\", 1e-12*poreDensity, \"{:.2f}/μm²\")"
   ]
  },
  {
   "cell_type": "code",
   "execution_count": null,
   "metadata": {
    "collapsed": false,
    "slideshow": {
     "slide_type": "subslide"
    }
   },
   "outputs": [],
   "source": [
    "fig,axs = plt.subplots(ncols=3, nrows=1,figsize=(15,4))\n",
    "\n",
    "axs[0].imshow(flat)\n",
    "axs[0].set_title(\"Flattened along z\")\n",
    "\n",
    "axs[1].imshow(filled)\n",
    "axs[1].set_title(\"Closed\")\n",
    "\n",
    "axs[2].imshow(skel)\n",
    "axs[2].set_title(\"Skeletonized\")"
   ]
  },
  {
   "cell_type": "markdown",
   "metadata": {
    "slideshow": {
     "slide_type": "slide"
    }
   },
   "source": [
    "## Estimate the shape of the nucleus and cell wall\n",
    "Strategy\n",
    "* Choose an average volume and aspect ratio\n",
    "* Convert the CET membrane lattice sites to $(x,y,z)$ coordinates\n",
    "* Fit ellipsoid to coordinates, using the volume and aspect ratio as extra terms in the loss function"
   ]
  },
  {
   "cell_type": "code",
   "execution_count": null,
   "metadata": {
    "collapsed": true,
    "run_control": {
     "frozen": false,
     "read_only": false
    },
    "slideshow": {
     "slide_type": "subslide"
    }
   },
   "outputs": [],
   "source": [
    "def spheroidLoss(params, coords, membraneVol, targetAspect):\n",
    "    invRs =  np.array([1/x for x in params[:3]])\n",
    "    alpha, beta, gamma = params[3:6]\n",
    "    x0 = params[6:9]\n",
    "    \n",
    "    ca, sa = np.cos(alpha), np.sin(alpha)\n",
    "    cb, sb = np.cos(beta), np.sin(beta)\n",
    "    cg, sg = np.cos(gamma), np.sin(gamma)\n",
    "    rotZ0 = np.array([ [ca,-sa,0],[sa,ca,0], [0,0,1] ])\n",
    "    rotX= np.array([[1,0,0,], [0,cb,-sb],[0,sb,cb] ])\n",
    "    rotZ1 =np.array( [ [cg,-sg,0],[sg,cg,0], [0,0,1] ])\n",
    "    rot = rotZ1 @ rotX @ rotZ0\n",
    "    \n",
    "    x1 = np.einsum(\"i,ij,mj->mi\",  invRs, rot, coords -x0)\n",
    "    \n",
    "    vol = 4*np.pi*reduce(lambda x,y:x*y, params[:3])/3\n",
    "    aspect =  max(params[:3]) / min(params[:3])\n",
    "    \n",
    "    volP =  (vol/membraneVol-1)**2\n",
    "    aspectP =  (aspect/targetAspect - 1)**2\n",
    "    \n",
    "    return np.sum((np.sum(x1**2, axis=1)-1)**2) + volP + aspectP"
   ]
  },
  {
   "cell_type": "markdown",
   "metadata": {
    "collapsed": true,
    "run_control": {
     "frozen": false,
     "read_only": false
    },
    "slideshow": {
     "slide_type": "slide"
    }
   },
   "source": [
    "## Nucleus"
   ]
  },
  {
   "cell_type": "code",
   "execution_count": null,
   "metadata": {
    "collapsed": false
   },
   "outputs": [],
   "source": [
    "nucleusVol = nucleusFraction*cellVolume * (1e-6)**3 /latticeSpacing**3\n",
    "cetNucEnvCoords = np.argwhere(cetNucEnvReg)\n",
    "chullCoords = \\\n",
    "           cetNucEnvCoords[spspat.ConvexHull(cetNucEnvCoords).vertices]\n",
    "\n",
    "radius = 0.5*max(np.linalg.norm(x-y) \n",
    "                    for x,y in itertools.product(chullCoords,repeat=2))\n",
    "centroid = np.mean(chullCoords,axis=0)\n",
    "params0 = np.array([radius, radius, radius, \n",
    "                    0, 0, 0, \n",
    "                    centroid[0],  centroid[1],  centroid[2] ])\n",
    "m = spopt.minimize(lambda x: spheroidLoss(x, cetNucEnvCoords, \n",
    "                                          nucleusVol, nucleusAspect),\n",
    "                   params0, options=dict(maxiter=100000))\n",
    "nucParams = m.x\n",
    "\n",
    "report(\"nucleus a-axis\", nucParams[0]*latticeSpacing*1e6, \"{:.3f} μm\")\n",
    "report(\"nucleus b-axis\", nucParams[1]*latticeSpacing*1e6, \"{:.3f} μm\")\n",
    "report(\"nucleus c-axis\", nucParams[2]*latticeSpacing*1e6, \"{:.3f} μm\")"
   ]
  },
  {
   "cell_type": "markdown",
   "metadata": {
    "slideshow": {
     "slide_type": "slide"
    }
   },
   "source": [
    "## Plasma membrane"
   ]
  },
  {
   "cell_type": "code",
   "execution_count": null,
   "metadata": {
    "collapsed": false,
    "run_control": {
     "frozen": false,
     "marked": false,
     "read_only": false
    },
    "slideshow": {
     "slide_type": "-"
    }
   },
   "outputs": [],
   "source": [
    "membraneVol = (1-cellWallFraction)*cellVolume * (1e-6)**3 \\\n",
    "                       /latticeSpacing**3 # remaining 25% is cellwall\n",
    "cetMemCoords = np.argwhere(cetMemReg)\n",
    "radius = (3*membraneVol/np.pi/4)**0.3333\n",
    "params0 = np.array([radius, radius, radius, \n",
    "                    0, 0, 0, \n",
    "                    nucParams[6],  nucParams[7],  nucParams[8]])\n",
    "m = spopt.minimize(lambda x: spheroidLoss(x, cetMemCoords, membraneVol, \n",
    "                                          cellAspect), \n",
    "                   params0, options=dict(maxiter=100000))\n",
    "memParams = m.x\n",
    "report(\"membrane a-axis\", memParams[0]*latticeSpacing*1e6, \"{:.3f} μm\")\n",
    "report(\"membrane b-axis\", memParams[1]*latticeSpacing*1e6, \"{:.3f} μm\")\n",
    "report(\"membrane c-axis\", memParams[2]*latticeSpacing*1e6, \"{:.3f} μm\")"
   ]
  },
  {
   "cell_type": "markdown",
   "metadata": {
    "slideshow": {
     "slide_type": "slide"
    }
   },
   "source": [
    "## Cell wall\n",
    "\n",
    "Compute thickness of cell wall based on its volume fraction"
   ]
  },
  {
   "cell_type": "code",
   "execution_count": null,
   "metadata": {
    "collapsed": false,
    "run_control": {
     "frozen": false,
     "read_only": false
    },
    "slideshow": {
     "slide_type": "-"
    }
   },
   "outputs": [],
   "source": [
    "def volDiff(delta, wallCellRatio):\n",
    "    return (1 - reduce(lambda x,y: x*y, (r/(r+delta) \n",
    "                                          for r in memParams[:3])) \n",
    "            - wallCellRatio )\n",
    "d = spopt.brentq(lambda x: volDiff(x, cellWallFraction), \n",
    "                 0, max(memParams[:3]))\n",
    "cellWallParams = memParams.copy()\n",
    "cellWallParams[:3] += d\n",
    "report(\"cell wall thickness\", d*latticeSpacing*1e9, \"{:.1f} nm\")"
   ]
  },
  {
   "cell_type": "markdown",
   "metadata": {
    "slideshow": {
     "slide_type": "slide"
    }
   },
   "source": [
    "## Now to generate the lattice\n",
    "\n",
    "\n",
    "First need to determine the dimensions of the lattice and translation between the new and working lattice"
   ]
  },
  {
   "cell_type": "code",
   "execution_count": null,
   "metadata": {
    "collapsed": true,
    "slideshow": {
     "slide_type": "-"
    }
   },
   "outputs": [],
   "source": [
    "def lmDim(x): \n",
    "    return 2*int(32*np.ceil(x/32))\n",
    "\n",
    "n = max(map(lmDim, memParams[:3]))\n",
    "\n",
    "Bfull = RegionBuilder(dims=(n,n,n))\n",
    "\n",
    "tx = Bfull.center - memParams[6:9]\n",
    "memParamsTx = memParams.copy()\n",
    "memParamsTx[6:9] += tx\n",
    "nucParamsTx = nucParams.copy()\n",
    "nucParamsTx[6:9] += tx\n",
    "cellWallParamsTx = cellWallParams.copy()\n",
    "cellWallParamsTx[6:9] += tx\n",
    "\n",
    "x0,y0,z0 = int(tx[0]), int(tx[1]), int(tx[2])\n",
    "x1 = x0+cetErReg.shape[0]\n",
    "y1 = y0+cetErReg.shape[1]\n",
    "z1 = z0+cetErReg.shape[2]\n",
    "tx1 = [x0,y0,z0]"
   ]
  },
  {
   "cell_type": "markdown",
   "metadata": {
    "slideshow": {
     "slide_type": "subslide"
    }
   },
   "source": [
    "## Copy into new lattice"
   ]
  },
  {
   "cell_type": "code",
   "execution_count": null,
   "metadata": {
    "collapsed": false,
    "slideshow": {
     "slide_type": "-"
    }
   },
   "outputs": [],
   "source": [
    "cetErFullReg = Bfull.emptyLatticeMask()\n",
    "cetErFullReg[x0:x1, y0:y1, z0:z1] = cetErReg\n",
    "cetMitoFullReg = Bfull.emptyLatticeMask()\n",
    "cetMitoFullReg[x0:x1, y0:y1, z0:z1] =  cetMitoReg\n",
    "cetMemFullReg = Bfull.emptyLatticeMask()\n",
    "cetMemFullReg[x0:x1, y0:y1, z0:z1] =  cetMemReg\n",
    "cetNucEnvFullReg = Bfull.emptyLatticeMask()\n",
    "cetNucEnvFullReg[x0:x1, y0:y1, z0:z1] =  cetNucEnvReg"
   ]
  },
  {
   "cell_type": "markdown",
   "metadata": {
    "slideshow": {
     "slide_type": "slide"
    }
   },
   "source": [
    "# Build the nucleus and plasma membrane"
   ]
  },
  {
   "cell_type": "code",
   "execution_count": null,
   "metadata": {
    "collapsed": true,
    "run_control": {
     "frozen": false,
     "read_only": false
    },
    "slideshow": {
     "slide_type": "-"
    }
   },
   "outputs": [],
   "source": [
    "def ellipseFn(builder, params, thickness=3):\n",
    "    radius = params[:3]\n",
    "    angles = params[3:6]\n",
    "    center = params[6:9]\n",
    "    dr = thickness/2\n",
    "    radius = np.maximum(np.zeros(3), radius - dr)\n",
    "    if thickness == 0:\n",
    "        e = builder.ellipsoid(radius=params[:3], \n",
    "                              angles=angles, center=center)\n",
    "        return e & ~builder.erode(e,1)\n",
    "    else:\n",
    "        return ( builder.ellipsoid(radius=radius+dr, \n",
    "                                   angles=angles, center=center)\n",
    "                  & ~builder.ellipsoid(radius=radius-dr, \n",
    "                                       angles=angles, center=center))"
   ]
  },
  {
   "cell_type": "code",
   "execution_count": null,
   "metadata": {
    "collapsed": false,
    "slideshow": {
     "slide_type": "subslide"
    }
   },
   "outputs": [],
   "source": [
    "fitMemFullReg=ellipseFn(Bfull, memParamsTx, thickness=0)\n",
    "RegionBuilder.showBinaryLattices(fit=fitMemFullReg, cet=cetMemFullReg)"
   ]
  },
  {
   "cell_type": "code",
   "execution_count": null,
   "metadata": {
    "collapsed": false,
    "slideshow": {
     "slide_type": "subslide"
    }
   },
   "outputs": [],
   "source": [
    "fitNucEnvFullReg=ellipseFn(Bfull, nucParamsTx, \n",
    "                           thickness=envelopeThickness/latticeSpacing)\n",
    "RegionBuilder.showBinaryLattices(fit=fitNucEnvFullReg, cet=cetNucEnvFullReg)"
   ]
  },
  {
   "cell_type": "markdown",
   "metadata": {
    "slideshow": {
     "slide_type": "slide"
    }
   },
   "source": [
    "## Build the cell wall"
   ]
  },
  {
   "cell_type": "code",
   "execution_count": null,
   "metadata": {
    "collapsed": true,
    "run_control": {
     "frozen": false,
     "read_only": false
    },
    "slideshow": {
     "slide_type": "-"
    }
   },
   "outputs": [],
   "source": [
    "entireCell = Bfull.convexHull(ellipseFn(Bfull, cellWallParamsTx, \n",
    "                                        thickness=0))\n",
    "fitCellWallFullReg = entireCell & ~ Bfull.convexHull(fitMemFullReg)"
   ]
  },
  {
   "cell_type": "markdown",
   "metadata": {
    "slideshow": {
     "slide_type": "slide"
    }
   },
   "source": [
    "## Add nuclear pores\n",
    "Calculate the surface area of the nucleus and use the previously computed experimental pore density to choose the number of pores."
   ]
  },
  {
   "cell_type": "code",
   "execution_count": null,
   "metadata": {
    "collapsed": false,
    "run_control": {
     "frozen": false,
     "read_only": false
    },
    "slideshow": {
     "slide_type": "-"
    }
   },
   "outputs": [],
   "source": [
    "def ellipsoidSA(a,b,c):\n",
    "    a,b,c = reversed(sorted([a,b,c]))\n",
    "    phi = np.arccos(c/a)\n",
    "    k = np.sqrt(a**2*(b**2-c**2)/b**2/(a**2-c**2))\n",
    "    return  (2*np.pi*c**2  \n",
    "              + 2*np.pi*a*b/np.sin(phi) \n",
    "                *(sps.ellipeinc(phi,k)*np.sin(phi)**2 \n",
    "                    + sps.ellipkinc(phi, k)*np.cos(phi)**2))\n",
    "\n",
    "nPores = round(poreDensity*ellipsoidSA( *(latticeSpacing*nucParams[:3]) ))\n",
    "\n",
    "report(\"Number of nuclear pores\", int(nPores))"
   ]
  },
  {
   "cell_type": "markdown",
   "metadata": {
    "slideshow": {
     "slide_type": "slide"
    }
   },
   "source": [
    "## Place pores in the nuclear envelope"
   ]
  },
  {
   "cell_type": "code",
   "execution_count": null,
   "metadata": {
    "collapsed": true,
    "slideshow": {
     "slide_type": "-"
    }
   },
   "outputs": [],
   "source": [
    "nucFilled = B.convexHull(fitNucEnvFullReg)\n",
    "poreRadius = int(nucPoreRadius/latticeSpacing)\n",
    "\n",
    "# do not allow pores to be closer than 3 radii to each other\n",
    "# this prevents pores from combining into a single pore with \n",
    "# the wrong # radius\n",
    "exclusionRadius = 3*poreRadius"
   ]
  },
  {
   "cell_type": "markdown",
   "metadata": {
    "slideshow": {
     "slide_type": "subslide"
    }
   },
   "source": [
    "## First choose the pore locations\n",
    "\n",
    "We generate the nuclear envelope and pores at the same time"
   ]
  },
  {
   "cell_type": "code",
   "execution_count": null,
   "metadata": {
    "collapsed": true,
    "slideshow": {
     "slide_type": "-"
    }
   },
   "outputs": [],
   "source": [
    "poreSurface = B.dilate(~nucFilled, 1) & nucFilled"
   ]
  },
  {
   "cell_type": "markdown",
   "metadata": {
    "slideshow": {
     "slide_type": "fragment"
    }
   },
   "source": [
    "Pore locations are chosen at random from the surface of the nucleus.\n",
    "Each time a location is chosen a ball of radius $r_{pore}+r_{exc}$ is\n",
    "placed at the new location in an exclusion lattice, which is tested \n",
    "when new locations are sampled."
   ]
  },
  {
   "cell_type": "code",
   "execution_count": null,
   "metadata": {
    "collapsed": true,
    "slideshow": {
     "slide_type": "-"
    }
   },
   "outputs": [],
   "source": [
    "exclusion = np.zeros_like(poreSurface)\n",
    "exclusionBall = B.sphereStructElem(poreRadius+exclusionRadius)\n",
    "r = exclusionBall.shape[0]//2\n",
    "\n",
    "poreLoc = []\n",
    "for ct in range(int(nPores)):\n",
    "    pos = np.argwhere(poreSurface & ~exclusion)\n",
    "    loc = pos[np.random.choice(np.arange(pos.shape[0]))]\n",
    "    x,y,z = loc\n",
    "    poreLoc.append(loc)\n",
    "    exclusion[x-r:x+r+1, y-r:y+r+1, z-r:z+r+1] |= exclusionBall"
   ]
  },
  {
   "cell_type": "markdown",
   "metadata": {
    "slideshow": {
     "slide_type": "subslide"
    }
   },
   "source": [
    "## Then subtract from the nuclear shell"
   ]
  },
  {
   "cell_type": "markdown",
   "metadata": {
    "slideshow": {
     "slide_type": "-"
    }
   },
   "source": [
    "We produce a mask lattice where a cylinder defining the pore is placed at each location and rotated to follow the radius vector. This is subtracted from the nuclear shell to form the nuclear envelope. The intersection of the nuclear shell and this mask forms the nuclear pore region."
   ]
  },
  {
   "cell_type": "code",
   "execution_count": null,
   "metadata": {
    "collapsed": true,
    "run_control": {
     "frozen": false,
     "read_only": false
    },
    "slideshow": {
     "slide_type": "fragment"
    }
   },
   "outputs": [],
   "source": [
    "poresMask = np.zeros_like(poreSurface)\n",
    "cylLen = max(nucParamsTx[:3])\n",
    "\n",
    "for ct,loc in enumerate(poreLoc):\n",
    "    dv = loc - nucParamsTx[6:]\n",
    "    normal = dv/np.sqrt(dv@dv)\n",
    "    alpha = np.arctan2(normal[0], normal[1])\n",
    "    beta = np.arccos(normal[2])\n",
    "    gamma = 0\n",
    "    poresMask |= Bfull.cylinder(poreRadius, cylLen, \n",
    "                                angles=[alpha,beta,gamma], \n",
    "                                center=cylLen*normal + nucParamsTx[6:])\n",
    "    \n",
    "\n",
    "nucenvFit = fitNucEnvFullReg & ~poresMask\n",
    "fitNucPoresFullReg = fitNucEnvFullReg & ~nucenvFit\n",
    "fitNucEnvFullReg = nucenvFit"
   ]
  },
  {
   "cell_type": "code",
   "execution_count": null,
   "metadata": {
    "collapsed": false,
    "slideshow": {
     "slide_type": "subslide"
    }
   },
   "outputs": [],
   "source": [
    "RegionBuilder.showBinaryLattices(mask=poresMask, pores=fitNucPoresFullReg, envelope=fitNucEnvFullReg)"
   ]
  },
  {
   "cell_type": "markdown",
   "metadata": {
    "slideshow": {
     "slide_type": "slide"
    }
   },
   "source": [
    "## Resize the lattice again to crop off empty regions"
   ]
  },
  {
   "cell_type": "code",
   "execution_count": null,
   "metadata": {
    "collapsed": true
   },
   "outputs": [],
   "source": [
    "def dimfn(u):\n",
    "    v = (u+1)%3\n",
    "    w = (u+2)%3\n",
    "    ct = np.sum(entireCell, axis=(v,w))\n",
    "    u0 = np.where(ct>0)[0][0] \n",
    "    uw = np.sum(ct>0)\n",
    "    uw32 = int(32*np.ceil(uw/32))\n",
    "    spc = uw32-uw\n",
    "    pad0 = spc//2\n",
    "    return u0, uw, pad0, uw32\n",
    "\n",
    "x0, xw, px0, nx = dimfn(0)\n",
    "y0, yw, py0, ny = dimfn(1)\n",
    "z0, zw, pz0, nz = dimfn(2)\n",
    "\n",
    "def resize(l0):\n",
    "    l1 = np.zeros((nx,ny,nz), dtype=np.bool)\n",
    "    l1[px0:px0+xw,py0:py0+yw,pz0:pz0+zw] = \\\n",
    "                                      l0[x0:x0+xw, y0:y0+yw, z0:z0+zw]\n",
    "    return l0"
   ]
  },
  {
   "cell_type": "code",
   "execution_count": null,
   "metadata": {
    "collapsed": true,
    "slideshow": {
     "slide_type": "subslide"
    }
   },
   "outputs": [],
   "source": [
    "cetErCropReg = resize(cetErFullReg)\n",
    "cetMemCropReg = resize(cetMemFullReg)\n",
    "cetMitoCropReg = resize(cetMitoFullReg)\n",
    "cetNucEnvCropReg = resize(cetNucEnvFullReg)\n",
    "fitCellWallCropReg = resize(fitCellWallFullReg)\n",
    "fitMemCropReg = resize(fitMemFullReg)\n",
    "fitNucEnvCropReg = resize(fitNucEnvFullReg)\n",
    "fitMemCropReg = resize(fitMemFullReg)\n",
    "fitNucPoresCropReg = resize(fitNucPoresFullReg)"
   ]
  },
  {
   "cell_type": "markdown",
   "metadata": {
    "slideshow": {
     "slide_type": "slide"
    }
   },
   "source": [
    "## Generate the nucleoplasm and cytoplasm"
   ]
  },
  {
   "cell_type": "code",
   "execution_count": null,
   "metadata": {
    "collapsed": false,
    "run_control": {
     "frozen": false,
     "read_only": false
    },
    "slideshow": {
     "slide_type": "-"
    }
   },
   "outputs": [],
   "source": [
    "entireCell = B.convexHull(fitCellWallCropReg)\n",
    "\n",
    "fitNucleoplasmCropReg = (\n",
    "    B.convexHull(fitNucEnvCropReg|fitNucPoresCropReg)  \n",
    "      & ~(fitNucEnvCropReg|fitNucPoresCropReg))\n",
    "\n",
    "fitCytoplasmCropReg = entireCell & ~( fitCellWallCropReg \n",
    "                                     | fitMemCropReg \n",
    "                                     | fitNucEnvCropReg \n",
    "                                     | fitMemCropReg \n",
    "                                     | fitNucPoresCropReg \n",
    "                                     | fitNucleoplasmCropReg)"
   ]
  },
  {
   "cell_type": "markdown",
   "metadata": {
    "slideshow": {
     "slide_type": "slide"
    }
   },
   "source": [
    "## Add the vacuole"
   ]
  },
  {
   "cell_type": "code",
   "execution_count": null,
   "metadata": {
    "collapsed": false,
    "run_control": {
     "frozen": false,
     "read_only": false
    },
    "slideshow": {
     "slide_type": "-"
    }
   },
   "outputs": [],
   "source": [
    "B = RegionBuilder(dims=fitCytoplasmCropReg.shape)\n",
    "vacRadius = (3*vacuoleFraction*cellVolume/4/np.pi)**0.333 \\\n",
    "                *1e-6/latticeSpacing"
   ]
  },
  {
   "cell_type": "markdown",
   "metadata": {
    "collapsed": true,
    "slideshow": {
     "slide_type": "fragment"
    }
   },
   "source": [
    "We create a lattice of possible vacuole centers by eroding the cytoplasm region lattice by the maximum vacuole radius. The vacuole is an ellipsoid with random radii and orientations. If the random vacuole fits in the cytoplasm, it is accepted."
   ]
  },
  {
   "cell_type": "code",
   "execution_count": null,
   "metadata": {
    "collapsed": false,
    "run_control": {
     "frozen": false,
     "read_only": false
    },
    "slideshow": {
     "slide_type": "subslide"
    }
   },
   "outputs": [],
   "source": [
    "mask = fitCytoplasmCropReg.copy()\n",
    "for i in range(int(vacRadius)):\n",
    "    mask = B.erode(mask, 1)\n",
    "poss = np.argwhere(mask)\n",
    "while True:\n",
    "    sa = 0.1*np.random.random() + 0.9\n",
    "    sb = 0.1*np.random.random() + 0.9\n",
    "    sc = 1/sa/sb\n",
    "    radius = [sa*vacRadius, sb*vacRadius, sc*vacRadius]\n",
    "    angle = np.random.random(3)*2*np.pi\n",
    "    loc = poss[np.random.randint(poss.shape[0]),:]\n",
    "    obj = B.ellipsoid(radius=radius, angles=angle, center=loc)\n",
    "    s = np.sum(obj&~fitCytoplasmCropReg)\n",
    "    if s == 0:\n",
    "        break\n",
    "\n",
    "fitVacuoleCropReg = obj\n",
    "fitCytoplasmCropReg &= ~obj"
   ]
  },
  {
   "cell_type": "markdown",
   "metadata": {
    "slideshow": {
     "slide_type": "slide"
    }
   },
   "source": [
    "## Add mitochondria"
   ]
  },
  {
   "cell_type": "markdown",
   "metadata": {
    "collapsed": true,
    "slideshow": {
     "slide_type": "-"
    }
   },
   "source": [
    "Same idea as the vacuole, however we are now placing $n$ mitochondria. The lattice of prospective locations is updated each as each new object is added."
   ]
  },
  {
   "cell_type": "code",
   "execution_count": null,
   "metadata": {
    "collapsed": false,
    "run_control": {
     "frozen": false,
     "read_only": false
    },
    "slideshow": {
     "slide_type": "subslide"
    }
   },
   "outputs": [],
   "source": [
    "mitoVols = 0.2*np.random.random(nMito)+0.8\n",
    "mitoVols /= np.sum(mitoVols)\n",
    "mitoAspectL = 0.5*np.random.random(nMito) + 2\n",
    "mitoAspectS = np.sqrt(1/mitoAspectL)\n",
    "mitoRadius = [(3*f*mitoFraction*cellVolume/4/np.pi)**0.333\n",
    "                 *1e-6/latticeSpacing for f in mitoVols]\n",
    "mitoRadii = [[l*r, s*r, s*r]\n",
    "                for l,s,r in zip(mitoAspectL, mitoAspectS, mitoRadius)]\n",
    "fitMitoCropReg = None\n",
    "\n",
    "for radius in mitoRadii:\n",
    "    poss = np.argwhere(fitCytoplasmCropReg)\n",
    "    while True:\n",
    "        angle = np.random.random(3)*2*np.pi\n",
    "        loc = poss[np.random.randint(poss.shape[0]),:]\n",
    "        obj = B.ellipsoid(radius=radius, angles=angle, center=loc)\n",
    "        s = np.sum(obj&~fitCytoplasmCropReg)\n",
    "        if s == 0:\n",
    "            break\n",
    "    if fitMitoCropReg is None:\n",
    "        fitMitoCropReg = obj\n",
    "    else:\n",
    "        fitMitoCropReg |= obj\n",
    "        \n",
    "    fitCytoplasmCropReg &= ~obj"
   ]
  },
  {
   "cell_type": "markdown",
   "metadata": {
    "slideshow": {
     "slide_type": "slide"
    }
   },
   "source": [
    "## Ribosomes\n",
    "\n",
    "We place ribosomes randomly throughout the cytoplasm, while ensuring that the ribosomes do not cluster together. "
   ]
  },
  {
   "cell_type": "code",
   "execution_count": null,
   "metadata": {
    "collapsed": true,
    "run_control": {
     "frozen": false,
     "read_only": false
    },
    "slideshow": {
     "slide_type": "subslide"
    }
   },
   "outputs": [],
   "source": [
    "%%cython\n",
    "# cython: boundscheck=False\n",
    "# cython: cdivision=True\n",
    "# cython: wraparound=False\n",
    "\n",
    "from libc.stdlib cimport *\n",
    "from posix.stdlib cimport *\n",
    "from libc.stdint cimport *\n",
    "\n",
    "cdef int64_t randIntLessThan(int64_t n):\n",
    "    cdef int64_t x = random()\n",
    "    while x >= RAND_MAX - (RAND_MAX % n):\n",
    "          x = random()\n",
    "    return x % n\n",
    "\n",
    "def placeRibosomes(int n, int64_t[:,:,:] avail, int64_t[:,:,:] rib):\n",
    "    cdef int64_t nx, ny, nz, i, j, k\n",
    "    nx,ny,nz = avail.shape[:3]\n",
    "    \n",
    "    while n > 0:\n",
    "        i = 1+randIntLessThan(nx-2)\n",
    "        j = 1+randIntLessThan(ny-2)\n",
    "        k = 1+randIntLessThan(nz-2)\n",
    "        if avail[i,j,k]:\n",
    "            avail[i-1:i+2,j,k] = 0\n",
    "            avail[i,j-1:j+2,k] = 0\n",
    "            avail[i,j,k-1:k+2] = 0\n",
    "            rib[i,j,k] = 1\n",
    "            n -= 1"
   ]
  },
  {
   "cell_type": "code",
   "execution_count": null,
   "metadata": {
    "collapsed": true,
    "run_control": {
     "frozen": false,
     "read_only": false
    },
    "slideshow": {
     "slide_type": "subslide"
    }
   },
   "outputs": [],
   "source": [
    "avail = B.erode(fitCytoplasmCropReg,1).astype(np.int64)\n",
    "ribTmp = np.zeros(avail.shape, dtype=np.int64)\n",
    "placeRibosomes(nRibosomes, avail, ribTmp)\n",
    "\n",
    "fitRibCropReg = np.array(ribTmp, dtype=bool)"
   ]
  },
  {
   "cell_type": "code",
   "execution_count": null,
   "metadata": {
    "collapsed": true,
    "run_control": {
     "frozen": false,
     "read_only": false
    },
    "slideshow": {
     "slide_type": "fragment"
    }
   },
   "outputs": [],
   "source": [
    "fitCytoplasmCropReg &= ~fitRibCropReg"
   ]
  },
  {
   "cell_type": "markdown",
   "metadata": {
    "slideshow": {
     "slide_type": "slide"
    }
   },
   "source": [
    "## We're done! Write the lattice to disk"
   ]
  },
  {
   "cell_type": "code",
   "execution_count": null,
   "metadata": {
    "collapsed": true,
    "slideshow": {
     "slide_type": "-"
    }
   },
   "outputs": [],
   "source": [
    "latticeData = dict(cetEr=cetErCropReg,\n",
    "                   cetMem=cetMemCropReg,\n",
    "                   cetMito=cetMitoCropReg,\n",
    "                   cetNucEnv=cetNucEnvCropReg,\n",
    "                   fitCellWall=fitCellWallCropReg,\n",
    "                   fitVacuole=fitVacuoleCropReg,\n",
    "                   fitMito=fitMitoCropReg,\n",
    "                   fitNucEnv=fitNucEnvCropReg,\n",
    "                   fitMem=fitMemCropReg,\n",
    "                   fitRib=fitRibCropReg,\n",
    "                   fitNucPores=fitNucPoresCropReg)\n",
    "\n",
    "pickle.dump(latticeData,open(simFile(\"yeastLatticeData-tmp.p\"),  \"wb\"))"
   ]
  },
  {
   "cell_type": "code",
   "execution_count": null,
   "metadata": {
    "collapsed": false,
    "hide_input": false,
    "slideshow": {
     "slide_type": "subslide"
    }
   },
   "outputs": [],
   "source": [
    "RegionBuilder.showBinaryLattices(**latticeData)"
   ]
  }
 ],
 "metadata": {
  "celltoolbar": "Slideshow",
  "kernelspec": {
   "display_name": "Python 3",
   "language": "python",
   "name": "python3"
  },
  "language_info": {
   "codemirror_mode": {
    "name": "ipython",
    "version": 3
   },
   "file_extension": ".py",
   "mimetype": "text/x-python",
   "name": "python",
   "nbconvert_exporter": "python",
   "pygments_lexer": "ipython3",
   "version": "3.5.3"
  }
 },
 "nbformat": 4,
 "nbformat_minor": 2
}
