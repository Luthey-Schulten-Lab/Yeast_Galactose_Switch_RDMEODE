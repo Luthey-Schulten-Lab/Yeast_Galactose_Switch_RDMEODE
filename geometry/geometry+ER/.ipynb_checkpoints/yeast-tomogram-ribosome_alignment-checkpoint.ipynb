{
 "cells": [
  {
   "cell_type": "code",
   "execution_count": null,
   "metadata": {
    "collapsed": true,
    "run_control": {
     "frozen": false,
     "read_only": false
    }
   },
   "outputs": [],
   "source": [
    "import itertools\n",
    "import numpy as np\n",
    "\n",
    "import matplotlib.pyplot as plt\n",
    "import seaborn as sns\n",
    "%matplotlib inline\n",
    "import PIL\n",
    "import PIL.Image"
   ]
  },
  {
   "cell_type": "code",
   "execution_count": null,
   "metadata": {
    "collapsed": true,
    "run_control": {
     "frozen": false,
     "read_only": false
    }
   },
   "outputs": [],
   "source": [
    "import ipywidgets as ipw\n",
    "import IPython.display as ipd"
   ]
  },
  {
   "cell_type": "code",
   "execution_count": null,
   "metadata": {
    "collapsed": true,
    "run_control": {
     "frozen": false,
     "read_only": false
    }
   },
   "outputs": [],
   "source": [
    "from venv import *\n",
    "from VolData import VolData"
   ]
  },
  {
   "cell_type": "code",
   "execution_count": null,
   "metadata": {
    "collapsed": true,
    "run_control": {
     "frozen": false,
     "read_only": false
    }
   },
   "outputs": [],
   "source": [
    "tomoData = VolData(dataFile(\"20131210_YC_lamella_T03_sorted2-nad\"))\n",
    "ribData = np.loadtxt(dataFile(\"coordinates_2.txt\"))\n",
    "ribDataDiscrete = np.round(ribData).astype(int)"
   ]
  },
  {
   "cell_type": "code",
   "execution_count": null,
   "metadata": {
    "collapsed": true,
    "run_control": {
     "frozen": false,
     "read_only": false
    }
   },
   "outputs": [],
   "source": [
    "#(tomoData.shape[0] *  tomoData.shape[1] * (212-62) * reduce(lambda x,y: x*y, tomoData.dx*1e-10*1e6))/40\n",
    "reduce(lambda x,y: x*y, (x*y*1e-10*1e6 for x,y in zip(tomoData.shape, tomoData.dx)))\n"
   ]
  },
  {
   "cell_type": "code",
   "execution_count": null,
   "metadata": {
    "collapsed": true,
    "run_control": {
     "frozen": false,
     "read_only": false
    }
   },
   "outputs": [],
   "source": [
    "html = \"\"\"<!DOCTYPE html>\n",
    "<html>\n",
    "<body>\n",
    "{}\n",
    "</body>\n",
    "</html>\n",
    "\"\"\"\n",
    "\n",
    "with open(\"meta.html\", \"w\") as f:\n",
    "    f.write(html.format(tomoData._repr_html_()))"
   ]
  },
  {
   "cell_type": "code",
   "execution_count": null,
   "metadata": {
    "collapsed": true,
    "run_control": {
     "frozen": false,
     "read_only": false
    }
   },
   "outputs": [],
   "source": [
    "ribDataZshft"
   ]
  },
  {
   "cell_type": "code",
   "execution_count": null,
   "metadata": {
    "collapsed": true,
    "run_control": {
     "frozen": false,
     "read_only": false
    }
   },
   "outputs": [],
   "source": [
    "np.max(ribDataDiscrete, axis=0), tomoData.scalar.shape"
   ]
  },
  {
   "cell_type": "code",
   "execution_count": null,
   "metadata": {
    "collapsed": true,
    "run_control": {
     "frozen": false,
     "read_only": false
    }
   },
   "outputs": [],
   "source": [
    "def im(axis, idx, w=1,inv=False):\n",
    "    sl = [slice(None), slice(None), slice(None)]\n",
    "    sl[axis] = slice(idx,idx+w)\n",
    "    img = np.sum(tomoData.scalar[sl[0], sl[1], sl[2]],axis=axis)\n",
    "    img2 = (255*(img-img.min())/(img.max()-img.min())).astype(np.uint8)\n",
    "    if inv:\n",
    "        img2 = 255-img2\n",
    "    return PIL.Image.fromarray(img2[::-1,::-1].T)"
   ]
  },
  {
   "cell_type": "code",
   "execution_count": null,
   "metadata": {
    "collapsed": true,
    "run_control": {
     "frozen": false,
     "read_only": false
    }
   },
   "outputs": [],
   "source": [
    "def imRib(axis, idx, w=1,r=5,zoffset=0):\n",
    "    shape = [x for x in tomoData.scalar.shape]\n",
    "    axisX = min((axis+1)%3,(axis+2)%3)\n",
    "    axisY = max((axis+1)%3,(axis+2)%3)\n",
    "    sl = [slice(None), slice(None), slice(None)]\n",
    "    sl[axis] = slice(idx,idx+w)\n",
    "    img = np.sum(tomoData.scalar[sl[0], sl[1], sl[2]],axis=axis)\n",
    "    img2 = (255*(img-img.min())/(img.max()-img.min())).astype(np.uint8)\n",
    "    img = PIL.Image.fromarray(img2)\n",
    "    #img = PIL.Image.fromarray(img2[::-1,::-1])\n",
    "    rgbimg = PIL.Image.new(\"RGB\", img.size)\n",
    "        \n",
    "    rgbimg.paste(img)\n",
    "    imgArr = rgbimg.load()\n",
    "    \n",
    "    ni,nj = rgbimg.size\n",
    "    \n",
    "    def mark(x,y,px):\n",
    "        for di,dj in itertools.product(np.arange(2*r+1, dtype=int)-r, repeat=2):\n",
    "            i, j = int(x+di), int(y+dj)\n",
    "            if 0 <= i < ni and 0 <= j < nj:\n",
    "                if any([di==-r, di==r, dj==r, dj==-r]):\n",
    "                    imgArr[i,j] = px\n",
    "    \n",
    "    for v in ribDataDiscrete:\n",
    "        if idx <= v[axis]+zoffset < idx+w:\n",
    "            i, j = int(v[axisY]), int(v[axisX])\n",
    "            mark(i,j, (255, 255, 0))\n",
    "    return rgbimg"
   ]
  },
  {
   "cell_type": "code",
   "execution_count": null,
   "metadata": {
    "collapsed": true,
    "run_control": {
     "frozen": false,
     "read_only": false
    }
   },
   "outputs": [],
   "source": [
    "img = imRib(2,120,w=10)\n",
    "img.save(\"slice_z120.png\")"
   ]
  },
  {
   "cell_type": "code",
   "execution_count": null,
   "metadata": {
    "collapsed": true,
    "run_control": {
     "frozen": false,
     "read_only": false
    }
   },
   "outputs": [],
   "source": [
    "img = imRib(2,120,w=20, zoffset=61)\n",
    "img"
   ]
  },
  {
   "cell_type": "code",
   "execution_count": null,
   "metadata": {
    "collapsed": true,
    "run_control": {
     "frozen": false,
     "read_only": false
    }
   },
   "outputs": [],
   "source": [
    "@ipw.interact(z=(0,tomoData.scalar.shape[2]), zoffset=(-tomoData.scalar.shape[2],tomoData.scalar.shape[2]))\n",
    "def pl(z=120,zoffset=0):\n",
    "    ipd.display(imRib(2,z, w=10, zoffset=61))"
   ]
  },
  {
   "cell_type": "code",
   "execution_count": null,
   "metadata": {
    "collapsed": true,
    "run_control": {
     "frozen": false,
     "read_only": false
    }
   },
   "outputs": [],
   "source": [
    "@ipw.interact(z=(0,tomoData.scalar.shape[2]))\n",
    "def pl(z=0):\n",
    "    ipd.display(imRib(2,z, w=50))"
   ]
  },
  {
   "cell_type": "code",
   "execution_count": null,
   "metadata": {
    "collapsed": true,
    "run_control": {
     "frozen": false,
     "read_only": false
    }
   },
   "outputs": [],
   "source": [
    "%debug"
   ]
  },
  {
   "cell_type": "code",
   "execution_count": null,
   "metadata": {
    "collapsed": true,
    "run_control": {
     "frozen": false,
     "read_only": false
    }
   },
   "outputs": [],
   "source": [
    "img = im(2,150,4)\n",
    "img"
   ]
  },
  {
   "cell_type": "code",
   "execution_count": null,
   "metadata": {
    "collapsed": true,
    "run_control": {
     "frozen": false,
     "read_only": false
    }
   },
   "outputs": [],
   "source": []
  },
  {
   "cell_type": "code",
   "execution_count": null,
   "metadata": {
    "collapsed": true,
    "run_control": {
     "frozen": false,
     "read_only": false
    }
   },
   "outputs": [],
   "source": [
    "img.save(\"tomoSlice.png\")"
   ]
  },
  {
   "cell_type": "code",
   "execution_count": null,
   "metadata": {
    "collapsed": true,
    "run_control": {
     "frozen": false,
     "read_only": false
    }
   },
   "outputs": [],
   "source": [
    "tomoData.dx*0.4"
   ]
  },
  {
   "cell_type": "code",
   "execution_count": null,
   "metadata": {
    "collapsed": true,
    "run_control": {
     "frozen": false,
     "read_only": false
    }
   },
   "outputs": [],
   "source": [
    "5000/15.9299"
   ]
  },
  {
   "cell_type": "code",
   "execution_count": null,
   "metadata": {
    "collapsed": true,
    "run_control": {
     "frozen": false,
     "read_only": false
    }
   },
   "outputs": [],
   "source": [
    "reduce(lambda x,y: x*y, tomoData.scalar.shape*tomoData.dx*1e-10)*1000*1e15/40"
   ]
  },
  {
   "cell_type": "code",
   "execution_count": null,
   "metadata": {
    "collapsed": true,
    "run_control": {
     "frozen": false,
     "read_only": false
    }
   },
   "outputs": [],
   "source": [
    "from functools import reduce"
   ]
  },
  {
   "cell_type": "code",
   "execution_count": null,
   "metadata": {
    "collapsed": true,
    "run_control": {
     "frozen": false,
     "read_only": false
    }
   },
   "outputs": [],
   "source": [
    "1e-10*1e6*tomoData.shape[0]*tomoData.dx[0], 1e-10*1e6*tomoData.shape[1]*tomoData.dx[0], 1e-10*1e6*(213-61)*tomoData.dx[0]"
   ]
  },
  {
   "cell_type": "code",
   "execution_count": null,
   "metadata": {
    "collapsed": true,
    "run_control": {
     "frozen": false,
     "read_only": false
    }
   },
   "outputs": [],
   "source": []
  }
 ],
 "metadata": {
  "kernelspec": {
   "display_name": "Python 3",
   "language": "python",
   "name": "python3"
  },
  "language_info": {
   "codemirror_mode": {
    "name": "ipython",
    "version": 3
   },
   "file_extension": ".py",
   "mimetype": "text/x-python",
   "name": "python",
   "nbconvert_exporter": "python",
   "pygments_lexer": "ipython3",
   "version": "3.5.2"
  }
 },
 "nbformat": 4,
 "nbformat_minor": 2
}
