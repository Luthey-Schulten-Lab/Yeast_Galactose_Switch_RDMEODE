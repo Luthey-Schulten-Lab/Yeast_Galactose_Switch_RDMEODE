{
 "cells": [
  {
   "cell_type": "code",
   "execution_count": null,
   "metadata": {},
   "outputs": [],
   "source": [
    "from venv import *\n",
    "import ipywidgets as ipw\n",
    "import IPython.display as ipd\n",
    "import matplotlib.pyplot as plt\n",
    "%matplotlib inline"
   ]
  },
  {
   "cell_type": "code",
   "execution_count": null,
   "metadata": {},
   "outputs": [],
   "source": [
    "import jLM\n",
    "from jLM.RegionBuilder import RegionBuilder\n",
    "from jLM.RDME import Sim as RDMESim\n",
    "from jLM.RDME import File as RDMEFile\n",
    "from jLM.VmdUtil import tclTriangleMesh\n",
    "from jLM.JupyterDisplay import boundaryPath\n",
    "from ReadVolBin import VolData"
   ]
  },
  {
   "cell_type": "code",
   "execution_count": null,
   "metadata": {},
   "outputs": [],
   "source": [
    "import numpy as np\n",
    "import itertools\n",
    "import scipy.ndimage as ndi\n",
    "import scipy.linalg as la\n",
    "import skimage.measure as skme\n",
    "import skimage.feature as skfe\n",
    "import pickle"
   ]
  },
  {
   "cell_type": "code",
   "execution_count": null,
   "metadata": {},
   "outputs": [],
   "source": [
    "mtET = VolData(dataFile(\"Microtubules.mrc.bin\"))\n",
    "shapeET = mtET.shape\n",
    "etCubeDim = mtET.shape*mtET.dx\n",
    "latticeSpacing = 8e-9\n",
    "dims = [32*int(1e-10*x/latticeSpacing/32) for x in etCubeDim]"
   ]
  },
  {
   "cell_type": "markdown",
   "metadata": {},
   "source": [
    "Create the RDME simulation object."
   ]
  },
  {
   "cell_type": "code",
   "execution_count": null,
   "metadata": {},
   "outputs": [],
   "source": [
    "sim = RDMESim(\"helaExpression\", simFile(\"helaExpression-tmp.lm\"), (dims[1], dims[2], dims[0]), latticeSpacing, \"extracellular\", dt=0.2e-6)"
   ]
  },
  {
   "cell_type": "markdown",
   "metadata": {},
   "source": [
    "Define all of the spatial compartments in the cell. Right now, we are just declaring that they exist, later we will specify their geometry, diffusive properties, and allowed chemical reactions."
   ]
  },
  {
   "cell_type": "code",
   "execution_count": null,
   "metadata": {},
   "outputs": [],
   "source": [
    "extracellular = sim.region(\"extracellular\")\n",
    "nuclearEnv    = sim.region(\"nuclearEnvelope\")\n",
    "microtubules  = sim.region(\"microtubules\")\n",
    "actin         = sim.region(\"actin\")\n",
    "npc           = sim.region(\"npc\")\n",
    "npcInterior   = sim.region(\"npcInterior\")\n",
    "er            = sim.region(\"er\")\n",
    "ssu           = sim.region(\"ssu\")\n",
    "lsu           = sim.region(\"lsu\")\n",
    "cytoplasm     = sim.region(\"cytoplasm\")\n",
    "nucleoplasm   = sim.region(\"nucleoplasm\")\n",
    "boundary      = sim.region(\"abBoundary\")"
   ]
  },
  {
   "cell_type": "markdown",
   "metadata": {},
   "source": [
    "Load the preprocessed (filtered, segmented) cryo-ET electron density. This data was first described in [Mahamid et al. Science (2016)](http://dx.doi.org/10.1126/science.aad8857)"
   ]
  },
  {
   "cell_type": "code",
   "execution_count": null,
   "metadata": {},
   "outputs": [],
   "source": [
    "isoData = [(ssu, dataFile(\"Ribo_SSU.mrc.bin\")),\n",
    "           (npc, dataFile(\"NPCs.mrc.bin\")),\n",
    "           (actin, dataFile(\"Actin.mrc.bin\")),\n",
    "           (microtubules, dataFile(\"Microtubules.mrc.bin\")),\n",
    "           (lsu, dataFile(\"Ribo_LSU.mrc.bin\")),\n",
    "           (er, dataFile(\"ER_membranes.mrc.bin\")),\n",
    "    ]\n",
    "\n",
    "B = RegionBuilder(sim)\n",
    "densityData = dict()\n",
    "for reg, filename in isoData:\n",
    "    density = VolData(filename)\n",
    "    scl = latticeSpacing*1e10/np.mean(density.dx)\n",
    "    iy,iz,ix = np.array(B.xs*scl, dtype=int)\n",
    "    val = density.scalar[ix,iy,iz]\n",
    "    densityData[reg] = val"
   ]
  },
  {
   "cell_type": "code",
   "execution_count": null,
   "metadata": {},
   "outputs": [],
   "source": [
    "dist, lsus, ssus, topDists, ssuPos = dict(), set(), set(), [], []\n",
    "\n",
    "ssuDensity = densityData[ssu]\n",
    "lsuDensity = densityData[lsu]\n",
    "\n",
    "ssuLoc = skfe.peak_local_max(ssuDensity, threshold_rel=1e-6, min_distance=3)\n",
    "lsuLoc = skfe.peak_local_max(lsuDensity, threshold_rel=1e-6, min_distance=3)\n",
    "\n",
    "for (i,v0), (j,v1) in itertools.product(enumerate(ssuLoc), enumerate(lsuLoc)):\n",
    "    dist[(i,j)] = np.sqrt(np.sum((v0-v1)**2))"
   ]
  },
  {
   "cell_type": "code",
   "execution_count": null,
   "metadata": {},
   "outputs": [],
   "source": [
    "lsus, ssus, topDists, ssuPos = set(), set(), [], []\n",
    "\n",
    "for (s,l),d in sorted(dist.items(),key=lambda x:x[1]):\n",
    "    if s not in ssus and l not in lsus and d < 3:\n",
    "        topDists.append( (s,l,d) )\n",
    "        lsus.add(l)\n",
    "        ssus.add(s)\n",
    "        x,y,z = map(int,ssuLoc[s,:])\n",
    "        ssuPos.append((x,y,z))"
   ]
  },
  {
   "cell_type": "markdown",
   "metadata": {},
   "source": [
    "# Build RDME lattice geometry from electron density\n"
   ]
  },
  {
   "cell_type": "markdown",
   "metadata": {},
   "source": [
    "First we build a simple helper function to allow us to interactively choose the minimum density to associate a site type with a particular compartment."
   ]
  },
  {
   "cell_type": "code",
   "execution_count": null,
   "metadata": {},
   "outputs": [],
   "source": [
    "binaryLattices = dict()\n",
    "\n",
    "def makeThreshold(reg, d=None, e=None, th=None, z=None):\n",
    "    density = densityData[reg]\n",
    "    v0=np.min(density)\n",
    "    v1=np.max(density)\n",
    "    binaryLattices[reg] = np.zeros(density.shape, dtype=bool)\n",
    "    bim = binaryLattices[reg]\n",
    "    def fn(threshold, z_index, dilation, erosion):\n",
    "        fig, ax = plt.subplots(figsize=(9,9))\n",
    "        bim[...] = B.erode(B.dilate(density > threshold, dilation),erosion)\n",
    "        nx,ny = bim.shape[0], bim.shape[2]\n",
    "        ax.imshow(density[:,z_index,:], vmin=v0, vmax=v1, cmap='Blues', aspect=\"auto\", interpolation=\"nearest\")\n",
    "        if np.any(bim[:,z_index,:]):\n",
    "            ax.add_patch(boundaryPath(bim[:,z_index,:]))\n",
    "        ax.set(xlim=(0,nx),ylim=(0,ny), title=\"{} threshold={:.5e}\".format(reg.name,threshold))\n",
    "        return None\n",
    "    ipw.interact(fn, \n",
    "                 dilation=ipw.IntSlider(value=d, min=1, max=10,continuous_update=False),\n",
    "                 erosion=ipw.IntSlider(value=e, min=1, max=10,continuous_update=False),\n",
    "                 threshold=ipw.FloatSlider(value=th, min=0.0,max=1,step=0.0001, continuous_update=False),\n",
    "                 z_index=ipw.IntSlider(value=z, min=0,max=density.shape[1]-1, continuous_update=False))\n",
    "    return None"
   ]
  },
  {
   "cell_type": "markdown",
   "metadata": {},
   "source": [
    "We now use this function to compute the thresholds necessary to generate the lattice geometry."
   ]
  },
  {
   "cell_type": "markdown",
   "metadata": {},
   "source": [
    "## Nuclear pore complex"
   ]
  },
  {
   "cell_type": "code",
   "execution_count": null,
   "metadata": {},
   "outputs": [],
   "source": [
    "makeThreshold(npc, d=2, e=1, th=0.19, z=53)"
   ]
  },
  {
   "cell_type": "code",
   "execution_count": null,
   "metadata": {},
   "outputs": [],
   "source": [
    "bl = B.closing(binaryLattices[npc], int(1+120e-9/sim.latticeSpacing/2)) & ~ binaryLattices[npc]\n",
    "lab, _ = ndi.label(bl)\n",
    "for i in np.unique(lab):\n",
    "    if np.sum(lab==i) < 100:\n",
    "        lab[lab==i] = 0\n",
    "bl = lab > 0\n",
    "binaryLattices[npcInterior] = bl"
   ]
  },
  {
   "cell_type": "markdown",
   "metadata": {},
   "source": [
    "## Actin"
   ]
  },
  {
   "cell_type": "code",
   "execution_count": null,
   "metadata": {},
   "outputs": [],
   "source": [
    "makeThreshold(actin, th=0.10, z=45,d=1,e=1)"
   ]
  },
  {
   "cell_type": "markdown",
   "metadata": {},
   "source": [
    "## Endoplasmic reticulum"
   ]
  },
  {
   "cell_type": "code",
   "execution_count": null,
   "metadata": {},
   "outputs": [],
   "source": [
    "makeThreshold(er, th=0.5, z=50, d=1, e=1)"
   ]
  },
  {
   "cell_type": "markdown",
   "metadata": {},
   "source": [
    "## Ribosomal small subunits"
   ]
  },
  {
   "cell_type": "code",
   "execution_count": null,
   "metadata": {},
   "outputs": [],
   "source": [
    "makeThreshold(ssu, th=0.47, z=48, d=1, e=1)"
   ]
  },
  {
   "cell_type": "code",
   "execution_count": null,
   "metadata": {},
   "outputs": [],
   "source": [
    "ssuReg = binaryLattices[ssu]\n",
    "matched = sum(1 for x,y,z in ssuPos if ssuReg[x,y,z])\n",
    "print(matched, len(ssuPos))"
   ]
  },
  {
   "cell_type": "markdown",
   "metadata": {},
   "source": [
    "## Ribosomal large subunits"
   ]
  },
  {
   "cell_type": "code",
   "execution_count": null,
   "metadata": {},
   "outputs": [],
   "source": [
    "makeThreshold(lsu, th=0.47, z=48, d=1, e=1)"
   ]
  },
  {
   "cell_type": "markdown",
   "metadata": {},
   "source": [
    "## Microtubules"
   ]
  },
  {
   "cell_type": "code",
   "execution_count": null,
   "metadata": {},
   "outputs": [],
   "source": [
    "makeThreshold(microtubules, th=0.40, z=50, d=2, e=2)"
   ]
  },
  {
   "cell_type": "markdown",
   "metadata": {},
   "source": [
    "# Construct simulation volume"
   ]
  },
  {
   "cell_type": "markdown",
   "metadata": {},
   "source": [
    "Now we must build the compartments corrisponding to the cytoplasm and nucleoplasm. Since we do not have cryo-ET density maps describing these regions, we use the density we have to choose a bounding volume."
   ]
  },
  {
   "cell_type": "code",
   "execution_count": null,
   "metadata": {},
   "outputs": [],
   "source": [
    "microtubialReg = binaryLattices[microtubules]\n",
    "actinReg = binaryLattices[actin]\n",
    "erReg = binaryLattices[er]\n",
    "ssuReg = binaryLattices[ssu]\n",
    "lsuReg = binaryLattices[lsu]\n",
    "npcReg = binaryLattices[npc]\n",
    "npcInteriorReg = binaryLattices[npcInterior]"
   ]
  },
  {
   "cell_type": "markdown",
   "metadata": {},
   "source": [
    "Now from this convex hull of the em density, we will partition it into cytoplasm, nucleoplasm, and nuclear membrane. We use the positions of the nuclear pores to find a reasonable location and orientation of a plane which will represent the membrane."
   ]
  },
  {
   "cell_type": "code",
   "execution_count": null,
   "metadata": {},
   "outputs": [],
   "source": [
    "data = np.argwhere(npcReg)\n",
    "pt = np.mean(data,axis=0)\n",
    "r = 5000/8\n",
    "ptdir = pt/np.sqrt(pt@pt)\n",
    "pt -= 4*ptdir"
   ]
  },
  {
   "cell_type": "code",
   "execution_count": null,
   "metadata": {},
   "outputs": [],
   "source": [
    "phi = np.pi/4\n",
    "theta = np.pi/8\n",
    "\n",
    "ctr = pt + np.array([r*np.sin(phi)*np.sin(theta), r*np.cos(theta), r*np.cos(phi)*np.sin(theta)])\n",
    "nucleoplasmReg = B.ellipsoid(B.xs, radius=r, center=ctr)\n",
    "poreInterior = B.closing(npcReg, se=B.sphereStructElem(6))\n",
    "nuclearenvelopeReg = B.ellipsoid(radius=r+1, center=ctr) & ~ (nucleoplasmReg | poreInterior)\n",
    "\n",
    "#B.showBinaryLattices(dict(n=nuclearenvelopeReg,npc=npcReg))"
   ]
  },
  {
   "cell_type": "code",
   "execution_count": null,
   "metadata": {},
   "outputs": [],
   "source": [
    "everything = microtubialReg|actinReg|erReg|ssuReg|lsuReg|npcReg\n",
    "nHull = B.dilate((ndi.gaussian_filter(densityData[npc], 10) > 0.0009) & nucleoplasmReg, 2)\n",
    "hull = B.closing(nHull|everything, se=B.sphereStructElem(20), se1=B.sphereStructElem(18))"
   ]
  },
  {
   "cell_type": "code",
   "execution_count": null,
   "metadata": {},
   "outputs": [],
   "source": [
    "nuclearenvelopeReg = B.dilate(nuclearenvelopeReg,1) & hull"
   ]
  },
  {
   "cell_type": "code",
   "execution_count": null,
   "metadata": {},
   "outputs": [],
   "source": [
    "boundaryReg = hull & ~B.erode(hull, 1)"
   ]
  },
  {
   "cell_type": "code",
   "execution_count": null,
   "metadata": {},
   "outputs": [],
   "source": [
    "nucleoplasmReg &= hull"
   ]
  },
  {
   "cell_type": "code",
   "execution_count": null,
   "metadata": {},
   "outputs": [],
   "source": [
    "simpleLattice=np.zeros_like(sim.siteLattice)\n",
    "\n",
    "obstruction = npcReg | nuclearenvelopeReg | microtubialReg | actinReg | erReg | lsuReg\n",
    "\n",
    "simpleLattices = [hull,\n",
    "                  nucleoplasmReg, \n",
    "                  npcInteriorReg,\n",
    "                  obstruction,\n",
    "                  ssuReg, \n",
    "                  boundaryReg]\n",
    "\n",
    "simpleLatticeNames = [\"extracellular\", \"cytoplasm\", \"nucleoplasm\",  \"poreChannel\", \"obstruction\", \"ssu\", \"boundary\"]\n",
    "for i,reg in enumerate(simpleLattices):\n",
    "    simpleLattice[reg] = i+1"
   ]
  },
  {
   "cell_type": "code",
   "execution_count": null,
   "metadata": {},
   "outputs": [],
   "source": [
    "#B.showBinaryLattices({r: (simpleLattice==i) for i,r in enumerate(simpleLatticeNames)})"
   ]
  },
  {
   "cell_type": "code",
   "execution_count": null,
   "metadata": {},
   "outputs": [],
   "source": [
    "sim.siteLattice[...]=0\n",
    "B.compose(\n",
    "    (cytoplasm, hull),\n",
    "    (nucleoplasm, nucleoplasmReg),\n",
    "    (microtubules, microtubialReg), \n",
    "    (actin, actinReg), \n",
    "    (er, erReg), \n",
    "    (lsu, lsuReg),\n",
    "    (ssu, ssuReg), \n",
    "    (nuclearEnv, nuclearenvelopeReg),\n",
    "    (npc,npcReg), \n",
    "    (boundary, boundaryReg),\n",
    "    (npcInterior, npcInteriorReg)\n",
    ")"
   ]
  },
  {
   "cell_type": "code",
   "execution_count": null,
   "metadata": {},
   "outputs": [],
   "source": [
    "xtr = np.diff(1.0*(np.sum(sim.siteLattice, axis=(1,2))>0))\n",
    "ytr = np.diff(1.0*(np.sum(sim.siteLattice, axis=(0,2))>0))\n",
    "ztr = np.diff(1.0*(np.sum(sim.siteLattice, axis=(0,1))>0))"
   ]
  },
  {
   "cell_type": "code",
   "execution_count": null,
   "metadata": {},
   "outputs": [],
   "source": [
    "plt.plot(xtr,label='x')\n",
    "plt.plot(ytr,label='y')\n",
    "plt.plot(ztr,label='z')\n",
    "plt.legend()"
   ]
  },
  {
   "cell_type": "code",
   "execution_count": null,
   "metadata": {},
   "outputs": [],
   "source": [
    "y0,y1 = np.argwhere(ytr==1)[0,0], np.argwhere(ytr==-1)[0,0]\n",
    "w0 = y1-y0\n",
    "w1 = 32*(1+w0//32)\n",
    "w3 = w1-w0\n",
    "p0 = w3//2\n",
    "p1 = w3-p0\n",
    "y0 = y0-p0\n",
    "y1 = y1+p1\n",
    "sim.siteLattice[:,y0:y1,:].shape, y0,y1\n",
    "ssuPos -= np.array([0,y0,0])"
   ]
  },
  {
   "cell_type": "code",
   "execution_count": null,
   "metadata": {},
   "outputs": [],
   "source": [
    "chopped = np.array(sim.siteLattice)\n",
    "sim.resizeLattice((192,64,192),latticeSpacing)\n",
    "sim.siteLattice[...] = chopped[:,y0:y1,:]\n",
    "simpleLattice = simpleLattice[:, y0:y1, :]"
   ]
  },
  {
   "cell_type": "code",
   "execution_count": null,
   "metadata": {},
   "outputs": [],
   "source": [
    "pickle.dump(dict(labelLattice=np.array(sim.siteLattice, dtype=np.uint8), \n",
    "                 ssuPos=ssuPos,\n",
    "                 lattice=simpleLattice,\n",
    "                 names={x:i for i,x in enumerate(simpleLatticeNames)},\n",
    "                 labelNames={x.name: i for i,x in enumerate(sim.regionList)}),\n",
    "            open(simFile(\"siteLattice_8.p\"),\"wb\"))"
   ]
  },
  {
   "cell_type": "code",
   "execution_count": null,
   "metadata": {},
   "outputs": [],
   "source": [
    "tclTriangleMesh(sim, sim.siteLattice, file=open(simFile(\"mesh.tcl\"),\"w\"), offset=[0,y0,0], transpose=[2,0,1])\n",
    "tclTriangleMesh(sim, sim.siteLattice, file=open(simFile(\"mesh_lmCoord.tcl\"),\"w\"))"
   ]
  }
 ],
 "metadata": {
  "kernelspec": {
   "display_name": "Python 3",
   "language": "python",
   "name": "python3"
  },
  "language_info": {
   "codemirror_mode": {
    "name": "ipython",
    "version": 3
   },
   "file_extension": ".py",
   "mimetype": "text/x-python",
   "name": "python",
   "nbconvert_exporter": "python",
   "pygments_lexer": "ipython3",
   "version": "3.5.2"
  }
 },
 "nbformat": 4,
 "nbformat_minor": 1
}
