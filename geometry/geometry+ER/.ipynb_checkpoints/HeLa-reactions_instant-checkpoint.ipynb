{
 "cells": [
  {
   "cell_type": "code",
   "execution_count": 1,
   "metadata": {
    "ExecuteTime": {
     "end_time": "2017-01-17T21:33:40.675867",
     "start_time": "2017-01-17T21:33:40.401459"
    },
    "collapsed": true,
    "run_control": {
     "frozen": false,
     "read_only": false
    }
   },
   "outputs": [],
   "source": [
    "import ipywidgets as ipw\n",
    "import IPython.display as ipd\n",
    "import matplotlib.pyplot as plt\n",
    "%matplotlib inline"
   ]
  },
  {
   "cell_type": "code",
   "execution_count": 2,
   "metadata": {
    "ExecuteTime": {
     "end_time": "2017-01-17T21:33:40.679632",
     "start_time": "2017-01-17T21:33:40.677205"
    },
    "collapsed": true,
    "run_control": {
     "frozen": false,
     "read_only": false
    }
   },
   "outputs": [],
   "source": [
    "from venv import *"
   ]
  },
  {
   "cell_type": "code",
   "execution_count": 3,
   "metadata": {
    "ExecuteTime": {
     "end_time": "2017-01-17T21:33:40.781332",
     "start_time": "2017-01-17T21:33:40.681691"
    },
    "collapsed": false,
    "run_control": {
     "frozen": false,
     "read_only": false
    }
   },
   "outputs": [
    {
     "data": {
      "text/html": [
       "<style>\n",
       "table.fullWidth {\n",
       "    width: 100%;\n",
       "}\n",
       "\n",
       "table.jLMtbl {\n",
       "    border: 1px solid #000;\n",
       "}\n",
       "\n",
       ".jLMtbl td, .jLMtbl tr, .jLMtbl th, .diffTbl table, .diffTbl td, .diffTbl tr {\n",
       "    border: none;\n",
       "}\n",
       "\n",
       ".jLMtbl caption, .diffTbl caption {\n",
       "    font-size: 1.5em;\n",
       "    font-weight: bold;\n",
       "    color: #555;\n",
       "    text-align: left;\n",
       "    padding: 15px 10px 8px 10px;\n",
       "}\n",
       "\n",
       ".jLMtbl td, .jLMtbl th {\n",
       "    padding-left: 10px;\n",
       "    padding-right: 10px;\n",
       "}\n",
       "\n",
       ".jLMtbl tr:nth-child(even) { background: #ddd;  }\n",
       ".jLMtbl tr:nth-child(odd) { background: #f8f8f8;  }\n",
       "\n",
       "table.diffTbl {\n",
       "    width: 100%;\n",
       "    border: none;\n",
       "}\n",
       "\n",
       ".diffTbl span.rot {\n",
       "    -webkit-transform: rotate(-90deg);\n",
       "    transform: rotate(-90deg);\n",
       "    display: inline-block;\n",
       "    white-space: nowrap;\n",
       "}\n",
       "\n",
       ".diffTbl td[rowspan], .diffTbl td[colspan] {\n",
       "    background: #fff;\n",
       "    font-weight: bold;\n",
       "}\n",
       "\n",
       ".diffTbl td[rowspan] {\n",
       "    width: 0.01em;\n",
       "    padding: 0;\n",
       "}\n",
       "\n",
       "\n",
       ".diffTbl td {\n",
       "    padding-left: 2px;\n",
       "    padding-right: 2px;\n",
       "    text-align: center;\n",
       "    vertical-align: middle;\n",
       "    background-color: hsla(0,0%,90%,1);\n",
       "    color: #000;\n",
       "}\n",
       "\n",
       "\n",
       ".diffTbl td.rhdr {\n",
       "    text-align: right;\n",
       "    background: #555;\n",
       "    color: #fff;\n",
       "}\n",
       "\n",
       ".diffTbl td.units {\n",
       "    background: #fff;\n",
       "    color: #000;\n",
       "}\n",
       "\n",
       ".diffTbl td.chdr {\n",
       "    padding-left: 2px;\n",
       "    padding-right: 2px;\n",
       "    text-align: center;\n",
       "    background: #555;\n",
       "    color: #fff;\n",
       "}\n",
       "\n",
       ".diffTbl td.zero {\n",
       "    background-color: hsla(180,100%,90%,1);\n",
       "}\n",
       "\n",
       ".diffTbl td.inf {\n",
       "    background-color: hsla(0,100%,90%,1);\n",
       "}\n",
       "\n",
       ".diffTbl td.undef {\n",
       "    background-color: #f00;\n",
       "    color: #fff;\n",
       "}\n",
       "\n",
       "\n",
       ".jLMtbl th {\n",
       "    border: none;\n",
       "    background: #555;\n",
       "    color: #fff;\n",
       "}\n",
       "\n",
       ".jLMtbl th[scope=col] {\n",
       "    height: 40px;\n",
       "    text-align: center;\n",
       "    vertical-align: middle;\n",
       "}\n",
       "\n",
       ".jLMtbl th[scope=row] {\n",
       "    text-align: left;\n",
       "}\n",
       "\n",
       "td.jLMparam{\n",
       "    width: 250px;\n",
       "    text-align: right;\n",
       "    padding-right: 15px;\n",
       "}\n",
       "\n",
       "\n",
       "td.objIndex {\n",
       "    width: 15px;\n",
       "    text-align:center;\n",
       "    vertical-align:middle;\n",
       "}\n",
       "\n",
       "\n",
       "div.jLMflex {\n",
       "    width: 100%;\n",
       "    display: flex;\n",
       "    margin:0;\n",
       "}\n",
       "\n",
       "div.regRight, div.trajRight {\n",
       "    flex-grow: 1;\n",
       "}\n",
       "\n",
       "div.trajRight {\n",
       "    padding-top: 20px;\n",
       "}\n",
       "\n",
       "div.regLeft {\n",
       "    width:200px;\n",
       "}\n",
       "\n",
       "div.trajLeft {\n",
       "    width:400px;\n",
       "}\n",
       "\n",
       "div.jLMx3Dkey {\n",
       "    display: block;\n",
       "    position: absolute;\n",
       "    background-color: rgba(255,255,255,0.8);\n",
       "    top: 3px;\n",
       "    right: 3px;\n",
       "    width: 225px;\n",
       "    max-height: 600px;\n",
       "    overflow-x: hidden;\n",
       "    overflow-y: auto;\n",
       "    border: 1px solid #000;\n",
       "    padding: 0px;\n",
       "} \n",
       "\n",
       "div.jLMx3Dstandalone {\n",
       "    height: 100vh;\n",
       "    width: 100vw;\n",
       "    overflow: hidden;\n",
       "}\n",
       "\n",
       "div.jLMx3Dkeymin {\n",
       "    width: auto;\n",
       "    height: auto;\n",
       "    display: none;\n",
       "    border: none;\n",
       "    overflow: hidden;\n",
       "}\n",
       "\n",
       "div.jLMx3Dkeyhelp {\n",
       "    display: none;\n",
       "    position: absolute;\n",
       "    background-color: rgba(255,255,255,0.8);\n",
       "    bottom: 2px;\n",
       "    right: 300px;\n",
       "    width: 400px;\n",
       "    max-height: 600px;\n",
       "    overflow-x: hidden;\n",
       "    overflow-y: auto;\n",
       "    border: 1px solid #000;\n",
       "    padding: 10px;\n",
       "}\n",
       "\n",
       "div.jLMx3Dkeyhelpstandalone {\n",
       "    display: none;\n",
       "    position: absolute;\n",
       "    background-color: rgba(255,255,255,0.8);\n",
       "    top: 10px;\n",
       "    left: 10px;\n",
       "    width: 400px;\n",
       "    max-height: 95%;\n",
       "    overflow-x: hidden;\n",
       "    overflow-y: auto;\n",
       "    border: 1px solid #000;\n",
       "    padding: 10px;\n",
       "}\n",
       "\n",
       "button.jLMx3Dkey {\n",
       "    float: left;\n",
       "    margin: 0px;\n",
       "    -webkit-transition-duration: 0.4s;\n",
       "    transition-duration: 0.4s;\n",
       "    background-color: #def1f0;\n",
       "    padding: 10px 5px;\n",
       "    border: 1px solid #fff;\n",
       "    width: 33%;\n",
       "}\n",
       "\n",
       "button.jLMx3Dkey:hover {\n",
       "    background-color: #108e88;\n",
       "    color: #fff;\n",
       "}\n",
       "\n",
       "button.jLMx3dbtstandalone {\n",
       "    display: table-cell;\n",
       "    width: 50%;\n",
       "}\n",
       "button.jLMx3dbt {\n",
       "    display: table-cell;\n",
       "}\n",
       "\n",
       "div.jLMx3dbt {\n",
       "    display: table;\n",
       "    width: 225px;\n",
       "}\n",
       "\n",
       "\n",
       "ul.reg {\n",
       "    list-style-type: none;\n",
       "    width: 100%;\n",
       "}\n",
       "\n",
       "img.smallreg {\n",
       "    border:1px solid #000;\n",
       "    float: left;\n",
       "    image-rendering: -moz-crisp-edges;\n",
       "    image-rendering: -o-crisp-edges;\n",
       "    image-rendering: -webkit-optimize-contrast;\n",
       "    -ms-interpolation-mode: nearest-neighbor;\n",
       "    image-rendering: pixelated;\n",
       "}\n",
       "\n",
       "X3D.jLM {\n",
       "    width: 100%;\n",
       "    height: 90%;\n",
       "    border: none;\n",
       "}\n",
       "\n",
       "span.jLMparticleKey {\n",
       "    position: relative;\n",
       "    top: 3px;\n",
       "    font-size: 1.5em;\n",
       "}\n",
       "\n",
       "div.jLMbigSps {\n",
       "    font-family: serif;\n",
       "    background: #fff;\n",
       "    color: #000;\n",
       "    display: table-cell;\n",
       "    vertical-align: middle;\n",
       "    text-align: center;\n",
       "    height: 70px;\n",
       "    font-size: 3.2em;\n",
       "    padding: 40px 10px 10px 10px;\n",
       "    border: none;\n",
       "}\n",
       "\n",
       "input[type=range][orient=vertical].stackSlider {\n",
       "    writing-mode: bt-lr; /* IE */\n",
       "    display: block;\n",
       "    margin: auto;\n",
       "    -webkit-appearance: slider-vertical; /* WebKit */\n",
       "    width: 8px;\n",
       "    height: 250px;\n",
       "    padding: 15px;\n",
       "}\n",
       "\n",
       "span.jLMregion {\n",
       "    padding: 1px 4px;\n",
       "    margin: 2px;\n",
       "    display: inline-block;\n",
       "    font-family: sans-serif;\n",
       "    border: 1px solid black;\n",
       "}\n",
       "\n",
       "span.jLMnum, td.jLMnum {\n",
       "    font-family: serif;\n",
       "    font-size: 1.2em;\n",
       "}\n",
       "\n",
       "</style><script type=\"text/javascript\">\n",
       "var fontawesome_css = document.getElementById(\"fontawesome-css\");if (fontawesome_css === null) {var l = document.createElement(\"link\");l.setAttribute(\"rel\", \"stylesheet\");l.setAttribute(\"type\", \"text/css\");l.setAttribute(\"href\", \"https://netdna.bootstrapcdn.com/font-awesome/3.2.1/css/font-awesome.css\");l.setAttribute(\"id\", \"fontawesome-css\");$(\"head\").append(l);}\n",
       "</script>\n"
      ],
      "text/plain": [
       "<IPython.core.display.HTML object>"
      ]
     },
     "metadata": {},
     "output_type": "display_data"
    }
   ],
   "source": [
    "import jLM"
   ]
  },
  {
   "cell_type": "code",
   "execution_count": 4,
   "metadata": {
    "ExecuteTime": {
     "end_time": "2017-01-17T21:33:41.048432",
     "start_time": "2017-01-17T21:33:40.783026"
    },
    "collapsed": true,
    "run_control": {
     "frozen": false,
     "read_only": false
    }
   },
   "outputs": [],
   "source": [
    "from jLM.RegionBuilder import RegionBuilder\n",
    "from jLM.RDME import Sim as RDMESim\n",
    "from jLM.RDME import File as RDMEFile\n",
    "from jLM.JupyterDisplay import boundaryPath\n",
    "from VolData import VolData\n",
    "from jLM.VmdUtil import tclTriangleMesh\n",
    "import jLM.TexFmt as texOut"
   ]
  },
  {
   "cell_type": "code",
   "execution_count": 5,
   "metadata": {
    "ExecuteTime": {
     "end_time": "2017-01-17T21:33:41.183297",
     "start_time": "2017-01-17T21:33:41.050071"
    },
    "collapsed": true,
    "run_control": {
     "frozen": false,
     "read_only": false
    }
   },
   "outputs": [],
   "source": [
    "import numpy as np\n",
    "import pickle\n",
    "import itertools\n",
    "import scipy.ndimage as ndi\n",
    "import scipy.linalg as la\n",
    "import skimage.measure as skme"
   ]
  },
  {
   "cell_type": "code",
   "execution_count": 6,
   "metadata": {
    "ExecuteTime": {
     "end_time": "2017-01-17T21:33:41.187142",
     "start_time": "2017-01-17T21:33:41.184921"
    },
    "collapsed": true,
    "run_control": {
     "frozen": false,
     "read_only": false
    }
   },
   "outputs": [],
   "source": [
    "noObs = False"
   ]
  },
  {
   "cell_type": "code",
   "execution_count": 7,
   "metadata": {
    "ExecuteTime": {
     "end_time": "2017-01-17T21:33:41.244030",
     "start_time": "2017-01-17T21:33:41.188512"
    },
    "collapsed": true,
    "run_control": {
     "frozen": false,
     "marked": false,
     "read_only": false
    }
   },
   "outputs": [],
   "source": [
    "siteData = pickle.load(open(simFile(\"siteLattice_8.p\"),\"rb\"))\n",
    "shape = siteData['lattice'].shape\n",
    "\n",
    "names = sorted(siteData['names'].keys(), key=lambda x: siteData['names'][x])\n",
    "\n",
    "fname = \"hela-instant-noObs.tmpl.lm\" if noObs else \"hela-instant.tmpl.lm\"\n",
    "\n",
    "sim = RDMESim(\"helaExpression\", simFile(fname), shape, 8e-9, names[0], dt=10.6667e-6)\n",
    "#sim = RDMESim(\"helaExpression\", simFile(\"helaExpression-reflBC-ch-pm_tmpl.lm\"), shape, 8e-9, names[0], dt=12.665e-6)\n",
    "\n",
    "for name in names:\n",
    "    sim.region(name)\n",
    "ribPos = siteData['ssuPos']\n",
    "sim.siteLattice[...] = siteData['lattice']\n"
   ]
  },
  {
   "cell_type": "code",
   "execution_count": 8,
   "metadata": {
    "ExecuteTime": {
     "end_time": "2017-01-17T21:33:41.249378",
     "start_time": "2017-01-17T21:33:41.245528"
    },
    "collapsed": true,
    "run_control": {
     "frozen": false,
     "read_only": false
    }
   },
   "outputs": [],
   "source": [
    "extracellular = sim.region(\"extracellular\")\n",
    "cytoplasm = sim.region(\"cytoplasm\")\n",
    "nucleoplasm = sim.region(\"nucleoplasm\")\n",
    "obstruction = sim.region(\"obstruction\")\n",
    "ssu = sim.region(\"ssu\")\n",
    "poreChannel = sim.region(\"poreChannel\")"
   ]
  },
  {
   "cell_type": "code",
   "execution_count": 9,
   "metadata": {
    "ExecuteTime": {
     "end_time": "2017-01-17T21:33:41.276116",
     "start_time": "2017-01-17T21:33:41.250715"
    },
    "collapsed": false,
    "run_control": {
     "frozen": false,
     "read_only": false
    }
   },
   "outputs": [],
   "source": [
    "mRNAsps = []\n",
    "mRNAtxSps = []\n",
    "repressorSps = []\n",
    "geneOnSps = []\n",
    "geneOffSps = []\n",
    "\n",
    "ngrp = min(8192//(len(sim.regionList)**2*6), 254//6)\n",
    "#ngrp=1\n",
    "\n",
    "for i in range(ngrp):\n",
    "    mRNAsps.append(sim.species(\"mRNA{:02d}\".format(i), texRepr=r'\\mathrm{m}^{(%d)}' % (i)))\n",
    "    mRNAtxSps.append( sim.species(\"mRNAtx{:02d}\".format(i), texRepr=r'\\mathrm{R}{:}\\mathrm{m}^{(%d)}' % (i)))\n",
    "    repressorSps.append( sim.species(\"repressor{:02d}\".format(i), texRepr=r'\\mathrm{P}^{(%d)}' % (i)))\n",
    "    geneOnSps.append( sim.species(\"geneOn{:02d}\".format(i), texRepr=r'\\mathrm{D}^{(%d)}_{\\mathrm{on}}' % (i)))\n",
    "    geneOffSps.append( sim.species(\"geneOff{:02d}\".format(i), texRepr=r'\\mathrm{D}^{(%d)}_{\\mathrm{off}}' % (i)))\n",
    "    \n",
    "allSps = list(zip( mRNAsps, mRNAtxSps, repressorSps, geneOnSps, geneOffSps))"
   ]
  },
  {
   "cell_type": "code",
   "execution_count": 10,
   "metadata": {
    "ExecuteTime": {
     "end_time": "2017-01-17T21:33:41.301571",
     "start_time": "2017-01-17T21:33:41.277562"
    },
    "collapsed": true,
    "run_control": {
     "frozen": false,
     "read_only": false
    }
   },
   "outputs": [],
   "source": [
    "ribosome = sim.species(\"ribosome\", texRepr=r'\\mathrm{R}')\n",
    "\n",
    "for x,y,z in ribPos:\n",
    "    ribosome.placeParticle(x,y,z, 1)"
   ]
  },
  {
   "cell_type": "code",
   "execution_count": 11,
   "metadata": {
    "ExecuteTime": {
     "end_time": "2017-01-17T21:34:52.212961",
     "start_time": "2017-01-17T21:33:41.302932"
    },
    "collapsed": true,
    "run_control": {
     "frozen": false,
     "read_only": false
    }
   },
   "outputs": [],
   "source": [
    "B = RegionBuilder(sim)\n",
    "exclusionRadius = 4\n",
    "availablePositions = B.erode(sim.siteLattice == nucleoplasm.idx, exclusionRadius)\n",
    "exclusion = B.emptyLatticeMask()\n",
    "for geneOn,mrna in zip(geneOnSps,mRNAsps):\n",
    "    genePos= np.argwhere(availablePositions)\n",
    "    x,y,z = genePos[np.random.randint(genePos.shape[0]),:]\n",
    "    geneOn.placeParticle(x,y,z,1)\n",
    "    mrna.placeParticle(x,y,z,1)\n",
    "    exclusion[...] = 0\n",
    "    exclusion[x,y,z] = True\n",
    "    exclusion = B.dilate(exclusion, se=B.sphereStructElem(exclusionRadius))\n",
    "    availablePositions = availablePositions & ~exclusion"
   ]
  },
  {
   "cell_type": "code",
   "execution_count": 12,
   "metadata": {
    "ExecuteTime": {
     "end_time": "2017-01-17T21:34:52.219916",
     "start_time": "2017-01-17T21:34:52.214743"
    },
    "collapsed": true,
    "run_control": {
     "frozen": false,
     "read_only": false
    }
   },
   "outputs": [],
   "source": [
    "if noObs:\n",
    "    obstructionRegions = [ extracellular]\n",
    "    normalRegions = [nucleoplasm, cytoplasm, ssu, poreChannel, obstruction]\n",
    "    plasm = [nucleoplasm, cytoplasm, poreChannel, obstruction]\n",
    "    ribosomeRegions = []\n",
    "else:\n",
    "    obstructionRegions = [ obstruction, extracellular]\n",
    "    normalRegions = [nucleoplasm, cytoplasm, ssu, poreChannel]\n",
    "    plasm = [nucleoplasm, cytoplasm, poreChannel]\n",
    "    ribosomeRegions = [ssu]"
   ]
  },
  {
   "cell_type": "code",
   "execution_count": 13,
   "metadata": {
    "ExecuteTime": {
     "end_time": "2017-01-17T21:34:52.258303",
     "start_time": "2017-01-17T21:34:52.221279"
    },
    "collapsed": false,
    "run_control": {
     "frozen": false,
     "read_only": false
    }
   },
   "outputs": [],
   "source": [
    "# translation initiation rate is 1.4–3.6/min in humans [112745]\n",
    "onRate = np.log(2)/sim.timestep\n",
    "mRNAdiff = 0.5e-12 # 105649\n",
    "proteinDiff = 1e-12 #"
   ]
  },
  {
   "cell_type": "code",
   "execution_count": 14,
   "metadata": {
    "ExecuteTime": {
     "end_time": "2017-01-17T21:34:52.286734",
     "start_time": "2017-01-17T21:34:52.260670"
    },
    "collapsed": false,
    "run_control": {
     "frozen": false,
     "read_only": false
    }
   },
   "outputs": [],
   "source": [
    "k_on   = sim.rateConst(\"on\", onRate, order=2,\n",
    "                          annotation=\"Instant association\")"
   ]
  },
  {
   "cell_type": "code",
   "execution_count": 15,
   "metadata": {
    "ExecuteTime": {
     "end_time": "2017-01-17T21:34:52.320954",
     "start_time": "2017-01-17T21:34:52.288926"
    },
    "collapsed": false,
    "run_control": {
     "frozen": false,
     "read_only": false
    }
   },
   "outputs": [],
   "source": [
    "for mRNA, mRNAtx, repressor, geneOn, geneOff in allSps:\n",
    "    ssu.addReaction((ribosome, mRNA), (ribosome, repressor), k_on)\n",
    "    nucleoplasm.addReaction((geneOn, repressor), geneOff, k_on)"
   ]
  },
  {
   "cell_type": "code",
   "execution_count": 16,
   "metadata": {
    "ExecuteTime": {
     "end_time": "2017-01-17T21:34:52.352333",
     "start_time": "2017-01-17T21:34:52.323414"
    },
    "collapsed": true,
    "run_control": {
     "frozen": false,
     "read_only": false
    }
   },
   "outputs": [],
   "source": [
    "d_mRNA  = sim.diffusionConst(\"mRNA\", mRNAdiff, annotation=\"mRNA diffusion constant\")\n",
    "d_repr  = sim.diffusionConst(\"repr\", proteinDiff, annotation=\"Repressor diffusion constant\")\n",
    "d_zero  = sim.diffusionZero()\n",
    "d_fast  = sim.diffusionFast()"
   ]
  },
  {
   "cell_type": "code",
   "execution_count": 17,
   "metadata": {
    "ExecuteTime": {
     "end_time": "2017-01-17T21:34:52.407191",
     "start_time": "2017-01-17T21:34:52.353660"
    },
    "collapsed": false,
    "run_control": {
     "frozen": false,
     "read_only": false
    }
   },
   "outputs": [
    {
     "data": {
      "text/html": [
       "<table class='jLMtbl'>\n",
       "    <caption>All defined parameters</caption>\n",
       "    <tr>\n",
       "        <th>Index</th>\n",
       "        <th>Symbol</th>\n",
       "        <th>Value</th>\n",
       "        <th>Unit</th>\n",
       "        <th>Usage</th>\n",
       "        <th>Description</th>\n",
       "    </tr>\n",
       "    <tr>\n",
       "        <td> 0 </td>\n",
       "        <td> $k_{\\mathrm{on}}$ </td>\n",
       "        <td> 6.498 × 10<sup>4</sup> </td>\n",
       "        <td class='jLMnum'>M<sup>-1</sup>⋅s<sup>-1</sup></td>\n",
       "        <td class='jLMnum'>74</td>\n",
       "        <td> Instant association </td>\n",
       "    </tr>\n",
       "    <tr>\n",
       "        <td> 0 </td>\n",
       "        <td> $D_{\\mathrm{mRNA}}$ </td>\n",
       "        <td> 5.000 × 10<sup>-13</sup> </td>\n",
       "        <td class='jLMnum'>m<sup>2</sup>⋅s<sup>-1</sup></td>\n",
       "        <td class='jLMnum'>0</td>\n",
       "        <td> mRNA diffusion constant </td>\n",
       "    </tr>\n",
       "    <tr>\n",
       "        <td> 1 </td>\n",
       "        <td> $D_{\\mathrm{repr}}$ </td>\n",
       "        <td> 1.000 × 10<sup>-12</sup> </td>\n",
       "        <td class='jLMnum'>m<sup>2</sup>⋅s<sup>-1</sup></td>\n",
       "        <td class='jLMnum'>0</td>\n",
       "        <td> Repressor diffusion constant </td>\n",
       "    </tr>\n",
       "    <tr>\n",
       "        <td> 2 </td>\n",
       "        <td> $D_\\varnothing$ </td>\n",
       "        <td> 0.000 </td>\n",
       "        <td class='jLMnum'>m<sup>2</sup>⋅s<sup>-1</sup></td>\n",
       "        <td class='jLMnum'>0</td>\n",
       "        <td> None </td>\n",
       "    </tr>\n",
       "    <tr>\n",
       "        <td> 3 </td>\n",
       "        <td> $D_\\infty$ </td>\n",
       "        <td> 1.000 × 10<sup>-12</sup> </td>\n",
       "        <td class='jLMnum'>m<sup>2</sup>⋅s<sup>-1</sup></td>\n",
       "        <td class='jLMnum'>0</td>\n",
       "        <td> None </td>\n",
       "    </tr>\n",
       "</table>"
      ],
      "text/plain": [
       "<IPython.core.display.HTML object>"
      ]
     },
     "execution_count": 17,
     "metadata": {},
     "output_type": "execute_result"
    }
   ],
   "source": [
    "sim.showAllParameters()"
   ]
  },
  {
   "cell_type": "code",
   "execution_count": 18,
   "metadata": {
    "ExecuteTime": {
     "end_time": "2017-01-17T21:34:52.441834",
     "start_time": "2017-01-17T21:34:52.409432"
    },
    "collapsed": true,
    "run_control": {
     "frozen": false,
     "read_only": false
    }
   },
   "outputs": [],
   "source": [
    "for r in obstructionRegions:\n",
    "    r.transitionRateIn(d_zero)\n",
    "    r.transitionRateOut(d_fast)\n",
    "    \n",
    "for r0, r1 in itertools.product(obstructionRegions, repeat=2):\n",
    "    sim.transitionRate(None, r0, r1, d_zero)\n",
    "        \n",
    "for mRNA, mRNAtx, repressor, geneOn, geneOff in allSps:\n",
    "    \n",
    "    for g in [geneOn, geneOff]:\n",
    "        g.transitionRate(None,None,d_zero)\n",
    "        g.transitionRate(None,nucleoplasm,d_fast)\n",
    "        g.transitionRate(nucleoplasm,nucleoplasm,d_zero)\n",
    "    \n",
    "    for r in normalRegions:\n",
    "        for r1 in normalRegions:\n",
    "            mRNA.transitionRate(r,r1, d_mRNA)\n",
    "            repressor.transitionRate(r,r1, d_repr)\n",
    "            mRNAtx.transitionRate(r,r1,d_zero)\n",
    "            \n",
    "    for r0 in ribosomeRegions:\n",
    "        for r1 in plasm:\n",
    "            repressor.transitionRate(r0, r1, d_fast)\n",
    "            repressor.transitionRate(r1, r0, d_zero)\n",
    "            \n",
    "ribosome.transitionRate(None,None,d_zero)\n",
    "None"
   ]
  },
  {
   "cell_type": "code",
   "execution_count": 19,
   "metadata": {
    "ExecuteTime": {
     "end_time": "2017-01-17T21:34:56.247939",
     "start_time": "2017-01-17T21:34:52.444118"
    },
    "collapsed": false,
    "run_control": {
     "frozen": false,
     "read_only": false
    }
   },
   "outputs": [
    {
     "name": "stdout",
     "output_type": "stream",
     "text": [
      "sim time: 0.994788557952423 hrs\n"
     ]
    }
   ],
   "source": [
    "stepsPerWrite = 1000\n",
    "\n",
    "sim.latticeWriteInterval =sim.timestep*stepsPerWrite\n",
    "sim.speciesWriteInterval = sim.latticeWriteInterval\n",
    "simWallRatio = sim.timestep/3.82e-3\n",
    "sim.simulationTime = 10\n",
    "sim.finalize()\n",
    "print(\"sim time: {} hrs\".format(sim.simulationTime/simWallRatio/60/60))"
   ]
  },
  {
   "cell_type": "code",
   "execution_count": null,
   "metadata": {
    "ExecuteTime": {
     "end_time": "2017-01-17T19:15:07.813850",
     "start_time": "2017-01-17T18:55:28.585075"
    },
    "collapsed": false,
    "run_control": {
     "frozen": true,
     "read_only": true
    }
   },
   "outputs": [],
   "source": [
    "traj = sim.run(cudaDevices=[1])"
   ]
  },
  {
   "cell_type": "code",
   "execution_count": null,
   "metadata": {
    "ExecuteTime": {
     "end_time": "2017-01-10T00:40:04.284520",
     "start_time": "2017-01-10T00:40:02.471110"
    },
    "collapsed": false,
    "run_control": {
     "frozen": true,
     "read_only": true
    }
   },
   "outputs": [],
   "source": [
    "with open(manuscriptFile(\"tables-src/hela-model.tex\"), \"w\") as f:\n",
    "    texOut.modelTables(sim, file=f)\n",
    "\n",
    "with open(manuscriptFile(\"tables-src/hela-parameters.tex\"), \"w\") as f:\n",
    "    texOut.parameterTable(sim, file=f)\n",
    "    \n",
    "with open(manuscriptFile(\"tables-src/hela-reactions.tex\"), \"w\") as f:\n",
    "    texOut.reactionTable(sim, file=f)\n",
    "    \n",
    "with open(manuscriptFile(\"tables-src/hela-regions.tex\"), \"w\") as f:\n",
    "    texOut.regionTable(sim, file=f)"
   ]
  }
 ],
 "metadata": {
  "kernelspec": {
   "display_name": "Python 3",
   "language": "python",
   "name": "python3"
  },
  "language_info": {
   "codemirror_mode": {
    "name": "ipython",
    "version": 3
   },
   "file_extension": ".py",
   "mimetype": "text/x-python",
   "name": "python",
   "nbconvert_exporter": "python",
   "pygments_lexer": "ipython3",
   "version": "3.5.2"
  }
 },
 "nbformat": 4,
 "nbformat_minor": 1
}
