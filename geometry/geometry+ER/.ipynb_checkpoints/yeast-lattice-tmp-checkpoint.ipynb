{
 "cells": [
  {
   "cell_type": "markdown",
   "metadata": {
    "run_control": {
     "frozen": false,
     "read_only": false
    }
   },
   "source": [
    "| Cellular component | Volume (µm³) | Volume Percentage | Surface Area (µm²) |\n",
    "|--------------------|--------------|-------------------|--------------------|\n",
    "| Endoplasmic reticulum | 0.420643 | 2.2% | 31.403 |\n",
    "| Nuclear envelope | 0.227859 | 1.2% | 11.416 |\n",
    "| Heterochromatin | 0.577432 | 3.0% | 24.441 |\n",
    "| Euchromatin | 0.459362 | 2.4% | 20.716 |\n",
    "| Golgi | 0.022677 | 0.1% | 1.291 |\n",
    "| Mitochondria | 0.299339 | 1.6% | 6.949 |\n",
    "| Lipid droplets | 0.139214 | 0.7% | 2.692 |\n",
    "| Vesicles | 0.000256 | 0.0% | 0.025 |\n",
    "| Vacuoles | 1.480174 | 7.8% | 27.164 |\n",
    "| Cell Wall | 3.017192 | 15.9% | 67.115 |\n",
    "\n",
    "http://dx.doi.org/10.2144/000113850"
   ]
  },
  {
   "cell_type": "code",
   "execution_count": null,
   "metadata": {
    "collapsed": true,
    "run_control": {
     "frozen": false,
     "read_only": false
    }
   },
   "outputs": [],
   "source": [
    "# %load yeast-lattice.py\n",
    "import itertools\n",
    "import numpy as np\n",
    "import scipy.ndimage as ndi\n",
    "import scipy.spatial as spspat\n",
    "import scipy.special as sps\n",
    "import scipy.optimize as spopt\n",
    "import scipy.interpolate as spinterp\n",
    "import skimage.morphology as skmo\n",
    "from functools import reduce\n",
    "import pickle"
   ]
  },
  {
   "cell_type": "code",
   "execution_count": null,
   "metadata": {
    "collapsed": true,
    "run_control": {
     "frozen": false,
     "read_only": false
    }
   },
   "outputs": [],
   "source": [
    "import matplotlib.pyplot as plt\n",
    "import seaborn as sns\n",
    "%matplotlib inline"
   ]
  },
  {
   "cell_type": "code",
   "execution_count": null,
   "metadata": {
    "collapsed": true,
    "run_control": {
     "frozen": false,
     "read_only": false
    }
   },
   "outputs": [],
   "source": [
    "%load_ext Cython"
   ]
  },
  {
   "cell_type": "code",
   "execution_count": null,
   "metadata": {
    "collapsed": true,
    "run_control": {
     "frozen": false,
     "read_only": false
    }
   },
   "outputs": [],
   "source": [
    "from venv import *\n",
    "from VolData import VolData\n",
    "from jLM.RegionBuilder import RegionBuilder\n",
    "from jLM.RDME import Sim as RDMESim\n",
    "from jLM.RDME import File as RDMEFile\n",
    "from jLM.VmdUtil import tclTriangleMesh, tclTriangleMesh_scratch\n",
    "from jLM.JupyterDisplay import showBinaryLattices\n",
    "import jLM"
   ]
  },
  {
   "cell_type": "code",
   "execution_count": null,
   "metadata": {
    "collapsed": true,
    "run_control": {
     "frozen": false,
     "read_only": false
    }
   },
   "outputs": [],
   "source": [
    "### Parameters\n",
    "decimation = 18\n",
    "cetPoreCount = 12 # pores in cet\n",
    "\n",
    "cellVolume = 40 #  µm^3,  bnid:100430\n",
    "cellWallFraction = 0.159\n",
    "nucleusFraction = 0.07\n",
    "envelopeThickness = 35e-9\n",
    "nucPoreRadius = 40e-9\n",
    "\n",
    "cellAspect = 1.5\n",
    "nucleusAspect = 1.0\n",
    "\n",
    "vacuoleFraction = 0.075\n",
    "\n",
    "nMito = 3\n",
    "mitoFraction = 0.016\n",
    "\n",
    "nRibosomes = 180000\n",
    "###"
   ]
  },
  {
   "cell_type": "code",
   "execution_count": null,
   "metadata": {
    "collapsed": true,
    "run_control": {
     "frozen": false,
     "read_only": false
    }
   },
   "outputs": [],
   "source": [
    "labelData = VolData(dataFile(\"labels-2016_12_29_18_51_57\"))\n",
    "nucData = VolData(dataFile(\"yeast-nuclearDensity-2017_01_06_15_44_53\"))\n",
    "cetLabels = dict(background=0,\n",
    "                 nucEnv=1,\n",
    "                 er=4,\n",
    "                 mito=2,\n",
    "                 membrane=3)"
   ]
  },
  {
   "cell_type": "code",
   "execution_count": null,
   "metadata": {
    "collapsed": true,
    "run_control": {
     "frozen": false,
     "read_only": false
    }
   },
   "outputs": [],
   "source": [
    "labelOffset = [labelData.attr['origin_x'], labelData.attr['origin_y'], labelData.attr['origin_z']]"
   ]
  },
  {
   "cell_type": "code",
   "execution_count": null,
   "metadata": {
    "collapsed": true,
    "run_control": {
     "frozen": false,
     "read_only": false
    }
   },
   "outputs": [],
   "source": [
    "def lmProc(im,threshold=0.01):\n",
    "    th = threshold*decimation**3\n",
    "    src = im.transpose([1,2,0]).astype(np.int64)\n",
    "    newShape = tuple(int(np.ceil(x/32/decimation)*32) for x in src.shape)\n",
    "    deciShape = tuple(x//decimation for x in src.shape)\n",
    "    dest = np.zeros(newShape, dtype=np.int64)\n",
    "    for i,j,k in itertools.product(range(decimation),repeat=3):\n",
    "        v = src[i::decimation, j::decimation, k::decimation]\n",
    "        nx,ny,nz = v.shape\n",
    "        dest[:nx,:ny,:nz] += v\n",
    "    return dest>th\n",
    "\n",
    "cetNucEnvReg = lmProc(labelData.scalar==cetLabels['nucEnv'])\n",
    "cetErReg = lmProc(labelData.scalar==cetLabels['er'])\n",
    "cetMitoReg = lmProc(labelData.scalar==cetLabels['mito'])\n",
    "cetMemReg = lmProc(labelData.scalar==cetLabels['membrane'])"
   ]
  },
  {
   "cell_type": "code",
   "execution_count": null,
   "metadata": {
    "collapsed": true,
    "run_control": {
     "frozen": false,
     "read_only": false
    }
   },
   "outputs": [],
   "source": [
    "cetNucReg = lmProc(nucData.scalar>0, threshold=0.001)\n",
    "ch = RegionBuilder.opening(cetNucReg, 2)\n",
    "ch = RegionBuilder.convexHull(ch)\n",
    "\n",
    "volFracs = []\n",
    "ths = np.linspace(0, decimation**3, 25)\n",
    "src = (nucData.scalar > 0).transpose([1,2,0]).astype(np.int64)\n",
    "newShape = tuple(int(np.ceil(x/32/decimation)*32) for x in src.shape)\n",
    "deciShape = tuple(x//decimation for x in src.shape)\n",
    "dest = np.zeros(newShape, dtype=np.int64)\n",
    "for i,j,k in itertools.product(range(decimation),repeat=3):\n",
    "    v = src[i::decimation, j::decimation, k::decimation]\n",
    "    nx,ny,nz = v.shape\n",
    "    dest[:nx,:ny,:nz] += v\n",
    "\n",
    "nucProjection = np.sum(dest,axis=1)\n",
    "sz = np.sum(ch)\n",
    "volFracs = [ np.sum(ch&(dest<i))/sz for i in ths]\n",
    "nucThresholdByVolFrac = spinterp.interp1d(volFracs, ths/decimation**3)"
   ]
  },
  {
   "cell_type": "code",
   "execution_count": null,
   "metadata": {
    "collapsed": true,
    "run_control": {
     "frozen": false,
     "read_only": false
    }
   },
   "outputs": [],
   "source": [
    "th = nucThresholdByVolFrac(0.2) # smaller than bond percolation threshold for 3D simple cubic lattice\n",
    "cetNucReg = lmProc(nucData.scalar>0, threshold=th)\n",
    "cetNucReg &= RegionBuilder.convexHull(cetNucEnvReg)\n",
    "cetNucReg &= ~cetNucEnvReg"
   ]
  },
  {
   "cell_type": "code",
   "execution_count": null,
   "metadata": {
    "collapsed": true,
    "run_control": {
     "frozen": false,
     "read_only": false
    }
   },
   "outputs": [],
   "source": [
    "latticeSpacing = 1e-10*np.mean(labelData.dx)*decimation\n",
    "B = RegionBuilder(dims=cetErReg.shape)"
   ]
  },
  {
   "cell_type": "code",
   "execution_count": null,
   "metadata": {
    "collapsed": true,
    "run_control": {
     "frozen": false,
     "read_only": false
    }
   },
   "outputs": [],
   "source": [
    "nucTmp = labelData.scalar==cetLabels['nucEnv']\n",
    "\n",
    "flat = np.any(nucTmp,axis=2)\n",
    "filled = skmo.closing(flat,skmo.disk(10))\n",
    "skel = skmo.skeletonize(filled)\n",
    "\n",
    "arclen = 1e-10*np.mean(labelData.dx)*np.sum(skel)\n",
    "width = 1e-10*labelData.dx[1]*np.sum(np.any(nucTmp,axis=(0,1)))\n",
    "sa = arclen*width\n",
    "poreDensity = cetPoreCount/sa"
   ]
  },
  {
   "cell_type": "code",
   "execution_count": null,
   "metadata": {
    "collapsed": true,
    "run_control": {
     "frozen": false,
     "read_only": false
    }
   },
   "outputs": [],
   "source": [
    "membraneVol = (1-cellWallFraction)*cellVolume * (1e-6)**3 /latticeSpacing**3 # remaiing 25% is cellwall\n",
    "nucleusVol = nucleusFraction*cellVolume * (1e-6)**3 /latticeSpacing**3"
   ]
  },
  {
   "cell_type": "code",
   "execution_count": null,
   "metadata": {
    "collapsed": true,
    "run_control": {
     "frozen": false,
     "read_only": false
    }
   },
   "outputs": [],
   "source": [
    "def spheroidLoss(params, coords, membraneVol, targetAspect):\n",
    "    invRs =  np.array([1/x for x in params[:3]])\n",
    "    alpha, beta, gamma = params[3:6]\n",
    "    x0 = params[6:9]\n",
    "    \n",
    "    ca, sa = np.cos(alpha), np.sin(alpha)\n",
    "    cb, sb = np.cos(beta), np.sin(beta)\n",
    "    cg, sg = np.cos(gamma), np.sin(gamma)\n",
    "    rotZ0 = np.array([ [ca,-sa,0],[sa,ca,0], [0,0,1] ])\n",
    "    rotX= np.array([[1,0,0,], [0,cb,-sb],[0,sb,cb] ])\n",
    "    rotZ1 =np.array( [ [cg,-sg,0],[sg,cg,0], [0,0,1] ])\n",
    "    rot = rotZ1 @ rotX @ rotZ0\n",
    "    \n",
    "    x1 = np.einsum(\"i,ij,mj->mi\",  invRs, rot, coords -x0)\n",
    "    \n",
    "    vol = 4*np.pi*reduce(lambda x,y:x*y, params[:3])/3\n",
    "    aspect =  max(params[:3]) / min(params[:3])\n",
    "    \n",
    "    volP =  (vol/membraneVol-1)**2\n",
    "    aspectP =  (aspect/targetAspect - 1)**2\n",
    "    \n",
    "    return np.sum((np.sum(x1**2, axis=1)-1)**2) + volP + aspectP"
   ]
  },
  {
   "cell_type": "code",
   "execution_count": null,
   "metadata": {
    "collapsed": true,
    "run_control": {
     "frozen": false,
     "read_only": false
    }
   },
   "outputs": [],
   "source": [
    "cetNucEnvCoords = np.argwhere(cetNucEnvReg)\n",
    "chullCoords = cetNucEnvCoords[spspat.ConvexHull(cetNucEnvCoords).vertices]\n",
    "\n",
    "radius = 0.5*max( np.linalg.norm(x-y) for x,y in itertools.product(chullCoords,repeat=2))\n",
    "centroid = np.mean(chullCoords,axis=0)\n",
    "params0 = np.array([radius, radius, radius, 0, 0, 0, centroid[0],  centroid[1],  centroid[2] ])\n",
    "m = spopt.minimize(lambda x: spheroidLoss(x, cetNucEnvCoords, nucleusVol, nucleusAspect), params0,options=dict(maxiter=100000))\n",
    "nucParams = m.x\n",
    "m"
   ]
  },
  {
   "cell_type": "code",
   "execution_count": null,
   "metadata": {
    "collapsed": true,
    "run_control": {
     "frozen": false,
     "read_only": false
    }
   },
   "outputs": [],
   "source": [
    "cetMemCoords = np.argwhere(cetMemReg)\n",
    "radius = (3*membraneVol/np.pi/4)**0.3333\n",
    "params0 = np.array([radius, radius, radius, 0, 0, 0, nucParams[6],  nucParams[7],  nucParams[8]  ])\n",
    "m = spopt.minimize(lambda x: spheroidLoss(x, cetMemCoords, membraneVol, cellAspect), params0,options=dict(maxiter=100000))\n",
    "memParams = m.x\n",
    "m"
   ]
  },
  {
   "cell_type": "code",
   "execution_count": null,
   "metadata": {
    "collapsed": true,
    "run_control": {
     "frozen": false,
     "read_only": false
    }
   },
   "outputs": [],
   "source": [
    "def volDiff(delta, wallCellRatio):\n",
    "    return 1 - reduce(lambda x,y: x*y, (r/(r+delta) for r in memParams[:3])) - wallCellRatio \n",
    "d = spopt.brentq(lambda x: volDiff(x, cellWallFraction), 0, max(memParams[:3]))\n",
    "cellWallParams = memParams.copy()\n",
    "cellWallParams[:3] += d"
   ]
  },
  {
   "cell_type": "code",
   "execution_count": null,
   "metadata": {
    "collapsed": true,
    "run_control": {
     "frozen": false,
     "read_only": false
    }
   },
   "outputs": [],
   "source": [
    "def ellipseFn(builder, params, thickness=3):\n",
    "    radius = params[:3]\n",
    "    angles = params[3:6]\n",
    "    center = params[6:9]\n",
    "    dr = thickness/2\n",
    "    radius = np.maximum(np.zeros(3), radius - dr)\n",
    "    if thickness == 0:\n",
    "        e = builder.ellipsoid(radius=params[:3], angles=angles, center=center)\n",
    "        return e & ~builder.erode(e,1)\n",
    "    else:\n",
    "        return ( builder.ellipsoid(radius=radius+dr, angles=angles, center=center)\n",
    "                  & ~builder.ellipsoid(radius=radius-dr, angles=angles, center=center))"
   ]
  },
  {
   "cell_type": "code",
   "execution_count": null,
   "metadata": {
    "collapsed": true,
    "run_control": {
     "frozen": false,
     "read_only": false
    }
   },
   "outputs": [],
   "source": [
    "def lmDim(x):\n",
    "    return 2*int(32*np.ceil(x/32))\n",
    "\n",
    "n = max(map(lmDim, memParams[:3]))\n",
    "\n",
    "Bfull = RegionBuilder(dims=(n,n,n))\n",
    "\n",
    "tx = Bfull.center - memParams[6:9]\n",
    "memParamsTx = memParams.copy()\n",
    "memParamsTx[6:9] += tx\n",
    "nucParamsTx = nucParams.copy()\n",
    "nucParamsTx[6:9] += tx\n",
    "cellWallParamsTx = cellWallParams.copy()\n",
    "cellWallParamsTx[6:9] += tx\n",
    "\n",
    "x0,y0,z0 = int(tx[0]), int(tx[1]), int(tx[2])\n",
    "x1 = x0+cetErReg.shape[0]\n",
    "y1 = y0+cetErReg.shape[1]\n",
    "z1 = z0+cetErReg.shape[2]\n",
    "tx1 = [x0,y0,z0]\n",
    "cetErFullReg = Bfull.emptyLatticeMask()\n",
    "cetErFullReg[x0:x1, y0:y1, z0:z1] = cetErReg\n",
    "cetMitoFullReg = Bfull.emptyLatticeMask()\n",
    "cetMitoFullReg[x0:x1, y0:y1, z0:z1] =  cetMitoReg\n",
    "cetMemFullReg = Bfull.emptyLatticeMask()\n",
    "cetMemFullReg[x0:x1, y0:y1, z0:z1] =  cetMemReg\n",
    "cetNucEnvFullReg = Bfull.emptyLatticeMask()\n",
    "cetNucEnvFullReg[x0:x1, y0:y1, z0:z1] =  cetNucEnvReg\n",
    "cetNucFullReg = Bfull.emptyLatticeMask()\n",
    "cetNucFullReg[x0:x1, y0:y1, z0:z1] =  cetNucReg\n",
    "fitMemFullReg=ellipseFn(Bfull, memParamsTx, thickness=0)\n",
    "fitNucEnvFullReg=ellipseFn(Bfull, nucParamsTx, thickness=envelopeThickness/latticeSpacing)\n",
    "\n",
    "entireCell = Bfull.convexHull(ellipseFn(Bfull, cellWallParamsTx, thickness=0))\n",
    "fitCellWallFullReg = entireCell & ~ Bfull.convexHull(fitMemFullReg)"
   ]
  },
  {
   "cell_type": "code",
   "execution_count": null,
   "metadata": {
    "collapsed": true,
    "run_control": {
     "frozen": false,
     "read_only": false
    }
   },
   "outputs": [],
   "source": [
    "def ellipsoidSA(a,b,c):\n",
    "    a,b,c = reversed(sorted([a,b,c]))\n",
    "    phi = np.arccos(c/a)\n",
    "    k = np.sqrt(a**2*(b**2-c**2)/b**2/(a**2-c**2))\n",
    "    return 2*np.pi*c**2 + 2*np.pi*a*b/np.sin(phi)*(sps.ellipeinc(phi,k)*np.sin(phi)**2 + sps.ellipkinc(phi, k)*np.cos(phi)**2)\n",
    "\n",
    "nPores = poreDensity*ellipsoidSA( *(latticeSpacing*nucParams[:3]) )\n",
    "                                \n",
    "nPores, ellipsoidSA( *(latticeSpacing*nucParams[:3]) )*1e12"
   ]
  },
  {
   "cell_type": "code",
   "execution_count": null,
   "metadata": {
    "collapsed": true,
    "run_control": {
     "frozen": false,
     "read_only": false
    }
   },
   "outputs": [],
   "source": [
    "nucFilled = B.convexHull(fitNucEnvFullReg)\n",
    "poreRadius = int(nucPoreRadius/latticeSpacing)\n",
    "exclusionRadius = 3*poreRadius\n",
    "poreSurface = B.dilate(~nucFilled, 1) & nucFilled\n",
    "\n",
    "exclusion = np.zeros_like(poreSurface)\n",
    "poresMask = np.zeros_like(poreSurface)\n",
    "exclusionBall = B.sphereStructElem(poreRadius+exclusionRadius)\n",
    "r = exclusionBall.shape[0]//2\n",
    "\n",
    "poreLoc = []\n",
    "for ct in range(int(nPores)):\n",
    "    pos = np.argwhere(poreSurface & ~exclusion)\n",
    "    loc = pos[np.random.choice(np.arange(pos.shape[0]))]\n",
    "    x,y,z = loc\n",
    "    poreLoc.append(loc)\n",
    "    exclusion[x-r:x+r+1, y-r:y+r+1, z-r:z+r+1] |= exclusionBall\n",
    "    \n",
    "cylLen = max(nucParamsTx[:3])\n",
    "\n",
    "for ct,loc in enumerate(poreLoc):\n",
    "    dv = loc - nucParamsTx[6:]\n",
    "    normal = dv/np.sqrt(dv@dv)\n",
    "    alpha = np.arctan2(normal[0], normal[1])\n",
    "    beta = np.arccos(normal[2])\n",
    "    gamma = 0\n",
    "    poresMask |= Bfull.cylinder(poreRadius, cylLen, angles=[alpha,beta,gamma], center=cylLen*normal + nucParamsTx[6:])\n",
    "    \n",
    "\n",
    "nucenvFit = fitNucEnvFullReg & ~poresMask\n",
    "fitNucPoresFullReg = fitNucEnvFullReg & ~nucenvFit\n",
    "fitNucEnvFullReg = nucenvFit"
   ]
  },
  {
   "cell_type": "code",
   "execution_count": null,
   "metadata": {
    "collapsed": true,
    "run_control": {
     "frozen": false,
     "read_only": false
    }
   },
   "outputs": [],
   "source": [
    "def dimfn(u):\n",
    "    v = (u+1)%3\n",
    "    w = (u+2)%3\n",
    "    ct = np.sum(entireCell, axis=(v,w))\n",
    "    u0 = np.where(ct>0)[0][0] \n",
    "    uw = np.sum(ct>0)\n",
    "    uw32 = int(32*np.ceil(uw/32))\n",
    "    spc = uw32-uw\n",
    "    pad0 = spc//2\n",
    "    return u0, uw, pad0, uw32\n",
    "\n",
    "x0, xw, px0, nx = dimfn(0)\n",
    "y0, yw, py0, ny = dimfn(1)\n",
    "z0, zw, pz0, nz = dimfn(2)\n",
    "\n",
    "def resize(l0):\n",
    "    l1 = np.zeros((nx,ny,nz), dtype=np.bool)\n",
    "    l1[px0:px0+xw,py0:py0+yw,pz0:pz0+zw] = l0[x0:x0+xw, y0:y0+yw, z0:z0+zw]\n",
    "    return l0\n",
    "\n",
    "cetErCropReg = resize(cetErFullReg)\n",
    "cetMemCropReg = resize(cetMemFullReg)\n",
    "cetMitoCropReg = resize(cetMitoFullReg)\n",
    "cetNucEnvCropReg = resize(cetNucEnvFullReg)\n",
    "cetNucCropReg = resize(cetNucFullReg)\n",
    "fitCellWallCropReg = resize(fitCellWallFullReg)\n",
    "fitMemCropReg = resize(fitMemFullReg)\n",
    "fitNucEnvCropReg = resize(fitNucEnvFullReg)\n",
    "fitMemCropReg = resize(fitMemFullReg)\n",
    "fitNucPoresCropReg = resize(fitNucPoresFullReg)\n",
    "\n",
    "entireCell = B.convexHull(fitCellWallCropReg)\n",
    "\n",
    "fitNucleoplasmCropReg = B.convexHull(fitNucEnvCropReg|fitNucPoresCropReg) & ~(fitNucEnvCropReg|fitNucPoresCropReg)\n",
    "fitCytoplasmCropReg = entireCell & ~( fitCellWallCropReg | fitMemCropReg | fitNucEnvCropReg | fitMemCropReg | fitNucPoresCropReg | fitNucleoplasmCropReg)"
   ]
  },
  {
   "cell_type": "code",
   "execution_count": null,
   "metadata": {
    "collapsed": true,
    "run_control": {
     "frozen": false,
     "read_only": false
    }
   },
   "outputs": [],
   "source": [
    "vmdUnits = latticeSpacing*1e10\n",
    "resizeDx = vmdUnits*(px0-x0+tx1[0])-labelOffset[0]\n",
    "resizeDy = vmdUnits*(py0-y0+tx1[1])-labelOffset[1]\n",
    "resizeDz = vmdUnits*(pz0-z0+tx1[2])-labelOffset[2]\n",
    "tclMatrix = (\"set txMatrix {{1.0 0.0 0.0 dx} {0.0 0.0 1.0 dy} {0.0 1.0 0.0 dz} {0.0 0.0 0.0 1.0}}\"\n",
    "                    .replace(\"dx\", str(int(resizeDz)))\n",
    "                    .replace(\"dy\", str(int(resizeDy)))\n",
    "                    .replace(\"dz\", str(int(resizeDx))))\n",
    "print(tclMatrix)"
   ]
  },
  {
   "cell_type": "code",
   "execution_count": null,
   "metadata": {
    "collapsed": true,
    "run_control": {
     "frozen": false,
     "read_only": false
    }
   },
   "outputs": [],
   "source": [
    "B = RegionBuilder(dims=fitCytoplasmCropReg.shape)\n",
    "vacRadius = (3*vacuoleFraction*cellVolume/4/np.pi)**0.333*1e-6/latticeSpacing"
   ]
  },
  {
   "cell_type": "code",
   "execution_count": null,
   "metadata": {
    "collapsed": true,
    "run_control": {
     "frozen": false,
     "read_only": false
    }
   },
   "outputs": [],
   "source": [
    "mask = fitCytoplasmCropReg.copy()\n",
    "for i in range(int(vacRadius)):\n",
    "    mask = B.erode(mask, 1)\n",
    "poss = np.argwhere(mask)\n",
    "while True:\n",
    "    sa = 0.1*np.random.random() + 0.9\n",
    "    sb = 0.1*np.random.random() + 0.9\n",
    "    sc = 1/sa/sb\n",
    "    radius = [sa*vacRadius, sb*vacRadius, sc*vacRadius]\n",
    "    angle = np.random.random(3)*2*np.pi\n",
    "    loc = poss[np.random.randint(poss.shape[0]),:]\n",
    "    obj = B.ellipsoid(radius=radius, angles=angle, center=loc)\n",
    "    s = np.sum(obj&~fitCytoplasmCropReg)\n",
    "    if s == 0:\n",
    "        break\n",
    "    print(s)\n",
    "\n",
    "fitVacuoleCropReg = obj\n",
    "fitCytoplasmCropReg &= ~obj"
   ]
  },
  {
   "cell_type": "code",
   "execution_count": null,
   "metadata": {
    "collapsed": true,
    "run_control": {
     "frozen": false,
     "read_only": false
    }
   },
   "outputs": [],
   "source": [
    "mitoVols = 0.2*np.random.random(nMito)+0.8\n",
    "mitoVols /= np.sum(mitoVols)\n",
    "mitoAspectL = 0.5*np.random.random(nMito) + 2\n",
    "mitoAspectS = np.sqrt(1/mitoAspectL)\n",
    "mitoRadius = [(3*f*mitoFraction*cellVolume/4/np.pi)**0.333*1e-6/latticeSpacing for f in mitoVols]\n",
    "mitoRadii = [ [l*r, s*r, s*r] for l,s,r in zip(mitoAspectL, mitoAspectS, mitoRadius) ]\n",
    "fitMitoCropReg = None\n",
    "\n",
    "for radius in mitoRadii:\n",
    "    print(radius)\n",
    "    poss = np.argwhere(fitCytoplasmCropReg)\n",
    "    while True:\n",
    "        angle = np.random.random(3)*2*np.pi\n",
    "        loc = poss[np.random.randint(poss.shape[0]),:]\n",
    "        obj = B.ellipsoid(radius=radius, angles=angle, center=loc)\n",
    "        s = np.sum(obj&~fitCytoplasmCropReg)\n",
    "        if s == 0:\n",
    "            break\n",
    "        print(s)\n",
    "    if fitMitoCropReg is None:\n",
    "        fitMitoCropReg = obj\n",
    "    else:\n",
    "        fitMitoCropReg |= obj\n",
    "        \n",
    "    fitCytoplasmCropReg &= ~obj"
   ]
  },
  {
   "cell_type": "code",
   "execution_count": null,
   "metadata": {
    "collapsed": true,
    "run_control": {
     "frozen": false,
     "read_only": false
    }
   },
   "outputs": [],
   "source": [
    "%%cython\n",
    "# cython: boundscheck=False\n",
    "# cython: cdivision=True\n",
    "# cython: wraparound=False\n",
    "\n",
    "from libc.stdlib cimport *\n",
    "from posix.stdlib cimport *\n",
    "from libc.stdint cimport *\n",
    "\n",
    "cdef int64_t randIntLessThan(int64_t n):\n",
    "    cdef int64_t x = random()\n",
    "    while x >= RAND_MAX - (RAND_MAX % n):\n",
    "          x = random()\n",
    "    return x % n\n",
    "\n",
    "def placeRibosomes(int n, int64_t[:,:,:] avail, int64_t[:,:,:] rib):\n",
    "    cdef int64_t nx, ny, nz, i, j, k\n",
    "    nx,ny,nz = avail.shape[:3]\n",
    "    \n",
    "    while n > 0:\n",
    "        i = 1+randIntLessThan(nx-2)\n",
    "        j = 1+randIntLessThan(ny-2)\n",
    "        k = 1+randIntLessThan(nz-2)\n",
    "        if avail[i,j,k]:\n",
    "            avail[i-1:i+2,j,k] = 0\n",
    "            avail[i,j-1:j+2,k] = 0\n",
    "            avail[i,j,k-1:k+2] = 0\n",
    "            rib[i,j,k] = 1\n",
    "            n -= 1\n",
    "        "
   ]
  },
  {
   "cell_type": "code",
   "execution_count": null,
   "metadata": {
    "collapsed": true,
    "run_control": {
     "frozen": false,
     "read_only": false
    }
   },
   "outputs": [],
   "source": [
    "avail = B.erode(fitCytoplasmCropReg,1).astype(np.int64)\n",
    "ribTmp = np.zeros(avail.shape, dtype=np.int64)\n",
    "placeRibosomes(nRibosomes, avail, ribTmp)\n",
    "\n",
    "fitRibCropReg = np.array(ribTmp, dtype=bool)"
   ]
  },
  {
   "cell_type": "code",
   "execution_count": null,
   "metadata": {
    "collapsed": true,
    "run_control": {
     "frozen": false,
     "read_only": false
    }
   },
   "outputs": [],
   "source": [
    "fitCytoplasmCropReg &= ~fitRibCropReg"
   ]
  },
  {
   "cell_type": "code",
   "execution_count": null,
   "metadata": {
    "collapsed": true,
    "run_control": {
     "frozen": false,
     "read_only": false
    }
   },
   "outputs": [],
   "source": [
    "with open(simFile(\"yeast_nuc_{}.tcl\".format(decimation)), \"w\") as tcl:\n",
    "    tclTriangleMesh_scratch(\n",
    "           dict(cetEr=cetErCropReg,\n",
    "                cetMem=cetMemCropReg,\n",
    "                cetMito=cetMitoCropReg,\n",
    "                cetNucEnv=cetNucEnvCropReg,\n",
    "                cetChromatin=fitNucleoplasmCropReg,\n",
    "                fitCellWall=fitCellWallCropReg,\n",
    "                fitVacuole=fitVacuoleCropReg,\n",
    "                fitMito=fitMitoCropReg,\n",
    "                fitNucEnv=fitNucEnvCropReg,\n",
    "                fitMem=fitMemCropReg,\n",
    "                fitRib=fitRibCropReg,\n",
    "                fitNucPores=fitNucPoresCropReg,\n",
    "                fitNucleoplasm=fitNucleoplasmCropReg,\n",
    "                box=fitNucleoplasmCropReg | ~fitNucleoplasmCropReg,\n",
    "                fitCytoplasm=fitCytoplasmCropReg),\n",
    "           latticeSpacing, file=tcl)\n",
    "    print(tclMatrix, file=tcl) "
   ]
  },
  {
   "cell_type": "code",
   "execution_count": null,
   "metadata": {
    "collapsed": true,
    "run_control": {
     "frozen": false,
     "read_only": false
    }
   },
   "outputs": [],
   "source": [
    "pickle.dump(dict(\n",
    "        latticeSpacing=latticeSpacing,\n",
    "        cetEr=cetErCropReg,\n",
    "        cetMem=cetMemCropReg,\n",
    "        cetMito=cetMitoCropReg,\n",
    "        cetNucEnv=cetNucEnvCropReg,\n",
    "        fitCellWall=fitCellWallCropReg,\n",
    "        fitVacuole=fitVacuoleCropReg,\n",
    "        fitMito=fitMitoCropReg,\n",
    "        fitNucEnv=fitNucEnvCropReg,\n",
    "        fitMem=fitMemCropReg,\n",
    "        fitRib=fitRibCropReg,\n",
    "        fitNucPores=fitNucPoresCropReg),\n",
    "    open(simFile(\"yeastLatticeData-{}.p\".format(decimation)), \"wb\"))\n"
   ]
  },
  {
   "cell_type": "code",
   "execution_count": null,
   "metadata": {
    "collapsed": true,
    "run_control": {
     "frozen": false,
     "read_only": false
    }
   },
   "outputs": [],
   "source": [
    "ids = dict()\n",
    "lattice = np.zeros(cetErCropReg.shape, dtype=np.uint8)\n",
    "ids['cetErCropReg']=1\n",
    "ids['cetMemCropReg']=2\n",
    "ids['cetMitoCropReg']=3\n",
    "ids['cetNucEnvCropReg']=4\n",
    "ids['fitCellWallCropReg']=5\n",
    "ids['fitVacuoleCropReg']=6\n",
    "ids['fitMitoCropReg']=7\n",
    "ids['fitNucEnvCropReg']=8\n",
    "ids['fitMemCropReg']=9\n",
    "ids['fitLsuCropReg']=10\n",
    "ids['fitSsuCropReg']=11\n",
    "ids['fitNucPoresCropReg']=12\n",
    "ids['fitNucleoplasmCropReg']=13\n",
    "ids['fitCytoplasmCropReg']=14\n",
    "\n",
    "lattice[cetErCropReg]=ids['cetErCropReg']\n",
    "lattice[cetMemCropReg]=ids['cetMemCropReg']\n",
    "lattice[cetMitoCropReg]=ids['cetMitoCropReg']\n",
    "lattice[cetNucEnvCropReg]=ids['cetNucEnvCropReg']\n",
    "lattice[fitCellWallCropReg]=ids['fitCellWallCropReg']\n",
    "lattice[fitVacuoleCropReg]=ids['fitVacuoleCropReg']\n",
    "lattice[fitMitoCropReg]=ids['fitMitoCropReg']\n",
    "lattice[fitNucEnvCropReg]=ids['fitNucEnvCropReg']\n",
    "lattice[fitMemCropReg]=ids['fitMemCropReg']\n",
    "lattice[fitLsuCropReg]=ids['fitLsuCropReg']\n",
    "lattice[fitSsuCropReg]=ids['fitSsuCropReg']\n",
    "lattice[fitNucPoresCropReg]=ids['fitNucPoresCropReg']\n",
    "lattice[fitNucleoplasmCropReg]=ids['fitNucleoplasmCropReg']\n",
    "lattice[fitCytoplasmCropReg]=ids['fitCytoplasmCropReg']\n",
    "\n",
    "pickle.dump(dict(lattice=lattice, \n",
    "                 ids=ids, \n",
    "                 latticeSpacing=latticeSpacing, \n",
    "                 decimation=decimation), \n",
    "            open(simFile(\"yeastLattice.{}.p\".format(decimation)), \"wb\"))"
   ]
  },
  {
   "cell_type": "code",
   "execution_count": null,
   "metadata": {
    "collapsed": true,
    "run_control": {
     "frozen": false,
     "read_only": false
    }
   },
   "outputs": [],
   "source": [
    "None"
   ]
  },
  {
   "cell_type": "code",
   "execution_count": null,
   "metadata": {
    "collapsed": true,
    "run_control": {
     "frozen": false,
     "read_only": false
    }
   },
   "outputs": [],
   "source": []
  }
 ],
 "metadata": {
  "kernelspec": {
   "display_name": "Python 3",
   "language": "python",
   "name": "python3"
  },
  "language_info": {
   "codemirror_mode": {
    "name": "ipython",
    "version": 3
   },
   "file_extension": ".py",
   "mimetype": "text/x-python",
   "name": "python",
   "nbconvert_exporter": "python",
   "pygments_lexer": "ipython3",
   "version": "3.5.3"
  }
 },
 "nbformat": 4,
 "nbformat_minor": 2
}
