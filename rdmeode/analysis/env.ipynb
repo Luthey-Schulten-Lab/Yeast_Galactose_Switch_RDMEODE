{
 "cells": [
  {
   "cell_type": "code",
   "execution_count": null,
   "metadata": {
    "ExecuteTime": {
     "end_time": "2017-03-01T18:11:11.926845",
     "start_time": "2017-03-01T18:11:11.699008"
    },
    "collapsed": true,
    "deletable": true,
    "editable": true,
    "run_control": {
     "frozen": false,
     "read_only": false
    }
   },
   "outputs": [],
   "source": [
    "import numpy as np\n",
    "import pandas as pd\n",
    "import re, itertools, glob, pickle, io, os\n",
    "from functools import reduce\n",
    "import ipywidgets as ipw\n",
    "import IPython\n",
    "import IPython.display as ipd\n",
    "import h5py\n",
    "import PIL, PIL.Image"
   ]
  },
  {
   "cell_type": "code",
   "execution_count": null,
   "metadata": {
    "ExecuteTime": {
     "end_time": "2017-03-01T18:11:12.888640",
     "start_time": "2017-03-01T18:11:12.536939"
    },
    "collapsed": false,
    "deletable": true,
    "editable": true,
    "run_control": {
     "frozen": false,
     "read_only": false
    }
   },
   "outputs": [],
   "source": [
    "import matplotlib as mpl\n",
    "\n",
    "mplRc = {\"axes.grid\": False,\n",
    "         \"image.cmap\":\"inferno\",\n",
    "         \"image.interpolation\":\"nearest\",\n",
    "         \"image.origin\":\"lower\"}\n",
    "\n",
    "# %matplotlib inline\n",
    "%load_ext Cython\n",
    "%load_ext line_profiler\n",
    "\n",
    "\n",
    "\n",
    "h5py.enable_ipython_completer()\n",
    "# ipd.set_matplotlib_formats('png', 'pdf')\n",
    "# method above is deprecated\n",
    "# Replace this line:\n",
    "# ipd.set_matplotlib_formats('png', 'pdf')\n",
    "# With this:\n",
    "# Check IPython version and use appropriate method\n",
    "if IPython.version_info[0] >= 7 and IPython.version_info[1] >= 23:\n",
    "    # For IPython 7.23 and later\n",
    "    import matplotlib_inline\n",
    "    # matplotlib_inline.backend_inline.set_matplotlib_formats('png', 'pdf')\n",
    "else:\n",
    "    # For earlier versions of IPython\n",
    "    ipd.set_matplotlib_formats('png', 'pdf')\n",
    "\n",
    "import seaborn as sns\n",
    "sns.set_context(\"notebook\", font_scale=1.5, rc=mplRc)\n",
    "\n",
    "for k,v in mplRc.items():\n",
    "    mpl.rcParams[k] = v\n",
    "\n",
    "import matplotlib.pyplot as plt\n",
    "import cairocffi as cairo"
   ]
  },
  {
   "cell_type": "code",
   "execution_count": null,
   "metadata": {
    "collapsed": true,
    "deletable": true,
    "editable": true,
    "run_control": {
     "frozen": false,
     "read_only": false
    }
   },
   "outputs": [],
   "source": [
    "from VolData import VolData"
   ]
  },
  {
   "cell_type": "code",
   "execution_count": null,
   "metadata": {
    "collapsed": true,
    "deletable": true,
    "editable": true
   },
   "outputs": [],
   "source": [
    "def dataFile(x):\n",
    "    return os.path.join(os.path.join(os.environ['VIRTUAL_ENV'], \"data\"), x)\n",
    "\n",
    "def simFile(x):\n",
    "    return os.path.join(os.path.join(os.environ['VIRTUAL_ENV'], \"sim\"), x)\n",
    "\n",
    "def manuscriptFile(x):\n",
    "    return os.path.join(os.path.join(os.environ['VIRTUAL_ENV'], \"manuscript\"), x)"
   ]
  }
 ],
 "metadata": {
  "kernelspec": {
   "display_name": "Python 3",
   "language": "python",
   "name": "python3"
  },
  "language_info": {
   "codemirror_mode": {
    "name": "ipython",
    "version": 3
   },
   "file_extension": ".py",
   "mimetype": "text/x-python",
   "name": "python",
   "nbconvert_exporter": "python",
   "pygments_lexer": "ipython3",
   "version": "3.5.3"
  },
  "toc": {
   "colors": {
    "hover_highlight": "#DAA520",
    "running_highlight": "#FF0000",
    "selected_highlight": "#FFD700"
   },
   "moveMenuLeft": true,
   "nav_menu": {
    "height": "12px",
    "width": "252px"
   },
   "navigate_menu": true,
   "number_sections": true,
   "sideBar": true,
   "threshold": 4,
   "toc_cell": false,
   "toc_section_display": "block",
   "toc_window_display": false
  }
 },
 "nbformat": 4,
 "nbformat_minor": 2
}
