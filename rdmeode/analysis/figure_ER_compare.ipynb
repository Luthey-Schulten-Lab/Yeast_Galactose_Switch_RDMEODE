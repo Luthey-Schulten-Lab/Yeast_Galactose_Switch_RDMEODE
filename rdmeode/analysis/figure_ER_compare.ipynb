{
 "cells": [
  {
   "cell_type": "markdown",
   "metadata": {},
   "source": [
    "# ER_compare\n",
    "This is the code used for extracting the data from RDME-ODE simulation results and comparing various trajectories of species with and without ER."
   ]
  },
  {
   "cell_type": "code",
   "execution_count": 6,
   "metadata": {},
   "outputs": [
    {
     "name": "stderr",
     "output_type": "stream",
     "text": [
      "2025-03-26 18:56:39,007 - INFO - This is the file to compare between ER and nonER data: /data2/2024_Yeast_GS/my_current_code/rdme_ode_results/20250322_wtER_60min, /data2/2024_Yeast_GS/my_current_code/rdme_ode_results/20250323_ERriboMarie, and /data2/2024_Yeast_GS/my_current_code/rdme_ode_results/20250310_wtnoer_60min\n"
     ]
    },
    {
     "name": "stdout",
     "output_type": "stream",
     "text": [
      "The Cython extension is already loaded. To reload it, use:\n",
      "  %reload_ext Cython\n",
      "The line_profiler extension is already loaded. To reload it, use:\n",
      "  %reload_ext line_profiler\n"
     ]
    }
   ],
   "source": [
    "%run env.ipynb\n",
    "import pickle\n",
    "import os\n",
    "import numpy as np\n",
    "from jLM.RDME import File as RDMEFile\n",
    "import jLM\n",
    "import json\n",
    "import matplotlib.pyplot as plt\n",
    "import seaborn as sns\n",
    "from traj_analysis_rdme import *\n",
    "from tqdm import tqdm\n",
    "import pandas as pd\n",
    "import logging\n",
    "\n",
    "er_sim1_traj_dir = \"/data2/2024_Yeast_GS/my_current_code/rdme_ode_results/20250322_wtER_60min\"\n",
    "noer_traj_dir = \"/data2/2024_Yeast_GS/my_current_code/rdme_ode_results/20250310_wtnoer_60min\"\n",
    "er_sim2_traj_dir = \"/data2/2024_Yeast_GS/my_current_code/rdme_ode_results/20250323_ERriboMarie\"\n",
    "fig_dir = os.path.join(er_sim2_traj_dir, 'figures_diffriboMarie_comparison/')\n",
    "\n",
    "if not os.path.exists(fig_dir):\n",
    "    os.makedirs(fig_dir)\n",
    "# Configure logging\n",
    "log_file = os.path.join(fig_dir, 'run_log.log')\n",
    "logging.basicConfig(\n",
    "    level=logging.INFO,\n",
    "    format='%(asctime)s - %(levelname)s - %(message)s',\n",
    "    handlers=[\n",
    "        logging.FileHandler(log_file),\n",
    "        logging.StreamHandler()\n",
    "    ]\n",
    ")\n",
    "\n",
    "\n",
    "logging.info(f\"This is the file to compare between ER and nonER data: {er_sim1_traj_dir}, {er_sim2_traj_dir}, and {noer_traj_dir}\")\n",
    "\n"
   ]
  },
  {
   "cell_type": "markdown",
   "metadata": {},
   "source": [
    "default, get data required"
   ]
  },
  {
   "cell_type": "code",
   "execution_count": 7,
   "metadata": {},
   "outputs": [
    {
     "name": "stderr",
     "output_type": "stream",
     "text": [
      "2025-03-26 18:56:39,047 - INFO - ER files: ['yeastER1.13er_mt_multi_20250320_12_t60.0minGAE11.1mMERwt_gpu4.lm', 'yeastER1.13er_mt_multi_20250320_14_t60.0minGAE11.1mMERwt_gpu4.lm', 'yeastER1.13er_mt_multi_20250320_13_t60.0minGAE11.1mMERwt_gpu4.lm', 'yeastER1.13er_mt_multi_20250316_11_t60.0minGAE11.1mMERwt_gpu4.lm', 'yeastER1.13er_mt_multi_20250320_15_t60.0minGAE11.1mMERwt_gpu4.lm'], ['yeastER1.13er_mt_multi_20250323_94_t60.0minGAE11.1mMERwtMarie_gpu4.lm', 'yeastER1.13er_mt_multi_20250323_93_t60.0minGAE11.1mMERwtMarie_gpu4.lm', 'yeastER1.13er_mt_multi_20250323_92_t60.0minGAE11.1mMERwtMarie_gpu4.lm', 'yeastER1.13er_mt_multi_20250323_91_t60.0minGAE11.1mMERwtMarie_gpu4.lm', 'yeastER1.13er_mt_multi_20250323_95_t60.0minGAE11.1mMERwtMarie_gpu4.lm']\n",
      "2025-03-26 18:56:39,047 - INFO - NOER files: ['yeast1.14.3mt20250304_4_t60.0minGAE11.1mMnoERwt_gpu4.lm', 'yeast1.14.3mt20250304_5_t60.0minGAE11.1mMnoERwt_gpu4.lm', 'yeast1.14.3mt20250304_3_t60.0minGAE11.1mMnoERwt_gpu4.lm', 'yeast1.14.3mt20250303_1_t60.0minGAE11.1mMnoERwt_gpu4.lm', 'yeast1.14.3mt20250303_2_t60.0minGAE11.1mMnoERwt_gpu4.lm']\n",
      "Processing ER sim1 files:   0%|          | 0/5 [00:00<?, ?file/s]2025-03-26 18:56:39,050 - INFO - Processing ER sim1 file: yeastER1.13er_mt_multi_20250320_12_t60.0minGAE11.1mMERwt_gpu4.lm\n",
      "Processing ER sim1 files:  20%|██        | 1/5 [00:02<00:08,  2.02s/file]2025-03-26 18:56:41,071 - INFO - Processing ER sim1 file: yeastER1.13er_mt_multi_20250320_14_t60.0minGAE11.1mMERwt_gpu4.lm\n"
     ]
    },
    {
     "name": "stdout",
     "output_type": "stream",
     "text": [
      "no region data\n"
     ]
    },
    {
     "name": "stderr",
     "output_type": "stream",
     "text": [
      "Processing ER sim1 files:  40%|████      | 2/5 [00:04<00:06,  2.11s/file]2025-03-26 18:56:43,238 - INFO - Processing ER sim1 file: yeastER1.13er_mt_multi_20250320_13_t60.0minGAE11.1mMERwt_gpu4.lm\n"
     ]
    },
    {
     "name": "stdout",
     "output_type": "stream",
     "text": [
      "no region data\n"
     ]
    },
    {
     "name": "stderr",
     "output_type": "stream",
     "text": [
      "Processing ER sim1 files:  60%|██████    | 3/5 [00:05<00:03,  1.94s/file]2025-03-26 18:56:44,969 - INFO - Processing ER sim1 file: yeastER1.13er_mt_multi_20250316_11_t60.0minGAE11.1mMERwt_gpu4.lm\n"
     ]
    },
    {
     "name": "stdout",
     "output_type": "stream",
     "text": [
      "no region data\n"
     ]
    },
    {
     "name": "stderr",
     "output_type": "stream",
     "text": [
      "Processing ER sim1 files:  80%|████████  | 4/5 [00:07<00:01,  1.87s/file]2025-03-26 18:56:46,742 - INFO - Processing ER sim1 file: yeastER1.13er_mt_multi_20250320_15_t60.0minGAE11.1mMERwt_gpu4.lm\n"
     ]
    },
    {
     "name": "stdout",
     "output_type": "stream",
     "text": [
      "no region data\n"
     ]
    },
    {
     "name": "stderr",
     "output_type": "stream",
     "text": [
      "Processing ER sim1 files: 100%|██████████| 5/5 [00:09<00:00,  1.88s/file]\n"
     ]
    },
    {
     "name": "stdout",
     "output_type": "stream",
     "text": [
      "no region data\n"
     ]
    },
    {
     "name": "stderr",
     "output_type": "stream",
     "text": [
      "Processing ER sim2 files:   0%|          | 0/5 [00:00<?, ?file/s]2025-03-26 18:56:48,445 - INFO - Processing ER sim2 file: yeastER1.13er_mt_multi_20250323_94_t60.0minGAE11.1mMERwtMarie_gpu4.lm\n",
      "Processing ER sim2 files:  20%|██        | 1/5 [00:01<00:07,  1.78s/file]2025-03-26 18:56:50,229 - INFO - Processing ER sim2 file: yeastER1.13er_mt_multi_20250323_93_t60.0minGAE11.1mMERwtMarie_gpu4.lm\n"
     ]
    },
    {
     "name": "stdout",
     "output_type": "stream",
     "text": [
      "no region data\n"
     ]
    },
    {
     "name": "stderr",
     "output_type": "stream",
     "text": [
      "Processing ER sim2 files:  40%|████      | 2/5 [00:03<00:05,  1.79s/file]2025-03-26 18:56:52,018 - INFO - Processing ER sim2 file: yeastER1.13er_mt_multi_20250323_92_t60.0minGAE11.1mMERwtMarie_gpu4.lm\n"
     ]
    },
    {
     "name": "stdout",
     "output_type": "stream",
     "text": [
      "no region data\n"
     ]
    },
    {
     "name": "stderr",
     "output_type": "stream",
     "text": [
      "Processing ER sim2 files:  60%|██████    | 3/5 [00:05<00:03,  1.80s/file]2025-03-26 18:56:53,839 - INFO - Processing ER sim2 file: yeastER1.13er_mt_multi_20250323_91_t60.0minGAE11.1mMERwtMarie_gpu4.lm\n"
     ]
    },
    {
     "name": "stdout",
     "output_type": "stream",
     "text": [
      "no region data\n"
     ]
    },
    {
     "name": "stderr",
     "output_type": "stream",
     "text": [
      "Processing ER sim2 files:  80%|████████  | 4/5 [00:07<00:01,  1.78s/file]2025-03-26 18:56:55,577 - INFO - Processing ER sim2 file: yeastER1.13er_mt_multi_20250323_95_t60.0minGAE11.1mMERwtMarie_gpu4.lm\n"
     ]
    },
    {
     "name": "stdout",
     "output_type": "stream",
     "text": [
      "no region data\n"
     ]
    },
    {
     "name": "stderr",
     "output_type": "stream",
     "text": [
      "Processing ER sim2 files: 100%|██████████| 5/5 [00:08<00:00,  1.80s/file]\n"
     ]
    },
    {
     "name": "stdout",
     "output_type": "stream",
     "text": [
      "no region data\n"
     ]
    },
    {
     "name": "stderr",
     "output_type": "stream",
     "text": [
      "Processing NOER files:   0%|          | 0/5 [00:00<?, ?file/s]2025-03-26 18:56:57,424 - INFO - Processing NOER file: yeast1.14.3mt20250304_4_t60.0minGAE11.1mMnoERwt_gpu4.lm\n",
      "Processing NOER files:  20%|██        | 1/5 [00:01<00:06,  1.70s/file]2025-03-26 18:56:59,123 - INFO - Processing NOER file: yeast1.14.3mt20250304_5_t60.0minGAE11.1mMnoERwt_gpu4.lm\n"
     ]
    },
    {
     "name": "stdout",
     "output_type": "stream",
     "text": [
      "no region data\n"
     ]
    },
    {
     "name": "stderr",
     "output_type": "stream",
     "text": [
      "Processing NOER files:  40%|████      | 2/5 [00:03<00:05,  1.71s/file]2025-03-26 18:57:00,834 - INFO - Processing NOER file: yeast1.14.3mt20250304_3_t60.0minGAE11.1mMnoERwt_gpu4.lm\n"
     ]
    },
    {
     "name": "stdout",
     "output_type": "stream",
     "text": [
      "no region data\n"
     ]
    },
    {
     "name": "stderr",
     "output_type": "stream",
     "text": [
      "Processing NOER files:  60%|██████    | 3/5 [00:05<00:03,  1.70s/file]2025-03-26 18:57:02,526 - INFO - Processing NOER file: yeast1.14.3mt20250303_1_t60.0minGAE11.1mMnoERwt_gpu4.lm\n"
     ]
    },
    {
     "name": "stdout",
     "output_type": "stream",
     "text": [
      "no region data\n"
     ]
    },
    {
     "name": "stderr",
     "output_type": "stream",
     "text": [
      "Processing NOER files:  80%|████████  | 4/5 [00:06<00:01,  1.70s/file]2025-03-26 18:57:04,222 - INFO - Processing NOER file: yeast1.14.3mt20250303_2_t60.0minGAE11.1mMnoERwt_gpu4.lm\n"
     ]
    },
    {
     "name": "stdout",
     "output_type": "stream",
     "text": [
      "no region data\n"
     ]
    },
    {
     "name": "stderr",
     "output_type": "stream",
     "text": [
      "Processing NOER files: 100%|██████████| 5/5 [00:08<00:00,  1.70s/file]"
     ]
    },
    {
     "name": "stdout",
     "output_type": "stream",
     "text": [
      "no region data\n"
     ]
    },
    {
     "name": "stderr",
     "output_type": "stream",
     "text": [
      "\n",
      "2025-03-26 18:57:06,617 - INFO - ER statistics saved to: /data2/2024_Yeast_GS/my_current_code/rdme_ode_results/20250323_ERriboMarie/figures_diffriboMarie_comparison/er_sim1_species_statistics.csv, /data2/2024_Yeast_GS/my_current_code/rdme_ode_results/20250323_ERriboMarie/figures_diffriboMarie_comparison/er_sim2_species_statistics.csv\n",
      "2025-03-26 18:57:06,618 - INFO - NOER statistics saved to: /data2/2024_Yeast_GS/my_current_code/rdme_ode_results/20250323_ERriboMarie/figures_diffriboMarie_comparison/noer_species_statistics.csv\n"
     ]
    }
   ],
   "source": [
    "\n",
    "\n",
    "er_sim1_files = [f for f in os.listdir(er_sim1_traj_dir) if f.startswith('yeast') and f.endswith('.lm')]\n",
    "er_sim2_files = [f for f in os.listdir(er_sim2_traj_dir) if f.startswith('yeast') and f.endswith('.lm')]\n",
    "noer_files = [f for f in os.listdir(noer_traj_dir) if f.startswith('yeast') and f.endswith('.lm')]\n",
    "traj_suff = \"_ode.jsonl\"\n",
    "\n",
    "logging.info(f\"ER files: {er_sim1_files}, {er_sim2_files}\")\n",
    "logging.info(f\"NOER files: {noer_files}\")\n",
    "\n",
    "# Initialize dictionaries to store data for each species\n",
    "er_sim1_species_data = {}\n",
    "noer_species_data = {}\n",
    "er_sim2_species_data = {}\n",
    "er_sim1_ode_data = {}\n",
    "noer_ode_data = {}\n",
    "er_sim2_ode_data = {}\n",
    "rdmeTs = None\n",
    "odeTs = None\n",
    "er_sim1_files = [f for f in os.listdir(er_sim1_traj_dir) if f.startswith('yeast') and f.endswith('.lm')]\n",
    "# Process ER sim1 files\n",
    "for traj_file in tqdm(er_sim1_files, desc=\"Processing ER sim1 files\", unit=\"file\"):\n",
    "    logging.info(f\"Processing ER sim1 file: {traj_file}\")\n",
    "    traj, odeTraj, region_traj = get_traj(er_sim1_traj_dir, traj_file, traj_suff)\n",
    "    curr_rdmeTs, rdmeYs, curr_odeTs, odeYs, _, _ = get_data_for_plot(traj, odeTraj, region_traj=None, sparse_factor=1)\n",
    "    NAV_ER_SIM1 = 6.022e23 * (traj.reg.cytoplasm.volume + traj.reg.nucleoplasm.volume + traj.reg.plasmaMembrane.volume)\n",
    "    if rdmeTs is None:\n",
    "        rdmeTs = curr_rdmeTs\n",
    "        odeTs = curr_odeTs\n",
    "\n",
    "    for species, data in rdmeYs.items():\n",
    "        if species not in er_sim1_species_data:\n",
    "            er_sim1_species_data[species] = []\n",
    "        er_sim1_species_data[species].append(data)\n",
    "\n",
    "    for species, data in odeYs.items():\n",
    "        if species not in er_sim1_ode_data:\n",
    "            er_sim1_ode_data[species] = []\n",
    "        er_sim1_ode_data[species].append(data)\n",
    "\n",
    "# Process ER sim2 files\n",
    "er_sim2_files = [f for f in os.listdir(er_sim2_traj_dir) if f.startswith('yeast') and f.endswith('.lm')]\n",
    "for traj_file in tqdm(er_sim2_files, desc=\"Processing ER sim2 files\", unit=\"file\"):\n",
    "    logging.info(f\"Processing ER sim2 file: {traj_file}\")\n",
    "    traj, odeTraj, region_traj = get_traj(er_sim2_traj_dir, traj_file, traj_suff)\n",
    "    _, rdmeYs, _, odeYs, _, _ = get_data_for_plot(traj, odeTraj, region_traj=None, sparse_factor=1)\n",
    "    NAV_ER_SIM2 = 6.022e23 * (traj.reg.cytoplasm.volume + traj.reg.nucleoplasm.volume + traj.reg.plasmaMembrane.volume)\n",
    "    \n",
    "    for species, data in rdmeYs.items():\n",
    "        if species not in er_sim2_species_data:\n",
    "            er_sim2_species_data[species] = []\n",
    "        er_sim2_species_data[species].append(data)\n",
    "\n",
    "    for species, data in odeYs.items():\n",
    "        if species not in er_sim2_ode_data:\n",
    "            er_sim2_ode_data[species] = []\n",
    "        er_sim2_ode_data[species].append(data)\n",
    "    \n",
    "\n",
    "# Process NOER files\n",
    "for traj_file in tqdm(noer_files, desc=\"Processing NOER files\", unit=\"file\"):\n",
    "    logging.info(f\"Processing NOER file: {traj_file}\")\n",
    "    traj, odeTraj, _ = get_traj(noer_traj_dir, traj_file, traj_suff)\n",
    "    _, rdmeYs, _, odeYs, _, _ = get_data_for_plot(traj, odeTraj, region_traj=None, sparse_factor=1)\n",
    "    NAV_NOER = 6.022e23 * (traj.reg.cytoplasm.volume + traj.reg.nucleoplasm.volume)\n",
    "    for species, data in rdmeYs.items():\n",
    "        if species not in noer_species_data:\n",
    "            noer_species_data[species] = []\n",
    "        noer_species_data[species].append(data)\n",
    "\n",
    "    for species, data in odeYs.items():\n",
    "        if species not in noer_ode_data:\n",
    "            noer_ode_data[species] = []\n",
    "        noer_ode_data[species].append(data)\n",
    "\n",
    "# Calculate and save ER statistics\n",
    "er_sim1_results = []\n",
    "er_sim2_results = []\n",
    "noer_results = []\n",
    "\n",
    "# Process ER sim1 data\n",
    "for species, trajectories in er_sim1_species_data.items():\n",
    "    trajectories_array = np.array(trajectories)\n",
    "    avg = np.mean(trajectories_array, axis=0)\n",
    "    std = np.std(trajectories_array, axis=0)\n",
    "    \n",
    "    er_sim1_results.append({\n",
    "        'Species': f\"RDME_{species}\",\n",
    "        'Time': ','.join(map(str, rdmeTs)),\n",
    "        'Average': ','.join(map(str, avg)),\n",
    "        'Std': ','.join(map(str, std))\n",
    "    })\n",
    "\n",
    "for species, trajectories in er_sim1_ode_data.items():\n",
    "    trajectories_array = np.array(trajectories)\n",
    "    avg = np.mean(trajectories_array, axis=0)\n",
    "    std = np.std(trajectories_array, axis=0)\n",
    "    \n",
    "    er_sim1_results.append({\n",
    "        'Species': f\"ODE_{species}\",\n",
    "        'Time': ','.join(map(str, odeTs)),\n",
    "        'Average': ','.join(map(str, avg)),\n",
    "        'Std': ','.join(map(str, std))\n",
    "    })\n",
    "\n",
    "# Process ER sim2 data\n",
    "for species, trajectories in er_sim2_species_data.items():\n",
    "    trajectories_array = np.array(trajectories)\n",
    "    avg = np.mean(trajectories_array, axis=0)\n",
    "    std = np.std(trajectories_array, axis=0)\n",
    "    \n",
    "    er_sim2_results.append({\n",
    "        'Species': f\"RDME_{species}\",\n",
    "        'Time': ','.join(map(str, rdmeTs)),\n",
    "        'Average': ','.join(map(str, avg)),\n",
    "        'Std': ','.join(map(str, std))\n",
    "    })\n",
    "\n",
    "for species, trajectories in er_sim2_ode_data.items():\n",
    "    trajectories_array = np.array(trajectories)\n",
    "    avg = np.mean(trajectories_array, axis=0)\n",
    "    std = np.std(trajectories_array, axis=0)\n",
    "    \n",
    "    er_sim2_results.append({\n",
    "        'Species': f\"ODE_{species}\",\n",
    "        'Time': ','.join(map(str, odeTs)),\n",
    "        'Average': ','.join(map(str, avg)),\n",
    "        'Std': ','.join(map(str, std))\n",
    "    })\n",
    "    \n",
    "# Calculate and save NOER statistics\n",
    "noer_results = []\n",
    "for species, trajectories in noer_species_data.items():\n",
    "    trajectories_array = np.array(trajectories)\n",
    "    avg = np.mean(trajectories_array, axis=0)\n",
    "    std = np.std(trajectories_array, axis=0)\n",
    "    \n",
    "    noer_results.append({\n",
    "        'Species': f\"RDME_{species}\",\n",
    "        'Time': ','.join(map(str, rdmeTs)),\n",
    "        'Average': ','.join(map(str, avg)),\n",
    "        'Std': ','.join(map(str, std))\n",
    "    })\n",
    "\n",
    "for species, trajectories in noer_ode_data.items():\n",
    "    trajectories_array = np.array(trajectories)\n",
    "    avg = np.mean(trajectories_array, axis=0)\n",
    "    std = np.std(trajectories_array, axis=0)\n",
    "    \n",
    "    noer_results.append({\n",
    "        'Species': f\"ODE_{species}\",\n",
    "        'Time': ','.join(map(str, odeTs)),\n",
    "        'Average': ','.join(map(str, avg)),\n",
    "        'Std': ','.join(map(str, std))\n",
    "    })\n",
    "\n",
    "# Save to CSV files\n",
    "er_sim1_df = pd.DataFrame(er_sim1_results)\n",
    "er_sim2_df = pd.DataFrame(er_sim2_results)\n",
    "noer_df = pd.DataFrame(noer_results)\n",
    "\n",
    "er_sim1_csv_path = os.path.join(fig_dir, 'er_sim1_species_statistics.csv')\n",
    "er_sim2_csv_path = os.path.join(fig_dir, 'er_sim2_species_statistics.csv')\n",
    "noer_csv_path = os.path.join(fig_dir, 'noer_species_statistics.csv')\n",
    "\n",
    "er_sim1_df.to_csv(er_sim1_csv_path, index=False)\n",
    "er_sim2_df.to_csv(er_sim2_csv_path, index=False)\n",
    "noer_df.to_csv(noer_csv_path, index=False)\n",
    "\n",
    "logging.info(f\"ER statistics saved to: {er_sim1_csv_path}, {er_sim2_csv_path}\")\n",
    "logging.info(f\"NOER statistics saved to: {noer_csv_path}\")\n"
   ]
  },
  {
   "cell_type": "markdown",
   "metadata": {},
   "source": [
    "plot comparison graphs"
   ]
  },
  {
   "cell_type": "code",
   "execution_count": 8,
   "metadata": {},
   "outputs": [
    {
     "name": "stderr",
     "output_type": "stream",
     "text": [
      "2025-03-26 18:57:06,690 - INFO - Available species in ER:  ['RDME_DGrep', 'RDME_DGrep_G4d', 'RDME_DGrep_G4d_G80d', 'RDME_Rrep', 'RDME_Grep', 'RDME_DG1', 'RDME_DG1_G4d', 'RDME_DG1_G4d_G80d', 'RDME_R1', 'RDME_G1', 'RDME_DG2', 'RDME_DG2_G4d', 'RDME_DG2_G4d_G80d', 'RDME_R2', 'RDME_G2', 'RDME_DG3', 'RDME_DG3_G4d', 'RDME_DG3_G4d_G80d', 'RDME_R3', 'RDME_G3', 'RDME_G3i', 'RDME_DG4', 'RDME_R4', 'RDME_G4', 'RDME_G4d', 'RDME_DG80', 'RDME_DG80_G4d', 'RDME_DG80_G4d_G80d', 'RDME_R80', 'RDME_G80', 'RDME_G80d', 'RDME_G80d_G3i', 'RDME_ribosome', 'RDME_ribosomeR1', 'RDME_ribosomeR2', 'RDME_ribosomeR3', 'RDME_ribosomeR4', 'RDME_ribosomeR80', 'RDME_ribosomeGrep', 'ODE_GAI', 'ODE_G1', 'ODE_G1GAI', 'ODE_G2GAI', 'ODE_G2GAE', 'ODE_G2']\n",
      "2025-03-26 18:57:06,690 - INFO - Available species in ER:  ['RDME_DGrep', 'RDME_DGrep_G4d', 'RDME_DGrep_G4d_G80d', 'RDME_Rrep', 'RDME_Grep', 'RDME_DG1', 'RDME_DG1_G4d', 'RDME_DG1_G4d_G80d', 'RDME_R1', 'RDME_G1', 'RDME_DG2', 'RDME_DG2_G4d', 'RDME_DG2_G4d_G80d', 'RDME_R2', 'RDME_G2', 'RDME_DG3', 'RDME_DG3_G4d', 'RDME_DG3_G4d_G80d', 'RDME_R3', 'RDME_G3', 'RDME_G3i', 'RDME_DG4', 'RDME_R4', 'RDME_G4', 'RDME_G4d', 'RDME_DG80', 'RDME_DG80_G4d', 'RDME_DG80_G4d_G80d', 'RDME_R80', 'RDME_G80', 'RDME_G80d', 'RDME_G80d_G3i', 'RDME_ribosome', 'RDME_ribosomeR1', 'RDME_ribosomeR2', 'RDME_ribosomeR3', 'RDME_ribosomeR4', 'RDME_ribosomeR80', 'RDME_ribosomeGrep', 'ODE_GAI', 'ODE_G1', 'ODE_G1GAI', 'ODE_G2GAI', 'ODE_G2GAE', 'ODE_G2']\n",
      "2025-03-26 18:57:06,691 - INFO - Available species in NOER:  ['RDME_DGrep', 'RDME_DGrep_G4d', 'RDME_DGrep_G4d_G80d', 'RDME_Rrep', 'RDME_Grep', 'RDME_DG1', 'RDME_DG1_G4d', 'RDME_DG1_G4d_G80d', 'RDME_R1', 'RDME_G1', 'RDME_DG2', 'RDME_DG2_G4d', 'RDME_DG2_G4d_G80d', 'RDME_R2', 'RDME_G2', 'RDME_DG3', 'RDME_DG3_G4d', 'RDME_DG3_G4d_G80d', 'RDME_R3', 'RDME_G3', 'RDME_G3i', 'RDME_DG4', 'RDME_R4', 'RDME_G4', 'RDME_G4d', 'RDME_DG80', 'RDME_DG80_G4d', 'RDME_DG80_G4d_G80d', 'RDME_R80', 'RDME_G80', 'RDME_G80d', 'RDME_G80d_G3i', 'RDME_ribosome', 'RDME_ribosomeR1', 'RDME_ribosomeR2', 'RDME_ribosomeR3', 'RDME_ribosomeR4', 'RDME_ribosomeR80', 'RDME_ribosomeGrep', 'ODE_GAI', 'ODE_G1', 'ODE_G1GAI', 'ODE_G2GAI', 'ODE_G2GAE', 'ODE_G2']\n",
      "2025-03-26 18:57:06,692 - INFO - \n",
      "Unique species:  {'RDME_DGrep_G4d', 'RDME_ribosomeR1', 'RDME_DG80_G4d', 'RDME_DG2_G4d_G80d', 'RDME_R4', 'RDME_R3', 'RDME_DGrep_G4d_G80d', 'ODE_G1GAI', 'RDME_DG1', 'ODE_G2GAE', 'RDME_Rrep', 'RDME_DG80', 'RDME_ribosome', 'RDME_ribosomeR80', 'RDME_ribosomeGrep', 'RDME_ribosomeR4', 'RDME_DG2_G4d', 'RDME_ribosomeR2', 'RDME_G4', 'RDME_R1', 'RDME_G4d', 'RDME_Grep', 'RDME_DG80_G4d_G80d', 'RDME_DG2', 'RDME_DG3_G4d_G80d', 'RDME_G80', 'ODE_G1', 'RDME_DG1_G4d_G80d', 'RDME_G2', 'RDME_G80d', 'RDME_DG3', 'RDME_R2', 'RDME_DG1_G4d', 'RDME_G1', 'RDME_R80', 'RDME_G80d_G3i', 'RDME_G3', 'RDME_G3i', 'RDME_DG4', 'RDME_ribosomeR3', 'RDME_DG3_G4d', 'ODE_G2GAI', 'ODE_GAI', 'ODE_G2', 'RDME_DGrep'}\n",
      "2025-03-26 18:57:07,934 - INFO - Saved plot for DGrep:G4d\n",
      "2025-03-26 18:57:09,071 - INFO - Saved plot for ribosomeR1\n",
      "2025-03-26 18:57:10,222 - INFO - Saved plot for DG80:G4d\n",
      "2025-03-26 18:57:11,391 - INFO - Saved plot for DG2:G4d:G80d\n",
      "2025-03-26 18:57:12,599 - INFO - Saved plot for R4\n",
      "2025-03-26 18:57:14,232 - INFO - Saved plot for R3\n",
      "2025-03-26 18:57:15,465 - INFO - Saved plot for DGrep:G4d:G80d\n",
      "2025-03-26 18:57:16,509 - INFO - Saved plot for G1GAI\n",
      "2025-03-26 18:57:17,626 - INFO - Saved plot for DG1\n",
      "2025-03-26 18:57:18,677 - INFO - Saved plot for G2GAE\n",
      "2025-03-26 18:57:19,965 - INFO - Saved plot for Rrep\n",
      "2025-03-26 18:57:20,953 - INFO - Saved plot for DG80\n",
      "2025-03-26 18:57:22,368 - INFO - Saved plot for ribosome\n",
      "2025-03-26 18:57:23,565 - INFO - Saved plot for ribosomeR80\n",
      "2025-03-26 18:57:24,765 - INFO - Saved plot for ribosomeGrep\n",
      "2025-03-26 18:57:25,870 - INFO - Saved plot for ribosomeR4\n",
      "2025-03-26 18:57:27,072 - INFO - Saved plot for DG2:G4d\n",
      "2025-03-26 18:57:28,879 - INFO - Saved plot for ribosomeR2\n",
      "2025-03-26 18:57:30,098 - INFO - Saved plot for G4\n",
      "2025-03-26 18:57:31,389 - INFO - Saved plot for R1\n",
      "2025-03-26 18:57:32,452 - INFO - Saved plot for G4d\n",
      "2025-03-26 18:57:33,527 - INFO - Saved plot for Grep\n",
      "2025-03-26 18:57:34,625 - INFO - Saved plot for DG80:G4d:G80d\n",
      "2025-03-26 18:57:35,734 - INFO - Saved plot for DG2\n",
      "2025-03-26 18:57:36,831 - INFO - Saved plot for DG3:G4d:G80d\n",
      "2025-03-26 18:57:38,281 - INFO - Saved plot for G80\n",
      "2025-03-26 18:57:39,398 - INFO - Saved plot for G1\n",
      "2025-03-26 18:57:40,601 - INFO - Saved plot for DG1:G4d:G80d\n",
      "2025-03-26 18:57:41,694 - INFO - Saved plot for G2\n",
      "2025-03-26 18:57:42,759 - INFO - Saved plot for G80d\n",
      "2025-03-26 18:57:43,789 - INFO - Saved plot for DG3\n",
      "2025-03-26 18:57:45,855 - INFO - Saved plot for R2\n",
      "2025-03-26 18:57:47,069 - INFO - Saved plot for DG1:G4d\n",
      "2025-03-26 18:57:48,127 - INFO - Saved plot for G1\n",
      "2025-03-26 18:57:49,458 - INFO - Saved plot for R80\n",
      "2025-03-26 18:57:50,517 - INFO - Saved plot for G80d:G3i\n",
      "2025-03-26 18:57:51,614 - INFO - Saved plot for G3\n",
      "2025-03-26 18:57:52,875 - INFO - Saved plot for G3i\n",
      "2025-03-26 18:57:53,736 - INFO - Saved plot for DG4\n",
      "2025-03-26 18:57:55,387 - INFO - Saved plot for ribosomeR3\n",
      "2025-03-26 18:57:56,528 - INFO - Saved plot for DG3:G4d\n",
      "2025-03-26 18:57:57,693 - INFO - Saved plot for G2GAI\n",
      "2025-03-26 18:57:58,805 - INFO - Saved plot for GAI\n",
      "2025-03-26 18:57:59,811 - INFO - Saved plot for G2\n",
      "2025-03-26 18:58:00,813 - INFO - Saved plot for DGrep\n",
      "2025-03-26 18:58:00,814 - INFO - \n",
      "Plots saved in: /data2/2024_Yeast_GS/my_current_code/rdme_ode_results/20250323_ERriboMarie/figures_diffriboMarie_comparison/\n"
     ]
    }
   ],
   "source": [
    "# Read the saved statistics\n",
    "er_sim1_df = pd.read_csv(os.path.join(fig_dir, 'er_sim1_species_statistics.csv'))\n",
    "er_sim2_df = pd.read_csv(os.path.join(fig_dir, 'er_sim2_species_statistics.csv'))\n",
    "noer_df = pd.read_csv(os.path.join(fig_dir, 'noer_species_statistics.csv'))\n",
    "\n",
    "# Function to convert string of comma-separated values to numpy array\n",
    "def str_to_array(s):\n",
    "    return np.array([float(x) for x in s.split(',')])\n",
    "\n",
    "# Debug: logging.info available species\n",
    "logging.info(f\"Available species in ER:  {er_sim1_df['Species'].tolist()}\")\n",
    "logging.info(f\"Available species in ER:  {er_sim2_df['Species'].tolist()}\")\n",
    "logging.info(f\"Available species in NOER:  {noer_df['Species'].tolist()}\")\n",
    "\n",
    "# Get unique species names directly from the CSV\n",
    "unique_species = set(er_sim1_df['Species'].unique()) | set(er_sim2_df['Species'].unique()) | set(noer_df['Species'].unique())\n",
    "logging.info(f\"\\nUnique species:  {unique_species}\")\n",
    "\n",
    "# Plot settings\n",
    "# Common plot settings for poster presentation\n",
    "plt.style.use('default')\n",
    "plt.rcParams['figure.figsize'] = [10, 6]\n",
    "plt.rcParams['figure.dpi'] = 600\n",
    "plt.rcParams['font.size'] = 18  # Increase base font size\n",
    "plt.rcParams['axes.titlesize'] = 28  # Increase title font size\n",
    "plt.rcParams['axes.labelsize'] = 18  # Increase axis label font size\n",
    "plt.rcParams['xtick.labelsize'] = 18  # Increase tick label font size\n",
    "plt.rcParams['ytick.labelsize'] = 18  # Increase tick label font size\n",
    "plt.rcParams['legend.fontsize'] = 18  # Increase legend font size\n",
    "\n",
    "# Create plots for each species\n",
    "for species_name in unique_species:\n",
    "    fig, ax = plt.subplots()\n",
    "    \n",
    "    # Safely get data\n",
    "    er_sim1_species_data = er_sim1_df[er_sim1_df['Species'] == species_name]\n",
    "    er_sim2_species_data = er_sim2_df[er_sim2_df['Species'] == species_name]\n",
    "    noer_species_data = noer_df[noer_df['Species'] == species_name]\n",
    "    \n",
    "    if len(er_sim1_species_data) == 0 or len(er_sim2_species_data) == 0 or len(noer_species_data) == 0:\n",
    "        logging.info(f\"Skipping {species_name} - data not found\")\n",
    "        continue\n",
    "        \n",
    "    er_sim1_data = er_sim1_species_data.iloc[0]\n",
    "    er_sim2_data = er_sim2_species_data.iloc[0]\n",
    "    noer_data = noer_species_data.iloc[0]\n",
    "    # er_sim1\n",
    "    time = str_to_array(er_sim1_data['Time'])\n",
    "    er_sim1_avg = str_to_array(er_sim1_data['Average'])\n",
    "    er_sim1_std = str_to_array(er_sim1_data['Std'])\n",
    "    # er_sim2\n",
    "    er_sim2_avg = str_to_array(er_sim2_data['Average'])\n",
    "    er_sim2_std = str_to_array(er_sim2_data['Std'])\n",
    "    # noer\n",
    "    noer_avg = str_to_array(noer_data['Average'])\n",
    "    noer_std = str_to_array(noer_data['Std'])\n",
    "    \n",
    "    # display name\n",
    "    display_name = species_name.split('_', 1)[1] if '_' in species_name else species_name\n",
    "    # Replace any subsequent underscores with colons\n",
    "    display_name = display_name.replace('_', ':')\n",
    "    noer_color = '#0072B2'    # Blue for no ER\n",
    "    er_sim1_color = '#D55E00'  # Vermillion/Orange-red for ER sim1\n",
    "    er_sim2_color = '#009E73'  # Bluish green for ER sim2 (ERriboMarie)\n",
    "\n",
    "    # Plot ER sim1\n",
    "    ax.plot(time, er_sim1_avg, label='ER sim1', linestyle='-', color=er_sim1_color)\n",
    "    ax.fill_between(time, er_sim1_avg - er_sim1_std, \n",
    "                   er_sim1_avg + er_sim1_std, \n",
    "                   alpha=0.2, \n",
    "                   color=er_sim1_color)\n",
    "    \n",
    "    # Plot ER sim2 (ERriboMarie)\n",
    "    ax.plot(time, er_sim2_avg, label='ER sim2', linestyle='-', color=er_sim2_color)\n",
    "    ax.fill_between(time, er_sim2_avg - er_sim2_std, \n",
    "                   er_sim2_avg + er_sim2_std, \n",
    "                   alpha=0.2, \n",
    "                   color=er_sim2_color)\n",
    "    \n",
    "    # Plot NOER\n",
    "    ax.plot(time, noer_avg, label='NOER', linestyle='--', color=noer_color)\n",
    "    ax.fill_between(time, noer_avg - noer_std, \n",
    "                   noer_avg + noer_std, \n",
    "                   alpha=0.2, \n",
    "                   color=noer_color)\n",
    "    # Customize plot\n",
    "    ax.set_xlabel('Time (min)')\n",
    "    if species_name.startswith('RDME_DG'):  # Change y-label for species starting with 'DG'\n",
    "        ax.set_ylabel('Probability')\n",
    "    else:\n",
    "        ax.set_ylabel('Counts')\n",
    "    # ax.set_title(f'{species_name} Comparison')\n",
    "    ax.legend(framealpha=0.3, loc='upper right')\n",
    "    ax.grid(False)\n",
    "    \n",
    "    # Save figure\n",
    "    plt.tight_layout()\n",
    "    fig_path = os.path.join(fig_dir, f'{species_name}_comparison.png')\n",
    "    plt.savefig(fig_path, dpi=600, bbox_inches='tight')\n",
    "    logging.info(f\"Saved plot for {display_name}\")\n",
    "    plt.close()\n",
    "\n",
    "logging.info(f\"\\nPlots saved in: {fig_dir}\")\n",
    "logging.getLogger().handlers[0].flush() "
   ]
  },
  {
   "cell_type": "markdown",
   "metadata": {},
   "source": [
    "This is for G2 in the membrane\n"
   ]
  },
  {
   "cell_type": "code",
   "execution_count": 9,
   "metadata": {},
   "outputs": [
    {
     "name": "stderr",
     "output_type": "stream",
     "text": [
      "2025-03-26 18:58:01,962 - INFO - Saved plot for G2 membrane\n"
     ]
    }
   ],
   "source": [
    "# Read the saved statistics\n",
    "er_sim1_df = pd.read_csv(os.path.join(fig_dir, 'er_sim1_species_statistics.csv'))\n",
    "er_sim2_df = pd.read_csv(os.path.join(fig_dir, 'er_sim2_species_statistics.csv'))\n",
    "noer_df = pd.read_csv(os.path.join(fig_dir, 'noer_species_statistics.csv'))\n",
    "\n",
    "def str_to_array(s):\n",
    "    return np.array([float(x) for x in s.split(',')])\n",
    "\n",
    "# Calculate G2 totals for ER data\n",
    "er_sim1_g2_data = er_sim1_df[er_sim1_df['Species'].isin(['ODE_G2', 'ODE_G2GAE', 'ODE_G2GAI'])].copy()\n",
    "if len(er_sim1_g2_data) > 0:\n",
    "    time = str_to_array(er_sim1_g2_data.iloc[0]['Time'])\n",
    "    er_sim1_total = np.zeros_like(str_to_array(er_sim1_g2_data.iloc[0]['Average']))\n",
    "    er_sim1_std_squared = np.zeros_like(er_sim1_total)\n",
    "    \n",
    "    for _, row in er_sim1_g2_data.iterrows():\n",
    "        er_sim1_total += str_to_array(row['Average'])\n",
    "        er_sim1_std_squared += str_to_array(row['Std'])**2\n",
    "    er_sim1_total_std = np.sqrt(er_sim1_std_squared)\n",
    "# Calculate G2 totals for ER sim2 data\n",
    "er_sim2_g2_data = er_sim2_df[er_sim2_df['Species'].isin(['ODE_G2', 'ODE_G2GAE', 'ODE_G2GAI'])].copy()\n",
    "if len(er_sim2_g2_data) > 0:\n",
    "    time = str_to_array(er_sim1_g2_data.iloc[0]['Time'])\n",
    "    er_sim2_total = np.zeros_like(str_to_array(er_sim1_g2_data.iloc[0]['Average']))\n",
    "    er_sim2_std_squared = np.zeros_like(er_sim2_total)\n",
    "    \n",
    "    for _, row in er_sim1_g2_data.iterrows():\n",
    "        er_sim2_total += str_to_array(row['Average'])\n",
    "        er_sim2_std_squared += str_to_array(row['Std'])**2\n",
    "    er_sim2_total_std = np.sqrt(er_sim2_std_squared)\n",
    "# Calculate G2 totals for NOER data\n",
    "noer_g2_data = noer_df[noer_df['Species'].isin(['ODE_G2', 'ODE_G2GAE', 'ODE_G2GAI'])].copy()\n",
    "if len(noer_g2_data) > 0:\n",
    "    noer_total = np.zeros_like(str_to_array(noer_g2_data.iloc[0]['Average']))\n",
    "    noer_std_squared = np.zeros_like(noer_total)\n",
    "    \n",
    "    for _, row in noer_g2_data.iterrows():\n",
    "        noer_total += str_to_array(row['Average'])\n",
    "        noer_std_squared += str_to_array(row['Std'])**2\n",
    "    noer_total_std = np.sqrt(noer_std_squared)\n",
    "\n",
    "\n",
    "# Create the plot\n",
    "plt.figure(figsize=(10, 6))\n",
    "noer_color = '#0072B2'    # Blue for no ER\n",
    "er_sim1_color = '#D55E00'  # Vermillion/Orange-red for ER sim1\n",
    "er_sim2_color = '#009E73'  # Bluish green for ER sim2 (ERriboMarie)\n",
    "# ER sim1\n",
    "plt.plot(time, er_sim1_total, label='ER sim1', linestyle='-', color=er_sim1_color)\n",
    "plt.fill_between(time, er_sim1_total - er_sim1_total_std, er_sim1_total + er_sim1_total_std, alpha=0.2, color=er_sim1_color)\n",
    "# ER sim2\n",
    "plt.plot(time, er_sim2_total, label='ER sim2', linestyle='-', color=er_sim2_color)\n",
    "plt.fill_between(time, er_sim2_total - er_sim2_total_std, er_sim2_total + er_sim2_total_std, alpha=0.2, color=er_sim2_color)\n",
    "# NOER\n",
    "plt.plot(time, noer_total, label='NOER', linestyle='--', color=noer_color)\n",
    "plt.fill_between(time, noer_total - noer_total_std, noer_total + noer_total_std, alpha=0.2, color=noer_color)\n",
    "\n",
    "plt.xlabel('Time (min)')\n",
    "plt.ylabel('Counts')\n",
    "# plt.title('Total G2 Comparison (G2 + G2GAE + G2GAI)')\n",
    "plt.legend(framealpha=0.3, loc='upper right')\n",
    "plt.grid(False)\n",
    "\n",
    "# Save figure\n",
    "plt.tight_layout()\n",
    "fig_path = os.path.join(fig_dir, 'G2_membrane_comparison.png')\n",
    "plt.savefig(fig_path, dpi=600, bbox_inches='tight')\n",
    "logging.info(f\"Saved plot for G2 membrane\")\n",
    "plt.close()\n",
    "logging.getLogger().handlers[0].flush() "
   ]
  },
  {
   "cell_type": "markdown",
   "metadata": {},
   "source": [
    "This is for GAI total"
   ]
  },
  {
   "cell_type": "code",
   "execution_count": 10,
   "metadata": {},
   "outputs": [
    {
     "name": "stderr",
     "output_type": "stream",
     "text": [
      "2025-03-26 18:58:02,026 - INFO - ER sim1 species used in GAI total: ['ODE_GAI', 'ODE_G1GAI', 'RDME_G3i', 'ODE_G2GAI']\n",
      "2025-03-26 18:58:02,027 - INFO - ER sim2 species used in GAI total: ['ODE_GAI', 'ODE_G1GAI', 'RDME_G3i', 'ODE_G2GAI']\n",
      "2025-03-26 18:58:02,027 - INFO - NOER species used in GAI total: ['ODE_GAI', 'ODE_G1GAI', 'RDME_G3i', 'ODE_G2GAI']\n"
     ]
    },
    {
     "name": "stderr",
     "output_type": "stream",
     "text": [
      "2025-03-26 18:58:03,070 - INFO - Saved plot for GAI total\n"
     ]
    }
   ],
   "source": [
    "def str_to_array(s):\n",
    "    return np.array([float(x) for x in s.split(',')])\n",
    "\n",
    "# Create combined GAI species plot\n",
    "fig, ax = plt.subplots(figsize=(10, 6))\n",
    "\n",
    "# Define Nature-standard colors\n",
    "noer_color = '#0072B2'    # Blue for no ER\n",
    "er_sim1_color = '#D55E00'  # Vermillion for ER sim1\n",
    "er_sim2_color = '#009E73'  # Bluish green for ER sim2 (ERriboMarie)\n",
    "\n",
    "# List of species to combine\n",
    "gai_species = ['GAI', 'G1GAI', 'G3i', 'G2GAI']\n",
    "\n",
    "# Initialize arrays for all three simulations\n",
    "er_sim1_combined_avg = None\n",
    "er_sim1_combined_var = None\n",
    "er_sim2_combined_avg = None\n",
    "er_sim2_combined_var = None\n",
    "noer_combined_avg = None\n",
    "noer_combined_var = None\n",
    "time = None\n",
    "\n",
    "# For tracking which species are actually used\n",
    "er_sim1_species_used = []\n",
    "er_sim2_species_used = []\n",
    "noer_species_used = []\n",
    "\n",
    "# Combine ER sim1 data\n",
    "for species_name in gai_species:\n",
    "    matching_rows = er_sim1_df[er_sim1_df['Species'].str.contains(species_name)]\n",
    "    \n",
    "    if not matching_rows.empty:\n",
    "        er_species_data = matching_rows[matching_rows['Species'].str.startswith('ODE')]\n",
    "        if er_species_data.empty:\n",
    "            er_species_data = matching_rows\n",
    "            \n",
    "        if len(er_species_data) > 0:\n",
    "            er_data = er_species_data.iloc[0]\n",
    "            er_sim1_species_used.append(er_data['Species'])\n",
    "            \n",
    "            curr_avg = str_to_array(er_data['Average']) / NAV_ER_SIM1 * 1e3\n",
    "            curr_std = str_to_array(er_data['Std']) / NAV_ER_SIM1 * 1e3\n",
    "            curr_var = curr_std ** 2\n",
    "            \n",
    "            if er_sim1_combined_avg is None:\n",
    "                time = str_to_array(er_data['Time'])\n",
    "                er_sim1_combined_avg = curr_avg\n",
    "                er_sim1_combined_var = curr_var\n",
    "            else:\n",
    "                er_sim1_combined_avg += curr_avg\n",
    "                er_sim1_combined_var += curr_var\n",
    "\n",
    "# Combine ER sim2 data\n",
    "for species_name in gai_species:\n",
    "    matching_rows = er_sim2_df[er_sim2_df['Species'].str.contains(species_name)]\n",
    "    \n",
    "    if not matching_rows.empty:\n",
    "        er_species_data = matching_rows[matching_rows['Species'].str.startswith('ODE')]\n",
    "        if er_species_data.empty:\n",
    "            er_species_data = matching_rows\n",
    "            \n",
    "        if len(er_species_data) > 0:\n",
    "            er_data = er_species_data.iloc[0]\n",
    "            er_sim2_species_used.append(er_data['Species'])\n",
    "            \n",
    "            curr_avg = str_to_array(er_data['Average']) / NAV_ER_SIM2 * 1e3\n",
    "            curr_std = str_to_array(er_data['Std']) / NAV_ER_SIM2 * 1e3\n",
    "            curr_var = curr_std ** 2\n",
    "            \n",
    "            if er_sim2_combined_avg is None:\n",
    "                er_sim2_combined_avg = curr_avg\n",
    "                er_sim2_combined_var = curr_var\n",
    "            else:\n",
    "                er_sim2_combined_avg += curr_avg\n",
    "                er_sim2_combined_var += curr_var\n",
    "\n",
    "# Combine NOER data\n",
    "for species_name in gai_species:\n",
    "    matching_rows = noer_df[noer_df['Species'].str.contains(species_name)]\n",
    "    \n",
    "    if not matching_rows.empty:\n",
    "        noer_species_data = matching_rows[matching_rows['Species'].str.startswith('ODE')]\n",
    "        if noer_species_data.empty:\n",
    "            noer_species_data = matching_rows\n",
    "            \n",
    "        if len(noer_species_data) > 0:\n",
    "            noer_data = noer_species_data.iloc[0]\n",
    "            noer_species_used.append(noer_data['Species'])\n",
    "            \n",
    "            curr_avg = str_to_array(noer_data['Average']) / NAV_NOER * 1e3\n",
    "            curr_std = str_to_array(noer_data['Std']) / NAV_NOER * 1e3\n",
    "            curr_var = curr_std ** 2\n",
    "            \n",
    "            if noer_combined_avg is None:\n",
    "                noer_combined_avg = curr_avg\n",
    "                noer_combined_var = curr_var\n",
    "            else:\n",
    "                noer_combined_avg += curr_avg\n",
    "                noer_combined_var += curr_var\n",
    "\n",
    "# Print which species were actually used\n",
    "logging.info(\"ER sim1 species used in GAI total: \" + str(er_sim1_species_used))\n",
    "logging.info(\"ER sim2 species used in GAI total: \" + str(er_sim2_species_used))\n",
    "logging.info(\"NOER species used in GAI total: \" + str(noer_species_used))\n",
    "\n",
    "# Convert combined variances back to standard deviations\n",
    "if er_sim1_combined_var is not None:\n",
    "    er_sim1_combined_std = np.sqrt(er_sim1_combined_var)\n",
    "if er_sim2_combined_var is not None:\n",
    "    er_sim2_combined_std = np.sqrt(er_sim2_combined_var)\n",
    "if noer_combined_var is not None:\n",
    "    noer_combined_std = np.sqrt(noer_combined_var)\n",
    "\n",
    "# Plot ER sim1 if data exists\n",
    "if er_sim1_combined_avg is not None and time is not None:\n",
    "    ax.plot(time, er_sim1_combined_avg, label='ER sim1', linestyle='-', color=er_sim1_color)\n",
    "    ax.fill_between(time, er_sim1_combined_avg - er_sim1_combined_std, \n",
    "                    er_sim1_combined_avg + er_sim1_combined_std, \n",
    "                    alpha=0.2, color=er_sim1_color)\n",
    "\n",
    "# Plot ER sim2 if data exists\n",
    "if er_sim2_combined_avg is not None:\n",
    "    ax.plot(time, er_sim2_combined_avg, label='ER sim2', linestyle='-', color=er_sim2_color)\n",
    "    ax.fill_between(time, er_sim2_combined_avg - er_sim2_combined_std, \n",
    "                    er_sim2_combined_avg + er_sim2_combined_std, \n",
    "                    alpha=0.2, color=er_sim2_color)\n",
    "\n",
    "# Plot NOER if data exists\n",
    "if noer_combined_avg is not None:\n",
    "    ax.plot(time, noer_combined_avg, label='NOER', linestyle='--', color=noer_color)\n",
    "    ax.fill_between(time, noer_combined_avg - noer_combined_std, \n",
    "                    noer_combined_avg + noer_combined_std, \n",
    "                    alpha=0.2, color=noer_color)\n",
    "\n",
    "# Add horizontal line for GAE = 11.1mM\n",
    "ax.axhline(y=11.1, color='gray', linestyle='-.', linewidth=1.5, label='GAE')\n",
    "ax.text(time[0]*1.05, 10.8, '11.1 mM', color='gray', fontsize=16, va='top', ha='left')\n",
    "\n",
    "# Customize plot\n",
    "ax.set_xlabel('Time (min)')\n",
    "ax.set_ylabel('Concentration (mM)')\n",
    "ax.legend(framealpha=0.3, loc='upper right')\n",
    "ax.grid(False)\n",
    "\n",
    "# Save figure\n",
    "plt.tight_layout()\n",
    "fig_path = os.path.join(fig_dir, 'GAI_total_comparison.png')\n",
    "plt.savefig(fig_path, dpi=600, bbox_inches='tight')\n",
    "logging.info(f\"Saved plot for GAI total\")\n",
    "plt.close()\n",
    "logging.getLogger().handlers[0].flush()"
   ]
  }
 ],
 "metadata": {
  "kernelspec": {
   "display_name": "lm2.5_dev",
   "language": "python",
   "name": "python3"
  },
  "language_info": {
   "codemirror_mode": {
    "name": "ipython",
    "version": 3
   },
   "file_extension": ".py",
   "mimetype": "text/x-python",
   "name": "python",
   "nbconvert_exporter": "python",
   "pygments_lexer": "ipython3",
   "version": "3.7.3"
  }
 },
 "nbformat": 4,
 "nbformat_minor": 2
}
