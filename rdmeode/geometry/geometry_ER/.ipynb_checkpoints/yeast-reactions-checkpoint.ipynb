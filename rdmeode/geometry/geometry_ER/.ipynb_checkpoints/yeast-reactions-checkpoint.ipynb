{
 "cells": [
  {
   "cell_type": "code",
   "execution_count": 1,
   "metadata": {
    "ExecuteTime": {
     "end_time": "2017-01-15T17:58:39.832749",
     "start_time": "2017-01-15T17:58:39.506246"
    },
    "collapsed": true,
    "run_control": {
     "frozen": false,
     "read_only": false
    }
   },
   "outputs": [],
   "source": [
    "import pickle\n",
    "import itertools\n",
    "import pandas as pd\n",
    "import numpy as np"
   ]
  },
  {
   "cell_type": "code",
   "execution_count": 2,
   "metadata": {
    "ExecuteTime": {
     "end_time": "2017-01-15T17:58:40.225260",
     "start_time": "2017-01-15T17:58:39.834274"
    },
    "collapsed": false,
    "run_control": {
     "frozen": false,
     "read_only": false
    }
   },
   "outputs": [
    {
     "data": {
      "text/html": [
       "<style>\n",
       "table.fullWidth {\n",
       "    width: 100%;\n",
       "}\n",
       "\n",
       "table.jLMtbl {\n",
       "    border: 1px solid #000;\n",
       "}\n",
       "\n",
       ".jLMtbl td, .jLMtbl tr, .jLMtbl th, .diffTbl table, .diffTbl td, .diffTbl tr {\n",
       "    border: none;\n",
       "}\n",
       "\n",
       ".jLMtbl caption, .diffTbl caption {\n",
       "    font-size: 1.5em;\n",
       "    font-weight: bold;\n",
       "    color: #555;\n",
       "    text-align: left;\n",
       "    padding: 15px 10px 8px 10px;\n",
       "}\n",
       "\n",
       ".jLMtbl td, .jLMtbl th {\n",
       "    padding-left: 10px;\n",
       "    padding-right: 10px;\n",
       "}\n",
       "\n",
       ".jLMtbl tr:nth-child(even) { background: #ddd;  }\n",
       ".jLMtbl tr:nth-child(odd) { background: #f8f8f8;  }\n",
       "\n",
       "table.diffTbl {\n",
       "    width: 100%;\n",
       "    border: none;\n",
       "}\n",
       "\n",
       ".diffTbl span.rot {\n",
       "    -webkit-transform: rotate(-90deg);\n",
       "    transform: rotate(-90deg);\n",
       "    display: inline-block;\n",
       "    white-space: nowrap;\n",
       "}\n",
       "\n",
       ".diffTbl td[rowspan], .diffTbl td[colspan] {\n",
       "    background: #fff;\n",
       "    font-weight: bold;\n",
       "}\n",
       "\n",
       ".diffTbl td[rowspan] {\n",
       "    width: 0.01em;\n",
       "    padding: 0;\n",
       "}\n",
       "\n",
       "\n",
       ".diffTbl td {\n",
       "    padding-left: 2px;\n",
       "    padding-right: 2px;\n",
       "    text-align: center;\n",
       "    vertical-align: middle;\n",
       "    background-color: hsla(0,0%,90%,1);\n",
       "    color: #000;\n",
       "}\n",
       "\n",
       "\n",
       ".diffTbl td.rhdr {\n",
       "    text-align: right;\n",
       "    background: #555;\n",
       "    color: #fff;\n",
       "}\n",
       "\n",
       ".diffTbl td.units {\n",
       "    background: #fff;\n",
       "    color: #000;\n",
       "}\n",
       "\n",
       ".diffTbl td.chdr {\n",
       "    padding-left: 2px;\n",
       "    padding-right: 2px;\n",
       "    text-align: center;\n",
       "    background: #555;\n",
       "    color: #fff;\n",
       "}\n",
       "\n",
       ".diffTbl td.zero {\n",
       "    background-color: hsla(180,100%,90%,1);\n",
       "}\n",
       "\n",
       ".diffTbl td.inf {\n",
       "    background-color: hsla(0,100%,90%,1);\n",
       "}\n",
       "\n",
       ".diffTbl td.undef {\n",
       "    background-color: #f00;\n",
       "    color: #fff;\n",
       "}\n",
       "\n",
       "\n",
       ".jLMtbl th {\n",
       "    border: none;\n",
       "    background: #555;\n",
       "    color: #fff;\n",
       "}\n",
       "\n",
       ".jLMtbl th[scope=col] {\n",
       "    height: 40px;\n",
       "    text-align: center;\n",
       "    vertical-align: middle;\n",
       "}\n",
       "\n",
       ".jLMtbl th[scope=row] {\n",
       "    text-align: left;\n",
       "}\n",
       "\n",
       "td.jLMparam{\n",
       "    width: 250px;\n",
       "    text-align: right;\n",
       "    padding-right: 15px;\n",
       "}\n",
       "\n",
       "\n",
       "td.objIndex {\n",
       "    width: 15px;\n",
       "    text-align:center;\n",
       "    vertical-align:middle;\n",
       "}\n",
       "\n",
       "\n",
       "div.jLMflex {\n",
       "    width: 100%;\n",
       "    display: flex;\n",
       "    margin:0;\n",
       "}\n",
       "\n",
       "div.regRight, div.trajRight {\n",
       "    flex-grow: 1;\n",
       "}\n",
       "\n",
       "div.trajRight {\n",
       "    padding-top: 20px;\n",
       "}\n",
       "\n",
       "div.regLeft {\n",
       "    width:200px;\n",
       "}\n",
       "\n",
       "div.trajLeft {\n",
       "    width:400px;\n",
       "}\n",
       "\n",
       "div.jLMx3Dkey {\n",
       "    display: block;\n",
       "    position: absolute;\n",
       "    background-color: rgba(255,255,255,0.8);\n",
       "    top: 3px;\n",
       "    right: 3px;\n",
       "    width: 225px;\n",
       "    max-height: 600px;\n",
       "    overflow-x: hidden;\n",
       "    overflow-y: auto;\n",
       "    border: 1px solid #000;\n",
       "    padding: 0px;\n",
       "} \n",
       "\n",
       "div.jLMx3Dstandalone {\n",
       "    height: 100vh;\n",
       "    width: 100vw;\n",
       "    overflow: hidden;\n",
       "}\n",
       "\n",
       "div.jLMx3Dkeymin {\n",
       "    width: auto;\n",
       "    height: auto;\n",
       "    display: none;\n",
       "    border: none;\n",
       "    overflow: hidden;\n",
       "}\n",
       "\n",
       "div.jLMx3Dkeyhelp {\n",
       "    display: none;\n",
       "    position: absolute;\n",
       "    background-color: rgba(255,255,255,0.8);\n",
       "    bottom: 2px;\n",
       "    right: 300px;\n",
       "    width: 400px;\n",
       "    max-height: 600px;\n",
       "    overflow-x: hidden;\n",
       "    overflow-y: auto;\n",
       "    border: 1px solid #000;\n",
       "    padding: 10px;\n",
       "}\n",
       "\n",
       "div.jLMx3Dkeyhelpstandalone {\n",
       "    display: none;\n",
       "    position: absolute;\n",
       "    background-color: rgba(255,255,255,0.8);\n",
       "    top: 10px;\n",
       "    left: 10px;\n",
       "    width: 400px;\n",
       "    max-height: 95%;\n",
       "    overflow-x: hidden;\n",
       "    overflow-y: auto;\n",
       "    border: 1px solid #000;\n",
       "    padding: 10px;\n",
       "}\n",
       "\n",
       "button.jLMx3Dkey {\n",
       "    float: left;\n",
       "    margin: 0px;\n",
       "    -webkit-transition-duration: 0.4s;\n",
       "    transition-duration: 0.4s;\n",
       "    background-color: #def1f0;\n",
       "    padding: 10px 5px;\n",
       "    border: 1px solid #fff;\n",
       "    width: 33%;\n",
       "}\n",
       "\n",
       "button.jLMx3Dkey:hover {\n",
       "    background-color: #108e88;\n",
       "    color: #fff;\n",
       "}\n",
       "\n",
       "button.jLMx3dbtstandalone {\n",
       "    display: table-cell;\n",
       "    width: 50%;\n",
       "}\n",
       "button.jLMx3dbt {\n",
       "    display: table-cell;\n",
       "}\n",
       "\n",
       "div.jLMx3dbt {\n",
       "    display: table;\n",
       "    width: 225px;\n",
       "}\n",
       "\n",
       "\n",
       "ul.reg {\n",
       "    list-style-type: none;\n",
       "    width: 100%;\n",
       "}\n",
       "\n",
       "img.smallreg {\n",
       "    border:1px solid #000;\n",
       "    float: left;\n",
       "    image-rendering: -moz-crisp-edges;\n",
       "    image-rendering: -o-crisp-edges;\n",
       "    image-rendering: -webkit-optimize-contrast;\n",
       "    -ms-interpolation-mode: nearest-neighbor;\n",
       "    image-rendering: pixelated;\n",
       "}\n",
       "\n",
       "X3D.jLM {\n",
       "    width: 100%;\n",
       "    height: 90%;\n",
       "    border: none;\n",
       "}\n",
       "\n",
       "span.jLMparticleKey {\n",
       "    position: relative;\n",
       "    top: 3px;\n",
       "    font-size: 1.5em;\n",
       "}\n",
       "\n",
       "div.jLMbigSps {\n",
       "    font-family: serif;\n",
       "    background: #fff;\n",
       "    color: #000;\n",
       "    display: table-cell;\n",
       "    vertical-align: middle;\n",
       "    text-align: center;\n",
       "    height: 70px;\n",
       "    font-size: 3.2em;\n",
       "    padding: 40px 10px 10px 10px;\n",
       "    border: none;\n",
       "}\n",
       "\n",
       "input[type=range][orient=vertical].stackSlider {\n",
       "    writing-mode: bt-lr; /* IE */\n",
       "    display: block;\n",
       "    margin: auto;\n",
       "    -webkit-appearance: slider-vertical; /* WebKit */\n",
       "    width: 8px;\n",
       "    height: 250px;\n",
       "    padding: 15px;\n",
       "}\n",
       "\n",
       "span.jLMregion {\n",
       "    padding: 1px 4px;\n",
       "    margin: 2px;\n",
       "    display: inline-block;\n",
       "    font-family: sans-serif;\n",
       "    border: 1px solid black;\n",
       "}\n",
       "\n",
       "span.jLMnum, td.jLMnum {\n",
       "    font-family: serif;\n",
       "    font-size: 1.2em;\n",
       "}\n",
       "\n",
       "</style><script type=\"text/javascript\">\n",
       "var fontawesome_css = document.getElementById(\"fontawesome-css\");if (fontawesome_css === null) {var l = document.createElement(\"link\");l.setAttribute(\"rel\", \"stylesheet\");l.setAttribute(\"type\", \"text/css\");l.setAttribute(\"href\", \"https://netdna.bootstrapcdn.com/font-awesome/3.2.1/css/font-awesome.css\");l.setAttribute(\"id\", \"fontawesome-css\");$(\"head\").append(l);}\n",
       "</script>\n"
      ],
      "text/plain": [
       "<IPython.core.display.HTML object>"
      ]
     },
     "metadata": {},
     "output_type": "display_data"
    }
   ],
   "source": [
    "from venv import *\n",
    "from jLM.RDME import Sim as RDMESim\n",
    "from jLM.RDME import File as RDMEFile\n",
    "from jLM.VmdUtil import tclTriangleMesh, tclTriangleMesh_scratch\n",
    "from jLM.JupyterDisplay import showBinaryLattices\n",
    "from jLM.RegionBuilder import RegionBuilder\n",
    "import jLM"
   ]
  },
  {
   "cell_type": "code",
   "execution_count": 3,
   "metadata": {
    "ExecuteTime": {
     "end_time": "2017-01-15T17:58:40.230344",
     "start_time": "2017-01-15T17:58:40.226892"
    },
    "collapsed": true,
    "run_control": {
     "frozen": false,
     "read_only": false
    }
   },
   "outputs": [],
   "source": [
    "import jLM.TexFmt as TeX"
   ]
  },
  {
   "cell_type": "code",
   "execution_count": 4,
   "metadata": {
    "ExecuteTime": {
     "end_time": "2017-01-15T17:58:40.293459",
     "start_time": "2017-01-15T17:58:40.232873"
    },
    "collapsed": false,
    "run_control": {
     "frozen": false,
     "read_only": false
    },
    "scrolled": true
   },
   "outputs": [
    {
     "data": {
      "text/plain": [
       "Gene Name                                                            HXT6\n",
       "Length (Amino Acids)                                                  570\n",
       "Protein Abundance                                                 42644.7\n",
       "Protein Decay Rate                                            0.000256721\n",
       "mRNA Abundance                                                    7.86145\n",
       "Description             High-affinity glucose transporter of the major...\n",
       "mRNA Decay Rate                                               0.000788873\n",
       "Function                               transmembrane transporter activity\n",
       "Component               cytoplasm | membrane | mitochondrion | plasma ...\n",
       "Process                  carbohydrate transport | transmembrane transport\n",
       "Transcription Rate                                             0.00620168\n",
       "Translation Rate                                                  1.39259\n",
       "Name: YDR343C, dtype: object"
      ]
     },
     "execution_count": 4,
     "metadata": {},
     "output_type": "execute_result"
    }
   ],
   "source": [
    "yeastData = pd.read_pickle(dataFile(\"yeastData.pd\"))\n",
    "geneData = yeastData.loc[\"YDR343C\"]\n",
    "geneData"
   ]
  },
  {
   "cell_type": "code",
   "execution_count": 5,
   "metadata": {
    "ExecuteTime": {
     "end_time": "2017-01-15T17:58:40.319668",
     "start_time": "2017-01-15T17:58:40.295445"
    },
    "collapsed": false,
    "run_control": {
     "frozen": false,
     "marked": false,
     "read_only": false
    }
   },
   "outputs": [],
   "source": [
    "nRibosomes = 180000 #100267\n",
    "transMrna = geneData['mRNA Abundance']\n",
    "transProtein = geneData['Protein Abundance']\n",
    "transMrnaDecay = geneData['mRNA Decay Rate']\n",
    "transProtDecay = geneData['Protein Decay Rate']\n",
    "tsTrans = transMrna*transMrnaDecay\n",
    "tlTrans = transProtDecay*transProtein/transMrna\n",
    "\n",
    "otherMrna = 0.5*(6100+18300) #102988\n",
    "otherProtein = 5e7 #106198\n",
    "otherMrnaDecay = np.log(2)/60/20 # 100205\n",
    "otherProtDecay = np.log(2)/60/43 # 104151\n",
    "tsOther = otherMrna*otherMrnaDecay\n",
    "tlOther = otherProtDecay*otherProtein/otherMrna\n",
    "\n",
    "initialSugarConc = 4e-6\n",
    "\n",
    "# from Roberts2011nci\n",
    "passiveTransportRate = 2.33e-3\n",
    "transportOnRateDet = 3.03e4\n",
    "transportIn = 1.20e1\n",
    "transportOff = 1.20e-1\n",
    "inducerOnDet = 2.27e+04\n",
    "\n",
    "dt = 67e-6\n",
    "rateScl = 1\n",
    "\n",
    "tlInitDet = 100e6 # 10.1016/j.molcel.2006.02.014 [eco]\n",
    "\n",
    "\n",
    "mrnaDiffusion = 0.5e-12\n",
    "protDiffusion = 1e-12\n",
    "protDiffusionMem = 1e-14"
   ]
  },
  {
   "cell_type": "code",
   "execution_count": 6,
   "metadata": {
    "ExecuteTime": {
     "end_time": "2017-01-15T17:58:40.778080",
     "start_time": "2017-01-15T17:58:40.321433"
    },
    "collapsed": false,
    "run_control": {
     "frozen": false,
     "read_only": false
    }
   },
   "outputs": [],
   "source": [
    "latticeData = pickle.load(open(simFile(\"yeastLattice.18.p\"), \"rb\"))\n",
    "decimation = latticeData['decimation']\n",
    "\n",
    "sim = RDMESim(\"yeast{}\".format(decimation), \n",
    "              simFile(\"Yeast{}_tmp.lm\".format(decimation)),\n",
    "              latticeData['lattice'].shape,\n",
    "              latticeData['latticeSpacing'],\n",
    "              \"Extracellular\",\n",
    "              dt=dt)\n",
    "B = RegionBuilder(sim)\n",
    "for regStr,key in latticeData['ids'].items():\n",
    "    if 'cet' not in regStr:\n",
    "        name = regStr.replace(\"CropReg\", \"\").replace(\"fit\",\"\")\n",
    "        reg = sim.region(name)\n",
    "        sim.siteLattice[latticeData['lattice']==key] = reg.idx"
   ]
  },
  {
   "cell_type": "code",
   "execution_count": 7,
   "metadata": {
    "ExecuteTime": {
     "end_time": "2017-01-15T17:58:40.785079",
     "start_time": "2017-01-15T17:58:40.779627"
    },
    "collapsed": true,
    "run_control": {
     "frozen": false,
     "read_only": false
    }
   },
   "outputs": [],
   "source": [
    "extracellular = sim.region(\"Extracellular\")\n",
    "cytoplasm = sim.region(\"Cytoplasm\")\n",
    "nucPores = sim.region(\"NucPores\")\n",
    "nucEnv = sim.region(\"NucEnv\")\n",
    "mem = sim.region(\"Mem\")\n",
    "vacuole = sim.region(\"Vacuole\")\n",
    "mito = sim.region(\"Mito\")\n",
    "nucleoplasm = sim.region(\"Nucleoplasm\")\n",
    "cellWall = sim.region(\"CellWall\")\n",
    "rib = sim.region(\"Rib\")"
   ]
  },
  {
   "cell_type": "code",
   "execution_count": 8,
   "metadata": {
    "ExecuteTime": {
     "end_time": "2017-01-15T17:58:40.846383",
     "start_time": "2017-01-15T17:58:40.786378"
    },
    "collapsed": false,
    "run_control": {
     "frozen": false,
     "read_only": false
    }
   },
   "outputs": [],
   "source": [
    "nucSites = np.sum(sim.siteLattice == nucleoplasm.idx)\n",
    "tsOtherZeroth = tsOther/nucSites\n",
    "transportOnRate = transportOnRateDet/sim.siteNAV\n",
    "inducerOn = inducerOnDet/sim.siteNAV\n",
    "tlInit = tlInitDet/sim.siteNAV"
   ]
  },
  {
   "cell_type": "code",
   "execution_count": 9,
   "metadata": {
    "ExecuteTime": {
     "end_time": "2017-01-15T17:58:40.864192",
     "start_time": "2017-01-15T17:58:40.849515"
    },
    "collapsed": false,
    "run_control": {
     "frozen": false,
     "read_only": false
    }
   },
   "outputs": [],
   "source": [
    "geneOff = sim.species(\"geneOff\", \n",
    "                      texRepr=r'\\mathrm{D}_{\\mathrm{off}}',\n",
    "                      annotation='Repressed gene')\n",
    "geneOn = sim.species(\"geneOn\", \n",
    "                     texRepr=r'\\mathrm{D}_{\\mathrm{on}}',\n",
    "                     annotation='Active gene')\n",
    "mRNAother = sim.species(\"mRNAother\", texRepr=r\"\\mathrm{m'}\",\n",
    "                         annotation='Other mRNA')\n",
    "mRNA = sim.species(\"mRNA\", texRepr=r'\\mathrm{m}',\n",
    "                   annotation='Transporter mRNA')\n",
    "ribosome = sim.species(\"ribosome\", \n",
    "                       texRepr=r'\\mathrm{R}',\n",
    "                       annotation='Ribosome')\n",
    "ribosomeTx = sim.species(\"ribosomeTx\", \n",
    "                         texRepr=r'\\mathrm{R}{:}\\mathrm{m}',\n",
    "                         annotation='Translating ribosome')\n",
    "ribosomeTxOther = sim.species(\"ribosomeTxOther\", \n",
    "                         texRepr=r\"\\mathrm{R}{:}\\mathrm{m'}\",\n",
    "                         annotation='Translating ribosome (other products)')\n",
    "transporter = sim.species(\"transporter\", \n",
    "                          texRepr=r'\\mathrm{T}',\n",
    "                          annotation='Sugar transporter')\n",
    "extracellularSugar = sim.species(\"extracellularSugar\", \n",
    "                                 texRepr=r'\\mathrm{I}_\\mathrm{ex}',\n",
    "                                 annotation='Extracellular inducer')\n",
    "sugar = sim.species(\"sugar\", \n",
    "                    texRepr=r'\\mathrm{I}',\n",
    "                    annotation='Intracellular inducer')\n",
    "boundTransporter = sim.species(\"transporterBound\", \n",
    "                               texRepr=r'\\mathrm{T}{:}\\mathrm{S}',\n",
    "                               annotation='Transporter bound to sugar')"
   ]
  },
  {
   "cell_type": "code",
   "execution_count": 10,
   "metadata": {
    "ExecuteTime": {
     "end_time": "2017-01-15T17:58:40.897383",
     "start_time": "2017-01-15T17:58:40.865901"
    },
    "collapsed": false,
    "run_control": {
     "frozen": false,
     "read_only": false
    }
   },
   "outputs": [],
   "source": [
    "k_geneOn = sim.rateConst(\"geneOn\", \n",
    "                         inducerOn*rateScl, order=2, \n",
    "                         texRepr=r'k_\\mathrm{gnOn}',\n",
    "                         annotation='Sugar/TF binding')\n",
    "k_mrnaOn = sim.rateConst(\"mrnaOn\", \n",
    "                         tlInit*rateScl, order=2, \n",
    "                         texRepr=r'k_\\mathrm{tlInit}',\n",
    "                         annotation='SSU/mRNA association')\n",
    "k_tlOther = sim.rateConst(\"tlOther\",\n",
    "                         tlOther*rateScl, order=1, \n",
    "                         texRepr=r\"k_\\mathrm{tlTerm'}\",\n",
    "                         annotation='Translation elongation (other)')\n",
    "k_tl = sim.rateConst(\"tl\",\n",
    "                         tlTrans*rateScl, order=1, \n",
    "                         texRepr=r'k_\\mathrm{tlTerm}',\n",
    "                         annotation='Translation elongation')\n",
    "k_tsOther = sim.rateConst(\"tsOther\", \n",
    "                         tsOtherZeroth*rateScl, order=0, \n",
    "                         texRepr=r\"k_\\mathrm{ts'}\",\n",
    "                         annotation='Transcription (other)')\n",
    "k_ts = sim.rateConst(\"ts\", \n",
    "                         tsTrans*rateScl, order=1, \n",
    "                         texRepr=r'k_\\mathrm{ts}',\n",
    "                         annotation='Transcription')\n",
    "k_transOn = sim.rateConst(\"transOn\", \n",
    "                         transportOnRate*rateScl, order=2, \n",
    "                         texRepr=r'k_\\mathrm{txOn}',\n",
    "                         annotation='Transporter/sugar association')\n",
    "k_transOff = sim.rateConst(\"transOff\", \n",
    "                         transportOff*rateScl, order=1, \n",
    "                         texRepr=r'k_\\mathrm{txOff}',\n",
    "                         annotation='Transporter/sugar dissociation')\n",
    "k_transport = sim.rateConst(\"transport\", \n",
    "                         transportIn*rateScl, order=1, \n",
    "                         texRepr=r'k_\\mathrm{tx}',\n",
    "                         annotation='Active sugar transport')\n",
    "k_ptransport = sim.rateConst(\"transPassive\", \n",
    "                         passiveTransportRate*rateScl, order=1, \n",
    "                         texRepr=r'k_\\mathrm{txDif}',\n",
    "                         annotation='Passive diffusional transport')\n",
    "k_mdcy = sim.rateConst(\"mdcy\", \n",
    "                       transMrnaDecay*rateScl, order=1, \n",
    "                       texRepr=r'k_\\mathrm{mDcy}',\n",
    "                       annotation='mRNA degradation')\n",
    "\n",
    "k_mdcyOther = sim.rateConst(\"mdcyOther\", \n",
    "                       otherMrnaDecay*rateScl, order=1, \n",
    "                       texRepr=r\"k_\\mathrm{mDcy'}\",\n",
    "                       annotation='mRNA degradation (other)')\n",
    "k_pdcy = sim.rateConst(\"pdcy\", \n",
    "                       transProtDecay*rateScl, order=1, \n",
    "                       texRepr=r'k_\\mathrm{tDcy}',\n",
    "                       annotation='Transporter degradation')\n"
   ]
  },
  {
   "cell_type": "code",
   "execution_count": 11,
   "metadata": {
    "ExecuteTime": {
     "end_time": "2017-01-15T17:58:40.924627",
     "start_time": "2017-01-15T17:58:40.899179"
    },
    "collapsed": true,
    "run_control": {
     "frozen": false,
     "marked": false,
     "read_only": false
    }
   },
   "outputs": [],
   "source": [
    "nucleoplasm.addReaction(geneOn, (geneOn,mRNA), k_ts)\n",
    "nucleoplasm.addReaction((), (mRNAother), k_tsOther)\n",
    "nucleoplasm.addReaction((sugar,geneOff), geneOn, k_geneOn)\n",
    "rib.addReaction((ribosome, mRNAother), ribosomeTxOther, k_mrnaOn)\n",
    "rib.addReaction((ribosome, mRNA), ribosomeTx, k_mrnaOn)\n",
    "rib.addReaction(ribosomeTxOther, ribosome, k_mdcyOther)\n",
    "rib.addReaction(ribosomeTx, ribosome, k_mdcy)\n",
    "rib.addReaction(ribosomeTxOther, (ribosome, mRNAother), k_tlOther)\n",
    "rib.addReaction(ribosomeTx, (ribosome, mRNA, transporter), k_tl)\n",
    "\n",
    "mem.addReaction((transporter,extracellularSugar), boundTransporter, k_transOn)\n",
    "mem.addReaction((boundTransporter), (transporter,sugar), k_transport)\n",
    "mem.addReaction((boundTransporter), (transporter,extracellularSugar), k_transOff)\n",
    "mem.addReaction(sugar, extracellularSugar, k_ptransport)\n",
    "mem.addReaction(extracellularSugar, sugar, k_ptransport)\n",
    "\n",
    "for r in [nucleoplasm, rib, nucPores, cytoplasm]:\n",
    "    r.addReaction(mRNAother, [], k_mdcyOther)\n",
    "    r.addReaction(mRNA, [], k_mdcy)\n",
    "    \n",
    "for r in [cytoplasm, mem]:\n",
    "    r.addReaction(transporter, [], k_pdcy)\n",
    "    r.addReaction(boundTransporter, [], k_pdcy)\n",
    "    \n",
    "None"
   ]
  },
  {
   "cell_type": "code",
   "execution_count": 12,
   "metadata": {
    "ExecuteTime": {
     "end_time": "2017-01-15T17:58:42.191549",
     "start_time": "2017-01-15T17:58:40.926309"
    },
    "collapsed": true,
    "run_control": {
     "frozen": false,
     "marked": false,
     "read_only": false
    }
   },
   "outputs": [],
   "source": [
    "for x,y,z in np.argwhere(sim.siteLattice==sim.region(\"Rib\").idx):\n",
    "    ribosome.placeParticle(x,y,z,1)\n",
    "\n",
    "locs = np.argwhere(B.erode(sim.siteLattice == nucleoplasm.idx, 10))\n",
    "x,y,z = locs[np.random.randint(0, locs.shape[0])]\n",
    "geneOff.placeParticle(x,y,z,1)\n",
    "_ = extracellularSugar.placeConcentrationInto(extracellular, initialSugarConc)"
   ]
  },
  {
   "cell_type": "code",
   "execution_count": 13,
   "metadata": {
    "ExecuteTime": {
     "end_time": "2017-01-15T17:58:42.215753",
     "start_time": "2017-01-15T17:58:42.193012"
    },
    "collapsed": false,
    "run_control": {
     "frozen": false,
     "read_only": false
    }
   },
   "outputs": [],
   "source": [
    "nvol = np.sum(sim.siteLattice==nucleoplasm.idx)\n",
    "cvol = np.sum(sim.siteLattice==cytoplasm.idx)\n",
    "mRNAother.placeNumberInto(nucleoplasm, int(otherMrna*nvol/(nvol+cvol)))\n",
    "mRNAother.placeNumberInto(cytoplasm, int(otherMrna*cvol/(nvol+cvol)))\n",
    "None"
   ]
  },
  {
   "cell_type": "code",
   "execution_count": 14,
   "metadata": {
    "ExecuteTime": {
     "end_time": "2017-01-15T17:58:42.231588",
     "start_time": "2017-01-15T17:58:42.217263"
    },
    "collapsed": true,
    "run_control": {
     "frozen": false,
     "read_only": false
    }
   },
   "outputs": [],
   "source": [
    "d_zero  = sim.diffusionZero()\n",
    "d_fast  = sim.diffusionFast()\n",
    "d_mRNA  = sim.diffusionConst(\"mRNA\", mrnaDiffusion, texRepr=r'D_{\\mathrm{m}}', annotation='mRNA diffusion')\n",
    "d_prot  = sim.diffusionConst(\"prot\", protDiffusion, texRepr=r'D_{\\mathrm{T}}', annotation='Transporter diffusion')\n",
    "d_protMem  = sim.diffusionConst(\"protMem\", protDiffusionMem, texRepr=r'D_{\\mathrm{mT}}', annotation='Transporter diffusion (membrane)')"
   ]
  },
  {
   "cell_type": "code",
   "execution_count": 15,
   "metadata": {
    "ExecuteTime": {
     "end_time": "2017-01-15T17:58:42.259922",
     "start_time": "2017-01-15T17:58:42.232843"
    },
    "collapsed": false,
    "run_control": {
     "frozen": false,
     "read_only": false
    }
   },
   "outputs": [],
   "source": [
    "internal = [cytoplasm, nucPores, nucleoplasm]\n",
    "external = [mem, cellWall, extracellular] \n",
    "\n",
    "sim.transitionRate(None, None, None, d_zero)\n",
    "for r0, r1 in itertools.product(internal, repeat=2):\n",
    "    for m in [mRNA, mRNAother]:\n",
    "        m.transitionRate(r0, r1, d_mRNA)\n",
    "    sugar.transitionRate(r0, r1, d_fast)\n",
    "    \n",
    "transporter.transitionRate(rib, cytoplasm, d_fast)\n",
    "transporter.transitionRate(rib, mem, d_fast)\n",
    "transporter.transitionRate(cytoplasm, mem, d_prot)\n",
    "transporter.transitionRate(cytoplasm, cytoplasm, d_prot)\n",
    "transporter.transitionRate(mem, mem, d_protMem)\n",
    "boundTransporter.transitionRate(mem, mem, d_protMem)\n",
    "    \n",
    "for sp in [mRNA, mRNAother]:\n",
    "    sp.transitionRate(rib, rib, d_mRNA)\n",
    "    sp.transitionRate(nucPores, nucleoplasm, d_zero)\n",
    "    for r0 in internal:\n",
    "        sp.transitionRate(r0, rib, d_mRNA)\n",
    "        sp.transitionRate(rib, r0, d_mRNA)\n",
    "        \n",
    "    \n",
    "sugar.transitionRate(mem, cytoplasm, d_fast)\n",
    "\n",
    "for r0, r1 in itertools.product(external, repeat=2):\n",
    "    extracellularSugar.transitionRate(r0, r1, d_fast)\n",
    "    \n",
    "None"
   ]
  },
  {
   "cell_type": "code",
   "execution_count": 16,
   "metadata": {
    "ExecuteTime": {
     "end_time": "2017-01-15T17:58:47.457797",
     "start_time": "2017-01-15T17:58:42.261113"
    },
    "collapsed": false,
    "run_control": {
     "frozen": false,
     "read_only": false
    }
   },
   "outputs": [
    {
     "name": "stdout",
     "output_type": "stream",
     "text": [
      "27.46268656716418\n"
     ]
    }
   ],
   "source": [
    "#stepsPerWrite = 2000\n",
    "#sim.latticeWriteInterval = sim.timestep*stepsPerWrite\n",
    "#sim.speciesWriteInterval = sim.latticeWriteInterval\n",
    "sim.latticeWriteInterval = 0.10\n",
    "sim.speciesWriteInterval = sim.latticeWriteInterval\n",
    "simWallRatio = sim.timestep/1.84e-3\n",
    "sim.simulationTime = 60*60\n",
    "print(sim.simulationTime/simWallRatio/60/60)\n",
    "sim.finalize()"
   ]
  },
  {
   "cell_type": "code",
   "execution_count": 28,
   "metadata": {
    "ExecuteTime": {
     "end_time": "2017-01-16T05:04:32.209210",
     "start_time": "2017-01-16T05:04:32.203773"
    },
    "collapsed": false,
    "run_control": {
     "frozen": false,
     "read_only": false
    }
   },
   "outputs": [
    {
     "data": {
      "text/plain": [
       "36000.0"
      ]
     },
     "execution_count": 28,
     "metadata": {},
     "output_type": "execute_result"
    }
   ],
   "source": [
    "sim.simulationTime/sim.latticeWriteInterval"
   ]
  },
  {
   "cell_type": "code",
   "execution_count": 27,
   "metadata": {
    "ExecuteTime": {
     "end_time": "2017-01-16T05:03:38.202033",
     "start_time": "2017-01-16T05:03:38.196518"
    },
    "collapsed": false,
    "run_control": {
     "frozen": false,
     "read_only": false
    }
   },
   "outputs": [
    {
     "data": {
      "text/plain": [
       "0.0036545454545454546"
      ]
     },
     "execution_count": 27,
     "metadata": {},
     "output_type": "execute_result"
    }
   ],
   "source": [
    "120/(22*sim.latticeWriteInterval/sim.timestep)"
   ]
  },
  {
   "cell_type": "code",
   "execution_count": 17,
   "metadata": {
    "ExecuteTime": {
     "end_time": "2017-01-15T17:58:49.636977",
     "start_time": "2017-01-15T17:58:47.459776"
    },
    "collapsed": false,
    "run_control": {
     "frozen": false,
     "read_only": false
    }
   },
   "outputs": [],
   "source": [
    "with open(manuscriptFile(\"tables-src/yeast-parameters.tex\"), \"w\") as tex:\n",
    "    TeX.parameterTable(sim, file=tex)\n",
    "    \n",
    "with open(manuscriptFile(\"tables-src/yeast-model.tex\"), \"w\") as tex:\n",
    "    TeX.modelTables(sim, file=tex)\n",
    "    \n",
    "with open(manuscriptFile(\"tables-src/yeast-reactions.tex\"), \"w\") as tex:\n",
    "    TeX.reactionTable(sim, file=tex)\n",
    "    \n",
    "with open(manuscriptFile(\"tables-src/yeast-regions.tex\"), \"w\") as tex:\n",
    "    TeX.regionTable(sim, file=tex)"
   ]
  },
  {
   "cell_type": "code",
   "execution_count": 18,
   "metadata": {
    "ExecuteTime": {
     "end_time": "2017-01-15T17:58:49.646578",
     "start_time": "2017-01-15T17:58:49.638584"
    },
    "collapsed": false,
    "run_control": {
     "frozen": false,
     "read_only": false
    }
   },
   "outputs": [
    {
     "data": {
      "text/html": [
       "<table class='jLMtbl'>\n",
       "    <caption>All defined parameters</caption>\n",
       "    <tr>\n",
       "        <th>Index</th>\n",
       "        <th>Symbol</th>\n",
       "        <th>Value</th>\n",
       "        <th>Unit</th>\n",
       "        <th>Usage</th>\n",
       "        <th>Description</th>\n",
       "    </tr>\n",
       "    <tr>\n",
       "        <td> 0 </td>\n",
       "        <td> $k_\\mathrm{gnOn}$ </td>\n",
       "        <td> 1.599 </td>\n",
       "        <td class='jLMnum'>M<sup>-1</sup>⋅s<sup>-1</sup></td>\n",
       "        <td class='jLMnum'>1</td>\n",
       "        <td> Sugar/TF binding </td>\n",
       "    </tr>\n",
       "    <tr>\n",
       "        <td> 1 </td>\n",
       "        <td> $k_\\mathrm{tlInit}$ </td>\n",
       "        <td> 7.043 × 10<sup>3</sup> </td>\n",
       "        <td class='jLMnum'>M<sup>-1</sup>⋅s<sup>-1</sup></td>\n",
       "        <td class='jLMnum'>2</td>\n",
       "        <td> SSU/mRNA association </td>\n",
       "    </tr>\n",
       "    <tr>\n",
       "        <td> 2 </td>\n",
       "        <td> $k_\\mathrm{tlTerm'}$ </td>\n",
       "        <td> 1.101 </td>\n",
       "        <td class='jLMnum'>s<sup>-1</sup></td>\n",
       "        <td class='jLMnum'>1</td>\n",
       "        <td> Translation elongation (other) </td>\n",
       "    </tr>\n",
       "    <tr>\n",
       "        <td> 3 </td>\n",
       "        <td> $k_\\mathrm{tlTerm}$ </td>\n",
       "        <td> 1.393 </td>\n",
       "        <td class='jLMnum'>s<sup>-1</sup></td>\n",
       "        <td class='jLMnum'>1</td>\n",
       "        <td> Translation elongation </td>\n",
       "    </tr>\n",
       "    <tr>\n",
       "        <td> 4 </td>\n",
       "        <td> $k_\\mathrm{ts'}$ </td>\n",
       "        <td> 5.895 × 10<sup>-5</sup> </td>\n",
       "        <td class='jLMnum'>M⋅s<sup>-1</sup></td>\n",
       "        <td class='jLMnum'>1</td>\n",
       "        <td> Transcription (other) </td>\n",
       "    </tr>\n",
       "    <tr>\n",
       "        <td> 5 </td>\n",
       "        <td> $k_\\mathrm{ts}$ </td>\n",
       "        <td> 6.202 × 10<sup>-3</sup> </td>\n",
       "        <td class='jLMnum'>s<sup>-1</sup></td>\n",
       "        <td class='jLMnum'>1</td>\n",
       "        <td> Transcription </td>\n",
       "    </tr>\n",
       "    <tr>\n",
       "        <td> 6 </td>\n",
       "        <td> $k_\\mathrm{txOn}$ </td>\n",
       "        <td> 2.134 </td>\n",
       "        <td class='jLMnum'>M<sup>-1</sup>⋅s<sup>-1</sup></td>\n",
       "        <td class='jLMnum'>1</td>\n",
       "        <td> Transporter/sugar association </td>\n",
       "    </tr>\n",
       "    <tr>\n",
       "        <td> 7 </td>\n",
       "        <td> $k_\\mathrm{txOff}$ </td>\n",
       "        <td> 0.120 </td>\n",
       "        <td class='jLMnum'>s<sup>-1</sup></td>\n",
       "        <td class='jLMnum'>1</td>\n",
       "        <td> Transporter/sugar dissociation </td>\n",
       "    </tr>\n",
       "    <tr>\n",
       "        <td> 8 </td>\n",
       "        <td> $k_\\mathrm{tx}$ </td>\n",
       "        <td> 12.000 </td>\n",
       "        <td class='jLMnum'>s<sup>-1</sup></td>\n",
       "        <td class='jLMnum'>1</td>\n",
       "        <td> Active sugar transport </td>\n",
       "    </tr>\n",
       "    <tr>\n",
       "        <td> 9 </td>\n",
       "        <td> $k_\\mathrm{txDif}$ </td>\n",
       "        <td> 2.330 × 10<sup>-3</sup> </td>\n",
       "        <td class='jLMnum'>s<sup>-1</sup></td>\n",
       "        <td class='jLMnum'>2</td>\n",
       "        <td> Passive diffusional transport </td>\n",
       "    </tr>\n",
       "    <tr>\n",
       "        <td> 10 </td>\n",
       "        <td> $k_\\mathrm{mDcy}$ </td>\n",
       "        <td> 7.889 × 10<sup>-4</sup> </td>\n",
       "        <td class='jLMnum'>s<sup>-1</sup></td>\n",
       "        <td class='jLMnum'>2</td>\n",
       "        <td> mRNA degradation </td>\n",
       "    </tr>\n",
       "    <tr>\n",
       "        <td> 11 </td>\n",
       "        <td> $k_\\mathrm{mDcy'}$ </td>\n",
       "        <td> 5.776 × 10<sup>-4</sup> </td>\n",
       "        <td class='jLMnum'>s<sup>-1</sup></td>\n",
       "        <td class='jLMnum'>2</td>\n",
       "        <td> mRNA degradation (other) </td>\n",
       "    </tr>\n",
       "    <tr>\n",
       "        <td> 12 </td>\n",
       "        <td> $k_\\mathrm{tDcy}$ </td>\n",
       "        <td> 2.567 × 10<sup>-4</sup> </td>\n",
       "        <td class='jLMnum'>s<sup>-1</sup></td>\n",
       "        <td class='jLMnum'>2</td>\n",
       "        <td> Transporter degradation </td>\n",
       "    </tr>\n",
       "    <tr>\n",
       "        <td> 0 </td>\n",
       "        <td> $D_\\varnothing$ </td>\n",
       "        <td> 0.000 </td>\n",
       "        <td class='jLMnum'>m<sup>2</sup>⋅s<sup>-1</sup></td>\n",
       "        <td class='jLMnum'>3</td>\n",
       "        <td> None </td>\n",
       "    </tr>\n",
       "    <tr>\n",
       "        <td> 1 </td>\n",
       "        <td> $D_\\infty$ </td>\n",
       "        <td> 2.045 × 10<sup>-12</sup> </td>\n",
       "        <td class='jLMnum'>m<sup>2</sup>⋅s<sup>-1</sup></td>\n",
       "        <td class='jLMnum'>21</td>\n",
       "        <td> None </td>\n",
       "    </tr>\n",
       "    <tr>\n",
       "        <td> 2 </td>\n",
       "        <td> $D_{\\mathrm{m}}$ </td>\n",
       "        <td> 5.000 × 10<sup>-13</sup> </td>\n",
       "        <td class='jLMnum'>m<sup>2</sup>⋅s<sup>-1</sup></td>\n",
       "        <td class='jLMnum'>32</td>\n",
       "        <td> mRNA diffusion </td>\n",
       "    </tr>\n",
       "    <tr>\n",
       "        <td> 3 </td>\n",
       "        <td> $D_{\\mathrm{T}}$ </td>\n",
       "        <td> 1.000 × 10<sup>-12</sup> </td>\n",
       "        <td class='jLMnum'>m<sup>2</sup>⋅s<sup>-1</sup></td>\n",
       "        <td class='jLMnum'>2</td>\n",
       "        <td> Transporter diffusion </td>\n",
       "    </tr>\n",
       "    <tr>\n",
       "        <td> 4 </td>\n",
       "        <td> $D_{\\mathrm{mT}}$ </td>\n",
       "        <td> 1.000 × 10<sup>-14</sup> </td>\n",
       "        <td class='jLMnum'>m<sup>2</sup>⋅s<sup>-1</sup></td>\n",
       "        <td class='jLMnum'>2</td>\n",
       "        <td> Transporter diffusion (membrane) </td>\n",
       "    </tr>\n",
       "</table>"
      ],
      "text/plain": [
       "<IPython.core.display.HTML object>"
      ]
     },
     "execution_count": 18,
     "metadata": {},
     "output_type": "execute_result"
    }
   ],
   "source": [
    "sim.showAllParameters()"
   ]
  },
  {
   "cell_type": "code",
   "execution_count": 21,
   "metadata": {
    "ExecuteTime": {
     "end_time": "2017-01-15T18:00:12.314680",
     "start_time": "2017-01-15T18:00:12.307910"
    },
    "collapsed": false,
    "run_control": {
     "frozen": false,
     "read_only": false
    }
   },
   "outputs": [
    {
     "data": {
      "text/plain": [
       "5.5054079956054686e-06"
      ]
     },
     "execution_count": 21,
     "metadata": {},
     "output_type": "execute_result"
    }
   ],
   "source": [
    "sim.siteLattice.shape[0]*sim.latticeSpacing"
   ]
  },
  {
   "cell_type": "code",
   "execution_count": 29,
   "metadata": {
    "ExecuteTime": {
     "end_time": "2017-01-16T05:07:35.183691",
     "start_time": "2017-01-16T05:07:35.140195"
    },
    "collapsed": true,
    "run_control": {
     "frozen": false,
     "read_only": false
    }
   },
   "outputs": [],
   "source": [
    "np.save?"
   ]
  },
  {
   "cell_type": "code",
   "execution_count": 30,
   "metadata": {
    "ExecuteTime": {
     "end_time": "2017-01-16T14:38:31.942024",
     "start_time": "2017-01-16T14:38:29.234607"
    },
    "collapsed": false,
    "run_control": {
     "frozen": false,
     "read_only": false
    }
   },
   "outputs": [
    {
     "data": {
      "text/html": [
       "<h2>yeast18</h2>\n",
       "\n",
       "<div class=\"jLMflex\">\n",
       "    <div class=\"regLeft\">\n",
       "        <h3>Key</h3>\n",
       "        <ul class=\"reg\">\n",
       "            <li><span class=\"jLMregion\" style=\"color:#000000;background:#ffffff;\">Extracellular</span></li>\n",
       "            <li><span class=\"jLMregion\" style=\"color:#000000;background:#51cccc;\">CellWall</span></li>\n",
       "            <li><span class=\"jLMregion\" style=\"color:#ffffff;background:#337f7f;\">Mem</span></li>\n",
       "            <li><span class=\"jLMregion\" style=\"color:#ffffff;background:#cc5151;\">Cytoplasm</span></li>\n",
       "            <li><span class=\"jLMregion\" style=\"color:#ffffff;background:#7f3333;\">Rib</span></li>\n",
       "            <li><span class=\"jLMregion\" style=\"color:#ffffff;background:#8e51cc;\">Nucleoplasm</span></li>\n",
       "            <li><span class=\"jLMregion\" style=\"color:#ffffff;background:#59337f;\">Vacuole</span></li>\n",
       "            <li><span class=\"jLMregion\" style=\"color:#000000;background:#8ecc51;\">NucPores</span></li>\n",
       "            <li><span class=\"jLMregion\" style=\"color:#ffffff;background:#597f33;\">NucEnv</span></li>\n",
       "            <li><span class=\"jLMregion\" style=\"color:#ffffff;background:#5170cc;\">Mito</span></li>\n",
       "        </ul>\n",
       "    </div>\n",
       "    <div class=\"regRight\">\n",
       "        <h3><i>xy</i>-plane; <i>z</i>-index=87</h3>\n",
       "        <img class=\"smallreg\" width=\"384\" height=\"384\" src=\"data:image/png;base64,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\" />\n",
       "    </div>\n",
       "</div>\n",
       "<table class='jLMtbl'>\n",
       "    <caption>Simulation</caption>\n",
       "    <tr>\n",
       "        <th> Time step </th>\n",
       "        <td class='jLMparam jLMnum'> 67.000 µs </td>\n",
       "    </tr>\n",
       "    <tr>\n",
       "        <th> Simulation time </th>\n",
       "        <td class='jLMparam jLMnum'> 3.600 × 10<sup>3</sup> s </td>\n",
       "    </tr>\n",
       "    <tr>\n",
       "        <th> Lattice write interval </th>\n",
       "        <td class='jLMparam jLMnum'> 0.100 s </td>\n",
       "    </tr>\n",
       "    <tr>\n",
       "        <th scope='row'> Particle count write interval </th>\n",
       "        <td class='jLMparam jLMnum'> 0.100 s </td>\n",
       "    </tr>\n",
       "</table>\n",
       "\n",
       "\n",
       "\n",
       "\n",
       "<table class='jLMtbl'>\n",
       "    <caption>Lattice</caption>\n",
       "    <tr>\n",
       "        <th scope='row'> Dimensions </th>\n",
       "        <td class='jLMparam jLMnum'>192 × 192 × 192</td>\n",
       "    </tr>\n",
       "    <tr>\n",
       "        <th scope='row'> Particles per site </th>\n",
       "        <td class='jLMparam jLMnum'>16</td>\n",
       "    </tr>\n",
       "    <tr>\n",
       "        <th scope='row'> Bytes per particle </th>\n",
       "        <td class='jLMparam jLMnum'>1</td>\n",
       "    </tr>\n",
       "    <tr>\n",
       "        <th scope='row'> Lattice spacing </th>\n",
       "        <td class='jLMparam jLMnum'> 28.674 nm</td>\n",
       "    </tr>\n",
       "    <tr>\n",
       "        <th scope='row'> Subvolume size </th>\n",
       "        <td class='jLMparam jLMnum'> 2.358 × 10<sup>-5</sup> fl </td>\n",
       "    </tr>\n",
       "</table>\n",
       "\n",
       "\n",
       "<table class='jLMtbl'>\n",
       "    <caption>Model summary</caption>\n",
       "    <tr>\n",
       "        <th scope='row'> Output file </th>\n",
       "        <td class='jLMparam'> <tt>/data/earnest3/research/festschwifty/sim/Yeast18_tmp.lm</tt> </td>\n",
       "    </tr>\n",
       "    <tr>\n",
       "        <th scope='row'> Number of species </th>\n",
       "        <td class='jLMparam jLMnum'>11</td>\n",
       "    </tr>\n",
       "    <tr>\n",
       "        <th scope='row'> Number of reactions </th>\n",
       "        <td class='jLMparam jLMnum'>18</td>\n",
       "    </tr>\n",
       "    <tr>\n",
       "        <th scope='row'> Number of region types </th>\n",
       "        <td class='jLMparam jLMnum'>10</td>\n",
       "    </tr>\n",
       "    <tr>\n",
       "        <th scope='row'> Number of rate constants </th>\n",
       "        <td class='jLMparam jLMnum'>13</td>\n",
       "    </tr>\n",
       "    <tr>\n",
       "        <th scope='row'> Number of diffusion constants </th>\n",
       "        <td class='jLMparam jLMnum'>5</td>\n",
       "    </tr>\n",
       "    <tr>\n",
       "        <th scope='row'> Number of placed particles</th>\n",
       "        <td class='jLMparam jLMnum'>180001</td>\n",
       "    </tr>\n",
       "</table>\n",
       "\n",
       "<table class='jLMtbl'>\n",
       "    <caption>Region summary</caption>\n",
       "    <tr>\n",
       "        <th scope='col'> Region </th>\n",
       "        <th scope='col'> Subvolumes </th>\n",
       "        <th scope='col'> Volume </th>\n",
       "        <th scope='col'> Particles</th>\n",
       "        <th scope='col'> Concentration </th>\n",
       "        <th scope='col'> Occupancy </th>\n",
       "    </tr>\n",
       "    <tr>\n",
       "        <td><span class=\"jLMregion\" style=\"color:#000000;background:#ffffff;\">Extracellular</span></td>\n",
       "        <td class='jLMnum'>5374093</td>\n",
       "        <td class='jLMnum'>126.698 fl</td>\n",
       "        <td class='jLMnum'>305197</td>\n",
       "        <td class='jLMnum'>4.000 µM</td>\n",
       "        <td class='jLMnum'>$0.35\\,\\%$</td>\n",
       "    </tr>\n",
       "    <tr>\n",
       "        <td><span class=\"jLMregion\" style=\"color:#000000;background:#51cccc;\">CellWall</span></td>\n",
       "        <td class='jLMnum'>270846</td>\n",
       "        <td class='jLMnum'>6.385 fl</td>\n",
       "        <td class='jLMnum'>0</td>\n",
       "        <td class='jLMnum'>0.000 µM</td>\n",
       "        <td class='jLMnum'>$0.00\\,\\%$</td>\n",
       "    </tr>\n",
       "    <tr>\n",
       "        <td><span class=\"jLMregion\" style=\"color:#ffffff;background:#337f7f;\">Mem</span></td>\n",
       "        <td class='jLMnum'>51710</td>\n",
       "        <td class='jLMnum'>1.219 fl</td>\n",
       "        <td class='jLMnum'>0</td>\n",
       "        <td class='jLMnum'>0.000 µM</td>\n",
       "        <td class='jLMnum'>$0.00\\,\\%$</td>\n",
       "    </tr>\n",
       "    <tr>\n",
       "        <td><span class=\"jLMregion\" style=\"color:#ffffff;background:#cc5151;\">Cytoplasm</span></td>\n",
       "        <td class='jLMnum'>912254</td>\n",
       "        <td class='jLMnum'>21.507 fl</td>\n",
       "        <td class='jLMnum'>10786</td>\n",
       "        <td class='jLMnum'>0.833 µM</td>\n",
       "        <td class='jLMnum'>$0.07\\,\\%$</td>\n",
       "    </tr>\n",
       "    <tr>\n",
       "        <td><span class=\"jLMregion\" style=\"color:#ffffff;background:#7f3333;\">Rib</span></td>\n",
       "        <td class='jLMnum'>180000</td>\n",
       "        <td class='jLMnum'>4.244 fl</td>\n",
       "        <td class='jLMnum'>180000</td>\n",
       "        <td class='jLMnum'>70.434 µM</td>\n",
       "        <td class='jLMnum'>$6.25\\,\\%$</td>\n",
       "    </tr>\n",
       "    <tr>\n",
       "        <td><span class=\"jLMregion\" style=\"color:#ffffff;background:#8e51cc;\">Nucleoplasm</span></td>\n",
       "        <td class='jLMnum'>119539</td>\n",
       "        <td class='jLMnum'>2.818 fl</td>\n",
       "        <td class='jLMnum'>1414</td>\n",
       "        <td class='jLMnum'>0.833 µM</td>\n",
       "        <td class='jLMnum'>$0.07\\,\\%$</td>\n",
       "    </tr>\n",
       "    <tr>\n",
       "        <td><span class=\"jLMregion\" style=\"color:#ffffff;background:#59337f;\">Vacuole</span></td>\n",
       "        <td class='jLMnum'>127283</td>\n",
       "        <td class='jLMnum'>3.001 fl</td>\n",
       "        <td class='jLMnum'>0</td>\n",
       "        <td class='jLMnum'>0.000 µM</td>\n",
       "        <td class='jLMnum'>$0.00\\,\\%$</td>\n",
       "    </tr>\n",
       "    <tr>\n",
       "        <td><span class=\"jLMregion\" style=\"color:#000000;background:#8ecc51;\">NucPores</span></td>\n",
       "        <td class='jLMnum'>646</td>\n",
       "        <td class='jLMnum'>0.015 fl</td>\n",
       "        <td class='jLMnum'>0</td>\n",
       "        <td class='jLMnum'>0.000 µM</td>\n",
       "        <td class='jLMnum'>$0.00\\,\\%$</td>\n",
       "    </tr>\n",
       "    <tr>\n",
       "        <td><span class=\"jLMregion\" style=\"color:#ffffff;background:#597f33;\">NucEnv</span></td>\n",
       "        <td class='jLMnum'>14298</td>\n",
       "        <td class='jLMnum'>0.337 fl</td>\n",
       "        <td class='jLMnum'>0</td>\n",
       "        <td class='jLMnum'>0.000 µM</td>\n",
       "        <td class='jLMnum'>$0.00\\,\\%$</td>\n",
       "    </tr>\n",
       "    <tr>\n",
       "        <td><span class=\"jLMregion\" style=\"color:#ffffff;background:#5170cc;\">Mito</span></td>\n",
       "        <td class='jLMnum'>27219</td>\n",
       "        <td class='jLMnum'>0.642 fl</td>\n",
       "        <td class='jLMnum'>0</td>\n",
       "        <td class='jLMnum'>0.000 µM</td>\n",
       "        <td class='jLMnum'>$0.00\\,\\%$</td>\n",
       "    </tr>\n",
       "</table>"
      ],
      "text/plain": [
       "<jLM.RDME.Sim at 0x7f49a20392b0>"
      ]
     },
     "execution_count": 30,
     "metadata": {},
     "output_type": "execute_result"
    }
   ],
   "source": [
    "sim"
   ]
  },
  {
   "cell_type": "code",
   "execution_count": null,
   "metadata": {
    "collapsed": true,
    "run_control": {
     "frozen": false,
     "read_only": false
    }
   },
   "outputs": [],
   "source": []
  }
 ],
 "metadata": {
  "kernelspec": {
   "display_name": "Python 3",
   "language": "python",
   "name": "python3"
  },
  "language_info": {
   "codemirror_mode": {
    "name": "ipython",
    "version": 3
   },
   "file_extension": ".py",
   "mimetype": "text/x-python",
   "name": "python",
   "nbconvert_exporter": "python",
   "pygments_lexer": "ipython3",
   "version": "3.5.2"
  }
 },
 "nbformat": 4,
 "nbformat_minor": 2
}
