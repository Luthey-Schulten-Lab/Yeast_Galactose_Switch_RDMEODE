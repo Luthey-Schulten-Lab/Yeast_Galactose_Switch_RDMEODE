{
 "cells": [
  {
   "cell_type": "code",
   "execution_count": 42,
   "metadata": {
    "ExecuteTime": {
     "end_time": "2017-01-17T22:44:04.246918",
     "start_time": "2017-01-17T22:44:04.242098"
    },
    "collapsed": true,
    "run_control": {
     "frozen": false,
     "read_only": false
    }
   },
   "outputs": [],
   "source": [
    "import pickle\n",
    "import itertools\n",
    "import pandas as pd\n",
    "import numpy as np"
   ]
  },
  {
   "cell_type": "code",
   "execution_count": 43,
   "metadata": {
    "ExecuteTime": {
     "end_time": "2017-01-17T22:44:04.502180",
     "start_time": "2017-01-17T22:44:04.493524"
    },
    "collapsed": true,
    "run_control": {
     "frozen": false,
     "read_only": false
    }
   },
   "outputs": [],
   "source": [
    "import matplotlib.pyplot as plt\n",
    "from matplotlib.font_manager import FontProperties\n",
    "import seaborn as sns\n",
    "sns.set_style(\"white\")\n",
    "sns.set_context(\"paper\")\n",
    "%matplotlib inline"
   ]
  },
  {
   "cell_type": "code",
   "execution_count": 44,
   "metadata": {
    "ExecuteTime": {
     "end_time": "2017-01-17T22:44:04.745918",
     "start_time": "2017-01-17T22:44:04.739362"
    },
    "collapsed": false,
    "run_control": {
     "frozen": false,
     "read_only": false
    }
   },
   "outputs": [],
   "source": [
    "from venv import *\n",
    "from jLM.RDME import Sim as RDMESim\n",
    "from jLM.RDME import File as RDMEFile\n",
    "from jLM.VmdUtil import tclTriangleMesh, tclTriangleMesh_scratch\n",
    "from jLM.JupyterDisplay import showBinaryLattices\n",
    "from jLM.RegionBuilder import RegionBuilder\n",
    "import jLM"
   ]
  },
  {
   "cell_type": "code",
   "execution_count": 45,
   "metadata": {
    "ExecuteTime": {
     "end_time": "2017-01-17T22:44:04.942799",
     "start_time": "2017-01-17T22:44:04.938014"
    },
    "collapsed": true,
    "run_control": {
     "frozen": false,
     "read_only": false
    }
   },
   "outputs": [],
   "source": [
    "import jLM.TexFmt as TeX"
   ]
  },
  {
   "cell_type": "code",
   "execution_count": 46,
   "metadata": {
    "ExecuteTime": {
     "end_time": "2017-01-17T22:44:08.159326",
     "start_time": "2017-01-17T22:44:05.154571"
    },
    "collapsed": false,
    "run_control": {
     "frozen": false,
     "read_only": false
    }
   },
   "outputs": [],
   "source": [
    "traj = RDMEFile(simFile(\"Yeast18-2.lm\"))\n",
    "countsMat = np.load(simFile(\"Yeast18-2-particleCountPerSite0000001.npy\"))\n",
    "extracellular = traj.region(\"Extracellular\")\n",
    "cytoplasm = traj.region(\"Cytoplasm\")\n",
    "nucPores = traj.region(\"NucPores\")\n",
    "nucEnv = traj.region(\"NucEnv\")\n",
    "mem = traj.region(\"Mem\")\n",
    "vacuole = traj.region(\"Vacuole\")\n",
    "mito = traj.region(\"Mito\")\n",
    "nucleoplasm = traj.region(\"Nucleoplasm\")\n",
    "cellWall = traj.region(\"CellWall\")\n",
    "rib = traj.region(\"Rib\")\n",
    "geneOff = traj.species(\"geneOff\")\n",
    "geneOn = traj.species(\"geneOn\")\n",
    "mRNAother = traj.species(\"mRNAother\")\n",
    "mRNA = traj.species(\"mRNA\")\n",
    "ribosome = traj.species(\"ribosome\")\n",
    "ribosomeTx = traj.species(\"ribosomeTx\")\n",
    "ribosomeTxOther = traj.species(\"ribosomeTxOther\")\n",
    "transporter = traj.species(\"transporter\")\n",
    "extracellularSugar = traj.species(\"extracellularSugar\")\n",
    "sugar = traj.species(\"sugar\")\n",
    "boundTransporter = traj.species(\"transporterBound\")"
   ]
  },
  {
   "cell_type": "code",
   "execution_count": 47,
   "metadata": {
    "ExecuteTime": {
     "end_time": "2017-01-17T22:44:08.168812",
     "start_time": "2017-01-17T22:44:08.162987"
    },
    "collapsed": true,
    "run_control": {
     "frozen": false,
     "read_only": false
    }
   },
   "outputs": [],
   "source": [
    "counts = dict()\n",
    "ts = traj.latticeTimes\n",
    "for reg in traj.regionList:\n",
    "    counts[reg] = dict()\n",
    "    for sp in traj.speciesList:\n",
    "        counts[reg][sp] = countsMat[:,reg.idx,sp.idx]"
   ]
  },
  {
   "cell_type": "code",
   "execution_count": 48,
   "metadata": {
    "ExecuteTime": {
     "end_time": "2017-01-17T22:44:08.198294",
     "start_time": "2017-01-17T22:44:08.172443"
    },
    "collapsed": false,
    "run_control": {
     "frozen": false,
     "read_only": false
    }
   },
   "outputs": [
    {
     "data": {
      "text/plain": [
       "array([[ 4.2183334]])"
      ]
     },
     "execution_count": 48,
     "metadata": {},
     "output_type": "execute_result"
    }
   ],
   "source": [
    "tr = counts[nucleoplasm][geneOn] \n",
    "idx = 1+np.argwhere(np.diff(tr)>0)\n",
    "switchTime = traj.latticeTimes[idx]\n",
    "switchTime/60"
   ]
  },
  {
   "cell_type": "code",
   "execution_count": 49,
   "metadata": {
    "ExecuteTime": {
     "end_time": "2017-01-17T22:44:08.220923",
     "start_time": "2017-01-17T22:44:08.201703"
    },
    "collapsed": false,
    "run_control": {
     "frozen": false,
     "read_only": false
    }
   },
   "outputs": [
    {
     "data": {
      "text/plain": [
       "array([ 13.54333422])"
      ]
     },
     "execution_count": 49,
     "metadata": {},
     "output_type": "execute_result"
    }
   ],
   "source": [
    "tr = counts[mem][transporter] \n",
    "idx = 1+np.argwhere(np.diff(tr)>0)\n",
    "transportTime = traj.latticeTimes[idx][0]\n",
    "transportTime/60"
   ]
  },
  {
   "cell_type": "code",
   "execution_count": 65,
   "metadata": {
    "ExecuteTime": {
     "end_time": "2017-01-18T14:32:31.005347",
     "start_time": "2017-01-18T14:32:30.998331"
    },
    "collapsed": false
   },
   "outputs": [
    {
     "data": {
      "text/plain": [
       "array([[ 9.32500082]])"
      ]
     },
     "execution_count": 65,
     "metadata": {},
     "output_type": "execute_result"
    }
   ],
   "source": [
    "(transportTime-switchTime)/60"
   ]
  },
  {
   "cell_type": "code",
   "execution_count": 50,
   "metadata": {
    "ExecuteTime": {
     "end_time": "2017-01-17T22:44:08.275242",
     "start_time": "2017-01-17T22:44:08.224414"
    },
    "collapsed": false,
    "run_control": {
     "frozen": false,
     "read_only": false
    }
   },
   "outputs": [],
   "source": [
    "txCounts = counts[mem][transporter] + counts[mem][boundTransporter]\n",
    "dTxCounts = np.diff(txCounts)\n",
    "txTimes = traj.latticeTimes\n",
    "mask = dTxCounts > 0\n",
    "dTxCounts = dTxCounts[mask]\n",
    "\n",
    "txTimes_ = txTimes[1:][mask]\n",
    "txTimes = []\n",
    "for t,n in zip(txTimes_, dTxCounts):\n",
    "    txTimes += [float(t/60)]*int(n)"
   ]
  },
  {
   "cell_type": "code",
   "execution_count": 62,
   "metadata": {
    "ExecuteTime": {
     "end_time": "2017-01-17T23:35:00.795464",
     "start_time": "2017-01-17T23:34:58.415787"
    },
    "collapsed": false,
    "run_control": {
     "frozen": false,
     "read_only": false
    },
    "scrolled": true
   },
   "outputs": [
    {
     "data": {
      "image/png": "[encoded data removed]",
      "text/plain": [
       "<matplotlib.figure.Figure at 0x7fa492111e80>"
      ]
     },
     "metadata": {},
     "output_type": "display_data"
    }
   ],
   "source": [
    "ts = traj.latticeTimes/60\n",
    "\n",
    "fig, ((ax0, ax1), (ax2, ax3)) = plt.subplots(ncols=2, nrows=2, figsize=(5,4))\n",
    "\n",
    "def xaxis(t='t'):\n",
    "    return dict(xlim=(0,ts[-1]), xlabel=r'$'+t+'/\\mathrm{min}$')\n",
    "\n",
    "nucNAV = traj.siteNAV*np.sum(traj.siteLattice==nucleoplasm.idx)\n",
    "extNAV = traj.siteNAV*np.sum(traj.siteLattice==extracellular.idx)\n",
    "ax0.plot(ts,1e6*counts[nucleoplasm][sugar]/nucNAV, label='Nucleus')\n",
    "ax0.plot(ts,1e6*counts[extracellular][extracellularSugar]/extNAV, label='Extracellular')\n",
    "ax0.axvline(switchTime/60, ls=\":\", c='k')\n",
    "ax0.legend(bbox_to_anchor=(0.65,1))\n",
    "ax0.set(ylabel=r\"$[\\mathrm{I}]/\\mu\\mathrm{M}$\", **xaxis())\n",
    "\n",
    "ax1.plot(ts,counts[mem][transporter])\n",
    "ax1.axvline(switchTime/60, ls=\":\", c='k')\n",
    "ax1.set(ylabel=r\"$n_\\mathrm{trans}$\", **xaxis())\n",
    "\n",
    "regs = [nucleoplasm, cytoplasm, rib, nucPores]\n",
    "sps = [mRNA, ribosomeTx]\n",
    "ax2.plot(ts, sum(counts[r][sp] for r,sp in itertools.product(regs,sps)))\n",
    "ax2.axvline(switchTime/60, ls=\":\", c='k')\n",
    "ax2.set(ylabel=r\"$n_\\mathrm{mRNA}$\", **xaxis())\n",
    "\n",
    "sns.distplot(txTimes, bins=np.linspace(0,ts[-1],20), kde=False, ax=ax3, norm_hist=True)\n",
    "ax3.set(ylabel=r\"$P(t_{\\mathrm{mem}})/\\mathrm{min}^{-1}$\", **xaxis(r\"t_\\mathrm{mem}\"))\n",
    "ax3.axvline(switchTime/60, ls=\":\", c='k')\n",
    "fig.tight_layout()\n",
    "\n",
    "font = FontProperties()\n",
    "font.set_weight(\"bold\")\n",
    "ax0.text(-0.25,1.02, \"a\", transform=ax0.transAxes, fontproperties=font)\n",
    "ax1.text(-0.3,1.02, \"b\", transform=ax1.transAxes, fontproperties=font)\n",
    "ax2.text(-0.25,1.02, \"c\", transform=ax2.transAxes, fontproperties=font)\n",
    "ax3.text(-0.3,1.02, \"d\", transform=ax3.transAxes, fontproperties=font)\n",
    "\n",
    "fig.savefig(manuscriptFile(\"fig/yeast-traj.pdf\"))"
   ]
  },
  {
   "cell_type": "code",
   "execution_count": 33,
   "metadata": {
    "ExecuteTime": {
     "end_time": "2017-01-16T16:16:08.318887",
     "start_time": "2017-01-16T16:16:07.974096"
    },
    "collapsed": true,
    "run_control": {
     "frozen": false,
     "read_only": false
    }
   },
   "outputs": [],
   "source": [
    "with open(manuscriptFile(\"tables-src/yeast-parameters.tex\"), \"w\") as tex:\n",
    "    TeX.parameterTable(traj, file=tex)\n",
    "    \n",
    "with open(manuscriptFile(\"tables-src/yeast-model.tex\"), \"w\") as tex:\n",
    "    TeX.modelTables(traj, file=tex)\n",
    "    \n",
    "with open(manuscriptFile(\"tables-src/yeast-reactions.tex\"), \"w\") as tex:\n",
    "    TeX.reactionTable(traj, file=tex)\n",
    "    \n",
    "with open(manuscriptFile(\"tables-src/yeast-regions.tex\"), \"w\") as tex:\n",
    "    TeX.regionTable(traj, file=tex)"
   ]
  },
  {
   "cell_type": "code",
   "execution_count": 41,
   "metadata": {
    "ExecuteTime": {
     "end_time": "2017-01-16T17:44:21.145115",
     "start_time": "2017-01-16T17:44:21.138414"
    },
    "collapsed": false,
    "run_control": {
     "frozen": false,
     "read_only": false
    }
   },
   "outputs": [
    {
     "data": {
      "text/plain": [
       "46.04631505775024"
      ]
     },
     "execution_count": 41,
     "metadata": {},
     "output_type": "execute_result"
    }
   ],
   "source": [
    "(traj.latticeSpacing/8e-9)**3"
   ]
  },
  {
   "cell_type": "code",
   "execution_count": 96,
   "metadata": {
    "ExecuteTime": {
     "end_time": "2017-01-18T14:55:39.792659",
     "start_time": "2017-01-18T14:55:37.008755"
    },
    "collapsed": false,
    "run_control": {
     "frozen": false,
     "read_only": false
    }
   },
   "outputs": [
    {
     "data": {
      "text/plain": [
       "(21.666667699996136, 1893)"
      ]
     },
     "execution_count": 96,
     "metadata": {},
     "output_type": "execute_result"
    },
    {
     "data": {
      "image/png": "[encoded data removed]",
      "text/plain": [
       "<matplotlib.figure.Figure at 0x7fa49bee6438>"
      ]
     },
     "metadata": {},
     "output_type": "display_data"
    }
   ],
   "source": [
    "ys = 1e6*counts[nucleoplasm][sugar]/nucNAV\n",
    "import scipy.signal as spsig\n",
    "import scipy.interpolate as spint\n",
    "spl = spint.InterpolatedUnivariateSpline(ts[::1000], spsig.medfilt(ys,1001)[::1000])\n",
    "d2 = spl.derivative(2)\n",
    "#plt.plot(ts, d2(ts))\n",
    "plt.plot(ts, ys-spl(ts))\n",
    "i = np.argmax(d2(ts))\n",
    "ts[i], counts[mem][transporter][i] + counts[mem][boundTransporter][i]"
   ]
  },
  {
   "cell_type": "code",
   "execution_count": 75,
   "metadata": {
    "ExecuteTime": {
     "end_time": "2017-01-18T14:43:13.213661",
     "start_time": "2017-01-18T14:43:13.207506"
    },
    "collapsed": false
   },
   "outputs": [
    {
     "data": {
      "text/plain": [
       "(36001,)"
      ]
     },
     "execution_count": 75,
     "metadata": {},
     "output_type": "execute_result"
    }
   ],
   "source": [
    "ys.shape"
   ]
  },
  {
   "cell_type": "code",
   "execution_count": 104,
   "metadata": {
    "ExecuteTime": {
     "end_time": "2017-01-18T15:04:45.312135",
     "start_time": "2017-01-18T15:04:45.303885"
    },
    "collapsed": false
   },
   "outputs": [
    {
     "data": {
      "text/plain": [
       "array([ 46.77666752,  46.77833358,  46.78500008, ...,  59.99666755,\n",
       "        59.99833362,  60.0000008 ])"
      ]
     },
     "execution_count": 104,
     "metadata": {},
     "output_type": "execute_result"
    }
   ],
   "source": [
    "ts[counts[extracellular][extracellularSugar]/counts[extracellular][extracellularSugar][0] < 1e-2]"
   ]
  },
  {
   "cell_type": "code",
   "execution_count": null,
   "metadata": {
    "collapsed": true
   },
   "outputs": [],
   "source": []
  }
 ],
 "metadata": {
  "kernelspec": {
   "display_name": "Python 3",
   "language": "python",
   "name": "python3"
  },
  "language_info": {
   "codemirror_mode": {
    "name": "ipython",
    "version": 3
   },
   "file_extension": ".py",
   "mimetype": "text/x-python",
   "name": "python",
   "nbconvert_exporter": "python",
   "pygments_lexer": "ipython3",
   "version": "3.5.2"
  }
 },
 "nbformat": 4,
 "nbformat_minor": 2
}
