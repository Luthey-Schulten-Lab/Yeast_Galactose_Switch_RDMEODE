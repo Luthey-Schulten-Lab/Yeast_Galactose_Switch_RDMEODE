{
 "cells": [
  {
   "cell_type": "markdown",
   "metadata": {
    "run_control": {
     "frozen": false,
     "read_only": false
    },
    "slideshow": {
     "slide_type": "slide"
    }
   },
   "source": [
    "# Constucting a yeast cell from limited CryoET data\n",
    "Tyler Earnest 2016/02/22\n",
    "\n",
    "Rerun and Verified by Tianyu Wu. 2023/08/23\n",
    "1. Remove the venv environment reqiurement.\n",
    "2. Update the functions so that current script is compatible with LM v2.4.\n",
    "\n",
    "Comments: \n",
    "+ you should first set up an anaconda environment with Lattice-Microbe v2.4 (Linux system required). So you can use the jLM packages for geometry manipulation. \n",
    "+ You can find and download the Lattice-Microbe from https://github.com/Luthey-Schulten-Lab/LM2.4_PNNL.\n"
   ]
  },
  {
   "cell_type": "markdown",
   "metadata": {
    "run_control": {
     "frozen": false,
     "read_only": false
    },
    "slideshow": {
     "slide_type": "slide"
    }
   },
   "source": [
    "## 0.Imports"
   ]
  },
  {
   "cell_type": "code",
   "execution_count": 1,
   "metadata": {
    "collapsed": true,
    "slideshow": {
     "slide_type": "-"
    }
   },
   "outputs": [],
   "source": [
    "import itertools\n",
    "import numpy as np\n",
    "import scipy.spatial as spspat\n",
    "import scipy.special as sps\n",
    "import scipy.optimize as spopt\n",
    "import scipy.interpolate as spinterp\n",
    "import skimage.morphology as skmo\n",
    "from functools import reduce\n",
    "import pickle       \n",
    "import lzma\n",
    "try:\n",
    "    %load_ext Cython \n",
    "    # This is for placement of ribosomes not include those in cryo-ET\n",
    "except Exception as e:\n",
    "    print(f\"Cython loading error: {e}\")\n",
    "    print(\"Continuing without Cython - some functionality may be limited\")"
   ]
  },
  {
   "cell_type": "code",
   "execution_count": 2,
   "metadata": {
    "ExecuteTime": {
     "end_time": "2017-02-22T11:46:36.665266",
     "start_time": "2017-02-22T11:46:35.553696"
    },
    "collapsed": false,
    "run_control": {
     "frozen": false,
     "marked": false,
     "read_only": false
    },
    "slideshow": {
     "slide_type": "fragment"
    }
   },
   "outputs": [],
   "source": [
    "import matplotlib as mpl\n",
    "import seaborn as sns\n",
    "\n",
    "mplRc = {\"axes.grid\": False,\n",
    "         \"image.cmap\":\"inferno\",\n",
    "         \"image.interpolation\":\"nearest\",\n",
    "         \"image.origin\":\"lower\"}\n",
    "\n",
    "sns.set_context(\"talk\", rc=mplRc)\n",
    "\n",
    "for k,v in mplRc.items():\n",
    "    mpl.rcParams[k] = v\n",
    "\n",
    "import matplotlib.pyplot as plt\n",
    "%matplotlib inline"
   ]
  },
  {
   "cell_type": "markdown",
   "metadata": {
    "collapsed": true,
    "run_control": {
     "frozen": false,
     "read_only": false
    },
    "slideshow": {
     "slide_type": "slide"
    }
   },
   "source": [
    "### jLM imports"
   ]
  },
  {
   "cell_type": "code",
   "execution_count": null,
   "metadata": {
    "ExecuteTime": {
     "end_time": "2017-02-22T11:44:56.628148",
     "start_time": "2017-02-22T11:44:56.052360"
    },
    "collapsed": false,
    "run_control": {
     "frozen": false,
     "read_only": false
    },
    "slideshow": {
     "slide_type": "-"
    }
   },
   "outputs": [],
   "source": [
    "# from venv import *\n",
    "import os\n",
    "\n",
    "jpcb_path = './data'  # change to the github repo\n",
    "def dataFile(x):\n",
    "    #return os.path.join(os.path.join(os.environ['VIRTUAL_ENV'], \"data\"), x)\n",
    "    return os.path.join( jpcb_path, x)\n",
    "\n",
    "\n",
    "from VolData import VolData\n",
    "from jLM.RegionBuilder import RegionBuilder\n",
    "# from jLM.RDME import Sim as RDMESim\n",
    "# from jLM.RDME import File as RDMEFile\n",
    "#from jLM.VmdUtil import tclTriangleMesh, tclTriangleMesh_scratch\n",
    "#from jLM.JupyterDisplay import showBinaryLattices\n",
    "import jLM"
   ]
  },
  {
   "cell_type": "code",
   "execution_count": 4,
   "metadata": {
    "collapsed": true,
    "slideshow": {
     "slide_type": "-"
    }
   },
   "outputs": [],
   "source": [
    "def report(name, value, fmt=\"{}\"): \n",
    "    '''report function for print out information in format.'''\n",
    "    label = \"{:<25s}\".format(name)\n",
    "    value = \"{:>25s}\".format(fmt.format(value))\n",
    "    print(label+value)"
   ]
  },
  {
   "cell_type": "markdown",
   "metadata": {
    "slideshow": {
     "slide_type": "slide"
    }
   },
   "source": [
    "## Parameters"
   ]
  },
  {
   "cell_type": "code",
   "execution_count": 5,
   "metadata": {
    "ExecuteTime": {
     "end_time": "2017-02-22T11:44:56.628774",
     "start_time": "2017-02-22T17:44:43.210Z"
    },
    "collapsed": true,
    "run_control": {
     "frozen": false,
     "read_only": false
    },
    "slideshow": {
     "slide_type": "-"
    }
   },
   "outputs": [],
   "source": [
    "decimation = 18\n",
    "cetPoreCount = 12 # pores in cet\n",
    "cellVolume = 40 #  µm^3,  bnid:100430\n",
    "cellWallFraction = 0.159\n",
    "nucleusFraction = 0.07\n",
    "envelopeThickness = 35e-9 #m\n",
    "nucPoreRadius = 40e-9     #m\n",
    "cellAspect = 1.5\n",
    "nucleusAspect = 1.0\n",
    "vacuoleFraction = 0.075\n",
    "nMito = 3           #obtained from bionumbers\n",
    "mitoFraction = 0.016\n",
    "nRibosomes = 180000 #obtained from bionumbers"
   ]
  },
  {
   "cell_type": "markdown",
   "metadata": {
    "slideshow": {
     "slide_type": "slide"
    }
   },
   "source": [
    "## 1.Load Cryo-ET data"
   ]
  },
  {
   "cell_type": "code",
   "execution_count": null,
   "metadata": {
    "ExecuteTime": {
     "end_time": "2017-02-22T11:44:56.629198",
     "start_time": "2017-02-22T17:44:44.268Z"
    },
    "collapsed": false,
    "run_control": {
     "frozen": false,
     "read_only": false
    },
    "slideshow": {
     "slide_type": "-"
    }
   },
   "outputs": [],
   "source": [
    "# voxels labeled with integers denoting type\n",
    "labelData = VolData(dataFile(\"labels-2016_12_29_18_51_57\")) \n",
    "cetLabels = dict(background=0,\n",
    "                 nucEnv=1,\n",
    "                 er=4,\n",
    "                 mito=2,\n",
    "                 membrane=3)\n",
    "\n",
    "# LM lattice spacing defined by CET resolution\n",
    "latticeSpacing = 1e-10*np.mean(labelData.dx)*decimation\n",
    "labelOffset = [labelData.attr['origin_x'], \n",
    "               labelData.attr['origin_y'], \n",
    "               labelData.attr['origin_z']]\n",
    "\n",
    "report(\"CET dimensions:\",  labelData.scalar.shape)\n",
    "report(\"CET spacing:\",  1e-1*np.mean(labelData.dx), \"{:.2f} nm\")\n",
    "report(\"LM spacing:\",  latticeSpacing*1e9, \"{:.2f} nm\")"
   ]
  },
  {
   "cell_type": "markdown",
   "metadata": {
    "slideshow": {
     "slide_type": "slide"
    }
   },
   "source": [
    "## Resample experimental data to LM lattice"
   ]
  },
  {
   "cell_type": "code",
   "execution_count": 7,
   "metadata": {
    "ExecuteTime": {
     "end_time": "2017-02-22T11:44:56.629597",
     "start_time": "2017-02-22T17:44:45.393Z"
    },
    "collapsed": true,
    "slideshow": {
     "slide_type": "-"
    }
   },
   "outputs": [],
   "source": [
    "def lmProc(im,threshold=0.01):\n",
    "    \"\"\"\n",
    "    Process and downsample a 3D image to match Lattice Microbe's lattice requirements.\n",
    "    \n",
    "    This function:\n",
    "    1. Transposes and downsamples the input image by a decimation factor\n",
    "    2. Pads the output to ensure dimensions are multiples of 32\n",
    "    3. Applies thresholding to create a binary output\n",
    "    \n",
    "    Args:\n",
    "        im (ndarray): Input 3D image array with shape (z,y,x)\n",
    "        threshold (float, optional): Threshold value for binarization. \n",
    "            Actual threshold is scaled by decimation^3. Defaults to 0.01.\n",
    "    \n",
    "    Returns:\n",
    "        ndarray: Binary array where True indicates values above threshold after decimation.\n",
    "            Output dimensions are padded to be multiples of 32.\n",
    "            \n",
    "    Notes:\n",
    "        - Uses decimation factor defined in global scope\n",
    "        - Transposes input from (z,y,x) to (y,x,z) order\n",
    "        - Output shape is calculated as ceil(input_dim/(32*decimation))*32\n",
    "        - Accumulates values from decimated points before thresholding\n",
    "    \"\"\"\n",
    "    th = threshold*decimation**3\n",
    "    src = im.transpose([1,2,0]).astype(np.int64)\n",
    "    newShape = tuple(int(np.ceil(x/32/decimation)*32) \n",
    "                         for x in src.shape)\n",
    "    deciShape = tuple(x//decimation for x in src.shape)\n",
    "    dest = np.zeros(newShape, dtype=np.int64)\n",
    "    for i,j,k in itertools.product(range(decimation),repeat=3):\n",
    "        v = src[i::decimation, j::decimation, k::decimation]\n",
    "        nx,ny,nz = v.shape\n",
    "        dest[:nx,:ny,:nz] += v\n",
    "    return dest>th"
   ]
  },
  {
   "cell_type": "markdown",
   "metadata": {},
   "source": [
    "`return dest > th`: Finally, the function returns a boolean NumPy array where each element is True if it exceeds the threshold th, and False otherwise. This boolean array represents the result of the thresholding operation applied to the decimated and processed image."
   ]
  },
  {
   "cell_type": "code",
   "execution_count": 8,
   "metadata": {
    "ExecuteTime": {
     "end_time": "2017-02-22T11:44:56.629974",
     "start_time": "2017-02-22T17:44:46.594Z"
    },
    "collapsed": true,
    "run_control": {
     "frozen": false,
     "read_only": false
    },
    "slideshow": {
     "slide_type": "fragment"
    }
   },
   "outputs": [],
   "source": [
    "cetNucEnvReg = lmProc(labelData.scalar==cetLabels['nucEnv'])\n",
    "cetErReg = lmProc(labelData.scalar==cetLabels['er'])\n",
    "cetMitoReg = lmProc(labelData.scalar==cetLabels['mito'])\n",
    "cetMemReg = lmProc(labelData.scalar==cetLabels['membrane'])"
   ]
  },
  {
   "cell_type": "markdown",
   "metadata": {
    "slideshow": {
     "slide_type": "slide"
    }
   },
   "source": [
    "## 2.LM lattice builder Initialization\n",
    "Helper object to construct lattice\n",
    "* Discrete geometric representation\n",
    "* Constructive solid geometry on a lattice\n",
    "* 3D binary morphology"
   ]
  },
  {
   "cell_type": "code",
   "execution_count": null,
   "metadata": {
    "ExecuteTime": {
     "end_time": "2017-02-22T11:44:56.630368",
     "start_time": "2017-02-22T17:44:47.705Z"
    },
    "collapsed": true,
    "run_control": {
     "frozen": false,
     "read_only": false
    },
    "slideshow": {
     "slide_type": "-"
    }
   },
   "outputs": [],
   "source": [
    "B = RegionBuilder(dims=cetErReg.shape)\n",
    "report('cetERregionShape',cetErReg.shape)"
   ]
  },
  {
   "cell_type": "markdown",
   "metadata": {
    "slideshow": {
     "slide_type": "slide"
    }
   },
   "source": [
    "## 3.Estimate the density of nuclear pores"
   ]
  },
  {
   "cell_type": "code",
   "execution_count": null,
   "metadata": {
    "collapsed": false,
    "run_control": {
     "frozen": false,
     "read_only": false
    },
    "slideshow": {
     "slide_type": "-"
    }
   },
   "outputs": [],
   "source": [
    "nucTmp = labelData.scalar==cetLabels['nucEnv']\n",
    "\n",
    "flat = np.any(nucTmp,axis=2)\n",
    "filled = skmo.closing(flat,skmo.disk(10))\n",
    "skel = skmo.skeletonize(filled)\n",
    "\n",
    "arclen = 1e-10*np.mean(labelData.dx)*np.sum(skel)\n",
    "width = 1e-10*labelData.dx[1]*np.sum(np.any(nucTmp,axis=(0,1)))\n",
    "sa = arclen*width\n",
    "poreDensity = cetPoreCount/sa\n",
    "report(\"Pore density\", 1e-12*poreDensity, \"{:.2f}/μm²\")"
   ]
  },
  {
   "cell_type": "code",
   "execution_count": null,
   "metadata": {
    "collapsed": false,
    "slideshow": {
     "slide_type": "subslide"
    }
   },
   "outputs": [],
   "source": [
    "fig,axs = plt.subplots(ncols=3, nrows=1,figsize=(15,4))\n",
    "\n",
    "axs[0].imshow(flat)\n",
    "axs[0].set_title(\"Flattened along z\")\n",
    "\n",
    "axs[1].imshow(filled)\n",
    "axs[1].set_title(\"Closed\")\n",
    "\n",
    "axs[2].imshow(skel)\n",
    "axs[2].set_title(\"Skeletonized\")"
   ]
  },
  {
   "cell_type": "markdown",
   "metadata": {
    "slideshow": {
     "slide_type": "slide"
    }
   },
   "source": [
    "## 4.Estimate the shape of the nucleus and cell wall\n",
    "Strategy\n",
    "* Choose an average volume and aspect ratio\n",
    "* Convert the CET membrane lattice sites to $(x,y,z)$ coordinates\n",
    "* Fit ellipsoid to coordinates, using the volume and aspect ratio as extra terms in the loss function"
   ]
  },
  {
   "cell_type": "code",
   "execution_count": 12,
   "metadata": {
    "collapsed": true,
    "run_control": {
     "frozen": false,
     "read_only": false
    },
    "slideshow": {
     "slide_type": "subslide"
    }
   },
   "outputs": [],
   "source": [
    "def spheroidLoss(params, coords, membraneVol, targetAspect):\n",
    "    invRs =  np.array([1/x for x in params[:3]])\n",
    "    alpha, beta, gamma = params[3:6]\n",
    "    x0 = params[6:9]\n",
    "    \n",
    "    ca, sa = np.cos(alpha), np.sin(alpha)\n",
    "    cb, sb = np.cos(beta), np.sin(beta)\n",
    "    cg, sg = np.cos(gamma), np.sin(gamma)\n",
    "    rotZ0 = np.array([ [ca,-sa,0],[sa,ca,0], [0,0,1] ])\n",
    "    rotX= np.array([[1,0,0,], [0,cb,-sb],[0,sb,cb] ])\n",
    "    rotZ1 =np.array( [ [cg,-sg,0],[sg,cg,0], [0,0,1] ])\n",
    "    rot = rotZ1 @ rotX @ rotZ0\n",
    "    \n",
    "    x1 = np.einsum(\"i,ij,mj->mi\",  invRs, rot, coords -x0)\n",
    "    \n",
    "    vol = 4*np.pi*reduce(lambda x,y:x*y, params[:3])/3\n",
    "    aspect =  max(params[:3]) / min(params[:3])\n",
    "    \n",
    "    volP =  (vol/membraneVol-1)**2\n",
    "    aspectP =  (aspect/targetAspect - 1)**2\n",
    "    \n",
    "    return np.sum((np.sum(x1**2, axis=1)-1)**2) + volP + aspectP"
   ]
  },
  {
   "cell_type": "markdown",
   "metadata": {
    "collapsed": true,
    "run_control": {
     "frozen": false,
     "read_only": false
    },
    "slideshow": {
     "slide_type": "slide"
    }
   },
   "source": [
    "### 4.1Nucleus"
   ]
  },
  {
   "cell_type": "code",
   "execution_count": null,
   "metadata": {
    "collapsed": false
   },
   "outputs": [],
   "source": [
    "nucleusVol = nucleusFraction*cellVolume * (1e-6)**3 /latticeSpacing**3\n",
    "cetNucEnvCoords = np.argwhere(cetNucEnvReg)\n",
    "chullCoords = \\\n",
    "           cetNucEnvCoords[spspat.ConvexHull(cetNucEnvCoords).vertices]\n",
    "\n",
    "radius = 0.5*max(np.linalg.norm(x-y) \n",
    "                    for x,y in itertools.product(chullCoords,repeat=2))\n",
    "centroid = np.mean(chullCoords,axis=0)\n",
    "# The centroid is the arithmetic mean position of all the points in a shape. \n",
    "# In this line, np.mean(chullCoords, axis=0) calculates the centroid of the \n",
    "# convex hull by averaging the coordinates of its vertices. \n",
    "# centroid is the geometical center of nucleus in lattice\n",
    "params0 = np.array([radius, radius, radius, \n",
    "                    0, 0, 0, \n",
    "                    centroid[0],  centroid[1],  centroid[2] ])\n",
    "# basically, scipy optimize minimize the spheroiLoss by finding the optimum value \n",
    "# of params0, save back to m.x\n",
    "\n",
    "m = spopt.minimize(lambda x: spheroidLoss(x, cetNucEnvCoords, \n",
    "                                          nucleusVol, nucleusAspect),\n",
    "                   params0, options=dict(maxiter=100000))\n",
    "nucParams = m.x\n",
    "report(\"nucParas shape\",nucParams.shape)\n",
    "print(\"nucParams\", nucParams[:3],nucParams[6:9])\n",
    "report(\"nucleus a-axis\", nucParams[0]*latticeSpacing*1e6, \"{:.3f} μm\")\n",
    "report(\"nucleus b-axis\", nucParams[1]*latticeSpacing*1e6, \"{:.3f} μm\")\n",
    "report(\"nucleus c-axis\", nucParams[2]*latticeSpacing*1e6, \"{:.3f} μm\")"
   ]
  },
  {
   "cell_type": "markdown",
   "metadata": {
    "slideshow": {
     "slide_type": "slide"
    }
   },
   "source": [
    "### 4.2Plasma membrane"
   ]
  },
  {
   "cell_type": "code",
   "execution_count": 14,
   "metadata": {
    "collapsed": false,
    "run_control": {
     "frozen": false,
     "marked": false,
     "read_only": false
    },
    "slideshow": {
     "slide_type": "-"
    }
   },
   "outputs": [],
   "source": [
    "membraneVol = (1-cellWallFraction)*cellVolume * (1e-6)**3 \\\n",
    "                       /latticeSpacing**3 # remaining 25% is cellwall\n",
    "cetMemCoords = np.argwhere(cetMemReg)\n",
    "radius = (3*membraneVol/np.pi/4)**0.3333\n",
    "# report(\"radius\",radius*latticeSpacing*1e6, \"{:.3f} μm\")\n",
    "params0 = np.array([radius, radius, radius, \n",
    "                    0, 0, 0, \n",
    "                    nucParams[6],  nucParams[7],  nucParams[8]])\n",
    "m = spopt.minimize(lambda x: spheroidLoss(x, cetMemCoords, membraneVol, \n",
    "                                          cellAspect), \n",
    "                   params0, options=dict(maxiter=100000))\n",
    "memParams = m.x\n"
   ]
  },
  {
   "cell_type": "code",
   "execution_count": null,
   "metadata": {},
   "outputs": [],
   "source": [
    "report(\"memParams shape\",memParams.shape)\n",
    "print(\"memParams\", memParams[:3],memParams[6:9])\n",
    "report(\"membrane a-axis\", memParams[0]*latticeSpacing*1e6, \"{:.3f} μm\")\n",
    "report(\"membrane b-axis\", memParams[1]*latticeSpacing*1e6, \"{:.3f} μm\")\n",
    "report(\"membrane c-axis\", memParams[2]*latticeSpacing*1e6, \"{:.3f} μm\")"
   ]
  },
  {
   "cell_type": "markdown",
   "metadata": {},
   "source": [
    "first 3 paras are the optimized dimensions of membrane, last three paras are the optimized centroid of nucleus. \n",
    "\n",
    "middle 3 are rotational angles"
   ]
  },
  {
   "cell_type": "markdown",
   "metadata": {
    "slideshow": {
     "slide_type": "slide"
    }
   },
   "source": [
    "## 4.3Cell wall\n",
    "\n",
    "Compute thickness of cell wall based on its volume fraction"
   ]
  },
  {
   "cell_type": "code",
   "execution_count": null,
   "metadata": {
    "collapsed": false,
    "run_control": {
     "frozen": false,
     "read_only": false
    },
    "slideshow": {
     "slide_type": "-"
    }
   },
   "outputs": [],
   "source": [
    "def volDiff(delta, wallCellRatio):\n",
    "    return (1 - reduce(lambda x,y: x*y, (r/(r+delta) \n",
    "                                          for r in memParams[:3])) \n",
    "            - wallCellRatio )\n",
    "d = spopt.brentq(lambda x: volDiff(x, cellWallFraction), \n",
    "                 0, max(memParams[:3]))\n",
    "cellWallParams = memParams.copy()\n",
    "cellWallParams[:3] += d\n",
    "report(\"cell wall thickness\", d*latticeSpacing*1e9, \"{:.1f} nm\")"
   ]
  },
  {
   "cell_type": "markdown",
   "metadata": {
    "slideshow": {
     "slide_type": "slide"
    }
   },
   "source": [
    "### 4.4 Now to generate the lattice\n",
    "\n",
    "\n",
    "First need to determine the dimensions of the lattice and translation between the new and working lattice"
   ]
  },
  {
   "cell_type": "code",
   "execution_count": null,
   "metadata": {
    "collapsed": true,
    "slideshow": {
     "slide_type": "-"
    }
   },
   "outputs": [],
   "source": [
    "def lmDim(x): \n",
    "    return 2*int(32*np.ceil(x/32))\n",
    "# first 3 para of memParams are cell sizes xyz; \n",
    "n = max(map(lmDim, memParams[:3]))\n",
    "\n",
    "report(\"dimension of model n:\",n)\n",
    "Bfull = RegionBuilder(dims=(n,n,n))\n",
    "print('x direction center of membrane after optimization: ', memParams[6])\n",
    "# try solve the problem of excedd the 192 boundary by making memParas[6]= 0,\n",
    "# since it is now negative value, x dir of centroid of membrane center\n",
    "\n",
    "\n",
    "tx = Bfull.center - memParams[6:9]\n",
    "# print(Bfull.center, memParams[6:9])\n",
    "# print('tx:   ',tx)\n",
    "\n",
    "memParamsTx = memParams.copy()\n",
    "memParamsTx[6:9] += tx\n",
    "print('memParamsTx:   ',memParamsTx)\n",
    "nucParamsTx = nucParams.copy()\n",
    "nucParamsTx[6:9] += tx\n",
    "print(nucParamsTx)\n",
    "print('nucParamsTx:   ',nucParamsTx)\n",
    "cellWallParamsTx = cellWallParams.copy()\n",
    "cellWallParamsTx[6:9] += tx\n",
    "print('cellWallParamsTx:   ',cellWallParamsTx[6:9])\n",
    "\n",
    "x0,y0,z0 = int(tx[0]), int(tx[1]), int(tx[2])\n",
    "\n",
    "x1 = x0+cetErReg.shape[0]\n",
    "y1 = y0+cetErReg.shape[1]\n",
    "z1 = z0+cetErReg.shape[2]\n",
    "print(\"center for implement cet: \", x0,y0,z0)\n"
   ]
  },
  {
   "cell_type": "markdown",
   "metadata": {
    "slideshow": {
     "slide_type": "subslide"
    }
   },
   "source": [
    "### 4.5Copy into new lattice"
   ]
  },
  {
   "cell_type": "code",
   "execution_count": null,
   "metadata": {
    "collapsed": false,
    "slideshow": {
     "slide_type": "-"
    }
   },
   "outputs": [],
   "source": [
    "cetErFullReg = Bfull.emptyLatticeMask()\n",
    "print(cetErFullReg[x0:x1,:,:].shape)\n",
    "cetErFullReg[x0:x1, y0:y1, z0:z1] = cetErReg[0:90,:,:]\n",
    "cetMitoFullReg = Bfull.emptyLatticeMask()\n",
    "cetMitoFullReg[x0:x1, y0:y1, z0:z1] =  cetMitoReg[0:90,:,:]\n",
    "cetMemFullReg = Bfull.emptyLatticeMask()\n",
    "cetMemFullReg[x0:x1, y0:y1, z0:z1] =  cetMemReg[0:90,:,:]\n",
    "cetNucEnvFullReg = Bfull.emptyLatticeMask()\n",
    "cetNucEnvFullReg[x0:x1, y0:y1, z0:z1] =  cetNucEnvReg[0:90,:,:]"
   ]
  },
  {
   "cell_type": "markdown",
   "metadata": {
    "slideshow": {
     "slide_type": "slide"
    }
   },
   "source": [
    "###  4.6Build the nucleus and plasma membrane"
   ]
  },
  {
   "cell_type": "code",
   "execution_count": 19,
   "metadata": {
    "collapsed": true,
    "run_control": {
     "frozen": false,
     "read_only": false
    },
    "slideshow": {
     "slide_type": "-"
    }
   },
   "outputs": [],
   "source": [
    "def ellipseFn(builder, params, thickness=3):\n",
    "    radius = params[:3]\n",
    "    angles = params[3:6]\n",
    "    center = params[6:9]\n",
    "    dr = thickness/2\n",
    "    radius = np.maximum(np.zeros(3), radius - dr)\n",
    "    if thickness == 0:\n",
    "        e = builder.ellipsoid(radius=params[:3], \n",
    "                              angles=angles, center=center)\n",
    "        return e & ~builder.erode(e,1)\n",
    "    else:\n",
    "        return ( builder.ellipsoid(radius=radius+dr, \n",
    "                                   angles=angles, center=center)\n",
    "                  & ~builder.ellipsoid(radius=radius-dr, \n",
    "                                       angles=angles, center=center))"
   ]
  },
  {
   "cell_type": "markdown",
   "metadata": {},
   "source": [
    "membrane visualiztion"
   ]
  },
  {
   "cell_type": "code",
   "execution_count": null,
   "metadata": {
    "collapsed": false,
    "slideshow": {
     "slide_type": "subslide"
    }
   },
   "outputs": [],
   "source": [
    "# args dont match with the current & version in this dir showBinaryLattices\n",
    "# def showBinaryLattices(binLattices, mode=\"widget\"):\n",
    "fitMemFullReg=ellipseFn(Bfull, memParamsTx, thickness=0)\n",
    "# RegionBuilder.showBinaryLattices(fit=fitMemFullReg, cet=cetMemFullReg)\n",
    "RegionBuilder.showBinaryLattices({\"fit\":fitMemFullReg,\"cet\": cetMemFullReg })\n",
    "print(Bfull.shape)"
   ]
  },
  {
   "cell_type": "markdown",
   "metadata": {},
   "source": [
    "nucleus visualization"
   ]
  },
  {
   "cell_type": "code",
   "execution_count": null,
   "metadata": {
    "collapsed": false,
    "slideshow": {
     "slide_type": "subslide"
    }
   },
   "outputs": [],
   "source": [
    "fitNucEnvFullReg=ellipseFn(Bfull, nucParamsTx, \n",
    "                           thickness=envelopeThickness/latticeSpacing)\n",
    "RegionBuilder.showBinaryLattices({\"fit\":fitNucEnvFullReg, \"cet\":cetNucEnvFullReg})"
   ]
  },
  {
   "cell_type": "markdown",
   "metadata": {
    "slideshow": {
     "slide_type": "slide"
    }
   },
   "source": [
    "### 4.7 Build the cell wall"
   ]
  },
  {
   "cell_type": "code",
   "execution_count": 22,
   "metadata": {
    "collapsed": true,
    "run_control": {
     "frozen": false,
     "read_only": false
    },
    "slideshow": {
     "slide_type": "-"
    }
   },
   "outputs": [],
   "source": [
    "entireCell = Bfull.convexHull(ellipseFn(Bfull, cellWallParamsTx, \n",
    "                                        thickness=0))\n",
    "fitCellWallFullReg = entireCell & ~ Bfull.convexHull(fitMemFullReg)"
   ]
  },
  {
   "cell_type": "markdown",
   "metadata": {
    "slideshow": {
     "slide_type": "slide"
    }
   },
   "source": [
    "### 4.8 Add nuclear pores\n",
    "Calculate the surface area of the nucleus and use the previously computed experimental pore density to choose the number of pores."
   ]
  },
  {
   "cell_type": "code",
   "execution_count": null,
   "metadata": {
    "collapsed": false,
    "run_control": {
     "frozen": false,
     "read_only": false
    },
    "slideshow": {
     "slide_type": "-"
    }
   },
   "outputs": [],
   "source": [
    "def ellipsoidSA(a,b,c):\n",
    "    a,b,c = reversed(sorted([a,b,c]))\n",
    "    phi = np.arccos(c/a)\n",
    "    k = np.sqrt(a**2*(b**2-c**2)/b**2/(a**2-c**2))\n",
    "    return  (2*np.pi*c**2  \n",
    "              + 2*np.pi*a*b/np.sin(phi) \n",
    "                *(sps.ellipeinc(phi,k)*np.sin(phi)**2 \n",
    "                    + sps.ellipkinc(phi, k)*np.cos(phi)**2))\n",
    "\n",
    "nPores = round(poreDensity\n",
    "               *ellipsoidSA( *(latticeSpacing*nucParams[:3]) ))\n",
    "\n",
    "report(\"Number of nuclear pores\", int(nPores))"
   ]
  },
  {
   "cell_type": "markdown",
   "metadata": {
    "slideshow": {
     "slide_type": "slide"
    }
   },
   "source": [
    "#### 4.8.1 Place pores in the nuclear envelope"
   ]
  },
  {
   "cell_type": "code",
   "execution_count": 24,
   "metadata": {
    "collapsed": true,
    "slideshow": {
     "slide_type": "-"
    }
   },
   "outputs": [],
   "source": [
    "nucFilled = B.convexHull(fitNucEnvFullReg)\n",
    "poreRadius = int(nucPoreRadius/latticeSpacing)\n",
    "\n",
    "# do not allow pores to be closer than 3 radii to each other\n",
    "# this prevents pores from combining into a single pore with \n",
    "# the wrong # radius\n",
    "exclusionRadius = 3*poreRadius"
   ]
  },
  {
   "cell_type": "markdown",
   "metadata": {
    "slideshow": {
     "slide_type": "subslide"
    }
   },
   "source": [
    "#### 4.8.2 First choose the pore locations\n",
    "\n",
    "We generate the nuclear envelope and pores at the same time"
   ]
  },
  {
   "cell_type": "code",
   "execution_count": 25,
   "metadata": {
    "collapsed": true,
    "slideshow": {
     "slide_type": "-"
    }
   },
   "outputs": [],
   "source": [
    "poreSurface = B.dilate(~nucFilled, 1) & nucFilled"
   ]
  },
  {
   "cell_type": "markdown",
   "metadata": {
    "slideshow": {
     "slide_type": "fragment"
    }
   },
   "source": [
    "Pore locations are chosen at random from the surface of the nucleus.\n",
    "Each time a location is chosen a ball of radius $r_{pore}+r_{exc}$ is\n",
    "placed at the new location in an exclusion lattice, which is tested \n",
    "when new locations are sampled."
   ]
  },
  {
   "cell_type": "code",
   "execution_count": 26,
   "metadata": {
    "collapsed": true,
    "slideshow": {
     "slide_type": "-"
    }
   },
   "outputs": [],
   "source": [
    "exclusion = np.zeros_like(poreSurface)\n",
    "exclusionBall = B.sphereStructElem(poreRadius+exclusionRadius)\n",
    "r = exclusionBall.shape[0]//2\n",
    "\n",
    "poreLoc = []\n",
    "for ct in range(int(nPores)):\n",
    "    pos = np.argwhere(poreSurface & ~exclusion)\n",
    "    loc = pos[np.random.choice(np.arange(pos.shape[0]))]\n",
    "    x,y,z = loc\n",
    "    poreLoc.append(loc)\n",
    "    exclusion[x-r:x+r+1, y-r:y+r+1, z-r:z+r+1] |= exclusionBall"
   ]
  },
  {
   "cell_type": "markdown",
   "metadata": {
    "slideshow": {
     "slide_type": "subslide"
    }
   },
   "source": [
    "#### 4.8.3 Then subtract from the nuclear shell"
   ]
  },
  {
   "cell_type": "markdown",
   "metadata": {
    "slideshow": {
     "slide_type": "-"
    }
   },
   "source": [
    "We produce a mask lattice where a cylinder defining the pore is placed at each location and rotated to follow the radius vector. This is subtracted from the nuclear shell to form the nuclear envelope. The intersection of the nuclear shell and this mask forms the nuclear pore region."
   ]
  },
  {
   "cell_type": "code",
   "execution_count": 27,
   "metadata": {
    "collapsed": true,
    "run_control": {
     "frozen": false,
     "read_only": false
    },
    "slideshow": {
     "slide_type": "fragment"
    }
   },
   "outputs": [],
   "source": [
    "poresMask = np.zeros_like(poreSurface)\n",
    "cylLen = max(nucParamsTx[:3])\n",
    "\n",
    "for ct,loc in enumerate(poreLoc):\n",
    "    dv = loc - nucParamsTx[6:]\n",
    "    normal = dv/np.sqrt(dv@dv)\n",
    "    alpha = np.arctan2(normal[0], normal[1])\n",
    "    beta = np.arccos(normal[2])\n",
    "    gamma = 0\n",
    "    poresMask |= Bfull.cylinder(poreRadius, cylLen, \n",
    "                                angles=[alpha,beta,gamma], \n",
    "                                center=cylLen*normal + nucParamsTx[6:])\n",
    "    \n",
    "\n",
    "nucenvFit = fitNucEnvFullReg & ~poresMask\n",
    "fitNucPoresFullReg = fitNucEnvFullReg & ~nucenvFit\n",
    "fitNucEnvFullReg = nucenvFit"
   ]
  },
  {
   "cell_type": "code",
   "execution_count": null,
   "metadata": {
    "collapsed": false,
    "slideshow": {
     "slide_type": "subslide"
    }
   },
   "outputs": [],
   "source": [
    "RegionBuilder.showBinaryLattices({\"mask\":poresMask, \"pores\":fitNucPoresFullReg, \\\n",
    "    \"envelope\": fitNucEnvFullReg})"
   ]
  },
  {
   "cell_type": "markdown",
   "metadata": {
    "slideshow": {
     "slide_type": "slide"
    }
   },
   "source": [
    "## 5. Resize the lattice again to crop off empty regions"
   ]
  },
  {
   "cell_type": "code",
   "execution_count": 29,
   "metadata": {
    "collapsed": true
   },
   "outputs": [],
   "source": [
    "def dimfn(u):\n",
    "    v = (u+1)%3\n",
    "    w = (u+2)%3\n",
    "    ct = np.sum(entireCell, axis=(v,w))\n",
    "    u0 = np.where(ct>0)[0][0] \n",
    "    uw = np.sum(ct>0)\n",
    "    uw32 = int(32*np.ceil(uw/32))\n",
    "    spc = uw32-uw\n",
    "    pad0 = spc//2\n",
    "    return u0, uw, pad0, uw32\n",
    "\n",
    "x0, xw, px0, nx = dimfn(0)\n",
    "y0, yw, py0, ny = dimfn(1)\n",
    "z0, zw, pz0, nz = dimfn(2)\n",
    "\n",
    "def resize(l0):\n",
    "    l1 = np.zeros((nx,ny,nz), dtype=np.bool)\n",
    "    l1[px0:px0+xw,py0:py0+yw,pz0:pz0+zw] = \\\n",
    "                                      l0[x0:x0+xw, y0:y0+yw, z0:z0+zw]\n",
    "    return l0"
   ]
  },
  {
   "cell_type": "code",
   "execution_count": null,
   "metadata": {
    "collapsed": true,
    "slideshow": {
     "slide_type": "subslide"
    }
   },
   "outputs": [],
   "source": [
    "cetErCropReg = resize(cetErFullReg)\n",
    "cetMemCropReg = resize(cetMemFullReg)\n",
    "cetMitoCropReg = resize(cetMitoFullReg)\n",
    "cetNucEnvCropReg = resize(cetNucEnvFullReg)\n",
    "fitCellWallCropReg = resize(fitCellWallFullReg)\n",
    "fitMemCropReg = resize(fitMemFullReg)\n",
    "fitNucEnvCropReg = resize(fitNucEnvFullReg)\n",
    "fitMemCropReg = resize(fitMemFullReg)\n",
    "fitNucPoresCropReg = resize(fitNucPoresFullReg)"
   ]
  },
  {
   "cell_type": "markdown",
   "metadata": {
    "slideshow": {
     "slide_type": "slide"
    }
   },
   "source": [
    "## 6 Generate the nucleoplasm and cytoplasm"
   ]
  },
  {
   "cell_type": "code",
   "execution_count": 31,
   "metadata": {
    "collapsed": false,
    "run_control": {
     "frozen": false,
     "read_only": false
    },
    "slideshow": {
     "slide_type": "-"
    }
   },
   "outputs": [],
   "source": [
    "entireCell = B.convexHull(fitCellWallCropReg)\n",
    "\n",
    "fitNucleoplasmCropReg = (\n",
    "    B.convexHull(fitNucEnvCropReg|fitNucPoresCropReg)  \n",
    "      & ~(fitNucEnvCropReg|fitNucPoresCropReg))\n",
    "\n",
    "fitCytoplasmCropReg = entireCell & ~( fitCellWallCropReg \n",
    "                                     | fitMemCropReg \n",
    "                                     | fitNucEnvCropReg \n",
    "                                     | fitMemCropReg \n",
    "                                     | fitNucPoresCropReg \n",
    "                                     | fitNucleoplasmCropReg)"
   ]
  },
  {
   "cell_type": "markdown",
   "metadata": {
    "slideshow": {
     "slide_type": "slide"
    }
   },
   "source": [
    "## 7. Add the vacuole"
   ]
  },
  {
   "cell_type": "code",
   "execution_count": 32,
   "metadata": {
    "collapsed": false,
    "run_control": {
     "frozen": false,
     "read_only": false
    },
    "slideshow": {
     "slide_type": "-"
    }
   },
   "outputs": [],
   "source": [
    "B = RegionBuilder(dims=fitCytoplasmCropReg.shape)\n",
    "vacRadius = (3*vacuoleFraction*cellVolume/4/np.pi)**0.333 \\\n",
    "                *1e-6/latticeSpacing"
   ]
  },
  {
   "cell_type": "markdown",
   "metadata": {
    "collapsed": true,
    "slideshow": {
     "slide_type": "fragment"
    }
   },
   "source": [
    "We create a lattice of possible vacuole centers by eroding the cytoplasm region lattice by the maximum vacuole radius. The vacuole is an ellipsoid with random radii and orientations. If the random vacuole fits in the cytoplasm, it is accepted."
   ]
  },
  {
   "cell_type": "code",
   "execution_count": 33,
   "metadata": {
    "collapsed": false,
    "run_control": {
     "frozen": false,
     "read_only": false
    },
    "slideshow": {
     "slide_type": "subslide"
    }
   },
   "outputs": [],
   "source": [
    "mask = fitCytoplasmCropReg.copy()\n",
    "for i in range(int(vacRadius)):\n",
    "    mask = B.erode(mask, 1)\n",
    "poss = np.argwhere(mask)\n",
    "while True:\n",
    "    sa = 0.1*np.random.random() + 0.9\n",
    "    sb = 0.1*np.random.random() + 0.9\n",
    "    sc = 1/sa/sb\n",
    "    radius = np.array([sa*vacRadius, sb*vacRadius, sc*vacRadius])\n",
    "    # do modification to only accept vacuole outlayer\n",
    "    angle = np.random.random(3)*2*np.pi\n",
    "    loc = poss[np.random.randint(poss.shape[0]),:]\n",
    "    obj = B.ellipsoid(radius=radius, angles=angle, center=loc)\n",
    "    \n",
    "    obj_dilate = B.dilate(obj, se = B.se26)\n",
    "    obj_layer = obj_dilate & ~ obj\n",
    "    s = np.sum(obj_dilate&~fitCytoplasmCropReg)\n",
    "    if s == 0:\n",
    "        break\n",
    "\n",
    "fitVacuoleCropReg = obj_layer\n",
    "fitCytoplasmCropReg &= ~ obj_dilate"
   ]
  },
  {
   "cell_type": "markdown",
   "metadata": {
    "slideshow": {
     "slide_type": "slide"
    }
   },
   "source": [
    "## 8.Add mitochondria"
   ]
  },
  {
   "cell_type": "markdown",
   "metadata": {
    "collapsed": true,
    "slideshow": {
     "slide_type": "-"
    }
   },
   "source": [
    "Same idea as the vacuole, however we are now placing $n$ mitochondria. The lattice of prospective locations is updated each as each new object is added."
   ]
  },
  {
   "cell_type": "code",
   "execution_count": 34,
   "metadata": {
    "collapsed": false,
    "run_control": {
     "frozen": false,
     "read_only": false
    },
    "slideshow": {
     "slide_type": "subslide"
    }
   },
   "outputs": [],
   "source": [
    "mitoVols = 0.2*np.random.random(nMito)+0.8\n",
    "mitoVols /= np.sum(mitoVols)\n",
    "mitoAspectL = 0.5*np.random.random(nMito) + 2\n",
    "mitoAspectS = np.sqrt(1/mitoAspectL)\n",
    "mitoRadius = [(3*f*mitoFraction*cellVolume/4/np.pi)**0.333\n",
    "                 *1e-6/latticeSpacing for f in mitoVols]\n",
    "mitoRadii = np.array([[l*r, s*r, s*r]\n",
    "                for l,s,r in zip(mitoAspectL, mitoAspectS, mitoRadius)])\n",
    "fitMitoCropReg = None\n",
    "\n",
    "for radius in mitoRadii:\n",
    "    poss = np.argwhere(fitCytoplasmCropReg)\n",
    "    while True:\n",
    "        angle = np.random.random(3)*2*np.pi\n",
    "        loc = poss[np.random.randint(poss.shape[0]),:]\n",
    "        obj = B.ellipsoid(radius=radius, angles=angle, center=loc)\n",
    "        obj_dilate = B.dilate(obj, se=B.se26)\n",
    "        # obj_layer = obj &~ B.ellipsoid(radius=radius-1, angles=angle, center=loc)\n",
    "        obj_layer = obj_dilate &~ obj\n",
    "        s = np.sum(obj_dilate&~fitCytoplasmCropReg)\n",
    "        if s == 0:\n",
    "            break\n",
    "    # only get layer of mito\n",
    "    \n",
    "    if fitMitoCropReg is None:\n",
    "        fitMitoCropReg = obj_layer\n",
    "    else:\n",
    "        fitMitoCropReg |= obj_layer\n",
    "        \n",
    "    fitCytoplasmCropReg &= ~obj_dilate"
   ]
  },
  {
   "cell_type": "markdown",
   "metadata": {
    "slideshow": {
     "slide_type": "slide"
    }
   },
   "source": [
    "## 9.Ribosomes\n",
    "\n",
    "We place ribosomes randomly throughout the cytoplasm, while ensuring that the ribosomes do not cluster together. "
   ]
  },
  {
   "cell_type": "code",
   "execution_count": 35,
   "metadata": {
    "collapsed": true,
    "run_control": {
     "frozen": false,
     "read_only": false
    },
    "slideshow": {
     "slide_type": "subslide"
    }
   },
   "outputs": [],
   "source": [
    "%%cython\n",
    "# cython: boundscheck=False\n",
    "# cython: cdivision=True\n",
    "# cython: wraparound=False\n",
    "\n",
    "from libc.stdlib cimport *\n",
    "from posix.stdlib cimport *\n",
    "from libc.stdint cimport *\n",
    "\n",
    "cdef int64_t randIntLessThan(int64_t n):\n",
    "    cdef int64_t x = random()\n",
    "    #This loop generates random numbers until it finds one that is \n",
    "    # within a range that can be evenly divided by n.\n",
    "    while x >= RAND_MAX - (RAND_MAX % n):\n",
    "        x = random()\n",
    "    return x % n\n",
    "\n",
    "def placeRibosomes(int n, int64_t[:,:,:] avail, int64_t[:,:,:] rib):\n",
    "    '''\n",
    "    n : # of ribosomes\n",
    "    avail: available position to put ribosomes\n",
    "    rib: the 3d xyz coord of placed rib\n",
    "    '''\n",
    "    cdef int64_t nx, ny, nz, i, j, k\n",
    "    nx,ny,nz = avail.shape[:3]\n",
    "    \n",
    "    while n > 0:\n",
    "        i = 1+randIntLessThan(nx-2)\n",
    "        j = 1+randIntLessThan(ny-2)\n",
    "        k = 1+randIntLessThan(nz-2)\n",
    "        if avail[i,j,k]:\n",
    "            avail[i-1:i+2,j,k] = 0\n",
    "            avail[i,j-1:j+2,k] = 0\n",
    "            avail[i,j,k-1:k+2] = 0\n",
    "            rib[i,j,k] = 1\n",
    "            # ribfull[i,j,k] = 1\n",
    "            # ribfull[i-1:i+2,j,k] = 1\n",
    "            # ribfull[i,j-1:j+2,k] = 1\n",
    "            # ribfull[i,j,k-1:k+2] = 1\n",
    "            n -= 1"
   ]
  },
  {
   "cell_type": "code",
   "execution_count": 36,
   "metadata": {},
   "outputs": [],
   "source": [
    "avail = B.erode(fitCytoplasmCropReg,1).astype(np.int64)\n",
    "ribTmp = np.zeros(avail.shape, dtype=np.int64)\n",
    "placeRibosomes(nRibosomes, avail, ribTmp)\n",
    "\n",
    "fitRibCropReg = np.array(ribTmp, dtype=bool)\n",
    "# remove the region of ribosomes from cytoplasm\n",
    "fitCytoplasmCropReg &= ~fitRibCropReg\n"
   ]
  },
  {
   "cell_type": "markdown",
   "metadata": {},
   "source": [
    "### 9.2Alternative: Place ribosomes based on 1/r law from Nucleus center"
   ]
  },
  {
   "cell_type": "markdown",
   "metadata": {},
   "source": [
    "Generate bin for ribosomes nums "
   ]
  },
  {
   "cell_type": "code",
   "execution_count": 37,
   "metadata": {
    "collapsed": true,
    "run_control": {
     "frozen": false,
     "read_only": false
    },
    "slideshow": {
     "slide_type": "subslide"
    }
   },
   "outputs": [],
   "source": [
    "# # avail = B.erode(fitCytoplasmCropReg,1).astype(np.int64) # transform it into a int64 array\n",
    "\n",
    "# ribTmp = np.zeros(fitCytoplasmCropReg.shape, dtype=np.int64)  # dot, only middle one\n",
    "# ribFull = np.zeros(fitCytoplasmCropReg.shape, dtype=np.int64) # full shape, 7 cubes\n",
    "# # get 1% of the original 195,000, for education minecarft purpose less density\n",
    "# #https://bionumbers.hms.harvard.edu/files/Comparison%20of%20ribosome%20number%20and%20density%20between%20M.%20tuberculosis%20and%20yeast%20cells.pdf\n",
    "# nRibosomes = 1950\n",
    "# # placeRibosomes(nRibosomes, avail, ribTmp, ribFull)\n",
    "\n",
    "# # 2. distribution of ribosomes\n",
    "# env_coord = np.argwhere(fitNucEnvCropReg)\n",
    "# mem_coord = np.argwhere(fitMemCropReg)\n",
    "# from scipy.spatial import distance_matrix\n",
    "# from math import ceil\n",
    "# dis_max = np.max(np.min(distance_matrix(mem_coord,env_coord),axis=1))\n",
    "# dis_max = ceil(dis_max)\n",
    "# print('dis_max',dis_max)\n",
    "# # generate a distribtion bin \n",
    "# ribo_bin = np.zeros(int(dis_max)+1)\n",
    "# #ribosome density is 1/x\n",
    "# for i in range(1, int(dis_max)+1):\n",
    "#     ribo_bin[i] = 1/i\n",
    "# #normalized the bin\n",
    "# ribo_bin = ribo_bin/np.sum(ribo_bin)\n",
    "# #get the ribo number in each bin\n",
    "# for i in range(1, int(dis_max)+1):\n",
    "#     ribo_bin[i] = round(ribo_bin[i]*nRibosomes)\n",
    "\n",
    "# print('ribo_bin',ribo_bin)\n",
    "# print('ribo_bin',np.sum(ribo_bin))"
   ]
  },
  {
   "cell_type": "code",
   "execution_count": 38,
   "metadata": {},
   "outputs": [],
   "source": [
    "# # generate availabe layers based on the distance to the nucleus\n",
    "\n",
    "# for i in range(1, int(dis_max)+1):\n",
    "#     layerParamsTx = np.copy(nucParamsTx)\n",
    "#     layerParamsTx[:3] += i\n",
    "#     entireEnv = Bfull.convexHull(ellipseFn(Bfull, layerParamsTx, \n",
    "#                                             thickness=0))\n",
    "#     fitLayerFull = entireEnv & ~ Bfull.convexHull(fitNucEnvFullReg|fitNucPoresFullReg)\n",
    "#     '''entireCell = Bfull.convexHull(ellipseFn(Bfull, cellWallParamsTx, \n",
    "#                                             thickness=0))\n",
    "#     fitCellWallFullReg = entireCell & ~ Bfull.convexHull(fitMemFullReg)'''\n",
    "#     # chop off empty place\n",
    "    \n",
    "#     fitLayerCrop = resize(fitLayerFull)\n",
    "#     # print('fitLayerCrop',fitLayerCrop.shape,np.sum(fitLayerCrop),fitLayerCrop.dtype)\n",
    "    \n",
    "#     fitLayerCropAvail = fitLayerCrop & fitCytoplasmCropReg\n",
    "    \n",
    "#     # RegionBuilder.showBinaryLattices({\"layer\":fitLayerCropAvail, \"nuc\":fitNucEnvCropReg})\n",
    "#     # avail = B.erode(fitLayerCropAvail,1).astype(np.int64)\n",
    "#     avail = fitLayerCropAvail.astype(np.int64)\n",
    "#     n = ribo_bin[i]\n",
    "   \n",
    "#     placeRibosomes(n, avail, ribTmp, ribFull)\n",
    "#     if i % 100 ==0:\n",
    "#         print(\"finish: {}\".format(i/(int(dis_max)+1)))\n"
   ]
  },
  {
   "cell_type": "code",
   "execution_count": 39,
   "metadata": {
    "collapsed": true,
    "run_control": {
     "frozen": false,
     "read_only": false
    },
    "slideshow": {
     "slide_type": "fragment"
    }
   },
   "outputs": [],
   "source": [
    "# import numpy as np\n",
    "# fitRibCropReg =np.array(ribTmp, dtype=bool)\n",
    "# #this part of the code is to exclude the ribosome from the cytoplasma\n",
    "# # fitCytoplasmCropReg &= ~fitRibCropReg\n",
    "\n",
    "# # fitCytoplasmCropReg &= ~fitRibFullCropReg"
   ]
  },
  {
   "cell_type": "code",
   "execution_count": null,
   "metadata": {},
   "outputs": [],
   "source": [
    "# print(fitRibCropReg.shape,np.count_nonzero(fitRibCropReg))\n",
    "RegionBuilder.showBinaryLattices({\"fit\":fitRibCropReg})"
   ]
  },
  {
   "cell_type": "markdown",
   "metadata": {},
   "source": [
    "make the dot nonzero ribosome location to get a full 3d locations transfer. and save the ribisomes location as a `.npy` file."
   ]
  },
  {
   "cell_type": "markdown",
   "metadata": {
    "slideshow": {
     "slide_type": "slide"
    }
   },
   "source": [
    "## 10.We're done! Write the lattice to disk"
   ]
  },
  {
   "cell_type": "code",
   "execution_count": null,
   "metadata": {
    "collapsed": true,
    "slideshow": {
     "slide_type": "-"
    }
   },
   "outputs": [],
   "source": [
    "latticeData = dict(cetEr=cetErCropReg,\n",
    "                   cetMem=cetMemCropReg,\n",
    "                   cetMito=cetMitoCropReg,\n",
    "                   cetNucEnv=cetNucEnvCropReg,\n",
    "                   fitCellWall=fitCellWallCropReg,\n",
    "                   fitVacuole=fitVacuoleCropReg,\n",
    "                   fitMito=fitMitoCropReg,\n",
    "                   fitNucEnv=fitNucEnvCropReg,\n",
    "                   fitMem=fitMemCropReg,\n",
    "                   fitRib=fitRibCropReg,\n",
    "                   fitNucPores=fitNucPoresCropReg)\n",
    "RegionBuilder.showBinaryLattices(latticeData)"
   ]
  },
  {
   "cell_type": "code",
   "execution_count": 42,
   "metadata": {
    "collapsed": false,
    "hide_input": false,
    "slideshow": {
     "slide_type": "subslide"
    }
   },
   "outputs": [],
   "source": [
    "# Define the IDs for each region\n",
    "ids = dict()\n",
    "lattice = np.zeros(cetErCropReg.shape, dtype=np.uint8)\n",
    "\n",
    "# Assign IDs to each region type\n",
    "ids['cetEr'] = 1\n",
    "ids['cetMem'] = 2\n",
    "ids['cetMito'] = 3\n",
    "ids['cetNucEnv'] = 4\n",
    "ids['fitCellWall'] = 5\n",
    "ids['fitVacuole'] = 6\n",
    "ids['fitMito'] = 7\n",
    "ids['fitNucEnv'] = 8\n",
    "ids['fitMem'] = 9\n",
    "ids['fitRib'] = 10\n",
    "ids['fitNucPores'] = 11\n",
    "ids['fitNucleoplasm'] = 12\n",
    "ids['fitCytoplasm'] = 13\n",
    "\n",
    "# Populate the lattice with the corresponding IDs\n",
    "lattice[cetErCropReg] = ids['cetEr']\n",
    "lattice[cetMemCropReg] = ids['cetMem'] \n",
    "lattice[cetMitoCropReg] = ids['cetMito']\n",
    "lattice[cetNucEnvCropReg] = ids['cetNucEnv']\n",
    "lattice[fitCellWallCropReg] = ids['fitCellWall']\n",
    "lattice[fitVacuoleCropReg] = ids['fitVacuole']\n",
    "lattice[fitMitoCropReg] = ids['fitMito']\n",
    "lattice[fitNucEnvCropReg] = ids['fitNucEnv']\n",
    "lattice[fitMemCropReg] = ids['fitMem']\n",
    "lattice[fitRibCropReg] = ids['fitRib']\n",
    "lattice[fitNucPoresCropReg] = ids['fitNucPores']\n",
    "lattice[fitNucleoplasmCropReg] = ids['fitNucleoplasm']\n",
    "lattice[fitCytoplasmCropReg] = ids['fitCytoplasm']\n",
    "\n",
    "# Save the data using pickle\n",
    "with lzma.open(f\"yeastLattice.{decimation}.pkl.xz\", \"wb\") as f:\n",
    "    pickle.dump(\n",
    "        dict(lattice=lattice,\n",
    "             ids=ids,\n",
    "             latticeSpacing=latticeSpacing,\n",
    "             decimation=decimation),\n",
    "        f\n",
    "    )"
   ]
  },
  {
   "cell_type": "markdown",
   "metadata": {},
   "source": [
    "This is the end.\n"
   ]
  }
 ],
 "metadata": {
  "celltoolbar": "Slideshow",
  "kernelspec": {
   "display_name": "Python 3",
   "language": "python",
   "name": "python3"
  },
  "language_info": {
   "codemirror_mode": {
    "name": "ipython",
    "version": 3
   },
   "file_extension": ".py",
   "mimetype": "text/x-python",
   "name": "python",
   "nbconvert_exporter": "python",
   "pygments_lexer": "ipython3",
   "version": "3.7.3"
  }
 },
 "nbformat": 4,
 "nbformat_minor": 2
}
