{
 "cells": [
  {
   "cell_type": "code",
   "execution_count": 1,
   "metadata": {},
   "outputs": [],
   "source": [
    "ode_species = ['GAI','G2GAI','G2GAE','G1GAI','G1','G2']\n",
    "cme_species = ['R1','R2','R3','R4','reporter_rna','R80','G1','G2','G3','G3i','G4','G4d','reporter','G80','G80C','G80d','G80Cd','G80G3i','GAI','DG1','DG1_G4d','DG1_G4d_G80d','DG2','DG2_G4d','DG2_G4d_G80d','DG3','DG3_G4d','DG3_G4d_G80d','DGrep','DGrep_G4d','DGrep_G4d_G80d','DG80','DG80_G4d','DG80_G4d_G80d','G2GAI','G2GAE','G1GAI']\n",
    "\n",
    "gai = 11.1\n",
    "gai_molec = float(gai)/(4.65e-8)\n",
    "\n",
    "# The CME species counts\n",
    "cme_count_list = [1,1,1,1,1,1.18715948592467,132.318563460887,1156.91017704601,4341.70321120979,0,1,308.921734355756,132.317774287091,1,1,157.246650776274,157.239961338382,0,gai_molec,0.0,0.0,1.0,0.0,0.0,1.0,0.0,0.0,1.0,0.0,0.0,1.0,0.0,0.0,1.0,0.0,0.0,0.0] \n",
    "\n",
    "# The ODE species counts\n",
    "ode_count_list = [gai_molec,0,0,0,132.318563460887,1156.91017704601]"
   ]
  },
  {
   "cell_type": "code",
   "execution_count": 3,
   "metadata": {},
   "outputs": [
    {
     "name": "stdout",
     "output_type": "stream",
     "text": [
      "R1 (CME): 1\n",
      "R2 (CME): 1\n",
      "R3 (CME): 1\n",
      "R4 (CME): 1\n",
      "reporter_rna (CME): 1\n",
      "R80 (CME): 1\n",
      "G1 (CME): 132\n",
      "G2 (CME): 1156\n",
      "G3 (CME): 4341\n",
      "G3i (CME): 0\n",
      "G4 (CME): 1\n",
      "G4d (CME): 308\n",
      "reporter (CME): 132\n",
      "G80 (CME): 1\n",
      "G80C (CME): 1\n",
      "G80d (CME): 157\n",
      "G80Cd (CME): 157\n",
      "G80G3i (CME): 0\n",
      "GAI (CME): 238709677\n",
      "DG1 (CME): 0\n",
      "DG1_G4d (CME): 0\n",
      "DG1_G4d_G80d (CME): 1\n",
      "DG2 (CME): 0\n",
      "DG2_G4d (CME): 0\n",
      "DG2_G4d_G80d (CME): 1\n",
      "DG3 (CME): 0\n",
      "DG3_G4d (CME): 0\n",
      "DG3_G4d_G80d (CME): 1\n",
      "DGrep (CME): 0\n",
      "DGrep_G4d (CME): 0\n",
      "DGrep_G4d_G80d (CME): 1\n",
      "DG80 (CME): 0\n",
      "DG80_G4d (CME): 0\n",
      "DG80_G4d_G80d (CME): 1\n",
      "G2GAI (CME): 0\n",
      "G2GAE (CME): 0\n",
      "G1GAI (CME): 0\n",
      "GAI (ODE): 238709677\n",
      "G2GAI (ODE): 0\n",
      "G2GAE (ODE): 0\n",
      "G1GAI (ODE): 0\n",
      "G1 (ODE): 132\n",
      "G2 (ODE): 1156\n"
     ]
    }
   ],
   "source": [
    "# ... existing code ...\n",
    "# Print species names, their corresponding initial counts, and type (CME or ODE)\n",
    "for i in range(len(cme_species) + len(ode_species)):\n",
    "    if i < len(cme_species):\n",
    "        species = cme_species[i]\n",
    "        count = int(round(cme_count_list[i],1))\n",
    "        species_type = \"CME\"\n",
    "    else:\n",
    "        species = ode_species[i - len(cme_species)]\n",
    "        count = int(round(ode_count_list[i - len(cme_species)], 1))\n",
    "        species_type = \"ODE\"\n",
    "    \n",
    "    print(f\"{species} ({species_type}): {count}\")\n",
    "# ... existing code ..."
   ]
  }
 ],
 "metadata": {
  "kernelspec": {
   "display_name": "lm2.5_dev",
   "language": "python",
   "name": "python3"
  },
  "language_info": {
   "codemirror_mode": {
    "name": "ipython",
    "version": 3
   },
   "file_extension": ".py",
   "mimetype": "text/x-python",
   "name": "python",
   "nbconvert_exporter": "python",
   "pygments_lexer": "ipython3",
   "version": "3.7.3"
  }
 },
 "nbformat": 4,
 "nbformat_minor": 2
}
